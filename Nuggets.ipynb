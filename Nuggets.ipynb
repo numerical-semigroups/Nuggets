{
 "cells": [
  {
   "cell_type": "markdown",
   "metadata": {},
   "source": [
    "# Nuggets and `gap`\n",
    "\n",
    "## Pedro A. García Sánchez (Universidad de Granada)"
   ]
  },
  {
   "cell_type": "markdown",
   "metadata": {},
   "source": [
    "The problem is simple. You want to buy a certain amount of nuggets, and the store offers boxes of 6, 9 and 20 (as it was in MacDonnald's sometime in the last century; nowadays the boxes are not so generous). You actually want to have the exact amount of Nuggets you want to eat, no one above no one below. So for instance, you cannot buy four nuggets, not 10. But you have several ways to buy 18 nuggets: three boxes of six, or two boxes of nine.\n",
    "\n",
    "We want to visualize first in how many ways can we buy a certain amount of Nuggets. To this end we will use the [`gap`](https://www.gap-system.org) function `NrRestrictedPartitions` and the `gap` package [`jupyterviz`](https://nathancarter.github.io/jupyterviz/). We will also give some hints on how to use [`francy`](https://gap-packages.github.io/francy/). \n",
    "\n",
    "Notice that the amounts that we correspond with finite sums of integers in the set $\\{6,9,20\\}$, and thus we are talking about the semigroup $\\langle 6,9,20\\rangle$. We will use `numericalsgps` to work with numerical semigroups.\n",
    "\n",
    "If you want to know more about nuggets and numerical semigroups, please refer to this [book chapter](https://link.springer.com/chapter/10.1007/978-3-030-37853-0_6), this [paper](https://www.tandfonline.com/doi/abs/10.1080/0025570X.2018.1515559?journalCode=umma20) and this [manuscript](https://arxiv.org/abs/1912.04494)."
   ]
  },
  {
   "cell_type": "code",
   "execution_count": 1,
   "metadata": {},
   "outputs": [
    {
     "data": {
      "text/plain": [
       "true"
      ]
     },
     "execution_count": 1,
     "metadata": {
      "text/plain": ""
     },
     "output_type": "execute_result"
    }
   ],
   "source": [
    "LoadPackage(\"francy\");"
   ]
  },
  {
   "cell_type": "code",
   "execution_count": 2,
   "metadata": {},
   "outputs": [
    {
     "data": {
      "text/plain": [
       "true"
      ]
     },
     "execution_count": 2,
     "metadata": {
      "text/plain": ""
     },
     "output_type": "execute_result"
    }
   ],
   "source": [
    "LoadPackage(\"jupyterviz\");"
   ]
  },
  {
   "cell_type": "markdown",
   "metadata": {},
   "source": [
    "We want graphs and diagrams stored on the notebook."
   ]
  },
  {
   "cell_type": "code",
   "execution_count": 3,
   "metadata": {},
   "outputs": [
    {
     "data": {
      "text/plain": [
       "\"PlotDisplayMethod_JupyterSimple\""
      ]
     },
     "execution_count": 3,
     "metadata": {
      "text/plain": ""
     },
     "output_type": "execute_result"
    }
   ],
   "source": [
    "PlotDisplayMethod:=PlotDisplayMethod_JupyterSimple;"
   ]
  },
  {
   "cell_type": "code",
   "execution_count": 4,
   "metadata": {},
   "outputs": [
    {
     "data": {
      "text/plain": [
       "true"
      ]
     },
     "execution_count": 4,
     "metadata": {
      "text/plain": ""
     },
     "output_type": "execute_result"
    }
   ],
   "source": [
    "LoadPackage(\"numericalsgps\");"
   ]
  },
  {
   "cell_type": "markdown",
   "metadata": {},
   "source": [
    "Let us start by showing how many ways of buying Nuggets do we have in the range $\\{0,\\ldots,50\\}$."
   ]
  },
  {
   "cell_type": "code",
   "execution_count": 5,
   "metadata": {},
   "outputs": [
    {
     "data": {
      "application/javascript": [
       "( function ( element ) {\n",
       "if ( !window.JUPVIZLibs ) window.JUPVIZLibs = { };\n",
       "if ( !window.JUPVIZLibs[\"main\"] ) {\n",
       "window.createVisualization=function(element,data,callback){if(window.VisualizationTools[data.tool])window.VisualizationTools[data.tool](element,data,callback);else{window.VisualizationTools.html(element,{data:{html:'Error: No known visualization tool, \"'+data.tool+'.\"'}},callback)}};window.VisualizationTools={html:function(element,json,callback){var div=document.createElement(\"div\");element.appendChild(div);div.innerHTML=json.data.html;if(json.width)$(div).width(json.width);if(json.height)$(div).height(json.height);callback(element,div)}};window.resizeToShowContents=function(element){var maxima={right:0,bottom:0};$(element).find(\"*\").each(function(idx,elt){var $elt=$(elt);var right=$elt.position().left+$elt.outerWidth();var bottom=$elt.position().top+$elt.outerHeight();maxima={right:Math.max(right,maxima.right),bottom:Math.max(bottom,maxima.bottom)}});var $element=$(element);$element.width(maxima.right-$element.position().left);$element.height(maxima.bottom-$element.position().top)};\n",
       "    window.JUPVIZLibs[\"main\"] = 'loaded';\n",
       "}\n",
       "if ( !window.JUPVIZLibs[\"viz-tool-plotly\"] ) {\n",
       "window.requirejs.config({paths:{plotly:\"https://cdn.plot.ly/plotly-latest.min\"}});window.VisualizationTools.plotly=function(element,json,callback){require([\"plotly\"],function(plotly){plotly.newPlot(element,json.data);callback(element,element.childNodes[0])})};\n",
       "    window.JUPVIZLibs[\"viz-tool-plotly\"] = 'loaded';\n",
       "}\n",
       "window.createVisualization(element,{\"data\" : {\"data\" : [{\"x\" : [0,1,2,3,4,5,6,7,8,9,10,11,12,13,14,15,16,17,18,19,20,21,22,23,24,25,26,27,28,29,30,31,32,33,34,35,36,37,38,39,40,41,42,43,44,45,46,47,48,49,50],\"y\" : [1,0,0,0,0,0,1,0,0,1,0,0,1,0,0,1,0,0,2,0,1,1,0,0,2,0,1,2,0,1,2,0,1,2,0,1,3,0,2,2,1,1,3,0,2,3,1,2,3,1,2],\"type\" : \"bar\"}],\"layout\" : {\"height\" : 400,\"title\" : \"Different ways to buy this many Nuggets\",\"xaxis\" : {\"title\" : \"number of Nuggets, n\"},\"yaxis\" : {\"title\" : \"number of expressions of n in terms of the boxes\"}}},\"tool\" : \"plotly\"}\n",
       ",function(element,visualization){\n",
       "});\n",
       "} )( element.get( 0 ) )"
      ]
     },
     "execution_count": 5,
     "metadata": {
      "application/javascript": ""
     },
     "output_type": "execute_result"
    }
   ],
   "source": [
    "Plot([0..50], x->NrRestrictedPartitions(x,[6,9,20]), \n",
    " rec(\n",
    "title := \"Different ways to buy this many Nuggets\",\n",
    "          xaxis := \"n\",\n",
    "yaxis := \"number of expressions of n in terms of the boxes\", \n",
    "xaxis := \"number of Nuggets, n\",\n",
    "type:=\"bar\"\n",
    "      ));"
   ]
  },
  {
   "cell_type": "markdown",
   "metadata": {},
   "source": [
    "Clearly for elements outside $\\langle 6,9,20\\rangle$ there will be no possible choice of boxes to get that specific amount of nuggets."
   ]
  },
  {
   "cell_type": "code",
   "execution_count": 6,
   "metadata": {},
   "outputs": [
    {
     "data": {
      "text/plain": [
       "Numerical semigroup with 3 generators"
      ]
     },
     "execution_count": 6,
     "metadata": {
      "text/plain": ""
     },
     "output_type": "execute_result"
    }
   ],
   "source": [
    "S:=NumericalSemigroup(6,9,20);"
   ]
  },
  {
   "cell_type": "code",
   "execution_count": 7,
   "metadata": {},
   "outputs": [
    {
     "data": {
      "text/plain": [
       "[ 0, 6, 9, 12, 15, 18, 20, 21, 24, 26, 27, 29, 30, 32, 33, 35, 36, 38, 39, 40, 41, 42, 44, 45, 46, 47, 48, 49, 50 ]"
      ]
     },
     "execution_count": 7,
     "metadata": {
      "text/plain": ""
     },
     "output_type": "execute_result"
    }
   ],
   "source": [
    "realizable:=Intersection(S,[0..50]);"
   ]
  },
  {
   "cell_type": "markdown",
   "metadata": {},
   "source": [
    "The amounts of nuggets that we cannot buy with this box offer are precisely the gaps of $S$."
   ]
  },
  {
   "cell_type": "code",
   "execution_count": 8,
   "metadata": {
    "scrolled": true
   },
   "outputs": [
    {
     "data": {
      "text/plain": [
       "[ 1, 2, 3, 4, 5, 7, 8, 10, 11, 13, 14, 16, 17, 19, 22, 23, 25, 28, 31, 34, 37, 43 ]"
      ]
     },
     "execution_count": 8,
     "metadata": {
      "text/plain": ""
     },
     "output_type": "execute_result"
    }
   ],
   "source": [
    "Gaps(S);"
   ]
  },
  {
   "cell_type": "markdown",
   "metadata": {},
   "source": [
    "We will now overprint to the above bar diagram the minimum number of boxes required to obtain the dessired number of Nuggets. "
   ]
  },
  {
   "cell_type": "code",
   "execution_count": 11,
   "metadata": {},
   "outputs": [
    {
     "data": {
      "application/javascript": [
       "( function ( element ) {\n",
       "if ( !window.JUPVIZLibs ) window.JUPVIZLibs = { };\n",
       "if ( !window.JUPVIZLibs[\"main\"] ) {\n",
       "window.createVisualization=function(element,data,callback){if(window.VisualizationTools[data.tool])window.VisualizationTools[data.tool](element,data,callback);else{window.VisualizationTools.html(element,{data:{html:'Error: No known visualization tool, \"'+data.tool+'.\"'}},callback)}};window.VisualizationTools={html:function(element,json,callback){var div=document.createElement(\"div\");element.appendChild(div);div.innerHTML=json.data.html;if(json.width)$(div).width(json.width);if(json.height)$(div).height(json.height);callback(element,div)}};window.resizeToShowContents=function(element){var maxima={right:0,bottom:0};$(element).find(\"*\").each(function(idx,elt){var $elt=$(elt);var right=$elt.position().left+$elt.outerWidth();var bottom=$elt.position().top+$elt.outerHeight();maxima={right:Math.max(right,maxima.right),bottom:Math.max(bottom,maxima.bottom)}});var $element=$(element);$element.width(maxima.right-$element.position().left);$element.height(maxima.bottom-$element.position().top)};\n",
       "    window.JUPVIZLibs[\"main\"] = 'loaded';\n",
       "}\n",
       "if ( !window.JUPVIZLibs[\"viz-tool-plotly\"] ) {\n",
       "window.requirejs.config({paths:{plotly:\"https://cdn.plot.ly/plotly-latest.min\"}});window.VisualizationTools.plotly=function(element,json,callback){require([\"plotly\"],function(plotly){plotly.newPlot(element,json.data);callback(element,element.childNodes[0])})};\n",
       "    window.JUPVIZLibs[\"viz-tool-plotly\"] = 'loaded';\n",
       "}\n",
       "window.createVisualization(element,{\"data\" : {\"data\" : [{\"x\" : [0,6,9,12,15,18,20,21,24,26,27,29,30,32,33,35,36,38,39,40,41,42,44,45,46,47,48,49,50,51,52,53,54,55,56,57,58,59,60,61,62,63,64,65,66,67,68,69,70,71,72,73,74,75,76,77,78,79,80,81,82,83,84,85,86,87,88,89,90,91,92,93,94,95,96,97,98,99,100],\"y\" : [1,1,1,1,1,2,1,1,2,1,2,1,2,1,2,1,3,2,2,1,1,3,2,3,1,2,3,1,2,3,1,2,4,1,3,3,2,2,5,1,3,4,2,3,5,2,3,5,2,3,6,2,4,5,3,3,7,2,5,6,3,4,7,3,5,7,3,5,8,3,6,7,4,5,9,3,7,8,5],\"type\" : \"bar\"},{\"x\" : [0,6,9,12,15,18,20,21,24,26,27,29,30,32,33,35,36,38,39,40,41,42,44,45,46,47,48,49,50,51,52,53,54,55,56,57,58,59,60,61,62,63,64,65,66,67,68,69,70,71,72,73,74,75,76,77,78,79,80,81,82,83,84,85,86,87,88,89,90,91,92,93,94,95,96,97,98,99,100],\"y\" : [0,1,1,2,2,2,1,3,3,2,3,2,4,3,4,3,4,3,5,2,4,5,4,5,3,4,6,3,5,6,4,5,6,4,5,7,4,6,3,5,6,7,5,6,4,5,7,4,6,7,5,6,7,5,6,8,5,7,4,6,7,8,6,7,5,6,8,5,7,8,6,7,8,6,7,9,6,8,5],\"name\" : \"min # boxes\",\"type\" : \"line\"},{\"x\" : [0,6,9,12,15,18,20,21,24,26,27,29,30,32,33,35,36,38,39,40,41,42,44,45,46,47,48,49,50,51,52,53,54,55,56,57,58,59,60,61,62,63,64,65,66,67,68,69,70,71,72,73,74,75,76,77,78,79,80,81,82,83,84,85,86,87,88,89,90,91,92,93,94,95,96,97,98,99,100],\"y\" : [0,1,1,2,2,3,1,3,4,2,4,2,5,3,5,3,6,4,6,2,4,7,5,7,3,5,8,3,6,8,4,6,9,4,7,9,5,7,10,5,8,10,6,8,11,6,9,11,7,9,12,7,10,12,8,10,13,8,11,13,9,11,14,9,12,14,10,12,15,10,13,15,11,13,16,11,14,16,12],\"name\" : \"max # boxes\",\"type\" : \"line\"}],\"layout\" : {\"height\" : 400,\"title\" : \"Different ways to buy this many Nuggets\",\"xaxis\" : {\"title\" : \"number of Nuggets, n\"},\"yaxis\" : {\"title\" : \"number of expressions of n in terms of the boxes\"}}},\"tool\" : \"plotly\"}\n",
       ",function(element,visualization){\n",
       "});\n",
       "} )( element.get( 0 ) )"
      ]
     },
     "execution_count": 11,
     "metadata": {
      "application/javascript": ""
     },
     "output_type": "execute_result"
    }
   ],
   "source": [
    "sizes:=[6,9,20];;\n",
    "realizable:=Intersection(S,[0..100]);;\n",
    "Plot([realizable, x->NrRestrictedPartitions(x,sizes), \n",
    " rec(\n",
    "title := \"Different ways to buy this many Nuggets\",\n",
    "          xaxis := \"n\",\n",
    "yaxis := \"number of expressions of n in terms of the boxes\", \n",
    "xaxis := \"number of Nuggets, n\",\n",
    "type:=\"bar\"\n",
    ")], \n",
    "[realizable, x->Minimum(List(RestrictedPartitions(x,sizes),Length)), \n",
    " rec(\n",
    "type:=\"line\", name:=\"min # boxes\",\n",
    ")],\n",
    "[realizable, x->Maximum(List(RestrictedPartitions(x,sizes),Length)), \n",
    " rec(\n",
    "type:=\"line\", name:=\"max # boxes\",\n",
    ")]\n",
    ");"
   ]
  },
  {
   "cell_type": "markdown",
   "metadata": {},
   "source": [
    "Let us have a closer look at the number of ways one can buy 150 nuggets."
   ]
  },
  {
   "cell_type": "code",
   "execution_count": 14,
   "metadata": {},
   "outputs": [
    {
     "data": {
      "application/javascript": [
       "( function ( element ) {\n",
       "if ( !window.JUPVIZLibs ) window.JUPVIZLibs = { };\n",
       "if ( !window.JUPVIZLibs[\"main\"] ) {\n",
       "window.createVisualization=function(element,data,callback){if(window.VisualizationTools[data.tool])window.VisualizationTools[data.tool](element,data,callback);else{window.VisualizationTools.html(element,{data:{html:'Error: No known visualization tool, \"'+data.tool+'.\"'}},callback)}};window.VisualizationTools={html:function(element,json,callback){var div=document.createElement(\"div\");element.appendChild(div);div.innerHTML=json.data.html;if(json.width)$(div).width(json.width);if(json.height)$(div).height(json.height);callback(element,div)}};window.resizeToShowContents=function(element){var maxima={right:0,bottom:0};$(element).find(\"*\").each(function(idx,elt){var $elt=$(elt);var right=$elt.position().left+$elt.outerWidth();var bottom=$elt.position().top+$elt.outerHeight();maxima={right:Math.max(right,maxima.right),bottom:Math.max(bottom,maxima.bottom)}});var $element=$(element);$element.width(maxima.right-$element.position().left);$element.height(maxima.bottom-$element.position().top)};\n",
       "    window.JUPVIZLibs[\"main\"] = 'loaded';\n",
       "}\n",
       "if ( !window.JUPVIZLibs[\"viz-tool-plotly\"] ) {\n",
       "window.requirejs.config({paths:{plotly:\"https://cdn.plot.ly/plotly-latest.min\"}});window.VisualizationTools.plotly=function(element,json,callback){require([\"plotly\"],function(plotly){plotly.newPlot(element,json.data);callback(element,element.childNodes[0])})};\n",
       "    window.JUPVIZLibs[\"viz-tool-plotly\"] = 'loaded';\n",
       "}\n",
       "window.createVisualization(element,{\"data\" : {\"data\" : [{\"values\" : [1,1,1,1,1,1,2,2,1,1,1,1,1,1,1],\"type\" : \"pie\",\"labels\" : [10,11,13,14,15,16,17,18,19,20,21,22,23,24,25]}],\"layout\" : {\"height\" : 500,\"title\" : \"Classifying the number of different ways to buy 150 Nuggets, depending on the number of boxes needed\"}},\"tool\" : \"plotly\"}\n",
       ",function(element,visualization){\n",
       "});\n",
       "} )( element.get( 0 ) )"
      ]
     },
     "execution_count": 14,
     "metadata": {
      "application/javascript": ""
     },
     "output_type": "execute_result"
    }
   ],
   "source": [
    "p:=RestrictedPartitions(150,sizes);;\n",
    "ls:=List(p,Length);;\n",
    "Plot(Set(ls),x->Length(Filtered(ls,l->l=x)), rec(type:=\"pie\", height:=500, \n",
    "title:=\"Classifying the number of different ways to buy 150 Nuggets, depending on the number of boxes needed\"));"
   ]
  },
  {
   "cell_type": "code",
   "execution_count": 15,
   "metadata": {},
   "outputs": [
    {
     "data": {
      "application/javascript": [
       "( function ( element ) {\n",
       "if ( !window.JUPVIZLibs ) window.JUPVIZLibs = { };\n",
       "if ( !window.JUPVIZLibs[\"main\"] ) {\n",
       "window.createVisualization=function(element,data,callback){if(window.VisualizationTools[data.tool])window.VisualizationTools[data.tool](element,data,callback);else{window.VisualizationTools.html(element,{data:{html:'Error: No known visualization tool, \"'+data.tool+'.\"'}},callback)}};window.VisualizationTools={html:function(element,json,callback){var div=document.createElement(\"div\");element.appendChild(div);div.innerHTML=json.data.html;if(json.width)$(div).width(json.width);if(json.height)$(div).height(json.height);callback(element,div)}};window.resizeToShowContents=function(element){var maxima={right:0,bottom:0};$(element).find(\"*\").each(function(idx,elt){var $elt=$(elt);var right=$elt.position().left+$elt.outerWidth();var bottom=$elt.position().top+$elt.outerHeight();maxima={right:Math.max(right,maxima.right),bottom:Math.max(bottom,maxima.bottom)}});var $element=$(element);$element.width(maxima.right-$element.position().left);$element.height(maxima.bottom-$element.position().top)};\n",
       "    window.JUPVIZLibs[\"main\"] = 'loaded';\n",
       "}\n",
       "if ( !window.JUPVIZLibs[\"viz-tool-plotly\"] ) {\n",
       "window.requirejs.config({paths:{plotly:\"https://cdn.plot.ly/plotly-latest.min\"}});window.VisualizationTools.plotly=function(element,json,callback){require([\"plotly\"],function(plotly){plotly.newPlot(element,json.data);callback(element,element.childNodes[0])})};\n",
       "    window.JUPVIZLibs[\"viz-tool-plotly\"] = 'loaded';\n",
       "}\n",
       "window.createVisualization(element,{\"data\" : {\"data\" : [{\"x\" : [10,11,13,14,15,16,17,18,19,20,21,22,23,24,25],\"y\" : [1,1,1,1,1,1,2,2,1,1,1,1,1,1,1],\"type\" : \"line\"}],\"layout\" : {\"height\" : 400,\"xaxis\" : {\"title\" : \"Number of boxes needed for 150 nuggets\"},\"yaxis\" : {\"title\" : \"# possibilities\"}}},\"tool\" : \"plotly\"}\n",
       ",function(element,visualization){\n",
       "});\n",
       "} )( element.get( 0 ) )"
      ]
     },
     "execution_count": 15,
     "metadata": {
      "application/javascript": ""
     },
     "output_type": "execute_result"
    }
   ],
   "source": [
    "Plot(Set(ls),x->Length(Filtered(ls,l->l=x)), rec(xaxis:=\"Number of boxes needed for 150 nuggets\", \n",
    "yaxis:=\"# possibilities\"));"
   ]
  },
  {
   "cell_type": "code",
   "execution_count": 16,
   "metadata": {
    "scrolled": true
   },
   "outputs": [
    {
     "data": {
      "text/plain": [
       "[ [ 6, 6, 6, 6, 6, 6, 6, 6, 6, 6, 6, 6, 6, 6, 6, 6, 6, 6, 6, 6, 6, 6, 6, 6, 6 ], [ 9, 9, 6, 6, 6, 6, 6, 6, 6, 6, 6, 6, 6, 6, 6, 6, 6, 6, 6, 6, 6, 6, 6, 6 ], [ 9, 9, 9, 9, 6, 6, 6, 6, 6, 6, 6, 6, 6, 6, 6, 6, 6, 6, 6, 6, 6, 6, 6 ], [ 9, 9, 9, 9, 9, 9, 6, 6, 6, 6, 6, 6, 6, 6, 6, 6, 6, 6, 6, 6, 6, 6 ], [ 9, 9, 9, 9, 9, 9, 9, 9, 6, 6, 6, 6, 6, 6, 6, 6, 6, 6, 6, 6, 6 ], [ 9, 9, 9, 9, 9, 9, 9, 9, 9, 9, 6, 6, 6, 6, 6, 6, 6, 6, 6, 6 ], [ 9, 9, 9, 9, 9, 9, 9, 9, 9, 9, 9, 9, 6, 6, 6, 6, 6, 6, 6 ], [ 9, 9, 9, 9, 9, 9, 9, 9, 9, 9, 9, 9, 9, 9, 6, 6, 6, 6 ], [ 9, 9, 9, 9, 9, 9, 9, 9, 9, 9, 9, 9, 9, 9, 9, 9, 6 ], [ 20, 20, 20, 6, 6, 6, 6, 6, 6, 6, 6, 6, 6, 6, 6, 6, 6, 6 ], [ 20, 20, 20, 9, 9, 6, 6, 6, 6, 6, 6, 6, 6, 6, 6, 6, 6 ], [ 20, 20, 20, 9, 9, 9, 9, 6, 6, 6, 6, 6, 6, 6, 6, 6 ], [ 20, 20, 20, 9, 9, 9, 9, 9, 9, 6, 6, 6, 6, 6, 6 ], [ 20, 20, 20, 9, 9, 9, 9, 9, 9, 9, 9, 6, 6, 6 ], [ 20, 20, 20, 9, 9, 9, 9, 9, 9, 9, 9, 9, 9 ], [ 20, 20, 20, 20, 20, 20, 6, 6, 6, 6, 6 ], [ 20, 20, 20, 20, 20, 20, 9, 9, 6, 6 ] ]"
      ]
     },
     "execution_count": 16,
     "metadata": {
      "text/plain": ""
     },
     "output_type": "execute_result"
    }
   ],
   "source": [
    "p;"
   ]
  },
  {
   "cell_type": "markdown",
   "metadata": {},
   "source": [
    "We can, for every possible choice, plot the number of boxes needed for each \"realizable\" amount of nuggets"
   ]
  },
  {
   "cell_type": "code",
   "execution_count": 70,
   "metadata": {},
   "outputs": [
    {
     "data": {
      "application/javascript": [
       "( function ( element ) {\n",
       "if ( !window.JUPVIZLibs ) window.JUPVIZLibs = { };\n",
       "if ( !window.JUPVIZLibs[\"main\"] ) {\n",
       "window.createVisualization=function(element,data,callback){if(window.VisualizationTools[data.tool])window.VisualizationTools[data.tool](element,data,callback);else{window.VisualizationTools.html(element,{data:{html:'Error: No known visualization tool, \"'+data.tool+'.\"'}},callback)}};window.VisualizationTools={html:function(element,json,callback){var div=document.createElement(\"div\");element.appendChild(div);div.innerHTML=json.data.html;if(json.width)$(div).width(json.width);if(json.height)$(div).height(json.height);callback(element,div)}};window.resizeToShowContents=function(element){var maxima={right:0,bottom:0};$(element).find(\"*\").each(function(idx,elt){var $elt=$(elt);var right=$elt.position().left+$elt.outerWidth();var bottom=$elt.position().top+$elt.outerHeight();maxima={right:Math.max(right,maxima.right),bottom:Math.max(bottom,maxima.bottom)}});var $element=$(element);$element.width(maxima.right-$element.position().left);$element.height(maxima.bottom-$element.position().top)};\n",
       "    window.JUPVIZLibs[\"main\"] = 'loaded';\n",
       "}\n",
       "if ( !window.JUPVIZLibs[\"viz-tool-canvasjs\"] ) {\n",
       "window.requirejs.config({paths:{canvasjs:\"https://cdnjs.cloudflare.com/ajax/libs/canvasjs/1.7.0/canvasjs.min\"}});window.VisualizationTools.canvasjs=function(element,json,callback){require([\"canvasjs\"],function(canvasjs){new window.CanvasJS.Chart(element,json.data).render();window.resizeToShowContents(element);callback(element,element.childNodes[0])})};\n",
       "    window.JUPVIZLibs[\"viz-tool-canvasjs\"] = 'loaded';\n",
       "}\n",
       "window.createVisualization(element,{\"data\" : {\"data\" : [{\"type\" : \"scatter\",\"dataPoints\" : [{\"x\" : 0,\"y\" : 0},{\"x\" : 6,\"y\" : 1},{\"x\" : 9,\"y\" : 1},{\"x\" : 12,\"y\" : 2},{\"x\" : 15,\"y\" : 2},{\"x\" : 18,\"y\" : 2},{\"x\" : 18,\"y\" : 3},{\"x\" : 20,\"y\" : 1},{\"x\" : 21,\"y\" : 3},{\"x\" : 24,\"y\" : 3},{\"x\" : 24,\"y\" : 4},{\"x\" : 26,\"y\" : 2},{\"x\" : 27,\"y\" : 3},{\"x\" : 27,\"y\" : 4},{\"x\" : 29,\"y\" : 2},{\"x\" : 30,\"y\" : 4},{\"x\" : 30,\"y\" : 5},{\"x\" : 32,\"y\" : 3},{\"x\" : 33,\"y\" : 4},{\"x\" : 33,\"y\" : 5},{\"x\" : 35,\"y\" : 3},{\"x\" : 36,\"y\" : 4},{\"x\" : 36,\"y\" : 5},{\"x\" : 36,\"y\" : 6},{\"x\" : 38,\"y\" : 3},{\"x\" : 38,\"y\" : 4},{\"x\" : 39,\"y\" : 5},{\"x\" : 39,\"y\" : 6},{\"x\" : 40,\"y\" : 2},{\"x\" : 41,\"y\" : 4},{\"x\" : 42,\"y\" : 5},{\"x\" : 42,\"y\" : 6},{\"x\" : 42,\"y\" : 7},{\"x\" : 44,\"y\" : 4},{\"x\" : 44,\"y\" : 5},{\"x\" : 45,\"y\" : 5},{\"x\" : 45,\"y\" : 6},{\"x\" : 45,\"y\" : 7},{\"x\" : 46,\"y\" : 3},{\"x\" : 47,\"y\" : 4},{\"x\" : 47,\"y\" : 5},{\"x\" : 48,\"y\" : 6},{\"x\" : 48,\"y\" : 7},{\"x\" : 48,\"y\" : 8},{\"x\" : 49,\"y\" : 3},{\"x\" : 50,\"y\" : 5},{\"x\" : 50,\"y\" : 6}]}],\"height\" : 400,\"animationEnabled\" : true},\"tool\" : \"canvasjs\"}\n",
       ",function(element,visualization){\n",
       "});\n",
       "} )( element.get( 0 ) )"
      ]
     },
     "execution_count": 70,
     "metadata": {
      "application/javascript": ""
     },
     "output_type": "execute_result"
    }
   ],
   "source": [
    "l:=[];;\n",
    "for s in Intersection([0..50],S) do\n",
    "    Append(l,List(LengthsOfFactorizationsIntegerWRTList(s,sizes), l->[s,l]));;\n",
    "od;\n",
    "Plot(l,rec(type:=\"scatter\",tool:=\"canvasjs\"));"
   ]
  },
  {
   "cell_type": "markdown",
   "metadata": {},
   "source": [
    "Let us illustrate a naïve way to determine all possible ways to buy $n$ nuggets with boxes of sizes $\\{s_1,\\ldots,s_k\\}$. The idea is quite simple, and we can draw it in a tree. We discriminate the possible ways depending on which we use the box of size $s_1$ or not, that is, $n\\in\\langle s_1,\\ldots,s_k\\}$ if either $n-s_1\\in\\langle s_1,\\ldots,s_k\\rangle$ or $n\\in\\langle s_2,\\ldots, s_k\\rangle$ (and proceed recursively). \n",
    "\n",
    "If in this process we reach a negative integer, we stop, and if we arrive to zero, then we trace the boxes we have used. We will draw this leafs of the tree as a square, and when hovering with the mouse over them, we will show the boxes used to get $n$ nuggets."
   ]
  },
  {
   "cell_type": "code",
   "execution_count": 20,
   "metadata": {},
   "outputs": [
    {
     "data": {
      "text/plain": [
       "function( n, sizes ) ... end"
      ]
     },
     "execution_count": 20,
     "metadata": {
      "text/plain": ""
     },
     "output_type": "execute_result"
    }
   ],
   "source": [
    "treefrancy:=function(n,sizes)\n",
    "    local l, sons, t,  ps, canvas, graphTree,shpr;\n",
    "\n",
    "    sons:=function(m,lm,szs,shpm)\n",
    "        local ns,shp;\n",
    "        if m<0 then \n",
    "            return;\n",
    "        fi;\n",
    "        ns:=Length(szs);\n",
    "        if ns=0 then \n",
    "            return;\n",
    "        fi;\n",
    "        if m=szs[1] then \n",
    "            shp:=Shape(ShapeType!.SQUARE, String(0));\n",
    "            SetSize(shp,5);\n",
    "            Add(graphTree,shp);\n",
    "            SetParentShape(shp,shpm);\n",
    "            Add(shp,FrancyMessage(String(Concatenation(lm,[szs[1]]))));\n",
    "            Add(ps,Concatenation(lm,[szs[1]]));\n",
    "        fi;\n",
    "        if (m-szs[1]>0) then\n",
    "            shp:=Shape(ShapeType!.CIRCLE, String(m-szs[1]));\n",
    "            SetSize(shp,5);\n",
    "            Add(graphTree,shp);\n",
    "            SetParentShape(shp,shpm);\n",
    "            Add(ps,Concatenation(lm,[szs[1]]));\n",
    "            sons(m-szs[1],Concatenation(lm,[szs[1]]),szs,shp);\n",
    "        fi;\n",
    "        sons(m,lm,szs{[2..ns]},shpm);\n",
    "    end;\n",
    "\n",
    "    t:=[];\n",
    "    l:=[];\n",
    "    ps:=[];\n",
    "    graphTree := Graph(GraphType.TREE);\n",
    "    SetCollapsed(graphTree,false);\n",
    "    shpr:=Shape(ShapeType!.CIRCLE, String(n));\n",
    "    SetSize(shpr,5);\n",
    "    #Add(shpr,FrancyMessage(Concatenation(String(n),\" \",String(l))));\n",
    "    Add(graphTree,shpr);\n",
    "    canvas:=Canvas(\"Boxes\");\n",
    "    SetTexTypesetting(canvas, true);\n",
    "    Add(canvas,graphTree);\n",
    "    sons(n,l,sizes,shpr);\n",
    "    return Draw(canvas);\n",
    "end;\n"
   ]
  },
  {
   "cell_type": "code",
   "execution_count": 21,
   "metadata": {
    "scrolled": false
   },
   "outputs": [
    {
     "data": {
      "application/vnd.francy+json": "{\"version\" : \"1.0.4\",\"mime\" : \"application\\/vnd.francy+json\",\"canvas\" : {\"width\" : 800,\"id\" : \"F3\",\"height\" : 600,\"title\" : \"Boxes\",\"zoomToFit\" : true,\"texTypesetting\" : true,\"menus\" : {},\"graph\" : {\"type\" : \"tree\",\"id\" : \"F1\",\"simulation\" : true,\"collapsed\" : false,\"nodes\" : {\"F2\" : {\"x\" : 0,\"y\" : 0,\"type\" : \"circle\",\"id\" : \"F2\",\"size\" : 5,\"title\" : \"30\",\"color\" : \"\",\"layer\" : 0,\"parent\" : \"\",\"menus\" : {},\"messages\" : {},\"callbacks\" : {}},\"F4\" : {\"x\" : 0,\"y\" : 0,\"type\" : \"circle\",\"id\" : \"F4\",\"size\" : 5,\"title\" : \"24\",\"color\" : \"\",\"layer\" : 0,\"parent\" : \"F2\",\"menus\" : {},\"messages\" : {},\"callbacks\" : {}},\"F5\" : {\"x\" : 0,\"y\" : 0,\"type\" : \"circle\",\"id\" : \"F5\",\"size\" : 5,\"title\" : \"18\",\"color\" : \"\",\"layer\" : 0,\"parent\" : \"F4\",\"menus\" : {},\"messages\" : {},\"callbacks\" : {}},\"F6\" : {\"x\" : 0,\"y\" : 0,\"type\" : \"circle\",\"id\" : \"F6\",\"size\" : 5,\"title\" : \"12\",\"color\" : \"\",\"layer\" : 0,\"parent\" : \"F5\",\"menus\" : {},\"messages\" : {},\"callbacks\" : {}},\"F7\" : {\"x\" : 0,\"y\" : 0,\"type\" : \"circle\",\"id\" : \"F7\",\"size\" : 5,\"title\" : \"6\",\"color\" : \"\",\"layer\" : 0,\"parent\" : \"F6\",\"menus\" : {},\"messages\" : {},\"callbacks\" : {}},\"F8\" : {\"x\" : 0,\"y\" : 0,\"type\" : \"square\",\"id\" : \"F8\",\"size\" : 5,\"title\" : \"0\",\"color\" : \"\",\"layer\" : 0,\"parent\" : \"F7\",\"menus\" : {},\"messages\" : {\"F9\" : {\"type\" : \"default\",\"id\" : \"F9\",\"text\" : \"[ 6, 6, 6, 6, 6 ]\",\"title\" : \"\"}},\"callbacks\" : {}},\"F10\" : {\"x\" : 0,\"y\" : 0,\"type\" : \"circle\",\"id\" : \"F10\",\"size\" : 5,\"title\" : \"3\",\"color\" : \"\",\"layer\" : 0,\"parent\" : \"F6\",\"menus\" : {},\"messages\" : {},\"callbacks\" : {}},\"F11\" : {\"x\" : 0,\"y\" : 0,\"type\" : \"circle\",\"id\" : \"F11\",\"size\" : 5,\"title\" : \"9\",\"color\" : \"\",\"layer\" : 0,\"parent\" : \"F5\",\"menus\" : {},\"messages\" : {},\"callbacks\" : {}},\"F12\" : {\"x\" : 0,\"y\" : 0,\"type\" : \"square\",\"id\" : \"F12\",\"size\" : 5,\"title\" : \"0\",\"color\" : \"\",\"layer\" : 0,\"parent\" : \"F11\",\"menus\" : {},\"messages\" : {\"F13\" : {\"type\" : \"default\",\"id\" : \"F13\",\"text\" : \"[ 6, 6, 9, 9 ]\",\"title\" : \"\"}},\"callbacks\" : {}},\"F14\" : {\"x\" : 0,\"y\" : 0,\"type\" : \"circle\",\"id\" : \"F14\",\"size\" : 5,\"title\" : \"15\",\"color\" : \"\",\"layer\" : 0,\"parent\" : \"F4\",\"menus\" : {},\"messages\" : {},\"callbacks\" : {}},\"F15\" : {\"x\" : 0,\"y\" : 0,\"type\" : \"circle\",\"id\" : \"F15\",\"size\" : 5,\"title\" : \"6\",\"color\" : \"\",\"layer\" : 0,\"parent\" : \"F14\",\"menus\" : {},\"messages\" : {},\"callbacks\" : {}},\"F16\" : {\"x\" : 0,\"y\" : 0,\"type\" : \"circle\",\"id\" : \"F16\",\"size\" : 5,\"title\" : \"4\",\"color\" : \"\",\"layer\" : 0,\"parent\" : \"F4\",\"menus\" : {},\"messages\" : {},\"callbacks\" : {}},\"F17\" : {\"x\" : 0,\"y\" : 0,\"type\" : \"circle\",\"id\" : \"F17\",\"size\" : 5,\"title\" : \"21\",\"color\" : \"\",\"layer\" : 0,\"parent\" : \"F2\",\"menus\" : {},\"messages\" : {},\"callbacks\" : {}},\"F18\" : {\"x\" : 0,\"y\" : 0,\"type\" : \"circle\",\"id\" : \"F18\",\"size\" : 5,\"title\" : \"12\",\"color\" : \"\",\"layer\" : 0,\"parent\" : \"F17\",\"menus\" : {},\"messages\" : {},\"callbacks\" : {}},\"F19\" : {\"x\" : 0,\"y\" : 0,\"type\" : \"circle\",\"id\" : \"F19\",\"size\" : 5,\"title\" : \"3\",\"color\" : \"\",\"layer\" : 0,\"parent\" : \"F18\",\"menus\" : {},\"messages\" : {},\"callbacks\" : {}},\"F20\" : {\"x\" : 0,\"y\" : 0,\"type\" : \"circle\",\"id\" : \"F20\",\"size\" : 5,\"title\" : \"1\",\"color\" : \"\",\"layer\" : 0,\"parent\" : \"F17\",\"menus\" : {},\"messages\" : {},\"callbacks\" : {}},\"F21\" : {\"x\" : 0,\"y\" : 0,\"type\" : \"circle\",\"id\" : \"F21\",\"size\" : 5,\"title\" : \"10\",\"color\" : \"\",\"layer\" : 0,\"parent\" : \"F2\",\"menus\" : {},\"messages\" : {},\"callbacks\" : {}}},\"links\" : {}},\"messages\" : {}}}"
     },
     "execution_count": 21,
     "metadata": {
      "application/vnd.francy+json": {}
     },
     "output_type": "execute_result"
    }
   ],
   "source": [
    "treefrancy(30,sizes);"
   ]
  },
  {
   "cell_type": "code",
   "execution_count": 22,
   "metadata": {
    "scrolled": true
   },
   "outputs": [
    {
     "data": {
      "text/plain": [
       "Numerical semigroup with 3 generators"
      ]
     },
     "execution_count": 22,
     "metadata": {
      "text/plain": ""
     },
     "output_type": "execute_result"
    }
   ],
   "source": [
    "S:=NumericalSemigroup(sizes);"
   ]
  },
  {
   "cell_type": "markdown",
   "metadata": {},
   "source": [
    "There are other ways to construct all possible combinations of boxes to reach the desired amount of nuggets. We can think about $\\langle 6, 9 , 20\\rangle$ as an object generated by three elements together with some relations among these generators (relations). We can use `MinimalPresentation` to obtain these relations. "
   ]
  },
  {
   "cell_type": "code",
   "execution_count": 23,
   "metadata": {},
   "outputs": [
    {
     "data": {
      "text/plain": [
       "[ [ [ 1, 6, 0 ], [ 0, 0, 3 ] ], [ [ 3, 0, 0 ], [ 0, 2, 0 ] ] ]"
      ]
     },
     "execution_count": 23,
     "metadata": {
      "text/plain": ""
     },
     "output_type": "execute_result"
    }
   ],
   "source": [
    "mps:=MinimalPresentation(S);"
   ]
  },
  {
   "cell_type": "markdown",
   "metadata": {},
   "source": [
    "One may think about these relations as trades. So fors instance, one can change tree boxes of size six with two of size nine.\n",
    "\n",
    "Let us write a graph depicting all trades performed starting from a known possible choice of boxes."
   ]
  },
  {
   "cell_type": "code",
   "execution_count": 24,
   "metadata": {},
   "outputs": [
    {
     "data": {
      "text/plain": [
       "function( f, tds ) ... end"
      ]
     },
     "execution_count": 24,
     "metadata": {
      "text/plain": ""
     },
     "output_type": "execute_result"
    }
   ],
   "source": [
    "trades:=function(f,tds)\n",
    "    local nonneg, sons, edges, vertices;\n",
    "\n",
    "    nonneg:=function(l)\n",
    "        return ForAll(l, x-> x>=0);\n",
    "    end;\n",
    "\n",
    "    sons:= function(fc)\n",
    "        local ptds, t,fcs;\n",
    "        if not(nonneg(fc)) then\n",
    "            return;\n",
    "        fi;\n",
    "        ptds:=Filtered(tds, t->nonneg(fc-t[1]));\n",
    "        for t in ptds do\n",
    "            fcs:=fc-t[1]+t[2];\n",
    "            Add(vertices,fcs);\n",
    "            Add(edges,[fc,fcs]);\n",
    "            sons(fcs);\n",
    "        od;\n",
    "    end;\n",
    "    \n",
    "    vertices:=[f];\n",
    "    edges:=[];\n",
    "    sons(f);\n",
    "\n",
    "    return PlotGraph(vertices, edges, rec(directed:=true, layout:=\"cose\", arrowscale:=2));\n",
    "end;"
   ]
  },
  {
   "cell_type": "code",
   "execution_count": 25,
   "metadata": {
    "scrolled": false
   },
   "outputs": [
    {
     "data": {
      "application/javascript": [
       "( function ( element ) {\n",
       "if ( !window.JUPVIZLibs ) window.JUPVIZLibs = { };\n",
       "if ( !window.JUPVIZLibs[\"main\"] ) {\n",
       "window.createVisualization=function(element,data,callback){if(window.VisualizationTools[data.tool])window.VisualizationTools[data.tool](element,data,callback);else{window.VisualizationTools.html(element,{data:{html:'Error: No known visualization tool, \"'+data.tool+'.\"'}},callback)}};window.VisualizationTools={html:function(element,json,callback){var div=document.createElement(\"div\");element.appendChild(div);div.innerHTML=json.data.html;if(json.width)$(div).width(json.width);if(json.height)$(div).height(json.height);callback(element,div)}};window.resizeToShowContents=function(element){var maxima={right:0,bottom:0};$(element).find(\"*\").each(function(idx,elt){var $elt=$(elt);var right=$elt.position().left+$elt.outerWidth();var bottom=$elt.position().top+$elt.outerHeight();maxima={right:Math.max(right,maxima.right),bottom:Math.max(bottom,maxima.bottom)}});var $element=$(element);$element.width(maxima.right-$element.position().left);$element.height(maxima.bottom-$element.position().top)};\n",
       "    window.JUPVIZLibs[\"main\"] = 'loaded';\n",
       "}\n",
       "if ( !window.JUPVIZLibs[\"viz-tool-cytoscape\"] ) {\n",
       "window.requirejs.config({paths:{cytoscape:\"https://cdnjs.cloudflare.com/ajax/libs/cytoscape/3.2.16/cytoscape.min\"}});window.VisualizationTools.cytoscape=function(element,json,callback){require([\"cytoscape\"],function(cytoscape){if(json.width)$(element).width(json.width);if(json.height)$(element).height(json.height);json.data.container=element;callback(element,cytoscape(json.data))})};\n",
       "    window.JUPVIZLibs[\"viz-tool-cytoscape\"] = 'loaded';\n",
       "}\n",
       "window.createVisualization(element,{\"data\" : {\"elements\" : [{\"data\" : {\"id\" : \"[ 20, 0, 0 ]\"}},{\"data\" : {\"id\" : \"[ 17, 2, 0 ]\"}},{\"data\" : {\"id\" : \"[ 14, 4, 0 ]\"}},{\"data\" : {\"id\" : \"[ 11, 6, 0 ]\"}},{\"data\" : {\"id\" : \"[ 10, 0, 3 ]\"}},{\"data\" : {\"id\" : \"[ 7, 2, 3 ]\"}},{\"data\" : {\"id\" : \"[ 4, 4, 3 ]\"}},{\"data\" : {\"id\" : \"[ 1, 6, 3 ]\"}},{\"data\" : {\"id\" : \"[ 0, 0, 6 ]\"}},{\"data\" : {\"id\" : \"[ 8, 8, 0 ]\"}},{\"data\" : {\"id\" : \"[ 7, 2, 3 ]\"}},{\"data\" : {\"id\" : \"[ 4, 4, 3 ]\"}},{\"data\" : {\"id\" : \"[ 1, 6, 3 ]\"}},{\"data\" : {\"id\" : \"[ 0, 0, 6 ]\"}},{\"data\" : {\"id\" : \"[ 5, 10, 0 ]\"}},{\"data\" : {\"id\" : \"[ 4, 4, 3 ]\"}},{\"data\" : {\"id\" : \"[ 1, 6, 3 ]\"}},{\"data\" : {\"id\" : \"[ 0, 0, 6 ]\"}},{\"data\" : {\"id\" : \"[ 2, 12, 0 ]\"}},{\"data\" : {\"id\" : \"[ 1, 6, 3 ]\"}},{\"data\" : {\"id\" : \"[ 0, 0, 6 ]\"}},{\"data\" : {\"source\" : \"[ 20, 0, 0 ]\",\"target\" : \"[ 17, 2, 0 ]\"}},{\"data\" : {\"source\" : \"[ 17, 2, 0 ]\",\"target\" : \"[ 14, 4, 0 ]\"}},{\"data\" : {\"source\" : \"[ 14, 4, 0 ]\",\"target\" : \"[ 11, 6, 0 ]\"}},{\"data\" : {\"source\" : \"[ 11, 6, 0 ]\",\"target\" : \"[ 10, 0, 3 ]\"}},{\"data\" : {\"source\" : \"[ 10, 0, 3 ]\",\"target\" : \"[ 7, 2, 3 ]\"}},{\"data\" : {\"source\" : \"[ 7, 2, 3 ]\",\"target\" : \"[ 4, 4, 3 ]\"}},{\"data\" : {\"source\" : \"[ 4, 4, 3 ]\",\"target\" : \"[ 1, 6, 3 ]\"}},{\"data\" : {\"source\" : \"[ 1, 6, 3 ]\",\"target\" : \"[ 0, 0, 6 ]\"}},{\"data\" : {\"source\" : \"[ 11, 6, 0 ]\",\"target\" : \"[ 8, 8, 0 ]\"}},{\"data\" : {\"source\" : \"[ 8, 8, 0 ]\",\"target\" : \"[ 7, 2, 3 ]\"}},{\"data\" : {\"source\" : \"[ 7, 2, 3 ]\",\"target\" : \"[ 4, 4, 3 ]\"}},{\"data\" : {\"source\" : \"[ 4, 4, 3 ]\",\"target\" : \"[ 1, 6, 3 ]\"}},{\"data\" : {\"source\" : \"[ 1, 6, 3 ]\",\"target\" : \"[ 0, 0, 6 ]\"}},{\"data\" : {\"source\" : \"[ 8, 8, 0 ]\",\"target\" : \"[ 5, 10, 0 ]\"}},{\"data\" : {\"source\" : \"[ 5, 10, 0 ]\",\"target\" : \"[ 4, 4, 3 ]\"}},{\"data\" : {\"source\" : \"[ 4, 4, 3 ]\",\"target\" : \"[ 1, 6, 3 ]\"}},{\"data\" : {\"source\" : \"[ 1, 6, 3 ]\",\"target\" : \"[ 0, 0, 6 ]\"}},{\"data\" : {\"source\" : \"[ 5, 10, 0 ]\",\"target\" : \"[ 2, 12, 0 ]\"}},{\"data\" : {\"source\" : \"[ 2, 12, 0 ]\",\"target\" : \"[ 1, 6, 3 ]\"}},{\"data\" : {\"source\" : \"[ 1, 6, 3 ]\",\"target\" : \"[ 0, 0, 6 ]\"}}],\"layout\" : {\"name\" : \"cose\"},\"style\" : [{\"style\" : {\"content\" : \"data(id)\"},\"selector\" : \"node\"},{\"style\" : {\"mid-target-arrow-shape\" : \"vee\",\"arrow-scale\" : 2},\"selector\" : \"edge\"}]},\"height\" : 400,\"tool\" : \"cytoscape\"}\n",
       ",function(element,visualization){\n",
       "});\n",
       "} )( element.get( 0 ) )"
      ]
     },
     "execution_count": 25,
     "metadata": {
      "application/javascript": ""
     },
     "output_type": "execute_result"
    }
   ],
   "source": [
    "trades([20,0,0], mps);"
   ]
  },
  {
   "cell_type": "markdown",
   "metadata": {},
   "source": [
    "Since there are only two relations (trades), we can force a grid shape in the 'trading' graph. Vertices in `jupyterviz` graphs can store their position."
   ]
  },
  {
   "cell_type": "code",
   "execution_count": 27,
   "metadata": {},
   "outputs": [
    {
     "data": {
      "text/plain": [
       "function( f, tds ) ... end"
      ]
     },
     "execution_count": 27,
     "metadata": {
      "text/plain": ""
     },
     "output_type": "execute_result"
    }
   ],
   "source": [
    "step:=75;;\n",
    "tradespreset:=function(f,tds)\n",
    "    local nonneg, sons, edges, vertices;\n",
    "\n",
    "    nonneg:=function(l)\n",
    "        return ForAll(l, x-> x>=0);\n",
    "    end;\n",
    "\n",
    "    sons:= function(fc,vx,vy)\n",
    "        local t,fcs;\n",
    "        if not(nonneg(fc)) then\n",
    "            return;\n",
    "        fi;\n",
    "        if nonneg(fc-tds[1][1]) then\n",
    "            fcs:=fc-tds[1][1]+tds[1][2];\n",
    "            Add(vertices,rec(name:=String(fcs),x:=vx+step,y:=vy));\n",
    "            Add(edges,[fc,fcs]);\n",
    "            sons(fcs,vx+step,vy);\n",
    "        fi;\n",
    "        if nonneg(fc-tds[2][1]) then\n",
    "            fcs:=fc-tds[2][1]+tds[2][2];\n",
    "            Add(vertices,rec(name:=String(fcs),x:=vx,y:=vy+step));\n",
    "            Add(edges,[fc,fcs]);\n",
    "            sons(fcs,vx,vy+step);\n",
    "        fi;\n",
    "    end;\n",
    "    \n",
    "    vertices:=[rec(name:=String(f),x:=0,y:=0)];\n",
    "    edges:=[];\n",
    "    sons(f,0,0);\n",
    "\n",
    "    return PlotGraph(vertices, edges, rec(directed:=true, layout:=\"preset\", arrowscale:=2));\n",
    "end;"
   ]
  },
  {
   "cell_type": "code",
   "execution_count": 28,
   "metadata": {},
   "outputs": [
    {
     "data": {
      "application/javascript": [
       "( function ( element ) {\n",
       "if ( !window.JUPVIZLibs ) window.JUPVIZLibs = { };\n",
       "if ( !window.JUPVIZLibs[\"main\"] ) {\n",
       "window.createVisualization=function(element,data,callback){if(window.VisualizationTools[data.tool])window.VisualizationTools[data.tool](element,data,callback);else{window.VisualizationTools.html(element,{data:{html:'Error: No known visualization tool, \"'+data.tool+'.\"'}},callback)}};window.VisualizationTools={html:function(element,json,callback){var div=document.createElement(\"div\");element.appendChild(div);div.innerHTML=json.data.html;if(json.width)$(div).width(json.width);if(json.height)$(div).height(json.height);callback(element,div)}};window.resizeToShowContents=function(element){var maxima={right:0,bottom:0};$(element).find(\"*\").each(function(idx,elt){var $elt=$(elt);var right=$elt.position().left+$elt.outerWidth();var bottom=$elt.position().top+$elt.outerHeight();maxima={right:Math.max(right,maxima.right),bottom:Math.max(bottom,maxima.bottom)}});var $element=$(element);$element.width(maxima.right-$element.position().left);$element.height(maxima.bottom-$element.position().top)};\n",
       "    window.JUPVIZLibs[\"main\"] = 'loaded';\n",
       "}\n",
       "if ( !window.JUPVIZLibs[\"viz-tool-cytoscape\"] ) {\n",
       "window.requirejs.config({paths:{cytoscape:\"https://cdnjs.cloudflare.com/ajax/libs/cytoscape/3.2.16/cytoscape.min\"}});window.VisualizationTools.cytoscape=function(element,json,callback){require([\"cytoscape\"],function(cytoscape){if(json.width)$(element).width(json.width);if(json.height)$(element).height(json.height);json.data.container=element;callback(element,cytoscape(json.data))})};\n",
       "    window.JUPVIZLibs[\"viz-tool-cytoscape\"] = 'loaded';\n",
       "}\n",
       "window.createVisualization(element,{\"data\" : {\"elements\" : [{\"data\" : {\"id\" : \"[ 20, 0, 0 ]\"},\"position\" : {\"x\" : 0,\"y\" : 0}},{\"data\" : {\"id\" : \"[ 17, 2, 0 ]\"},\"position\" : {\"x\" : 0,\"y\" : 75}},{\"data\" : {\"id\" : \"[ 14, 4, 0 ]\"},\"position\" : {\"x\" : 0,\"y\" : 150}},{\"data\" : {\"id\" : \"[ 11, 6, 0 ]\"},\"position\" : {\"x\" : 0,\"y\" : 225}},{\"data\" : {\"id\" : \"[ 10, 0, 3 ]\"},\"position\" : {\"x\" : 75,\"y\" : 225}},{\"data\" : {\"id\" : \"[ 7, 2, 3 ]\"},\"position\" : {\"x\" : 75,\"y\" : 300}},{\"data\" : {\"id\" : \"[ 4, 4, 3 ]\"},\"position\" : {\"x\" : 75,\"y\" : 375}},{\"data\" : {\"id\" : \"[ 1, 6, 3 ]\"},\"position\" : {\"x\" : 75,\"y\" : 450}},{\"data\" : {\"id\" : \"[ 0, 0, 6 ]\"},\"position\" : {\"x\" : 150,\"y\" : 450}},{\"data\" : {\"id\" : \"[ 8, 8, 0 ]\"},\"position\" : {\"x\" : 0,\"y\" : 300}},{\"data\" : {\"id\" : \"[ 7, 2, 3 ]\"},\"position\" : {\"x\" : 75,\"y\" : 300}},{\"data\" : {\"id\" : \"[ 4, 4, 3 ]\"},\"position\" : {\"x\" : 75,\"y\" : 375}},{\"data\" : {\"id\" : \"[ 1, 6, 3 ]\"},\"position\" : {\"x\" : 75,\"y\" : 450}},{\"data\" : {\"id\" : \"[ 0, 0, 6 ]\"},\"position\" : {\"x\" : 150,\"y\" : 450}},{\"data\" : {\"id\" : \"[ 5, 10, 0 ]\"},\"position\" : {\"x\" : 0,\"y\" : 375}},{\"data\" : {\"id\" : \"[ 4, 4, 3 ]\"},\"position\" : {\"x\" : 75,\"y\" : 375}},{\"data\" : {\"id\" : \"[ 1, 6, 3 ]\"},\"position\" : {\"x\" : 75,\"y\" : 450}},{\"data\" : {\"id\" : \"[ 0, 0, 6 ]\"},\"position\" : {\"x\" : 150,\"y\" : 450}},{\"data\" : {\"id\" : \"[ 2, 12, 0 ]\"},\"position\" : {\"x\" : 0,\"y\" : 450}},{\"data\" : {\"id\" : \"[ 1, 6, 3 ]\"},\"position\" : {\"x\" : 75,\"y\" : 450}},{\"data\" : {\"id\" : \"[ 0, 0, 6 ]\"},\"position\" : {\"x\" : 150,\"y\" : 450}},{\"data\" : {\"source\" : \"[ 20, 0, 0 ]\",\"target\" : \"[ 17, 2, 0 ]\"}},{\"data\" : {\"source\" : \"[ 17, 2, 0 ]\",\"target\" : \"[ 14, 4, 0 ]\"}},{\"data\" : {\"source\" : \"[ 14, 4, 0 ]\",\"target\" : \"[ 11, 6, 0 ]\"}},{\"data\" : {\"source\" : \"[ 11, 6, 0 ]\",\"target\" : \"[ 10, 0, 3 ]\"}},{\"data\" : {\"source\" : \"[ 10, 0, 3 ]\",\"target\" : \"[ 7, 2, 3 ]\"}},{\"data\" : {\"source\" : \"[ 7, 2, 3 ]\",\"target\" : \"[ 4, 4, 3 ]\"}},{\"data\" : {\"source\" : \"[ 4, 4, 3 ]\",\"target\" : \"[ 1, 6, 3 ]\"}},{\"data\" : {\"source\" : \"[ 1, 6, 3 ]\",\"target\" : \"[ 0, 0, 6 ]\"}},{\"data\" : {\"source\" : \"[ 11, 6, 0 ]\",\"target\" : \"[ 8, 8, 0 ]\"}},{\"data\" : {\"source\" : \"[ 8, 8, 0 ]\",\"target\" : \"[ 7, 2, 3 ]\"}},{\"data\" : {\"source\" : \"[ 7, 2, 3 ]\",\"target\" : \"[ 4, 4, 3 ]\"}},{\"data\" : {\"source\" : \"[ 4, 4, 3 ]\",\"target\" : \"[ 1, 6, 3 ]\"}},{\"data\" : {\"source\" : \"[ 1, 6, 3 ]\",\"target\" : \"[ 0, 0, 6 ]\"}},{\"data\" : {\"source\" : \"[ 8, 8, 0 ]\",\"target\" : \"[ 5, 10, 0 ]\"}},{\"data\" : {\"source\" : \"[ 5, 10, 0 ]\",\"target\" : \"[ 4, 4, 3 ]\"}},{\"data\" : {\"source\" : \"[ 4, 4, 3 ]\",\"target\" : \"[ 1, 6, 3 ]\"}},{\"data\" : {\"source\" : \"[ 1, 6, 3 ]\",\"target\" : \"[ 0, 0, 6 ]\"}},{\"data\" : {\"source\" : \"[ 5, 10, 0 ]\",\"target\" : \"[ 2, 12, 0 ]\"}},{\"data\" : {\"source\" : \"[ 2, 12, 0 ]\",\"target\" : \"[ 1, 6, 3 ]\"}},{\"data\" : {\"source\" : \"[ 1, 6, 3 ]\",\"target\" : \"[ 0, 0, 6 ]\"}}],\"layout\" : {\"name\" : \"preset\"},\"style\" : [{\"style\" : {\"content\" : \"data(id)\"},\"selector\" : \"node\"},{\"style\" : {\"mid-target-arrow-shape\" : \"vee\",\"arrow-scale\" : 2},\"selector\" : \"edge\"}]},\"height\" : 400,\"tool\" : \"cytoscape\"}\n",
       ",function(element,visualization){\n",
       "});\n",
       "} )( element.get( 0 ) )"
      ]
     },
     "execution_count": 28,
     "metadata": {
      "application/javascript": ""
     },
     "output_type": "execute_result"
    }
   ],
   "source": [
    "tradespreset([20,0,0],mps);"
   ]
  },
  {
   "cell_type": "markdown",
   "metadata": {},
   "source": [
    "Minimal presentations (trade systems) might not be unique. For our sizes of boxes we have another choices, since in the first component of the first trade, we can apply the second to obtain a new trade [[4,4,0],[0,0,3]], and applying it once more, we obtain [[7,2,0],[0,0,3]]. "
   ]
  },
  {
   "cell_type": "code",
   "execution_count": 29,
   "metadata": {},
   "outputs": [
    {
     "data": {
      "text/plain": [
       "true"
      ]
     },
     "execution_count": 29,
     "metadata": {
      "text/plain": ""
     },
     "output_type": "execute_result"
    }
   ],
   "source": [
    "[4,4,0]*[6,9,20]=[7,2,0]*[6,9,20];"
   ]
  },
  {
   "cell_type": "markdown",
   "metadata": {},
   "source": [
    "These are indeed the factorizations of 60."
   ]
  },
  {
   "cell_type": "code",
   "execution_count": 30,
   "metadata": {},
   "outputs": [
    {
     "data": {
      "text/plain": [
       "[ [ 10, 0, 0 ], [ 7, 2, 0 ], [ 4, 4, 0 ], [ 1, 6, 0 ], [ 0, 0, 3 ] ]"
      ]
     },
     "execution_count": 30,
     "metadata": {
      "text/plain": ""
     },
     "output_type": "execute_result"
    }
   ],
   "source": [
    "FactorizationsIntegerWRTList(60,sizes);"
   ]
  },
  {
   "cell_type": "markdown",
   "metadata": {},
   "source": [
    "We can choose another trade system, and will obtain another 'trading' graph."
   ]
  },
  {
   "cell_type": "code",
   "execution_count": 31,
   "metadata": {},
   "outputs": [
    {
     "data": {
      "application/javascript": [
       "( function ( element ) {\n",
       "if ( !window.JUPVIZLibs ) window.JUPVIZLibs = { };\n",
       "if ( !window.JUPVIZLibs[\"main\"] ) {\n",
       "window.createVisualization=function(element,data,callback){if(window.VisualizationTools[data.tool])window.VisualizationTools[data.tool](element,data,callback);else{window.VisualizationTools.html(element,{data:{html:'Error: No known visualization tool, \"'+data.tool+'.\"'}},callback)}};window.VisualizationTools={html:function(element,json,callback){var div=document.createElement(\"div\");element.appendChild(div);div.innerHTML=json.data.html;if(json.width)$(div).width(json.width);if(json.height)$(div).height(json.height);callback(element,div)}};window.resizeToShowContents=function(element){var maxima={right:0,bottom:0};$(element).find(\"*\").each(function(idx,elt){var $elt=$(elt);var right=$elt.position().left+$elt.outerWidth();var bottom=$elt.position().top+$elt.outerHeight();maxima={right:Math.max(right,maxima.right),bottom:Math.max(bottom,maxima.bottom)}});var $element=$(element);$element.width(maxima.right-$element.position().left);$element.height(maxima.bottom-$element.position().top)};\n",
       "    window.JUPVIZLibs[\"main\"] = 'loaded';\n",
       "}\n",
       "if ( !window.JUPVIZLibs[\"viz-tool-cytoscape\"] ) {\n",
       "window.requirejs.config({paths:{cytoscape:\"https://cdnjs.cloudflare.com/ajax/libs/cytoscape/3.2.16/cytoscape.min\"}});window.VisualizationTools.cytoscape=function(element,json,callback){require([\"cytoscape\"],function(cytoscape){if(json.width)$(element).width(json.width);if(json.height)$(element).height(json.height);json.data.container=element;callback(element,cytoscape(json.data))})};\n",
       "    window.JUPVIZLibs[\"viz-tool-cytoscape\"] = 'loaded';\n",
       "}\n",
       "window.createVisualization(element,{\"data\" : {\"elements\" : [{\"data\" : {\"id\" : \"[ 20, 0, 0 ]\"},\"position\" : {\"x\" : 0,\"y\" : 0}},{\"data\" : {\"id\" : \"[ 10, 0, 3 ]\"},\"position\" : {\"x\" : 75,\"y\" : 0}},{\"data\" : {\"id\" : \"[ 0, 0, 6 ]\"},\"position\" : {\"x\" : 150,\"y\" : 0}},{\"data\" : {\"id\" : \"[ 7, 2, 3 ]\"},\"position\" : {\"x\" : 75,\"y\" : 75}},{\"data\" : {\"id\" : \"[ 4, 4, 3 ]\"},\"position\" : {\"x\" : 75,\"y\" : 150}},{\"data\" : {\"id\" : \"[ 1, 6, 3 ]\"},\"position\" : {\"x\" : 75,\"y\" : 225}},{\"data\" : {\"id\" : \"[ 17, 2, 0 ]\"},\"position\" : {\"x\" : 0,\"y\" : 75}},{\"data\" : {\"id\" : \"[ 7, 2, 3 ]\"},\"position\" : {\"x\" : 75,\"y\" : 75}},{\"data\" : {\"id\" : \"[ 4, 4, 3 ]\"},\"position\" : {\"x\" : 75,\"y\" : 150}},{\"data\" : {\"id\" : \"[ 1, 6, 3 ]\"},\"position\" : {\"x\" : 75,\"y\" : 225}},{\"data\" : {\"id\" : \"[ 14, 4, 0 ]\"},\"position\" : {\"x\" : 0,\"y\" : 150}},{\"data\" : {\"id\" : \"[ 4, 4, 3 ]\"},\"position\" : {\"x\" : 75,\"y\" : 150}},{\"data\" : {\"id\" : \"[ 1, 6, 3 ]\"},\"position\" : {\"x\" : 75,\"y\" : 225}},{\"data\" : {\"id\" : \"[ 11, 6, 0 ]\"},\"position\" : {\"x\" : 0,\"y\" : 225}},{\"data\" : {\"id\" : \"[ 1, 6, 3 ]\"},\"position\" : {\"x\" : 75,\"y\" : 225}},{\"data\" : {\"id\" : \"[ 8, 8, 0 ]\"},\"position\" : {\"x\" : 0,\"y\" : 300}},{\"data\" : {\"id\" : \"[ 5, 10, 0 ]\"},\"position\" : {\"x\" : 0,\"y\" : 375}},{\"data\" : {\"id\" : \"[ 2, 12, 0 ]\"},\"position\" : {\"x\" : 0,\"y\" : 450}},{\"data\" : {\"source\" : \"[ 20, 0, 0 ]\",\"target\" : \"[ 10, 0, 3 ]\"}},{\"data\" : {\"source\" : \"[ 10, 0, 3 ]\",\"target\" : \"[ 0, 0, 6 ]\"}},{\"data\" : {\"source\" : \"[ 10, 0, 3 ]\",\"target\" : \"[ 7, 2, 3 ]\"}},{\"data\" : {\"source\" : \"[ 7, 2, 3 ]\",\"target\" : \"[ 4, 4, 3 ]\"}},{\"data\" : {\"source\" : \"[ 4, 4, 3 ]\",\"target\" : \"[ 1, 6, 3 ]\"}},{\"data\" : {\"source\" : \"[ 20, 0, 0 ]\",\"target\" : \"[ 17, 2, 0 ]\"}},{\"data\" : {\"source\" : \"[ 17, 2, 0 ]\",\"target\" : \"[ 7, 2, 3 ]\"}},{\"data\" : {\"source\" : \"[ 7, 2, 3 ]\",\"target\" : \"[ 4, 4, 3 ]\"}},{\"data\" : {\"source\" : \"[ 4, 4, 3 ]\",\"target\" : \"[ 1, 6, 3 ]\"}},{\"data\" : {\"source\" : \"[ 17, 2, 0 ]\",\"target\" : \"[ 14, 4, 0 ]\"}},{\"data\" : {\"source\" : \"[ 14, 4, 0 ]\",\"target\" : \"[ 4, 4, 3 ]\"}},{\"data\" : {\"source\" : \"[ 4, 4, 3 ]\",\"target\" : \"[ 1, 6, 3 ]\"}},{\"data\" : {\"source\" : \"[ 14, 4, 0 ]\",\"target\" : \"[ 11, 6, 0 ]\"}},{\"data\" : {\"source\" : \"[ 11, 6, 0 ]\",\"target\" : \"[ 1, 6, 3 ]\"}},{\"data\" : {\"source\" : \"[ 11, 6, 0 ]\",\"target\" : \"[ 8, 8, 0 ]\"}},{\"data\" : {\"source\" : \"[ 8, 8, 0 ]\",\"target\" : \"[ 5, 10, 0 ]\"}},{\"data\" : {\"source\" : \"[ 5, 10, 0 ]\",\"target\" : \"[ 2, 12, 0 ]\"}}],\"layout\" : {\"name\" : \"preset\"},\"style\" : [{\"style\" : {\"content\" : \"data(id)\"},\"selector\" : \"node\"},{\"style\" : {\"mid-target-arrow-shape\" : \"vee\",\"arrow-scale\" : 2},\"selector\" : \"edge\"}]},\"height\" : 400,\"tool\" : \"cytoscape\"}\n",
       ",function(element,visualization){\n",
       "});\n",
       "} )( element.get( 0 ) )"
      ]
     },
     "execution_count": 31,
     "metadata": {
      "application/javascript": ""
     },
     "output_type": "execute_result"
    }
   ],
   "source": [
    "tradespreset([20,0,0],[[[10,0,0],[0,0,3]],[[3,0,0],[0,2,0]]]);"
   ]
  },
  {
   "cell_type": "markdown",
   "metadata": {},
   "source": [
    "Trades in a numerical semigroup (or relations) can be obtained from some specific elements in the semigroup. We have seen that one of our possible trades can be choosen from a pair of expressions of 60 as combinations of 6, 9, and 20. What makes 60 special is that there are some expressions of 60 in terms of 6, 9 and 20 where only 6 and 9 show up, and another were 20 is the only size of box used.\n",
    "\n",
    "We can draw a graph with vertices the set of possible combinations (expressions, factorizations) of $n$ in terms of $\\lbrace s_1,\\ldots, s_k\\rbrace$, and there is an edge between two combinations if in the expression there is a common box used.\n",
    "\n",
    "There are several `gap` packages that offer procedures that output graphs in `dot` language. In order to make these outputs visible in the notebook one can use `JupyterSplashDot`."
   ]
  },
  {
   "cell_type": "code",
   "execution_count": 32,
   "metadata": {},
   "outputs": [
    {
     "data": {
      "image/svg+xml": [
       "<?xml version=\"1.0\" encoding=\"UTF-8\" standalone=\"no\"?>\n",
       "<!DOCTYPE svg PUBLIC \"-//W3C//DTD SVG 1.1//EN\"\n",
       " \"http://www.w3.org/Graphics/SVG/1.1/DTD/svg11.dtd\">\n",
       "<!-- Generated by graphviz version 2.40.1 (20161225.0304)\n",
       " -->\n",
       "<!-- Title: NSGraph Pages: 1 -->\n",
       "<svg width=\"276pt\" height=\"305pt\"\n",
       " viewBox=\"0.00 0.00 276.49 305.00\" xmlns=\"http://www.w3.org/2000/svg\" xmlns:xlink=\"http://www.w3.org/1999/xlink\">\n",
       "<g id=\"graph0\" class=\"graph\" transform=\"scale(1 1) rotate(0) translate(4 301)\">\n",
       "<title>NSGraph</title>\n",
       "<polygon fill=\"#ffffff\" stroke=\"transparent\" points=\"-4,4 -4,-301 272.4925,-301 272.4925,4 -4,4\"/>\n",
       "<!-- 1 -->\n",
       "<g id=\"node1\" class=\"node\">\n",
       "<title>1</title>\n",
       "<ellipse fill=\"none\" stroke=\"#000000\" cx=\"120.2463\" cy=\"-279\" rx=\"46.2923\" ry=\"18\"/>\n",
       "<text text-anchor=\"middle\" x=\"120.2463\" y=\"-275.3\" font-family=\"Times,serif\" font-size=\"14.00\" fill=\"#000000\"> (10, 0, 0)</text>\n",
       "</g>\n",
       "<!-- 2 -->\n",
       "<g id=\"node2\" class=\"node\">\n",
       "<title>2</title>\n",
       "<ellipse fill=\"none\" stroke=\"#000000\" cx=\"42.2463\" cy=\"-192\" rx=\"42.4939\" ry=\"18\"/>\n",
       "<text text-anchor=\"middle\" x=\"42.2463\" y=\"-188.3\" font-family=\"Times,serif\" font-size=\"14.00\" fill=\"#000000\"> (7, 2, 0)</text>\n",
       "</g>\n",
       "<!-- 1&#45;&#45;2 -->\n",
       "<g id=\"edge1\" class=\"edge\">\n",
       "<title>1&#45;&#45;2</title>\n",
       "<path fill=\"none\" stroke=\"#000000\" d=\"M104.836,-261.8116C91.0727,-246.4603 71.031,-224.106 57.3591,-208.8567\"/>\n",
       "<text text-anchor=\"middle\" x=\"89.7463\" y=\"-231.8\" font-family=\"Times,serif\" font-size=\"14.00\" fill=\"#000000\">3</text>\n",
       "</g>\n",
       "<!-- 3 -->\n",
       "<g id=\"node3\" class=\"node\">\n",
       "<title>3</title>\n",
       "<ellipse fill=\"none\" stroke=\"#000000\" cx=\"97.2463\" cy=\"-105\" rx=\"42.4939\" ry=\"18\"/>\n",
       "<text text-anchor=\"middle\" x=\"97.2463\" y=\"-101.3\" font-family=\"Times,serif\" font-size=\"14.00\" fill=\"#000000\"> (4, 4, 0)</text>\n",
       "</g>\n",
       "<!-- 1&#45;&#45;3 -->\n",
       "<g id=\"edge4\" class=\"edge\">\n",
       "<title>1&#45;&#45;3</title>\n",
       "<path fill=\"none\" stroke=\"#000000\" d=\"M117.8283,-260.7078C113.3994,-227.2024 104.0365,-156.3695 99.6318,-123.0471\"/>\n",
       "<text text-anchor=\"middle\" x=\"113.7463\" y=\"-188.3\" font-family=\"Times,serif\" font-size=\"14.00\" fill=\"#000000\">6</text>\n",
       "</g>\n",
       "<!-- 4 -->\n",
       "<g id=\"node4\" class=\"node\">\n",
       "<title>4</title>\n",
       "<ellipse fill=\"none\" stroke=\"#000000\" cx=\"97.2463\" cy=\"-18\" rx=\"42.4939\" ry=\"18\"/>\n",
       "<text text-anchor=\"middle\" x=\"97.2463\" y=\"-14.3\" font-family=\"Times,serif\" font-size=\"14.00\" fill=\"#000000\"> (1, 6, 0)</text>\n",
       "</g>\n",
       "<!-- 1&#45;&#45;4 -->\n",
       "<g id=\"edge6\" class=\"edge\">\n",
       "<title>1&#45;&#45;4</title>\n",
       "<path fill=\"none\" stroke=\"#000000\" d=\"M128.195,-261.0583C142.3445,-226.52 168.5897,-148.749 148.2463,-87 141.5808,-66.7681 126.4485,-47.6092 114.3883,-34.6374\"/>\n",
       "<text text-anchor=\"middle\" x=\"158.7463\" y=\"-144.8\" font-family=\"Times,serif\" font-size=\"14.00\" fill=\"#000000\">9</text>\n",
       "</g>\n",
       "<!-- 2&#45;&#45;3 -->\n",
       "<g id=\"edge2\" class=\"edge\">\n",
       "<title>2&#45;&#45;3</title>\n",
       "<path fill=\"none\" stroke=\"#000000\" d=\"M53.3763,-174.3943C62.9186,-159.3001 76.5953,-137.6661 86.1327,-122.5796\"/>\n",
       "<text text-anchor=\"middle\" x=\"76.7463\" y=\"-144.8\" font-family=\"Times,serif\" font-size=\"14.00\" fill=\"#000000\">3</text>\n",
       "</g>\n",
       "<!-- 2&#45;&#45;4 -->\n",
       "<g id=\"edge5\" class=\"edge\">\n",
       "<title>2&#45;&#45;4</title>\n",
       "<path fill=\"none\" stroke=\"#000000\" d=\"M37.7857,-173.8949C33.3805,-152.4411 28.6927,-115.9566 39.2463,-87 46.9092,-65.9747 64.1087,-46.9087 77.7997,-34.1736\"/>\n",
       "<text text-anchor=\"middle\" x=\"42.7463\" y=\"-101.3\" font-family=\"Times,serif\" font-size=\"14.00\" fill=\"#000000\">6</text>\n",
       "</g>\n",
       "<!-- 3&#45;&#45;4 -->\n",
       "<g id=\"edge3\" class=\"edge\">\n",
       "<title>3&#45;&#45;4</title>\n",
       "<path fill=\"none\" stroke=\"#000000\" d=\"M97.2463,-86.9735C97.2463,-72.0422 97.2463,-50.9283 97.2463,-36.0034\"/>\n",
       "<text text-anchor=\"middle\" x=\"100.7463\" y=\"-57.8\" font-family=\"Times,serif\" font-size=\"14.00\" fill=\"#000000\">3</text>\n",
       "</g>\n",
       "<!-- 5 -->\n",
       "<g id=\"node5\" class=\"node\">\n",
       "<title>5</title>\n",
       "<ellipse fill=\"none\" stroke=\"#000000\" cx=\"226.2463\" cy=\"-279\" rx=\"42.4939\" ry=\"18\"/>\n",
       "<text text-anchor=\"middle\" x=\"226.2463\" y=\"-275.3\" font-family=\"Times,serif\" font-size=\"14.00\" fill=\"#000000\"> (0, 0, 3)</text>\n",
       "</g>\n",
       "</g>\n",
       "</svg>\n"
      ]
     },
     "execution_count": 32,
     "metadata": {
      "image/svg+xml": {
       "height": 500,
       "width": 500
      }
     },
     "output_type": "execute_result"
    }
   ],
   "source": [
    "JupyterSplashDot(DotEliahouGraph(FactorizationsIntegerWRTList(60,sizes)));"
   ]
  },
  {
   "cell_type": "markdown",
   "metadata": {},
   "source": [
    "There are exactly two elements with nonconnected associated graph in $S$. One is 60, the other already showed up: 18."
   ]
  },
  {
   "cell_type": "code",
   "execution_count": 33,
   "metadata": {},
   "outputs": [
    {
     "data": {
      "image/svg+xml": [
       "<?xml version=\"1.0\" encoding=\"UTF-8\" standalone=\"no\"?>\n",
       "<!DOCTYPE svg PUBLIC \"-//W3C//DTD SVG 1.1//EN\"\n",
       " \"http://www.w3.org/Graphics/SVG/1.1/DTD/svg11.dtd\">\n",
       "<!-- Generated by graphviz version 2.40.1 (20161225.0304)\n",
       " -->\n",
       "<!-- Title: NSGraph Pages: 1 -->\n",
       "<svg width=\"194pt\" height=\"44pt\"\n",
       " viewBox=\"0.00 0.00 194.49 44.00\" xmlns=\"http://www.w3.org/2000/svg\" xmlns:xlink=\"http://www.w3.org/1999/xlink\">\n",
       "<g id=\"graph0\" class=\"graph\" transform=\"scale(1 1) rotate(0) translate(4 40)\">\n",
       "<title>NSGraph</title>\n",
       "<polygon fill=\"#ffffff\" stroke=\"transparent\" points=\"-4,4 -4,-40 190.4925,-40 190.4925,4 -4,4\"/>\n",
       "<!-- 1 -->\n",
       "<g id=\"node1\" class=\"node\">\n",
       "<title>1</title>\n",
       "<ellipse fill=\"none\" stroke=\"#000000\" cx=\"42.2463\" cy=\"-18\" rx=\"42.4939\" ry=\"18\"/>\n",
       "<text text-anchor=\"middle\" x=\"42.2463\" y=\"-14.3\" font-family=\"Times,serif\" font-size=\"14.00\" fill=\"#000000\"> (3, 0, 0)</text>\n",
       "</g>\n",
       "<!-- 2 -->\n",
       "<g id=\"node2\" class=\"node\">\n",
       "<title>2</title>\n",
       "<ellipse fill=\"none\" stroke=\"#000000\" cx=\"144.2463\" cy=\"-18\" rx=\"42.4939\" ry=\"18\"/>\n",
       "<text text-anchor=\"middle\" x=\"144.2463\" y=\"-14.3\" font-family=\"Times,serif\" font-size=\"14.00\" fill=\"#000000\"> (0, 2, 0)</text>\n",
       "</g>\n",
       "</g>\n",
       "</svg>\n"
      ]
     },
     "execution_count": 33,
     "metadata": {
      "image/svg+xml": {
       "height": 500,
       "width": 500
      }
     },
     "output_type": "execute_result"
    }
   ],
   "source": [
    "JupyterSplashDot(DotEliahouGraph(FactorizationsIntegerWRTList(18,sizes)));"
   ]
  },
  {
   "cell_type": "markdown",
   "metadata": {},
   "source": [
    "In order to obtain a 'complete trade system' that allows us to go from any combination of boxes to any other choice, we only need to take expressions in different connected components of the above graphs, so that there is a trade connecting both connected components. "
   ]
  },
  {
   "cell_type": "markdown",
   "metadata": {},
   "source": [
    "Another way to visualize possible combinations is through `DotFactorizationGraph` that shows the set of expressions of a nonnegative integer in terms of a given set of nonnegative integers depicted in a graph: the vertices are labelled with the different combinations, and in the edges shows the \"distance\" between factorizations. In red a minimal spanning tree is highlighted. The largest distance in the minimal spanning tree is known as the catenary degree of the integer in the numerical semigroup."
   ]
  },
  {
   "cell_type": "code",
   "execution_count": 34,
   "metadata": {
    "scrolled": false
   },
   "outputs": [
    {
     "data": {
      "image/svg+xml": [
       "<?xml version=\"1.0\" encoding=\"UTF-8\" standalone=\"no\"?>\n",
       "<!DOCTYPE svg PUBLIC \"-//W3C//DTD SVG 1.1//EN\"\n",
       " \"http://www.w3.org/Graphics/SVG/1.1/DTD/svg11.dtd\">\n",
       "<!-- Generated by graphviz version 2.40.1 (20161225.0304)\n",
       " -->\n",
       "<!-- Title: NSGraph Pages: 1 -->\n",
       "<svg width=\"230pt\" height=\"392pt\"\n",
       " viewBox=\"0.00 0.00 230.25 392.00\" xmlns=\"http://www.w3.org/2000/svg\" xmlns:xlink=\"http://www.w3.org/1999/xlink\">\n",
       "<g id=\"graph0\" class=\"graph\" transform=\"scale(1 1) rotate(0) translate(4 388)\">\n",
       "<title>NSGraph</title>\n",
       "<polygon fill=\"#ffffff\" stroke=\"transparent\" points=\"-4,4 -4,-388 226.2463,-388 226.2463,4 -4,4\"/>\n",
       "<!-- 1 -->\n",
       "<g id=\"node1\" class=\"node\">\n",
       "<title>1</title>\n",
       "<ellipse fill=\"none\" stroke=\"#000000\" cx=\"79\" cy=\"-366\" rx=\"46.2923\" ry=\"18\"/>\n",
       "<text text-anchor=\"middle\" x=\"79\" y=\"-362.3\" font-family=\"Times,serif\" font-size=\"14.00\" fill=\"#000000\"> (10, 0, 2)</text>\n",
       "</g>\n",
       "<!-- 2 -->\n",
       "<g id=\"node2\" class=\"node\">\n",
       "<title>2</title>\n",
       "<ellipse fill=\"none\" stroke=\"#000000\" cx=\"113\" cy=\"-279\" rx=\"42.4939\" ry=\"18\"/>\n",
       "<text text-anchor=\"middle\" x=\"113\" y=\"-275.3\" font-family=\"Times,serif\" font-size=\"14.00\" fill=\"#000000\"> (7, 2, 2)</text>\n",
       "</g>\n",
       "<!-- 1&#45;&#45;2 -->\n",
       "<g id=\"edge1\" class=\"edge\">\n",
       "<title>1&#45;&#45;2</title>\n",
       "<path fill=\"none\" stroke=\"#ff0000\" d=\"M86.0448,-347.9735C91.8801,-333.0422 100.1315,-311.9283 105.9642,-297.0034\"/>\n",
       "<text text-anchor=\"middle\" x=\"101.5\" y=\"-318.8\" font-family=\"Times,serif\" font-size=\"14.00\" fill=\"#000000\">3</text>\n",
       "</g>\n",
       "<!-- 3 -->\n",
       "<g id=\"node3\" class=\"node\">\n",
       "<title>3</title>\n",
       "<ellipse fill=\"none\" stroke=\"#000000\" cx=\"113\" cy=\"-192\" rx=\"42.4939\" ry=\"18\"/>\n",
       "<text text-anchor=\"middle\" x=\"113\" y=\"-188.3\" font-family=\"Times,serif\" font-size=\"14.00\" fill=\"#000000\"> (4, 4, 2)</text>\n",
       "</g>\n",
       "<!-- 1&#45;&#45;3 -->\n",
       "<g id=\"edge4\" class=\"edge\">\n",
       "<title>1&#45;&#45;3</title>\n",
       "<path fill=\"none\" stroke=\"#000000\" d=\"M68.819,-348.1494C58.1042,-326.9405 44.1787,-290.6913 55,-261 62.6629,-239.9747 79.8625,-220.9087 93.5534,-208.1736\"/>\n",
       "<text text-anchor=\"middle\" x=\"58.5\" y=\"-275.3\" font-family=\"Times,serif\" font-size=\"14.00\" fill=\"#000000\">6</text>\n",
       "</g>\n",
       "<!-- 4 -->\n",
       "<g id=\"node4\" class=\"node\">\n",
       "<title>4</title>\n",
       "<ellipse fill=\"none\" stroke=\"#000000\" cx=\"180\" cy=\"-105\" rx=\"42.4939\" ry=\"18\"/>\n",
       "<text text-anchor=\"middle\" x=\"180\" y=\"-101.3\" font-family=\"Times,serif\" font-size=\"14.00\" fill=\"#000000\"> (1, 6, 2)</text>\n",
       "</g>\n",
       "<!-- 1&#45;&#45;4 -->\n",
       "<g id=\"edge8\" class=\"edge\">\n",
       "<title>1&#45;&#45;4</title>\n",
       "<path fill=\"none\" stroke=\"#000000\" d=\"M105.5856,-350.9728C124.6733,-338.8228 149.4959,-319.9867 164,-297 198.0937,-242.9667 187.8848,-219.7577 192,-156 192.4294,-149.3472 193.0679,-147.5806 192,-141 191.0291,-135.0172 189.2063,-128.6852 187.2692,-123.0275\"/>\n",
       "<text text-anchor=\"middle\" x=\"192.5\" y=\"-231.8\" font-family=\"Times,serif\" font-size=\"14.00\" fill=\"#000000\">9</text>\n",
       "</g>\n",
       "<!-- 5 -->\n",
       "<g id=\"node5\" class=\"node\">\n",
       "<title>5</title>\n",
       "<ellipse fill=\"none\" stroke=\"#000000\" cx=\"66\" cy=\"-18\" rx=\"42.4939\" ry=\"18\"/>\n",
       "<text text-anchor=\"middle\" x=\"66\" y=\"-14.3\" font-family=\"Times,serif\" font-size=\"14.00\" fill=\"#000000\"> (0, 0, 5)</text>\n",
       "</g>\n",
       "<!-- 1&#45;&#45;5 -->\n",
       "<g id=\"edge10\" class=\"edge\">\n",
       "<title>1&#45;&#45;5</title>\n",
       "<path fill=\"none\" stroke=\"#000000\" d=\"M52.2542,-351.1151C29.3357,-336.1714 0,-310.8272 0,-279 0,-279 0,-279 0,-105 0,-75.235 24.8235,-49.2567 44.023,-33.6155\"/>\n",
       "<text text-anchor=\"middle\" x=\"7\" y=\"-188.3\" font-family=\"Times,serif\" font-size=\"14.00\" fill=\"#000000\">10</text>\n",
       "</g>\n",
       "<!-- 2&#45;&#45;3 -->\n",
       "<g id=\"edge2\" class=\"edge\">\n",
       "<title>2&#45;&#45;3</title>\n",
       "<path fill=\"none\" stroke=\"#ff0000\" d=\"M113,-260.9735C113,-246.0422 113,-224.9283 113,-210.0034\"/>\n",
       "<text text-anchor=\"middle\" x=\"116.5\" y=\"-231.8\" font-family=\"Times,serif\" font-size=\"14.00\" fill=\"#000000\">3</text>\n",
       "</g>\n",
       "<!-- 2&#45;&#45;4 -->\n",
       "<g id=\"edge5\" class=\"edge\">\n",
       "<title>2&#45;&#45;4</title>\n",
       "<path fill=\"none\" stroke=\"#000000\" d=\"M129.0168,-262.3093C140.6604,-249.1641 155.7682,-229.8081 164,-210 175.959,-181.2231 179.1013,-144.6811 179.8559,-123.1674\"/>\n",
       "<text text-anchor=\"middle\" x=\"177.5\" y=\"-188.3\" font-family=\"Times,serif\" font-size=\"14.00\" fill=\"#000000\">6</text>\n",
       "</g>\n",
       "<!-- 2&#45;&#45;5 -->\n",
       "<g id=\"edge9\" class=\"edge\">\n",
       "<title>2&#45;&#45;5</title>\n",
       "<path fill=\"none\" stroke=\"#000000\" d=\"M95.858,-262.3626C83.7977,-249.3908 68.6654,-230.2319 62,-210 41.8652,-148.884 54.3634,-70.7916 61.7343,-36.0567\"/>\n",
       "<text text-anchor=\"middle\" x=\"54.5\" y=\"-144.8\" font-family=\"Times,serif\" font-size=\"14.00\" fill=\"#000000\">9</text>\n",
       "</g>\n",
       "<!-- 3&#45;&#45;4 -->\n",
       "<g id=\"edge3\" class=\"edge\">\n",
       "<title>3&#45;&#45;4</title>\n",
       "<path fill=\"none\" stroke=\"#ff0000\" d=\"M126.237,-174.8116C137.9831,-159.5593 155.0528,-137.3942 166.7905,-122.1527\"/>\n",
       "<text text-anchor=\"middle\" x=\"153.5\" y=\"-144.8\" font-family=\"Times,serif\" font-size=\"14.00\" fill=\"#000000\">3</text>\n",
       "</g>\n",
       "<!-- 3&#45;&#45;5 -->\n",
       "<g id=\"edge7\" class=\"edge\">\n",
       "<title>3&#45;&#45;5</title>\n",
       "<path fill=\"none\" stroke=\"#000000\" d=\"M108.1472,-174.0343C99.1409,-140.6918 79.9362,-69.5937 70.8968,-36.1286\"/>\n",
       "<text text-anchor=\"middle\" x=\"97.5\" y=\"-101.3\" font-family=\"Times,serif\" font-size=\"14.00\" fill=\"#000000\">8</text>\n",
       "</g>\n",
       "<!-- 4&#45;&#45;5 -->\n",
       "<g id=\"edge6\" class=\"edge\">\n",
       "<title>4&#45;&#45;5</title>\n",
       "<path fill=\"none\" stroke=\"#ff0000\" d=\"M159.9254,-88.9833C147.144,-78.8519 130.1932,-65.537 115,-54 106.0886,-47.2331 96.156,-39.8979 87.5758,-33.6252\"/>\n",
       "<text text-anchor=\"middle\" x=\"135.5\" y=\"-57.8\" font-family=\"Times,serif\" font-size=\"14.00\" fill=\"#000000\">7</text>\n",
       "</g>\n",
       "</g>\n",
       "</svg>\n"
      ]
     },
     "execution_count": 34,
     "metadata": {
      "image/svg+xml": {
       "height": 500,
       "width": 500
      }
     },
     "output_type": "execute_result"
    }
   ],
   "source": [
    "JupyterSplashDot(DotFactorizationGraph(FactorizationsIntegerWRTList(100,sizes)));"
   ]
  },
  {
   "cell_type": "code",
   "execution_count": 35,
   "metadata": {},
   "outputs": [
    {
     "data": {
      "text/plain": [
       "7"
      ]
     },
     "execution_count": 35,
     "metadata": {
      "text/plain": ""
     },
     "output_type": "execute_result"
    }
   ],
   "source": [
    "CatenaryDegree(100,S);"
   ]
  },
  {
   "cell_type": "markdown",
   "metadata": {},
   "source": [
    "It has been shown that the catenary degree strongly depends on the trades, and that it becomes eventually periodic."
   ]
  },
  {
   "cell_type": "code",
   "execution_count": 36,
   "metadata": {
    "scrolled": true
   },
   "outputs": [
    {
     "data": {
      "application/javascript": [
       "( function ( element ) {\n",
       "if ( !window.JUPVIZLibs ) window.JUPVIZLibs = { };\n",
       "if ( !window.JUPVIZLibs[\"main\"] ) {\n",
       "window.createVisualization=function(element,data,callback){if(window.VisualizationTools[data.tool])window.VisualizationTools[data.tool](element,data,callback);else{window.VisualizationTools.html(element,{data:{html:'Error: No known visualization tool, \"'+data.tool+'.\"'}},callback)}};window.VisualizationTools={html:function(element,json,callback){var div=document.createElement(\"div\");element.appendChild(div);div.innerHTML=json.data.html;if(json.width)$(div).width(json.width);if(json.height)$(div).height(json.height);callback(element,div)}};window.resizeToShowContents=function(element){var maxima={right:0,bottom:0};$(element).find(\"*\").each(function(idx,elt){var $elt=$(elt);var right=$elt.position().left+$elt.outerWidth();var bottom=$elt.position().top+$elt.outerHeight();maxima={right:Math.max(right,maxima.right),bottom:Math.max(bottom,maxima.bottom)}});var $element=$(element);$element.width(maxima.right-$element.position().left);$element.height(maxima.bottom-$element.position().top)};\n",
       "    window.JUPVIZLibs[\"main\"] = 'loaded';\n",
       "}\n",
       "if ( !window.JUPVIZLibs[\"viz-tool-plotly\"] ) {\n",
       "window.requirejs.config({paths:{plotly:\"https://cdn.plot.ly/plotly-latest.min\"}});window.VisualizationTools.plotly=function(element,json,callback){require([\"plotly\"],function(plotly){plotly.newPlot(element,json.data);callback(element,element.childNodes[0])})};\n",
       "    window.JUPVIZLibs[\"viz-tool-plotly\"] = 'loaded';\n",
       "}\n",
       "window.createVisualization(element,{\"data\" : {\"data\" : [{\"x\" : [0,6,9,12,15,18,20,21,24,26,27,29,30,32,33,35,36,38,39,40,41,42,44,45,46,47,48,49,50,51,52,53,54,55,56,57,58,59,60,61,62,63,64,65,66,67,68,69,70,71,72,73,74,75,76,77,78,79,80,81,82,83,84,85,86,87,88,89,90,91,92,93,94,95,96,97,98,99,100,101,102,103,104,105,106,107,108,109,110,111,112,113,114,115,116,117,118,119,120,121,122,123,124,125,126,127,128,129,130,131,132,133,134,135,136,137,138,139,140,141,142,143,144,145,146,147,148,149,150],\"y\" : [0,0,0,0,0,3,0,0,3,0,3,0,3,0,3,0,3,3,3,0,0,3,3,3,0,3,3,0,3,3,0,3,3,0,3,3,3,3,7,0,3,3,3,3,7,3,3,7,3,3,7,3,3,7,3,3,7,3,7,7,3,3,7,3,7,7,3,7,7,3,7,7,3,7,7,3,7,7,7,7,7,3,7,7,7,7,7,7,7,7,7,7,7,7,7,7,7,7,7,7,7,7,7,7,7,7,7,7,7,7,7,7,7,7,7,7,7,7,7,7,7,7,7,7,7,7,7,7,7],\"type\" : \"bar\"}],\"layout\" : {\"height\" : 400,\"title\" : \"catenary degree of elements in the semigroup\",\"xaxis\" : {\"title\" : \"n\"},\"yaxis\" : {\"title\" : \"catenary degree\"}}},\"tool\" : \"plotly\"}\n",
       ",function(element,visualization){\n",
       "});\n",
       "} )( element.get( 0 ) )"
      ]
     },
     "execution_count": 36,
     "metadata": {
      "application/javascript": ""
     },
     "output_type": "execute_result"
    }
   ],
   "source": [
    "Plot(Intersection(S,[0..150]), x->CatenaryDegree(x,S), \n",
    " rec(\n",
    "title := \"catenary degree of elements in the semigroup\",\n",
    "          xaxis := \"n\",\n",
    "yaxis := \"catenary degree\", type:=\"bar\" ));"
   ]
  },
  {
   "cell_type": "markdown",
   "metadata": {},
   "source": [
    "The maximum can be computed with the trades."
   ]
  },
  {
   "cell_type": "code",
   "execution_count": 37,
   "metadata": {},
   "outputs": [
    {
     "data": {
      "text/plain": [
       "7"
      ]
     },
     "execution_count": 37,
     "metadata": {
      "text/plain": ""
     },
     "output_type": "execute_result"
    }
   ],
   "source": [
    "CatenaryDegree(S);"
   ]
  },
  {
   "cell_type": "code",
   "execution_count": 81,
   "metadata": {},
   "outputs": [
    {
     "data": {
      "application/javascript": [
       "( function ( element ) {\n",
       "if ( !window.JUPVIZLibs ) window.JUPVIZLibs = { };\n",
       "if ( !window.JUPVIZLibs[\"main\"] ) {\n",
       "window.createVisualization=function(element,data,callback){if(window.VisualizationTools[data.tool])window.VisualizationTools[data.tool](element,data,callback);else{window.VisualizationTools.html(element,{data:{html:'Error: No known visualization tool, \"'+data.tool+'.\"'}},callback)}};window.VisualizationTools={html:function(element,json,callback){var div=document.createElement(\"div\");element.appendChild(div);div.innerHTML=json.data.html;if(json.width)$(div).width(json.width);if(json.height)$(div).height(json.height);callback(element,div)}};window.resizeToShowContents=function(element){var maxima={right:0,bottom:0};$(element).find(\"*\").each(function(idx,elt){var $elt=$(elt);var right=$elt.position().left+$elt.outerWidth();var bottom=$elt.position().top+$elt.outerHeight();maxima={right:Math.max(right,maxima.right),bottom:Math.max(bottom,maxima.bottom)}});var $element=$(element);$element.width(maxima.right-$element.position().left);$element.height(maxima.bottom-$element.position().top)};\n",
       "    window.JUPVIZLibs[\"main\"] = 'loaded';\n",
       "}\n",
       "if ( !window.JUPVIZLibs[\"viz-tool-canvasjs\"] ) {\n",
       "window.requirejs.config({paths:{canvasjs:\"https://cdnjs.cloudflare.com/ajax/libs/canvasjs/1.7.0/canvasjs.min\"}});window.VisualizationTools.canvasjs=function(element,json,callback){require([\"canvasjs\"],function(canvasjs){new window.CanvasJS.Chart(element,json.data).render();window.resizeToShowContents(element);callback(element,element.childNodes[0])})};\n",
       "    window.JUPVIZLibs[\"viz-tool-canvasjs\"] = 'loaded';\n",
       "}\n",
       "window.createVisualization(element,{\"data\" : {\"data\" : [{\"type\" : \"scatter\",\"dataPoints\" : [{\"x\" : 18,\"y\" : 1},{\"x\" : 24,\"y\" : 1},{\"x\" : 27,\"y\" : 1},{\"x\" : 30,\"y\" : 1},{\"x\" : 33,\"y\" : 1},{\"x\" : 36,\"y\" : 1},{\"x\" : 38,\"y\" : 1},{\"x\" : 39,\"y\" : 1},{\"x\" : 42,\"y\" : 1},{\"x\" : 44,\"y\" : 1},{\"x\" : 45,\"y\" : 1},{\"x\" : 47,\"y\" : 1},{\"x\" : 48,\"y\" : 1},{\"x\" : 50,\"y\" : 1}]}],\"height\" : 400,\"animationEnabled\" : true},\"tool\" : \"canvasjs\"}\n",
       ",function(element,visualization){\n",
       "});\n",
       "} )( element.get( 0 ) )"
      ]
     },
     "execution_count": 81,
     "metadata": {
      "application/javascript": ""
     },
     "output_type": "execute_result"
    }
   ],
   "source": [
    "l:=[];;\n",
    "for s in Intersection([0..50],S) do\n",
    "    Append(l,List(DeltaSet(LengthsOfFactorizationsIntegerWRTList(s,sizes)), d->[s,d]));;\n",
    "od;\n",
    "Plot(l,rec(type:=\"scatter\",tool:=\"canvasjs\"));"
   ]
  },
  {
   "cell_type": "code",
   "execution_count": 78,
   "metadata": {
    "scrolled": false
   },
   "outputs": [
    {
     "data": {
      "application/javascript": [
       "( function ( element ) {\n",
       "if ( !window.JUPVIZLibs ) window.JUPVIZLibs = { };\n",
       "if ( !window.JUPVIZLibs[\"main\"] ) {\n",
       "window.createVisualization=function(element,data,callback){if(window.VisualizationTools[data.tool])window.VisualizationTools[data.tool](element,data,callback);else{window.VisualizationTools.html(element,{data:{html:'Error: No known visualization tool, \"'+data.tool+'.\"'}},callback)}};window.VisualizationTools={html:function(element,json,callback){var div=document.createElement(\"div\");element.appendChild(div);div.innerHTML=json.data.html;if(json.width)$(div).width(json.width);if(json.height)$(div).height(json.height);callback(element,div)}};window.resizeToShowContents=function(element){var maxima={right:0,bottom:0};$(element).find(\"*\").each(function(idx,elt){var $elt=$(elt);var right=$elt.position().left+$elt.outerWidth();var bottom=$elt.position().top+$elt.outerHeight();maxima={right:Math.max(right,maxima.right),bottom:Math.max(bottom,maxima.bottom)}});var $element=$(element);$element.width(maxima.right-$element.position().left);$element.height(maxima.bottom-$element.position().top)};\n",
       "    window.JUPVIZLibs[\"main\"] = 'loaded';\n",
       "}\n",
       "if ( !window.JUPVIZLibs[\"viz-tool-canvasjs\"] ) {\n",
       "window.requirejs.config({paths:{canvasjs:\"https://cdnjs.cloudflare.com/ajax/libs/canvasjs/1.7.0/canvasjs.min\"}});window.VisualizationTools.canvasjs=function(element,json,callback){require([\"canvasjs\"],function(canvasjs){new window.CanvasJS.Chart(element,json.data).render();window.resizeToShowContents(element);callback(element,element.childNodes[0])})};\n",
       "    window.JUPVIZLibs[\"viz-tool-canvasjs\"] = 'loaded';\n",
       "}\n",
       "window.createVisualization(element,{\"data\" : {\"data\" : [{\"type\" : \"scatter\",\"dataPoints\" : [{\"x\" : 26,\"y\" : 1},{\"x\" : 35,\"y\" : 1},{\"x\" : 36,\"y\" : 1},{\"x\" : 37,\"y\" : 1},{\"x\" : 39,\"y\" : 1},{\"x\" : 40,\"y\" : 2},{\"x\" : 45,\"y\" : 1},{\"x\" : 46,\"y\" : 1},{\"x\" : 47,\"y\" : 1},{\"x\" : 48,\"y\" : 1},{\"x\" : 49,\"y\" : 1},{\"x\" : 50,\"y\" : 1},{\"x\" : 51,\"y\" : 1},{\"x\" : 51,\"y\" : 2},{\"x\" : 52,\"y\" : 1},{\"x\" : 53,\"y\" : 1},{\"x\" : 53,\"y\" : 2},{\"x\" : 54,\"y\" : 3},{\"x\" : 55,\"y\" : 1},{\"x\" : 56,\"y\" : 1},{\"x\" : 57,\"y\" : 1},{\"x\" : 58,\"y\" : 1},{\"x\" : 59,\"y\" : 1},{\"x\" : 60,\"y\" : 1},{\"x\" : 61,\"y\" : 1},{\"x\" : 62,\"y\" : 1},{\"x\" : 63,\"y\" : 1},{\"x\" : 64,\"y\" : 1},{\"x\" : 64,\"y\" : 2},{\"x\" : 65,\"y\" : 1},{\"x\" : 66,\"y\" : 1},{\"x\" : 67,\"y\" : 1},{\"x\" : 67,\"y\" : 2},{\"x\" : 68,\"y\" : 1},{\"x\" : 69,\"y\" : 1},{\"x\" : 70,\"y\" : 1},{\"x\" : 71,\"y\" : 1},{\"x\" : 72,\"y\" : 1},{\"x\" : 73,\"y\" : 1},{\"x\" : 74,\"y\" : 1},{\"x\" : 75,\"y\" : 1},{\"x\" : 76,\"y\" : 1},{\"x\" : 77,\"y\" : 1},{\"x\" : 78,\"y\" : 1},{\"x\" : 79,\"y\" : 1},{\"x\" : 80,\"y\" : 1},{\"x\" : 81,\"y\" : 1},{\"x\" : 81,\"y\" : 2},{\"x\" : 82,\"y\" : 1},{\"x\" : 83,\"y\" : 1},{\"x\" : 84,\"y\" : 1},{\"x\" : 85,\"y\" : 1},{\"x\" : 86,\"y\" : 1},{\"x\" : 87,\"y\" : 1},{\"x\" : 88,\"y\" : 1},{\"x\" : 89,\"y\" : 1},{\"x\" : 90,\"y\" : 1},{\"x\" : 91,\"y\" : 1},{\"x\" : 92,\"y\" : 1},{\"x\" : 93,\"y\" : 1},{\"x\" : 94,\"y\" : 1},{\"x\" : 94,\"y\" : 2},{\"x\" : 95,\"y\" : 1},{\"x\" : 96,\"y\" : 1},{\"x\" : 97,\"y\" : 1},{\"x\" : 98,\"y\" : 1},{\"x\" : 99,\"y\" : 1},{\"x\" : 100,\"y\" : 1}]}],\"height\" : 400,\"animationEnabled\" : true},\"tool\" : \"canvasjs\"}\n",
       ",function(element,visualization){\n",
       "});\n",
       "} )( element.get( 0 ) )"
      ]
     },
     "execution_count": 78,
     "metadata": {
      "application/javascript": ""
     },
     "output_type": "execute_result"
    }
   ],
   "source": [
    "l:=[];;\n",
    "gens:=[10,11,13,25,26,27];;\n",
    "for s in Intersection([0..100],NumericalSemigroup(gens)) do\n",
    "    Append(l,List(DeltaSet(LengthsOfFactorizationsIntegerWRTList(s,gens)), d->[s,d]));;\n",
    "od;\n",
    "Plot(l,rec(type:=\"scatter\",tool:=\"canvasjs\"));"
   ]
  },
  {
   "cell_type": "code",
   "execution_count": 127,
   "metadata": {},
   "outputs": [
    {
     "data": {
      "application/javascript": [
       "( function ( element ) {\n",
       "if ( !window.JUPVIZLibs ) window.JUPVIZLibs = { };\n",
       "if ( !window.JUPVIZLibs[\"main\"] ) {\n",
       "window.createVisualization=function(element,data,callback){if(window.VisualizationTools[data.tool])window.VisualizationTools[data.tool](element,data,callback);else{window.VisualizationTools.html(element,{data:{html:'Error: No known visualization tool, \"'+data.tool+'.\"'}},callback)}};window.VisualizationTools={html:function(element,json,callback){var div=document.createElement(\"div\");element.appendChild(div);div.innerHTML=json.data.html;if(json.width)$(div).width(json.width);if(json.height)$(div).height(json.height);callback(element,div)}};window.resizeToShowContents=function(element){var maxima={right:0,bottom:0};$(element).find(\"*\").each(function(idx,elt){var $elt=$(elt);var right=$elt.position().left+$elt.outerWidth();var bottom=$elt.position().top+$elt.outerHeight();maxima={right:Math.max(right,maxima.right),bottom:Math.max(bottom,maxima.bottom)}});var $element=$(element);$element.width(maxima.right-$element.position().left);$element.height(maxima.bottom-$element.position().top)};\n",
       "    window.JUPVIZLibs[\"main\"] = 'loaded';\n",
       "}\n",
       "if ( !window.JUPVIZLibs[\"viz-tool-canvasjs\"] ) {\n",
       "window.requirejs.config({paths:{canvasjs:\"https://cdnjs.cloudflare.com/ajax/libs/canvasjs/1.7.0/canvasjs.min\"}});window.VisualizationTools.canvasjs=function(element,json,callback){require([\"canvasjs\"],function(canvasjs){new window.CanvasJS.Chart(element,json.data).render();window.resizeToShowContents(element);callback(element,element.childNodes[0])})};\n",
       "    window.JUPVIZLibs[\"viz-tool-canvasjs\"] = 'loaded';\n",
       "}\n",
       "window.createVisualization(element,{\"data\" : {\"data\" : [{\"type\" : \"scatter\",\"dataPoints\" : [{\"x\" : 595,\"y\" : 2},{\"x\" : 595,\"y\" : 10},{\"x\" : 630,\"y\" : 2},{\"x\" : 630,\"y\" : 10},{\"x\" : 665,\"y\" : 2},{\"x\" : 665,\"y\" : 10},{\"x\" : 680,\"y\" : 2},{\"x\" : 680,\"y\" : 10},{\"x\" : 700,\"y\" : 2},{\"x\" : 700,\"y\" : 10},{\"x\" : 714,\"y\" : 2},{\"x\" : 714,\"y\" : 10},{\"x\" : 715,\"y\" : 2},{\"x\" : 715,\"y\" : 10},{\"x\" : 735,\"y\" : 2},{\"x\" : 735,\"y\" : 10},{\"x\" : 749,\"y\" : 2},{\"x\" : 749,\"y\" : 10},{\"x\" : 750,\"y\" : 2},{\"x\" : 750,\"y\" : 10},{\"x\" : 765,\"y\" : 2},{\"x\" : 765,\"y\" : 10},{\"x\" : 770,\"y\" : 2},{\"x\" : 770,\"y\" : 10},{\"x\" : 784,\"y\" : 2},{\"x\" : 784,\"y\" : 10},{\"x\" : 785,\"y\" : 2},{\"x\" : 785,\"y\" : 10},{\"x\" : 799,\"y\" : 2},{\"x\" : 799,\"y\" : 10},{\"x\" : 800,\"y\" : 2},{\"x\" : 800,\"y\" : 10},{\"x\" : 805,\"y\" : 2},{\"x\" : 805,\"y\" : 10},{\"x\" : 819,\"y\" : 2},{\"x\" : 819,\"y\" : 10},{\"x\" : 820,\"y\" : 2},{\"x\" : 820,\"y\" : 10},{\"x\" : 833,\"y\" : 2},{\"x\" : 833,\"y\" : 10},{\"x\" : 834,\"y\" : 2},{\"x\" : 834,\"y\" : 10},{\"x\" : 835,\"y\" : 2},{\"x\" : 835,\"y\" : 10},{\"x\" : 840,\"y\" : 2},{\"x\" : 840,\"y\" : 10},{\"x\" : 850,\"y\" : 2},{\"x\" : 850,\"y\" : 10},{\"x\" : 854,\"y\" : 2},{\"x\" : 854,\"y\" : 10},{\"x\" : 855,\"y\" : 2},{\"x\" : 855,\"y\" : 10},{\"x\" : 868,\"y\" : 2},{\"x\" : 868,\"y\" : 10},{\"x\" : 869,\"y\" : 2},{\"x\" : 869,\"y\" : 10},{\"x\" : 870,\"y\" : 2},{\"x\" : 870,\"y\" : 10},{\"x\" : 875,\"y\" : 2},{\"x\" : 875,\"y\" : 10},{\"x\" : 884,\"y\" : 2},{\"x\" : 884,\"y\" : 10},{\"x\" : 885,\"y\" : 2},{\"x\" : 885,\"y\" : 10},{\"x\" : 889,\"y\" : 2},{\"x\" : 889,\"y\" : 10},{\"x\" : 890,\"y\" : 2},{\"x\" : 890,\"y\" : 10},{\"x\" : 903,\"y\" : 2},{\"x\" : 903,\"y\" : 10},{\"x\" : 904,\"y\" : 2},{\"x\" : 904,\"y\" : 10},{\"x\" : 905,\"y\" : 2},{\"x\" : 905,\"y\" : 10},{\"x\" : 910,\"y\" : 2},{\"x\" : 910,\"y\" : 10},{\"x\" : 918,\"y\" : 2},{\"x\" : 918,\"y\" : 10},{\"x\" : 919,\"y\" : 2},{\"x\" : 919,\"y\" : 10},{\"x\" : 920,\"y\" : 2},{\"x\" : 920,\"y\" : 10},{\"x\" : 924,\"y\" : 2},{\"x\" : 924,\"y\" : 10},{\"x\" : 925,\"y\" : 2},{\"x\" : 925,\"y\" : 10},{\"x\" : 935,\"y\" : 2},{\"x\" : 935,\"y\" : 10},{\"x\" : 938,\"y\" : 2},{\"x\" : 938,\"y\" : 10},{\"x\" : 939,\"y\" : 2},{\"x\" : 939,\"y\" : 10},{\"x\" : 940,\"y\" : 2},{\"x\" : 940,\"y\" : 10},{\"x\" : 945,\"y\" : 2},{\"x\" : 945,\"y\" : 10},{\"x\" : 952,\"y\" : 2},{\"x\" : 952,\"y\" : 10},{\"x\" : 953,\"y\" : 2},{\"x\" : 953,\"y\" : 10},{\"x\" : 954,\"y\" : 2},{\"x\" : 954,\"y\" : 10},{\"x\" : 955,\"y\" : 2},{\"x\" : 955,\"y\" : 10},{\"x\" : 959,\"y\" : 2},{\"x\" : 959,\"y\" : 10},{\"x\" : 960,\"y\" : 2},{\"x\" : 960,\"y\" : 10},{\"x\" : 969,\"y\" : 2},{\"x\" : 969,\"y\" : 10},{\"x\" : 970,\"y\" : 2},{\"x\" : 970,\"y\" : 10},{\"x\" : 973,\"y\" : 2},{\"x\" : 973,\"y\" : 10},{\"x\" : 974,\"y\" : 2},{\"x\" : 974,\"y\" : 10},{\"x\" : 975,\"y\" : 2},{\"x\" : 975,\"y\" : 10},{\"x\" : 980,\"y\" : 2},{\"x\" : 980,\"y\" : 10},{\"x\" : 987,\"y\" : 2},{\"x\" : 987,\"y\" : 10},{\"x\" : 988,\"y\" : 2},{\"x\" : 988,\"y\" : 10},{\"x\" : 989,\"y\" : 2},{\"x\" : 989,\"y\" : 10},{\"x\" : 990,\"y\" : 2},{\"x\" : 990,\"y\" : 10},{\"x\" : 994,\"y\" : 2},{\"x\" : 994,\"y\" : 10},{\"x\" : 995,\"y\" : 2},{\"x\" : 995,\"y\" : 10},{\"x\" : 1003,\"y\" : 2},{\"x\" : 1003,\"y\" : 10},{\"x\" : 1004,\"y\" : 2},{\"x\" : 1004,\"y\" : 10},{\"x\" : 1005,\"y\" : 2},{\"x\" : 1005,\"y\" : 10},{\"x\" : 1008,\"y\" : 2},{\"x\" : 1008,\"y\" : 10},{\"x\" : 1009,\"y\" : 2},{\"x\" : 1009,\"y\" : 10},{\"x\" : 1010,\"y\" : 2},{\"x\" : 1010,\"y\" : 10},{\"x\" : 1015,\"y\" : 2},{\"x\" : 1015,\"y\" : 10},{\"x\" : 1020,\"y\" : 2},{\"x\" : 1020,\"y\" : 10},{\"x\" : 1022,\"y\" : 2},{\"x\" : 1022,\"y\" : 10},{\"x\" : 1023,\"y\" : 2},{\"x\" : 1023,\"y\" : 10},{\"x\" : 1024,\"y\" : 2},{\"x\" : 1024,\"y\" : 10},{\"x\" : 1025,\"y\" : 2},{\"x\" : 1025,\"y\" : 10},{\"x\" : 1029,\"y\" : 2},{\"x\" : 1029,\"y\" : 10},{\"x\" : 1030,\"y\" : 2},{\"x\" : 1030,\"y\" : 10},{\"x\" : 1037,\"y\" : 2},{\"x\" : 1037,\"y\" : 10},{\"x\" : 1038,\"y\" : 2},{\"x\" : 1038,\"y\" : 10},{\"x\" : 1039,\"y\" : 2},{\"x\" : 1039,\"y\" : 10},{\"x\" : 1040,\"y\" : 2},{\"x\" : 1040,\"y\" : 10},{\"x\" : 1043,\"y\" : 2},{\"x\" : 1043,\"y\" : 10},{\"x\" : 1044,\"y\" : 2},{\"x\" : 1044,\"y\" : 10},{\"x\" : 1045,\"y\" : 2},{\"x\" : 1045,\"y\" : 10},{\"x\" : 1050,\"y\" : 2},{\"x\" : 1050,\"y\" : 10},{\"x\" : 1054,\"y\" : 2},{\"x\" : 1054,\"y\" : 10},{\"x\" : 1055,\"y\" : 2},{\"x\" : 1055,\"y\" : 10},{\"x\" : 1057,\"y\" : 2},{\"x\" : 1057,\"y\" : 10},{\"x\" : 1058,\"y\" : 2},{\"x\" : 1058,\"y\" : 10},{\"x\" : 1059,\"y\" : 2},{\"x\" : 1059,\"y\" : 10},{\"x\" : 1060,\"y\" : 2},{\"x\" : 1060,\"y\" : 10},{\"x\" : 1064,\"y\" : 2},{\"x\" : 1064,\"y\" : 10},{\"x\" : 1065,\"y\" : 2},{\"x\" : 1065,\"y\" : 10},{\"x\" : 1071,\"y\" : 2},{\"x\" : 1071,\"y\" : 10},{\"x\" : 1072,\"y\" : 2},{\"x\" : 1072,\"y\" : 10},{\"x\" : 1073,\"y\" : 2},{\"x\" : 1073,\"y\" : 10},{\"x\" : 1074,\"y\" : 2},{\"x\" : 1074,\"y\" : 10},{\"x\" : 1075,\"y\" : 2},{\"x\" : 1075,\"y\" : 10},{\"x\" : 1078,\"y\" : 2},{\"x\" : 1078,\"y\" : 10},{\"x\" : 1079,\"y\" : 2},{\"x\" : 1079,\"y\" : 10},{\"x\" : 1080,\"y\" : 2},{\"x\" : 1080,\"y\" : 10},{\"x\" : 1085,\"y\" : 2},{\"x\" : 1085,\"y\" : 10},{\"x\" : 1088,\"y\" : 2},{\"x\" : 1088,\"y\" : 10},{\"x\" : 1089,\"y\" : 2},{\"x\" : 1089,\"y\" : 10},{\"x\" : 1090,\"y\" : 2},{\"x\" : 1090,\"y\" : 10},{\"x\" : 1092,\"y\" : 2},{\"x\" : 1092,\"y\" : 10},{\"x\" : 1093,\"y\" : 2},{\"x\" : 1093,\"y\" : 10},{\"x\" : 1094,\"y\" : 2},{\"x\" : 1094,\"y\" : 10},{\"x\" : 1095,\"y\" : 2},{\"x\" : 1095,\"y\" : 10},{\"x\" : 1099,\"y\" : 2},{\"x\" : 1099,\"y\" : 10},{\"x\" : 1100,\"y\" : 2},{\"x\" : 1100,\"y\" : 10},{\"x\" : 1105,\"y\" : 2},{\"x\" : 1105,\"y\" : 10},{\"x\" : 1106,\"y\" : 2},{\"x\" : 1106,\"y\" : 10},{\"x\" : 1107,\"y\" : 2},{\"x\" : 1107,\"y\" : 10},{\"x\" : 1108,\"y\" : 2},{\"x\" : 1108,\"y\" : 10},{\"x\" : 1109,\"y\" : 2},{\"x\" : 1109,\"y\" : 10},{\"x\" : 1110,\"y\" : 2},{\"x\" : 1110,\"y\" : 10},{\"x\" : 1113,\"y\" : 2},{\"x\" : 1113,\"y\" : 10},{\"x\" : 1114,\"y\" : 2},{\"x\" : 1114,\"y\" : 10},{\"x\" : 1115,\"y\" : 2},{\"x\" : 1115,\"y\" : 10},{\"x\" : 1120,\"y\" : 2},{\"x\" : 1120,\"y\" : 10},{\"x\" : 1122,\"y\" : 2},{\"x\" : 1122,\"y\" : 10},{\"x\" : 1123,\"y\" : 2},{\"x\" : 1123,\"y\" : 10},{\"x\" : 1124,\"y\" : 2},{\"x\" : 1124,\"y\" : 10},{\"x\" : 1125,\"y\" : 2},{\"x\" : 1125,\"y\" : 10},{\"x\" : 1127,\"y\" : 2},{\"x\" : 1127,\"y\" : 10},{\"x\" : 1128,\"y\" : 2},{\"x\" : 1128,\"y\" : 10},{\"x\" : 1129,\"y\" : 2},{\"x\" : 1129,\"y\" : 10},{\"x\" : 1130,\"y\" : 2},{\"x\" : 1130,\"y\" : 10},{\"x\" : 1134,\"y\" : 2},{\"x\" : 1134,\"y\" : 10},{\"x\" : 1135,\"y\" : 2},{\"x\" : 1135,\"y\" : 10},{\"x\" : 1139,\"y\" : 2},{\"x\" : 1139,\"y\" : 10},{\"x\" : 1140,\"y\" : 2},{\"x\" : 1140,\"y\" : 10},{\"x\" : 1141,\"y\" : 2},{\"x\" : 1141,\"y\" : 10},{\"x\" : 1142,\"y\" : 2},{\"x\" : 1142,\"y\" : 10},{\"x\" : 1143,\"y\" : 2},{\"x\" : 1143,\"y\" : 10},{\"x\" : 1144,\"y\" : 2},{\"x\" : 1144,\"y\" : 10},{\"x\" : 1145,\"y\" : 2},{\"x\" : 1145,\"y\" : 10},{\"x\" : 1148,\"y\" : 2},{\"x\" : 1148,\"y\" : 10},{\"x\" : 1149,\"y\" : 2},{\"x\" : 1149,\"y\" : 10},{\"x\" : 1150,\"y\" : 2},{\"x\" : 1150,\"y\" : 10},{\"x\" : 1155,\"y\" : 2},{\"x\" : 1155,\"y\" : 10},{\"x\" : 1156,\"y\" : 2},{\"x\" : 1156,\"y\" : 10},{\"x\" : 1157,\"y\" : 2},{\"x\" : 1157,\"y\" : 10},{\"x\" : 1158,\"y\" : 2},{\"x\" : 1158,\"y\" : 10},{\"x\" : 1159,\"y\" : 2},{\"x\" : 1159,\"y\" : 10},{\"x\" : 1160,\"y\" : 2},{\"x\" : 1160,\"y\" : 10},{\"x\" : 1162,\"y\" : 2},{\"x\" : 1162,\"y\" : 10},{\"x\" : 1163,\"y\" : 2},{\"x\" : 1163,\"y\" : 10},{\"x\" : 1164,\"y\" : 2},{\"x\" : 1164,\"y\" : 10},{\"x\" : 1165,\"y\" : 2},{\"x\" : 1165,\"y\" : 10},{\"x\" : 1169,\"y\" : 2},{\"x\" : 1169,\"y\" : 10},{\"x\" : 1170,\"y\" : 2},{\"x\" : 1170,\"y\" : 10},{\"x\" : 1173,\"y\" : 2},{\"x\" : 1173,\"y\" : 10},{\"x\" : 1174,\"y\" : 2},{\"x\" : 1174,\"y\" : 10},{\"x\" : 1175,\"y\" : 2},{\"x\" : 1175,\"y\" : 10},{\"x\" : 1176,\"y\" : 2},{\"x\" : 1176,\"y\" : 10},{\"x\" : 1177,\"y\" : 2},{\"x\" : 1177,\"y\" : 10},{\"x\" : 1178,\"y\" : 2},{\"x\" : 1178,\"y\" : 10},{\"x\" : 1179,\"y\" : 2},{\"x\" : 1179,\"y\" : 10},{\"x\" : 1180,\"y\" : 2},{\"x\" : 1180,\"y\" : 10},{\"x\" : 1183,\"y\" : 2},{\"x\" : 1183,\"y\" : 10},{\"x\" : 1184,\"y\" : 2},{\"x\" : 1184,\"y\" : 10},{\"x\" : 1185,\"y\" : 2},{\"x\" : 1185,\"y\" : 10},{\"x\" : 1190,\"y\" : 2},{\"x\" : 1190,\"y\" : 8},{\"x\" : 1190,\"y\" : 10},{\"x\" : 1191,\"y\" : 2},{\"x\" : 1191,\"y\" : 10},{\"x\" : 1192,\"y\" : 2},{\"x\" : 1192,\"y\" : 10},{\"x\" : 1193,\"y\" : 2},{\"x\" : 1193,\"y\" : 10},{\"x\" : 1194,\"y\" : 2},{\"x\" : 1194,\"y\" : 10},{\"x\" : 1195,\"y\" : 2},{\"x\" : 1195,\"y\" : 10},{\"x\" : 1197,\"y\" : 2},{\"x\" : 1197,\"y\" : 10},{\"x\" : 1198,\"y\" : 2},{\"x\" : 1198,\"y\" : 10},{\"x\" : 1199,\"y\" : 2},{\"x\" : 1199,\"y\" : 10},{\"x\" : 1200,\"y\" : 2},{\"x\" : 1200,\"y\" : 10},{\"x\" : 1204,\"y\" : 2},{\"x\" : 1204,\"y\" : 10},{\"x\" : 1205,\"y\" : 2},{\"x\" : 1205,\"y\" : 10},{\"x\" : 1207,\"y\" : 2},{\"x\" : 1207,\"y\" : 10},{\"x\" : 1208,\"y\" : 2},{\"x\" : 1208,\"y\" : 10},{\"x\" : 1209,\"y\" : 2},{\"x\" : 1209,\"y\" : 10},{\"x\" : 1210,\"y\" : 2},{\"x\" : 1210,\"y\" : 10},{\"x\" : 1211,\"y\" : 2},{\"x\" : 1211,\"y\" : 10},{\"x\" : 1212,\"y\" : 2},{\"x\" : 1212,\"y\" : 10},{\"x\" : 1213,\"y\" : 2},{\"x\" : 1213,\"y\" : 10},{\"x\" : 1214,\"y\" : 2},{\"x\" : 1214,\"y\" : 10},{\"x\" : 1215,\"y\" : 2},{\"x\" : 1215,\"y\" : 10},{\"x\" : 1218,\"y\" : 2},{\"x\" : 1218,\"y\" : 10},{\"x\" : 1219,\"y\" : 2},{\"x\" : 1219,\"y\" : 10},{\"x\" : 1220,\"y\" : 2},{\"x\" : 1220,\"y\" : 10},{\"x\" : 1224,\"y\" : 2},{\"x\" : 1224,\"y\" : 10},{\"x\" : 1225,\"y\" : 2},{\"x\" : 1225,\"y\" : 8},{\"x\" : 1225,\"y\" : 10},{\"x\" : 1226,\"y\" : 2},{\"x\" : 1226,\"y\" : 10},{\"x\" : 1227,\"y\" : 2},{\"x\" : 1227,\"y\" : 10},{\"x\" : 1228,\"y\" : 2},{\"x\" : 1228,\"y\" : 10},{\"x\" : 1229,\"y\" : 2},{\"x\" : 1229,\"y\" : 10},{\"x\" : 1230,\"y\" : 2},{\"x\" : 1230,\"y\" : 10},{\"x\" : 1232,\"y\" : 2},{\"x\" : 1232,\"y\" : 10},{\"x\" : 1233,\"y\" : 2},{\"x\" : 1233,\"y\" : 10},{\"x\" : 1234,\"y\" : 2},{\"x\" : 1234,\"y\" : 10},{\"x\" : 1235,\"y\" : 2},{\"x\" : 1235,\"y\" : 10},{\"x\" : 1239,\"y\" : 2},{\"x\" : 1239,\"y\" : 10},{\"x\" : 1240,\"y\" : 2},{\"x\" : 1240,\"y\" : 10},{\"x\" : 1241,\"y\" : 2},{\"x\" : 1241,\"y\" : 10},{\"x\" : 1242,\"y\" : 2},{\"x\" : 1242,\"y\" : 10},{\"x\" : 1243,\"y\" : 2},{\"x\" : 1243,\"y\" : 10},{\"x\" : 1244,\"y\" : 2},{\"x\" : 1244,\"y\" : 10},{\"x\" : 1245,\"y\" : 2},{\"x\" : 1245,\"y\" : 10},{\"x\" : 1246,\"y\" : 2},{\"x\" : 1246,\"y\" : 10},{\"x\" : 1247,\"y\" : 2},{\"x\" : 1247,\"y\" : 10},{\"x\" : 1248,\"y\" : 2},{\"x\" : 1248,\"y\" : 10},{\"x\" : 1249,\"y\" : 2},{\"x\" : 1249,\"y\" : 10},{\"x\" : 1250,\"y\" : 2},{\"x\" : 1250,\"y\" : 10},{\"x\" : 1253,\"y\" : 2},{\"x\" : 1253,\"y\" : 10},{\"x\" : 1254,\"y\" : 2},{\"x\" : 1254,\"y\" : 10},{\"x\" : 1255,\"y\" : 2},{\"x\" : 1255,\"y\" : 10},{\"x\" : 1258,\"y\" : 2},{\"x\" : 1258,\"y\" : 10},{\"x\" : 1259,\"y\" : 2},{\"x\" : 1259,\"y\" : 10},{\"x\" : 1260,\"y\" : 2},{\"x\" : 1260,\"y\" : 8},{\"x\" : 1260,\"y\" : 10},{\"x\" : 1261,\"y\" : 2},{\"x\" : 1261,\"y\" : 10},{\"x\" : 1262,\"y\" : 2},{\"x\" : 1262,\"y\" : 10},{\"x\" : 1263,\"y\" : 2},{\"x\" : 1263,\"y\" : 10},{\"x\" : 1264,\"y\" : 2},{\"x\" : 1264,\"y\" : 10},{\"x\" : 1265,\"y\" : 2},{\"x\" : 1265,\"y\" : 10},{\"x\" : 1267,\"y\" : 2},{\"x\" : 1267,\"y\" : 10},{\"x\" : 1268,\"y\" : 2},{\"x\" : 1268,\"y\" : 10},{\"x\" : 1269,\"y\" : 2},{\"x\" : 1269,\"y\" : 10},{\"x\" : 1270,\"y\" : 2},{\"x\" : 1270,\"y\" : 10},{\"x\" : 1274,\"y\" : 2},{\"x\" : 1274,\"y\" : 10},{\"x\" : 1275,\"y\" : 2},{\"x\" : 1275,\"y\" : 8},{\"x\" : 1275,\"y\" : 10},{\"x\" : 1276,\"y\" : 2},{\"x\" : 1276,\"y\" : 10},{\"x\" : 1277,\"y\" : 2},{\"x\" : 1277,\"y\" : 10},{\"x\" : 1278,\"y\" : 2},{\"x\" : 1278,\"y\" : 10},{\"x\" : 1279,\"y\" : 2},{\"x\" : 1279,\"y\" : 10},{\"x\" : 1280,\"y\" : 2},{\"x\" : 1280,\"y\" : 10},{\"x\" : 1281,\"y\" : 2},{\"x\" : 1281,\"y\" : 10},{\"x\" : 1282,\"y\" : 2},{\"x\" : 1282,\"y\" : 10},{\"x\" : 1283,\"y\" : 2},{\"x\" : 1283,\"y\" : 10},{\"x\" : 1284,\"y\" : 2},{\"x\" : 1284,\"y\" : 10},{\"x\" : 1285,\"y\" : 2},{\"x\" : 1285,\"y\" : 10},{\"x\" : 1288,\"y\" : 2},{\"x\" : 1288,\"y\" : 10},{\"x\" : 1289,\"y\" : 2},{\"x\" : 1289,\"y\" : 10},{\"x\" : 1290,\"y\" : 2},{\"x\" : 1290,\"y\" : 10},{\"x\" : 1292,\"y\" : 2},{\"x\" : 1292,\"y\" : 10},{\"x\" : 1293,\"y\" : 2},{\"x\" : 1293,\"y\" : 10},{\"x\" : 1294,\"y\" : 2},{\"x\" : 1294,\"y\" : 10},{\"x\" : 1295,\"y\" : 2},{\"x\" : 1295,\"y\" : 8},{\"x\" : 1295,\"y\" : 10},{\"x\" : 1296,\"y\" : 2},{\"x\" : 1296,\"y\" : 10},{\"x\" : 1297,\"y\" : 2},{\"x\" : 1297,\"y\" : 10},{\"x\" : 1298,\"y\" : 2},{\"x\" : 1298,\"y\" : 10},{\"x\" : 1299,\"y\" : 2},{\"x\" : 1299,\"y\" : 10},{\"x\" : 1300,\"y\" : 2},{\"x\" : 1300,\"y\" : 10},{\"x\" : 1302,\"y\" : 2},{\"x\" : 1302,\"y\" : 10},{\"x\" : 1303,\"y\" : 2},{\"x\" : 1303,\"y\" : 10},{\"x\" : 1304,\"y\" : 2},{\"x\" : 1304,\"y\" : 10},{\"x\" : 1305,\"y\" : 2},{\"x\" : 1305,\"y\" : 10},{\"x\" : 1309,\"y\" : 2},{\"x\" : 1309,\"y\" : 8},{\"x\" : 1309,\"y\" : 10},{\"x\" : 1310,\"y\" : 2},{\"x\" : 1310,\"y\" : 8},{\"x\" : 1310,\"y\" : 10},{\"x\" : 1311,\"y\" : 2},{\"x\" : 1311,\"y\" : 10},{\"x\" : 1312,\"y\" : 2},{\"x\" : 1312,\"y\" : 10},{\"x\" : 1313,\"y\" : 2},{\"x\" : 1313,\"y\" : 10},{\"x\" : 1314,\"y\" : 2},{\"x\" : 1314,\"y\" : 10},{\"x\" : 1315,\"y\" : 2},{\"x\" : 1315,\"y\" : 10},{\"x\" : 1316,\"y\" : 2},{\"x\" : 1316,\"y\" : 10},{\"x\" : 1317,\"y\" : 2},{\"x\" : 1317,\"y\" : 10},{\"x\" : 1318,\"y\" : 2},{\"x\" : 1318,\"y\" : 10},{\"x\" : 1319,\"y\" : 2},{\"x\" : 1319,\"y\" : 10},{\"x\" : 1320,\"y\" : 2},{\"x\" : 1320,\"y\" : 10},{\"x\" : 1323,\"y\" : 2},{\"x\" : 1323,\"y\" : 10},{\"x\" : 1324,\"y\" : 2},{\"x\" : 1324,\"y\" : 10},{\"x\" : 1325,\"y\" : 2},{\"x\" : 1325,\"y\" : 10},{\"x\" : 1326,\"y\" : 2},{\"x\" : 1326,\"y\" : 10},{\"x\" : 1327,\"y\" : 2},{\"x\" : 1327,\"y\" : 10},{\"x\" : 1328,\"y\" : 2},{\"x\" : 1328,\"y\" : 10},{\"x\" : 1329,\"y\" : 2},{\"x\" : 1329,\"y\" : 10},{\"x\" : 1330,\"y\" : 2},{\"x\" : 1330,\"y\" : 8},{\"x\" : 1330,\"y\" : 10},{\"x\" : 1331,\"y\" : 2},{\"x\" : 1331,\"y\" : 10},{\"x\" : 1332,\"y\" : 2},{\"x\" : 1332,\"y\" : 10},{\"x\" : 1333,\"y\" : 2},{\"x\" : 1333,\"y\" : 10},{\"x\" : 1334,\"y\" : 2},{\"x\" : 1334,\"y\" : 10},{\"x\" : 1335,\"y\" : 2},{\"x\" : 1335,\"y\" : 10},{\"x\" : 1337,\"y\" : 2},{\"x\" : 1337,\"y\" : 10},{\"x\" : 1338,\"y\" : 2},{\"x\" : 1338,\"y\" : 10},{\"x\" : 1339,\"y\" : 2},{\"x\" : 1339,\"y\" : 10},{\"x\" : 1340,\"y\" : 2},{\"x\" : 1340,\"y\" : 10},{\"x\" : 1343,\"y\" : 2},{\"x\" : 1343,\"y\" : 10},{\"x\" : 1344,\"y\" : 2},{\"x\" : 1344,\"y\" : 8},{\"x\" : 1344,\"y\" : 10},{\"x\" : 1345,\"y\" : 2},{\"x\" : 1345,\"y\" : 8},{\"x\" : 1345,\"y\" : 10},{\"x\" : 1346,\"y\" : 2},{\"x\" : 1346,\"y\" : 10},{\"x\" : 1347,\"y\" : 2},{\"x\" : 1347,\"y\" : 10},{\"x\" : 1348,\"y\" : 2},{\"x\" : 1348,\"y\" : 10},{\"x\" : 1349,\"y\" : 2},{\"x\" : 1349,\"y\" : 10},{\"x\" : 1350,\"y\" : 2},{\"x\" : 1350,\"y\" : 10},{\"x\" : 1351,\"y\" : 2},{\"x\" : 1351,\"y\" : 10},{\"x\" : 1352,\"y\" : 2},{\"x\" : 1352,\"y\" : 10},{\"x\" : 1353,\"y\" : 2},{\"x\" : 1353,\"y\" : 10},{\"x\" : 1354,\"y\" : 2},{\"x\" : 1354,\"y\" : 10},{\"x\" : 1355,\"y\" : 2},{\"x\" : 1355,\"y\" : 10},{\"x\" : 1358,\"y\" : 2},{\"x\" : 1358,\"y\" : 10},{\"x\" : 1359,\"y\" : 2},{\"x\" : 1359,\"y\" : 10},{\"x\" : 1360,\"y\" : 2},{\"x\" : 1360,\"y\" : 8},{\"x\" : 1360,\"y\" : 10},{\"x\" : 1361,\"y\" : 2},{\"x\" : 1361,\"y\" : 10},{\"x\" : 1362,\"y\" : 2},{\"x\" : 1362,\"y\" : 10},{\"x\" : 1363,\"y\" : 2},{\"x\" : 1363,\"y\" : 10},{\"x\" : 1364,\"y\" : 2},{\"x\" : 1364,\"y\" : 10},{\"x\" : 1365,\"y\" : 2},{\"x\" : 1365,\"y\" : 8},{\"x\" : 1365,\"y\" : 10},{\"x\" : 1366,\"y\" : 2},{\"x\" : 1366,\"y\" : 10},{\"x\" : 1367,\"y\" : 2},{\"x\" : 1367,\"y\" : 10},{\"x\" : 1368,\"y\" : 2},{\"x\" : 1368,\"y\" : 10},{\"x\" : 1369,\"y\" : 2},{\"x\" : 1369,\"y\" : 10},{\"x\" : 1370,\"y\" : 2},{\"x\" : 1370,\"y\" : 10},{\"x\" : 1372,\"y\" : 2},{\"x\" : 1372,\"y\" : 10},{\"x\" : 1373,\"y\" : 2},{\"x\" : 1373,\"y\" : 10},{\"x\" : 1374,\"y\" : 2},{\"x\" : 1374,\"y\" : 10},{\"x\" : 1375,\"y\" : 2},{\"x\" : 1375,\"y\" : 10},{\"x\" : 1377,\"y\" : 2},{\"x\" : 1377,\"y\" : 10},{\"x\" : 1378,\"y\" : 2},{\"x\" : 1378,\"y\" : 10},{\"x\" : 1379,\"y\" : 2},{\"x\" : 1379,\"y\" : 8},{\"x\" : 1379,\"y\" : 10},{\"x\" : 1380,\"y\" : 2},{\"x\" : 1380,\"y\" : 8},{\"x\" : 1380,\"y\" : 10},{\"x\" : 1381,\"y\" : 2},{\"x\" : 1381,\"y\" : 10},{\"x\" : 1382,\"y\" : 2},{\"x\" : 1382,\"y\" : 10},{\"x\" : 1383,\"y\" : 2},{\"x\" : 1383,\"y\" : 10},{\"x\" : 1384,\"y\" : 2},{\"x\" : 1384,\"y\" : 10},{\"x\" : 1385,\"y\" : 2},{\"x\" : 1385,\"y\" : 10},{\"x\" : 1386,\"y\" : 2},{\"x\" : 1386,\"y\" : 10},{\"x\" : 1387,\"y\" : 2},{\"x\" : 1387,\"y\" : 10},{\"x\" : 1388,\"y\" : 2},{\"x\" : 1388,\"y\" : 10},{\"x\" : 1389,\"y\" : 2},{\"x\" : 1389,\"y\" : 10},{\"x\" : 1390,\"y\" : 2},{\"x\" : 1390,\"y\" : 10},{\"x\" : 1393,\"y\" : 2},{\"x\" : 1393,\"y\" : 10},{\"x\" : 1394,\"y\" : 2},{\"x\" : 1394,\"y\" : 8},{\"x\" : 1394,\"y\" : 10},{\"x\" : 1395,\"y\" : 2},{\"x\" : 1395,\"y\" : 8},{\"x\" : 1395,\"y\" : 10},{\"x\" : 1396,\"y\" : 2},{\"x\" : 1396,\"y\" : 10},{\"x\" : 1397,\"y\" : 2},{\"x\" : 1397,\"y\" : 10},{\"x\" : 1398,\"y\" : 2},{\"x\" : 1398,\"y\" : 10},{\"x\" : 1399,\"y\" : 2},{\"x\" : 1399,\"y\" : 10},{\"x\" : 1400,\"y\" : 2},{\"x\" : 1400,\"y\" : 8},{\"x\" : 1400,\"y\" : 10},{\"x\" : 1401,\"y\" : 2},{\"x\" : 1401,\"y\" : 10},{\"x\" : 1402,\"y\" : 2},{\"x\" : 1402,\"y\" : 10},{\"x\" : 1403,\"y\" : 2},{\"x\" : 1403,\"y\" : 10},{\"x\" : 1404,\"y\" : 2},{\"x\" : 1404,\"y\" : 10},{\"x\" : 1405,\"y\" : 2},{\"x\" : 1405,\"y\" : 10},{\"x\" : 1407,\"y\" : 2},{\"x\" : 1407,\"y\" : 10},{\"x\" : 1408,\"y\" : 2},{\"x\" : 1408,\"y\" : 10},{\"x\" : 1409,\"y\" : 2},{\"x\" : 1409,\"y\" : 10},{\"x\" : 1410,\"y\" : 2},{\"x\" : 1410,\"y\" : 10},{\"x\" : 1411,\"y\" : 2},{\"x\" : 1411,\"y\" : 10},{\"x\" : 1412,\"y\" : 2},{\"x\" : 1412,\"y\" : 10},{\"x\" : 1413,\"y\" : 2},{\"x\" : 1413,\"y\" : 10},{\"x\" : 1414,\"y\" : 2},{\"x\" : 1414,\"y\" : 8},{\"x\" : 1414,\"y\" : 10},{\"x\" : 1415,\"y\" : 2},{\"x\" : 1415,\"y\" : 8},{\"x\" : 1415,\"y\" : 10},{\"x\" : 1416,\"y\" : 2},{\"x\" : 1416,\"y\" : 10},{\"x\" : 1417,\"y\" : 2},{\"x\" : 1417,\"y\" : 10},{\"x\" : 1418,\"y\" : 2},{\"x\" : 1418,\"y\" : 10},{\"x\" : 1419,\"y\" : 2},{\"x\" : 1419,\"y\" : 10},{\"x\" : 1420,\"y\" : 2},{\"x\" : 1420,\"y\" : 10},{\"x\" : 1421,\"y\" : 2},{\"x\" : 1421,\"y\" : 10},{\"x\" : 1422,\"y\" : 2},{\"x\" : 1422,\"y\" : 10},{\"x\" : 1423,\"y\" : 2},{\"x\" : 1423,\"y\" : 10},{\"x\" : 1424,\"y\" : 2},{\"x\" : 1424,\"y\" : 10},{\"x\" : 1425,\"y\" : 2},{\"x\" : 1425,\"y\" : 10},{\"x\" : 1428,\"y\" : 2},{\"x\" : 1428,\"y\" : 8},{\"x\" : 1428,\"y\" : 10},{\"x\" : 1429,\"y\" : 2},{\"x\" : 1429,\"y\" : 8},{\"x\" : 1429,\"y\" : 10},{\"x\" : 1430,\"y\" : 2},{\"x\" : 1430,\"y\" : 8},{\"x\" : 1430,\"y\" : 10},{\"x\" : 1431,\"y\" : 2},{\"x\" : 1431,\"y\" : 10},{\"x\" : 1432,\"y\" : 2},{\"x\" : 1432,\"y\" : 10},{\"x\" : 1433,\"y\" : 2},{\"x\" : 1433,\"y\" : 10},{\"x\" : 1434,\"y\" : 2},{\"x\" : 1434,\"y\" : 10},{\"x\" : 1435,\"y\" : 2},{\"x\" : 1435,\"y\" : 8},{\"x\" : 1435,\"y\" : 10},{\"x\" : 1436,\"y\" : 2},{\"x\" : 1436,\"y\" : 10},{\"x\" : 1437,\"y\" : 2},{\"x\" : 1437,\"y\" : 10},{\"x\" : 1438,\"y\" : 2},{\"x\" : 1438,\"y\" : 10},{\"x\" : 1439,\"y\" : 2},{\"x\" : 1439,\"y\" : 10},{\"x\" : 1440,\"y\" : 2},{\"x\" : 1440,\"y\" : 10},{\"x\" : 1442,\"y\" : 2},{\"x\" : 1442,\"y\" : 10},{\"x\" : 1443,\"y\" : 2},{\"x\" : 1443,\"y\" : 10},{\"x\" : 1444,\"y\" : 2},{\"x\" : 1444,\"y\" : 10},{\"x\" : 1445,\"y\" : 2},{\"x\" : 1445,\"y\" : 8},{\"x\" : 1445,\"y\" : 10},{\"x\" : 1446,\"y\" : 2},{\"x\" : 1446,\"y\" : 10},{\"x\" : 1447,\"y\" : 2},{\"x\" : 1447,\"y\" : 10},{\"x\" : 1448,\"y\" : 2},{\"x\" : 1448,\"y\" : 10},{\"x\" : 1449,\"y\" : 2},{\"x\" : 1449,\"y\" : 8},{\"x\" : 1449,\"y\" : 10},{\"x\" : 1450,\"y\" : 2},{\"x\" : 1450,\"y\" : 8},{\"x\" : 1450,\"y\" : 10},{\"x\" : 1451,\"y\" : 2},{\"x\" : 1451,\"y\" : 10},{\"x\" : 1452,\"y\" : 2},{\"x\" : 1452,\"y\" : 10},{\"x\" : 1453,\"y\" : 2},{\"x\" : 1453,\"y\" : 10},{\"x\" : 1454,\"y\" : 2},{\"x\" : 1454,\"y\" : 10},{\"x\" : 1455,\"y\" : 2},{\"x\" : 1455,\"y\" : 10},{\"x\" : 1456,\"y\" : 2},{\"x\" : 1456,\"y\" : 10},{\"x\" : 1457,\"y\" : 2},{\"x\" : 1457,\"y\" : 10},{\"x\" : 1458,\"y\" : 2},{\"x\" : 1458,\"y\" : 10},{\"x\" : 1459,\"y\" : 2},{\"x\" : 1459,\"y\" : 10},{\"x\" : 1460,\"y\" : 2},{\"x\" : 1460,\"y\" : 10},{\"x\" : 1462,\"y\" : 2},{\"x\" : 1462,\"y\" : 10},{\"x\" : 1463,\"y\" : 2},{\"x\" : 1463,\"y\" : 8},{\"x\" : 1463,\"y\" : 10},{\"x\" : 1464,\"y\" : 2},{\"x\" : 1464,\"y\" : 8},{\"x\" : 1464,\"y\" : 10},{\"x\" : 1465,\"y\" : 2},{\"x\" : 1465,\"y\" : 8},{\"x\" : 1465,\"y\" : 10},{\"x\" : 1466,\"y\" : 2},{\"x\" : 1466,\"y\" : 10},{\"x\" : 1467,\"y\" : 2},{\"x\" : 1467,\"y\" : 10},{\"x\" : 1468,\"y\" : 2},{\"x\" : 1468,\"y\" : 10},{\"x\" : 1469,\"y\" : 2},{\"x\" : 1469,\"y\" : 10},{\"x\" : 1470,\"y\" : 2},{\"x\" : 1470,\"y\" : 8},{\"x\" : 1470,\"y\" : 10},{\"x\" : 1471,\"y\" : 2},{\"x\" : 1471,\"y\" : 10},{\"x\" : 1472,\"y\" : 2},{\"x\" : 1472,\"y\" : 10},{\"x\" : 1473,\"y\" : 2},{\"x\" : 1473,\"y\" : 10},{\"x\" : 1474,\"y\" : 2},{\"x\" : 1474,\"y\" : 10},{\"x\" : 1475,\"y\" : 2},{\"x\" : 1475,\"y\" : 10},{\"x\" : 1477,\"y\" : 2},{\"x\" : 1477,\"y\" : 10},{\"x\" : 1478,\"y\" : 2},{\"x\" : 1478,\"y\" : 10},{\"x\" : 1479,\"y\" : 2},{\"x\" : 1479,\"y\" : 8},{\"x\" : 1479,\"y\" : 10},{\"x\" : 1480,\"y\" : 2},{\"x\" : 1480,\"y\" : 8},{\"x\" : 1480,\"y\" : 10},{\"x\" : 1481,\"y\" : 2},{\"x\" : 1481,\"y\" : 10},{\"x\" : 1482,\"y\" : 2},{\"x\" : 1482,\"y\" : 10},{\"x\" : 1483,\"y\" : 2},{\"x\" : 1483,\"y\" : 10},{\"x\" : 1484,\"y\" : 2},{\"x\" : 1484,\"y\" : 8},{\"x\" : 1484,\"y\" : 10},{\"x\" : 1485,\"y\" : 2},{\"x\" : 1485,\"y\" : 8},{\"x\" : 1485,\"y\" : 10},{\"x\" : 1486,\"y\" : 2},{\"x\" : 1486,\"y\" : 10},{\"x\" : 1487,\"y\" : 2},{\"x\" : 1487,\"y\" : 10},{\"x\" : 1488,\"y\" : 2},{\"x\" : 1488,\"y\" : 10},{\"x\" : 1489,\"y\" : 2},{\"x\" : 1489,\"y\" : 10},{\"x\" : 1490,\"y\" : 2},{\"x\" : 1490,\"y\" : 10},{\"x\" : 1491,\"y\" : 2},{\"x\" : 1491,\"y\" : 10},{\"x\" : 1492,\"y\" : 2},{\"x\" : 1492,\"y\" : 10},{\"x\" : 1493,\"y\" : 2},{\"x\" : 1493,\"y\" : 10},{\"x\" : 1494,\"y\" : 2},{\"x\" : 1494,\"y\" : 10},{\"x\" : 1495,\"y\" : 2},{\"x\" : 1495,\"y\" : 10},{\"x\" : 1496,\"y\" : 2},{\"x\" : 1496,\"y\" : 10},{\"x\" : 1497,\"y\" : 2},{\"x\" : 1497,\"y\" : 10},{\"x\" : 1498,\"y\" : 2},{\"x\" : 1498,\"y\" : 8},{\"x\" : 1498,\"y\" : 10},{\"x\" : 1499,\"y\" : 2},{\"x\" : 1499,\"y\" : 8},{\"x\" : 1499,\"y\" : 10},{\"x\" : 1500,\"y\" : 2},{\"x\" : 1500,\"y\" : 8},{\"x\" : 1500,\"y\" : 10},{\"x\" : 1501,\"y\" : 2},{\"x\" : 1501,\"y\" : 10},{\"x\" : 1502,\"y\" : 2},{\"x\" : 1502,\"y\" : 10},{\"x\" : 1503,\"y\" : 2},{\"x\" : 1503,\"y\" : 10},{\"x\" : 1504,\"y\" : 2},{\"x\" : 1504,\"y\" : 10},{\"x\" : 1505,\"y\" : 2},{\"x\" : 1505,\"y\" : 8},{\"x\" : 1505,\"y\" : 10},{\"x\" : 1506,\"y\" : 2},{\"x\" : 1506,\"y\" : 10},{\"x\" : 1507,\"y\" : 2},{\"x\" : 1507,\"y\" : 10},{\"x\" : 1508,\"y\" : 2},{\"x\" : 1508,\"y\" : 10},{\"x\" : 1509,\"y\" : 2},{\"x\" : 1509,\"y\" : 10},{\"x\" : 1510,\"y\" : 2},{\"x\" : 1510,\"y\" : 10},{\"x\" : 1512,\"y\" : 2},{\"x\" : 1512,\"y\" : 10},{\"x\" : 1513,\"y\" : 2},{\"x\" : 1513,\"y\" : 8},{\"x\" : 1513,\"y\" : 10},{\"x\" : 1514,\"y\" : 2},{\"x\" : 1514,\"y\" : 8},{\"x\" : 1514,\"y\" : 10},{\"x\" : 1515,\"y\" : 2},{\"x\" : 1515,\"y\" : 8},{\"x\" : 1515,\"y\" : 10},{\"x\" : 1516,\"y\" : 2},{\"x\" : 1516,\"y\" : 10},{\"x\" : 1517,\"y\" : 2},{\"x\" : 1517,\"y\" : 10},{\"x\" : 1518,\"y\" : 2},{\"x\" : 1518,\"y\" : 10},{\"x\" : 1519,\"y\" : 2},{\"x\" : 1519,\"y\" : 8},{\"x\" : 1519,\"y\" : 10},{\"x\" : 1520,\"y\" : 2},{\"x\" : 1520,\"y\" : 8},{\"x\" : 1520,\"y\" : 10},{\"x\" : 1521,\"y\" : 2},{\"x\" : 1521,\"y\" : 10},{\"x\" : 1522,\"y\" : 2},{\"x\" : 1522,\"y\" : 10},{\"x\" : 1523,\"y\" : 2},{\"x\" : 1523,\"y\" : 10},{\"x\" : 1524,\"y\" : 2},{\"x\" : 1524,\"y\" : 10},{\"x\" : 1525,\"y\" : 2},{\"x\" : 1525,\"y\" : 10},{\"x\" : 1526,\"y\" : 2},{\"x\" : 1526,\"y\" : 10},{\"x\" : 1527,\"y\" : 2},{\"x\" : 1527,\"y\" : 10},{\"x\" : 1528,\"y\" : 2},{\"x\" : 1528,\"y\" : 10},{\"x\" : 1529,\"y\" : 2},{\"x\" : 1529,\"y\" : 10},{\"x\" : 1530,\"y\" : 2},{\"x\" : 1530,\"y\" : 8},{\"x\" : 1530,\"y\" : 10},{\"x\" : 1531,\"y\" : 2},{\"x\" : 1531,\"y\" : 10},{\"x\" : 1532,\"y\" : 2},{\"x\" : 1532,\"y\" : 10},{\"x\" : 1533,\"y\" : 2},{\"x\" : 1533,\"y\" : 8},{\"x\" : 1533,\"y\" : 10},{\"x\" : 1534,\"y\" : 2},{\"x\" : 1534,\"y\" : 8},{\"x\" : 1534,\"y\" : 10},{\"x\" : 1535,\"y\" : 2},{\"x\" : 1535,\"y\" : 8},{\"x\" : 1535,\"y\" : 10},{\"x\" : 1536,\"y\" : 2},{\"x\" : 1536,\"y\" : 10},{\"x\" : 1537,\"y\" : 2},{\"x\" : 1537,\"y\" : 10},{\"x\" : 1538,\"y\" : 2},{\"x\" : 1538,\"y\" : 10},{\"x\" : 1539,\"y\" : 2},{\"x\" : 1539,\"y\" : 10},{\"x\" : 1540,\"y\" : 2},{\"x\" : 1540,\"y\" : 8},{\"x\" : 1540,\"y\" : 10},{\"x\" : 1541,\"y\" : 2},{\"x\" : 1541,\"y\" : 10},{\"x\" : 1542,\"y\" : 2},{\"x\" : 1542,\"y\" : 10},{\"x\" : 1543,\"y\" : 2},{\"x\" : 1543,\"y\" : 10},{\"x\" : 1544,\"y\" : 2},{\"x\" : 1544,\"y\" : 10},{\"x\" : 1545,\"y\" : 2},{\"x\" : 1545,\"y\" : 10},{\"x\" : 1547,\"y\" : 2},{\"x\" : 1547,\"y\" : 8},{\"x\" : 1547,\"y\" : 10},{\"x\" : 1548,\"y\" : 2},{\"x\" : 1548,\"y\" : 8},{\"x\" : 1548,\"y\" : 10},{\"x\" : 1549,\"y\" : 2},{\"x\" : 1549,\"y\" : 8},{\"x\" : 1549,\"y\" : 10},{\"x\" : 1550,\"y\" : 2},{\"x\" : 1550,\"y\" : 8},{\"x\" : 1550,\"y\" : 10},{\"x\" : 1551,\"y\" : 2},{\"x\" : 1551,\"y\" : 10},{\"x\" : 1552,\"y\" : 2},{\"x\" : 1552,\"y\" : 10},{\"x\" : 1553,\"y\" : 2},{\"x\" : 1553,\"y\" : 10},{\"x\" : 1554,\"y\" : 2},{\"x\" : 1554,\"y\" : 8},{\"x\" : 1554,\"y\" : 10},{\"x\" : 1555,\"y\" : 2},{\"x\" : 1555,\"y\" : 8},{\"x\" : 1555,\"y\" : 10},{\"x\" : 1556,\"y\" : 2},{\"x\" : 1556,\"y\" : 10},{\"x\" : 1557,\"y\" : 2},{\"x\" : 1557,\"y\" : 10},{\"x\" : 1558,\"y\" : 2},{\"x\" : 1558,\"y\" : 10},{\"x\" : 1559,\"y\" : 2},{\"x\" : 1559,\"y\" : 10},{\"x\" : 1560,\"y\" : 2},{\"x\" : 1560,\"y\" : 10},{\"x\" : 1561,\"y\" : 2},{\"x\" : 1561,\"y\" : 10},{\"x\" : 1562,\"y\" : 2},{\"x\" : 1562,\"y\" : 10},{\"x\" : 1563,\"y\" : 2},{\"x\" : 1563,\"y\" : 10},{\"x\" : 1564,\"y\" : 2},{\"x\" : 1564,\"y\" : 8},{\"x\" : 1564,\"y\" : 10},{\"x\" : 1565,\"y\" : 2},{\"x\" : 1565,\"y\" : 8},{\"x\" : 1565,\"y\" : 10},{\"x\" : 1566,\"y\" : 2},{\"x\" : 1566,\"y\" : 10},{\"x\" : 1567,\"y\" : 2},{\"x\" : 1567,\"y\" : 10},{\"x\" : 1568,\"y\" : 2},{\"x\" : 1568,\"y\" : 8},{\"x\" : 1568,\"y\" : 10},{\"x\" : 1569,\"y\" : 2},{\"x\" : 1569,\"y\" : 8},{\"x\" : 1569,\"y\" : 10},{\"x\" : 1570,\"y\" : 2},{\"x\" : 1570,\"y\" : 8},{\"x\" : 1570,\"y\" : 10},{\"x\" : 1571,\"y\" : 2},{\"x\" : 1571,\"y\" : 10},{\"x\" : 1572,\"y\" : 2},{\"x\" : 1572,\"y\" : 10},{\"x\" : 1573,\"y\" : 2},{\"x\" : 1573,\"y\" : 10},{\"x\" : 1574,\"y\" : 2},{\"x\" : 1574,\"y\" : 10},{\"x\" : 1575,\"y\" : 2},{\"x\" : 1575,\"y\" : 8},{\"x\" : 1575,\"y\" : 10},{\"x\" : 1576,\"y\" : 2},{\"x\" : 1576,\"y\" : 10},{\"x\" : 1577,\"y\" : 2},{\"x\" : 1577,\"y\" : 10},{\"x\" : 1578,\"y\" : 2},{\"x\" : 1578,\"y\" : 10},{\"x\" : 1579,\"y\" : 2},{\"x\" : 1579,\"y\" : 10},{\"x\" : 1580,\"y\" : 2},{\"x\" : 1580,\"y\" : 10},{\"x\" : 1581,\"y\" : 2},{\"x\" : 1581,\"y\" : 10},{\"x\" : 1582,\"y\" : 2},{\"x\" : 1582,\"y\" : 8},{\"x\" : 1582,\"y\" : 10},{\"x\" : 1583,\"y\" : 2},{\"x\" : 1583,\"y\" : 8},{\"x\" : 1583,\"y\" : 10},{\"x\" : 1584,\"y\" : 2},{\"x\" : 1584,\"y\" : 8},{\"x\" : 1584,\"y\" : 10},{\"x\" : 1585,\"y\" : 2},{\"x\" : 1585,\"y\" : 8},{\"x\" : 1585,\"y\" : 10},{\"x\" : 1586,\"y\" : 2},{\"x\" : 1586,\"y\" : 10},{\"x\" : 1587,\"y\" : 2},{\"x\" : 1587,\"y\" : 10},{\"x\" : 1588,\"y\" : 2},{\"x\" : 1588,\"y\" : 10},{\"x\" : 1589,\"y\" : 2},{\"x\" : 1589,\"y\" : 8},{\"x\" : 1589,\"y\" : 10},{\"x\" : 1590,\"y\" : 2},{\"x\" : 1590,\"y\" : 8},{\"x\" : 1590,\"y\" : 10},{\"x\" : 1591,\"y\" : 2},{\"x\" : 1591,\"y\" : 10},{\"x\" : 1592,\"y\" : 2},{\"x\" : 1592,\"y\" : 10},{\"x\" : 1593,\"y\" : 2},{\"x\" : 1593,\"y\" : 10},{\"x\" : 1594,\"y\" : 2},{\"x\" : 1594,\"y\" : 10},{\"x\" : 1595,\"y\" : 2},{\"x\" : 1595,\"y\" : 10},{\"x\" : 1596,\"y\" : 2},{\"x\" : 1596,\"y\" : 10},{\"x\" : 1597,\"y\" : 2},{\"x\" : 1597,\"y\" : 10},{\"x\" : 1598,\"y\" : 2},{\"x\" : 1598,\"y\" : 8},{\"x\" : 1598,\"y\" : 10},{\"x\" : 1599,\"y\" : 2},{\"x\" : 1599,\"y\" : 8},{\"x\" : 1599,\"y\" : 10},{\"x\" : 1600,\"y\" : 2},{\"x\" : 1600,\"y\" : 8},{\"x\" : 1600,\"y\" : 10},{\"x\" : 1601,\"y\" : 2},{\"x\" : 1601,\"y\" : 10},{\"x\" : 1602,\"y\" : 2},{\"x\" : 1602,\"y\" : 10},{\"x\" : 1603,\"y\" : 2},{\"x\" : 1603,\"y\" : 8},{\"x\" : 1603,\"y\" : 10},{\"x\" : 1604,\"y\" : 2},{\"x\" : 1604,\"y\" : 8},{\"x\" : 1604,\"y\" : 10},{\"x\" : 1605,\"y\" : 2},{\"x\" : 1605,\"y\" : 8},{\"x\" : 1605,\"y\" : 10},{\"x\" : 1606,\"y\" : 2},{\"x\" : 1606,\"y\" : 10},{\"x\" : 1607,\"y\" : 2},{\"x\" : 1607,\"y\" : 10},{\"x\" : 1608,\"y\" : 2},{\"x\" : 1608,\"y\" : 10},{\"x\" : 1609,\"y\" : 2},{\"x\" : 1609,\"y\" : 10},{\"x\" : 1610,\"y\" : 2},{\"x\" : 1610,\"y\" : 8},{\"x\" : 1610,\"y\" : 10},{\"x\" : 1611,\"y\" : 2},{\"x\" : 1611,\"y\" : 10},{\"x\" : 1612,\"y\" : 2},{\"x\" : 1612,\"y\" : 10},{\"x\" : 1613,\"y\" : 2},{\"x\" : 1613,\"y\" : 10},{\"x\" : 1614,\"y\" : 2},{\"x\" : 1614,\"y\" : 10},{\"x\" : 1615,\"y\" : 2},{\"x\" : 1615,\"y\" : 8},{\"x\" : 1615,\"y\" : 10},{\"x\" : 1616,\"y\" : 2},{\"x\" : 1616,\"y\" : 10},{\"x\" : 1617,\"y\" : 2},{\"x\" : 1617,\"y\" : 8},{\"x\" : 1617,\"y\" : 10},{\"x\" : 1618,\"y\" : 2},{\"x\" : 1618,\"y\" : 8},{\"x\" : 1618,\"y\" : 10},{\"x\" : 1619,\"y\" : 2},{\"x\" : 1619,\"y\" : 8},{\"x\" : 1619,\"y\" : 10},{\"x\" : 1620,\"y\" : 2},{\"x\" : 1620,\"y\" : 8},{\"x\" : 1620,\"y\" : 10},{\"x\" : 1621,\"y\" : 2},{\"x\" : 1621,\"y\" : 10},{\"x\" : 1622,\"y\" : 2},{\"x\" : 1622,\"y\" : 10},{\"x\" : 1623,\"y\" : 2},{\"x\" : 1623,\"y\" : 10},{\"x\" : 1624,\"y\" : 2},{\"x\" : 1624,\"y\" : 8},{\"x\" : 1624,\"y\" : 10},{\"x\" : 1625,\"y\" : 2},{\"x\" : 1625,\"y\" : 8},{\"x\" : 1625,\"y\" : 10},{\"x\" : 1626,\"y\" : 2},{\"x\" : 1626,\"y\" : 10},{\"x\" : 1627,\"y\" : 2},{\"x\" : 1627,\"y\" : 10},{\"x\" : 1628,\"y\" : 2},{\"x\" : 1628,\"y\" : 10},{\"x\" : 1629,\"y\" : 2},{\"x\" : 1629,\"y\" : 10},{\"x\" : 1630,\"y\" : 2},{\"x\" : 1630,\"y\" : 10},{\"x\" : 1631,\"y\" : 2},{\"x\" : 1631,\"y\" : 10},{\"x\" : 1632,\"y\" : 2},{\"x\" : 1632,\"y\" : 8},{\"x\" : 1632,\"y\" : 10},{\"x\" : 1633,\"y\" : 2},{\"x\" : 1633,\"y\" : 8},{\"x\" : 1633,\"y\" : 10},{\"x\" : 1634,\"y\" : 2},{\"x\" : 1634,\"y\" : 8},{\"x\" : 1634,\"y\" : 10},{\"x\" : 1635,\"y\" : 2},{\"x\" : 1635,\"y\" : 8},{\"x\" : 1635,\"y\" : 10},{\"x\" : 1636,\"y\" : 2},{\"x\" : 1636,\"y\" : 10},{\"x\" : 1637,\"y\" : 2},{\"x\" : 1637,\"y\" : 10},{\"x\" : 1638,\"y\" : 2},{\"x\" : 1638,\"y\" : 8},{\"x\" : 1638,\"y\" : 10},{\"x\" : 1639,\"y\" : 2},{\"x\" : 1639,\"y\" : 8},{\"x\" : 1639,\"y\" : 10},{\"x\" : 1640,\"y\" : 2},{\"x\" : 1640,\"y\" : 8},{\"x\" : 1640,\"y\" : 10},{\"x\" : 1641,\"y\" : 2},{\"x\" : 1641,\"y\" : 10},{\"x\" : 1642,\"y\" : 2},{\"x\" : 1642,\"y\" : 10},{\"x\" : 1643,\"y\" : 2},{\"x\" : 1643,\"y\" : 10},{\"x\" : 1644,\"y\" : 2},{\"x\" : 1644,\"y\" : 10},{\"x\" : 1645,\"y\" : 2},{\"x\" : 1645,\"y\" : 8},{\"x\" : 1645,\"y\" : 10},{\"x\" : 1646,\"y\" : 2},{\"x\" : 1646,\"y\" : 10},{\"x\" : 1647,\"y\" : 2},{\"x\" : 1647,\"y\" : 10},{\"x\" : 1648,\"y\" : 2},{\"x\" : 1648,\"y\" : 10},{\"x\" : 1649,\"y\" : 2},{\"x\" : 1649,\"y\" : 8},{\"x\" : 1649,\"y\" : 10},{\"x\" : 1650,\"y\" : 2},{\"x\" : 1650,\"y\" : 8},{\"x\" : 1650,\"y\" : 10},{\"x\" : 1651,\"y\" : 2},{\"x\" : 1651,\"y\" : 10},{\"x\" : 1652,\"y\" : 2},{\"x\" : 1652,\"y\" : 8},{\"x\" : 1652,\"y\" : 10},{\"x\" : 1653,\"y\" : 2},{\"x\" : 1653,\"y\" : 8},{\"x\" : 1653,\"y\" : 10},{\"x\" : 1654,\"y\" : 2},{\"x\" : 1654,\"y\" : 8},{\"x\" : 1654,\"y\" : 10},{\"x\" : 1655,\"y\" : 2},{\"x\" : 1655,\"y\" : 8},{\"x\" : 1655,\"y\" : 10},{\"x\" : 1656,\"y\" : 2},{\"x\" : 1656,\"y\" : 10},{\"x\" : 1657,\"y\" : 2},{\"x\" : 1657,\"y\" : 10},{\"x\" : 1658,\"y\" : 2},{\"x\" : 1658,\"y\" : 10},{\"x\" : 1659,\"y\" : 2},{\"x\" : 1659,\"y\" : 8},{\"x\" : 1659,\"y\" : 10},{\"x\" : 1660,\"y\" : 2},{\"x\" : 1660,\"y\" : 8},{\"x\" : 1660,\"y\" : 10},{\"x\" : 1661,\"y\" : 2},{\"x\" : 1661,\"y\" : 10},{\"x\" : 1662,\"y\" : 2},{\"x\" : 1662,\"y\" : 10},{\"x\" : 1663,\"y\" : 2},{\"x\" : 1663,\"y\" : 10},{\"x\" : 1664,\"y\" : 2},{\"x\" : 1664,\"y\" : 10},{\"x\" : 1665,\"y\" : 2},{\"x\" : 1665,\"y\" : 10},{\"x\" : 1666,\"y\" : 2},{\"x\" : 1666,\"y\" : 8},{\"x\" : 1666,\"y\" : 10},{\"x\" : 1667,\"y\" : 2},{\"x\" : 1667,\"y\" : 8},{\"x\" : 1667,\"y\" : 10},{\"x\" : 1668,\"y\" : 2},{\"x\" : 1668,\"y\" : 8},{\"x\" : 1668,\"y\" : 10},{\"x\" : 1669,\"y\" : 2},{\"x\" : 1669,\"y\" : 8},{\"x\" : 1669,\"y\" : 10},{\"x\" : 1670,\"y\" : 2},{\"x\" : 1670,\"y\" : 8},{\"x\" : 1670,\"y\" : 10},{\"x\" : 1671,\"y\" : 2},{\"x\" : 1671,\"y\" : 10},{\"x\" : 1672,\"y\" : 2},{\"x\" : 1672,\"y\" : 10},{\"x\" : 1673,\"y\" : 2},{\"x\" : 1673,\"y\" : 8},{\"x\" : 1673,\"y\" : 10},{\"x\" : 1674,\"y\" : 2},{\"x\" : 1674,\"y\" : 8},{\"x\" : 1674,\"y\" : 10},{\"x\" : 1675,\"y\" : 2},{\"x\" : 1675,\"y\" : 8},{\"x\" : 1675,\"y\" : 10},{\"x\" : 1676,\"y\" : 2},{\"x\" : 1676,\"y\" : 10},{\"x\" : 1677,\"y\" : 2},{\"x\" : 1677,\"y\" : 10},{\"x\" : 1678,\"y\" : 2},{\"x\" : 1678,\"y\" : 10},{\"x\" : 1679,\"y\" : 2},{\"x\" : 1679,\"y\" : 10},{\"x\" : 1680,\"y\" : 2},{\"x\" : 1680,\"y\" : 8},{\"x\" : 1680,\"y\" : 10},{\"x\" : 1681,\"y\" : 2},{\"x\" : 1681,\"y\" : 10},{\"x\" : 1682,\"y\" : 2},{\"x\" : 1682,\"y\" : 10},{\"x\" : 1683,\"y\" : 2},{\"x\" : 1683,\"y\" : 8},{\"x\" : 1683,\"y\" : 10},{\"x\" : 1684,\"y\" : 2},{\"x\" : 1684,\"y\" : 8},{\"x\" : 1684,\"y\" : 10},{\"x\" : 1685,\"y\" : 2},{\"x\" : 1685,\"y\" : 8},{\"x\" : 1685,\"y\" : 10},{\"x\" : 1686,\"y\" : 2},{\"x\" : 1686,\"y\" : 10},{\"x\" : 1687,\"y\" : 2},{\"x\" : 1687,\"y\" : 8},{\"x\" : 1687,\"y\" : 10},{\"x\" : 1688,\"y\" : 2},{\"x\" : 1688,\"y\" : 8},{\"x\" : 1688,\"y\" : 10},{\"x\" : 1689,\"y\" : 2},{\"x\" : 1689,\"y\" : 8},{\"x\" : 1689,\"y\" : 10},{\"x\" : 1690,\"y\" : 2},{\"x\" : 1690,\"y\" : 8},{\"x\" : 1690,\"y\" : 10},{\"x\" : 1691,\"y\" : 2},{\"x\" : 1691,\"y\" : 10},{\"x\" : 1692,\"y\" : 2},{\"x\" : 1692,\"y\" : 10},{\"x\" : 1693,\"y\" : 2},{\"x\" : 1693,\"y\" : 10},{\"x\" : 1694,\"y\" : 2},{\"x\" : 1694,\"y\" : 8},{\"x\" : 1694,\"y\" : 10},{\"x\" : 1695,\"y\" : 2},{\"x\" : 1695,\"y\" : 8},{\"x\" : 1695,\"y\" : 10},{\"x\" : 1696,\"y\" : 2},{\"x\" : 1696,\"y\" : 10},{\"x\" : 1697,\"y\" : 2},{\"x\" : 1697,\"y\" : 10},{\"x\" : 1698,\"y\" : 2},{\"x\" : 1698,\"y\" : 10},{\"x\" : 1699,\"y\" : 2},{\"x\" : 1699,\"y\" : 10},{\"x\" : 1700,\"y\" : 2},{\"x\" : 1700,\"y\" : 8},{\"x\" : 1700,\"y\" : 10},{\"x\" : 1701,\"y\" : 2},{\"x\" : 1701,\"y\" : 8},{\"x\" : 1701,\"y\" : 10},{\"x\" : 1702,\"y\" : 2},{\"x\" : 1702,\"y\" : 8},{\"x\" : 1702,\"y\" : 10},{\"x\" : 1703,\"y\" : 2},{\"x\" : 1703,\"y\" : 8},{\"x\" : 1703,\"y\" : 10},{\"x\" : 1704,\"y\" : 2},{\"x\" : 1704,\"y\" : 8},{\"x\" : 1704,\"y\" : 10},{\"x\" : 1705,\"y\" : 2},{\"x\" : 1705,\"y\" : 8},{\"x\" : 1705,\"y\" : 10},{\"x\" : 1706,\"y\" : 2},{\"x\" : 1706,\"y\" : 10},{\"x\" : 1707,\"y\" : 2},{\"x\" : 1707,\"y\" : 10},{\"x\" : 1708,\"y\" : 2},{\"x\" : 1708,\"y\" : 8},{\"x\" : 1708,\"y\" : 10},{\"x\" : 1709,\"y\" : 2},{\"x\" : 1709,\"y\" : 8},{\"x\" : 1709,\"y\" : 10},{\"x\" : 1710,\"y\" : 2},{\"x\" : 1710,\"y\" : 8},{\"x\" : 1710,\"y\" : 10},{\"x\" : 1711,\"y\" : 2},{\"x\" : 1711,\"y\" : 10},{\"x\" : 1712,\"y\" : 2},{\"x\" : 1712,\"y\" : 10},{\"x\" : 1713,\"y\" : 2},{\"x\" : 1713,\"y\" : 10},{\"x\" : 1714,\"y\" : 2},{\"x\" : 1714,\"y\" : 10},{\"x\" : 1715,\"y\" : 2},{\"x\" : 1715,\"y\" : 8},{\"x\" : 1715,\"y\" : 10},{\"x\" : 1716,\"y\" : 2},{\"x\" : 1716,\"y\" : 10},{\"x\" : 1717,\"y\" : 2},{\"x\" : 1717,\"y\" : 8},{\"x\" : 1717,\"y\" : 10},{\"x\" : 1718,\"y\" : 2},{\"x\" : 1718,\"y\" : 8},{\"x\" : 1718,\"y\" : 10},{\"x\" : 1719,\"y\" : 2},{\"x\" : 1719,\"y\" : 8},{\"x\" : 1719,\"y\" : 10},{\"x\" : 1720,\"y\" : 2},{\"x\" : 1720,\"y\" : 8},{\"x\" : 1720,\"y\" : 10},{\"x\" : 1721,\"y\" : 2},{\"x\" : 1721,\"y\" : 10},{\"x\" : 1722,\"y\" : 2},{\"x\" : 1722,\"y\" : 8},{\"x\" : 1722,\"y\" : 10},{\"x\" : 1723,\"y\" : 2},{\"x\" : 1723,\"y\" : 8},{\"x\" : 1723,\"y\" : 10},{\"x\" : 1724,\"y\" : 2},{\"x\" : 1724,\"y\" : 8},{\"x\" : 1724,\"y\" : 10},{\"x\" : 1725,\"y\" : 2},{\"x\" : 1725,\"y\" : 8},{\"x\" : 1725,\"y\" : 10},{\"x\" : 1726,\"y\" : 2},{\"x\" : 1726,\"y\" : 10},{\"x\" : 1727,\"y\" : 2},{\"x\" : 1727,\"y\" : 10},{\"x\" : 1728,\"y\" : 2},{\"x\" : 1728,\"y\" : 10},{\"x\" : 1729,\"y\" : 2},{\"x\" : 1729,\"y\" : 8},{\"x\" : 1729,\"y\" : 10},{\"x\" : 1730,\"y\" : 2},{\"x\" : 1730,\"y\" : 8},{\"x\" : 1730,\"y\" : 10},{\"x\" : 1731,\"y\" : 2},{\"x\" : 1731,\"y\" : 10},{\"x\" : 1732,\"y\" : 2},{\"x\" : 1732,\"y\" : 10},{\"x\" : 1733,\"y\" : 2},{\"x\" : 1733,\"y\" : 10},{\"x\" : 1734,\"y\" : 2},{\"x\" : 1734,\"y\" : 8},{\"x\" : 1734,\"y\" : 10},{\"x\" : 1735,\"y\" : 2},{\"x\" : 1735,\"y\" : 8},{\"x\" : 1735,\"y\" : 10},{\"x\" : 1736,\"y\" : 2},{\"x\" : 1736,\"y\" : 8},{\"x\" : 1736,\"y\" : 10},{\"x\" : 1737,\"y\" : 2},{\"x\" : 1737,\"y\" : 8},{\"x\" : 1737,\"y\" : 10},{\"x\" : 1738,\"y\" : 2},{\"x\" : 1738,\"y\" : 8},{\"x\" : 1738,\"y\" : 10},{\"x\" : 1739,\"y\" : 2},{\"x\" : 1739,\"y\" : 8},{\"x\" : 1739,\"y\" : 10},{\"x\" : 1740,\"y\" : 2},{\"x\" : 1740,\"y\" : 8},{\"x\" : 1740,\"y\" : 10},{\"x\" : 1741,\"y\" : 2},{\"x\" : 1741,\"y\" : 10},{\"x\" : 1742,\"y\" : 2},{\"x\" : 1742,\"y\" : 10},{\"x\" : 1743,\"y\" : 2},{\"x\" : 1743,\"y\" : 8},{\"x\" : 1743,\"y\" : 10},{\"x\" : 1744,\"y\" : 2},{\"x\" : 1744,\"y\" : 8},{\"x\" : 1744,\"y\" : 10},{\"x\" : 1745,\"y\" : 2},{\"x\" : 1745,\"y\" : 8},{\"x\" : 1745,\"y\" : 10},{\"x\" : 1746,\"y\" : 2},{\"x\" : 1746,\"y\" : 10},{\"x\" : 1747,\"y\" : 2},{\"x\" : 1747,\"y\" : 10},{\"x\" : 1748,\"y\" : 2},{\"x\" : 1748,\"y\" : 10},{\"x\" : 1749,\"y\" : 2},{\"x\" : 1749,\"y\" : 10},{\"x\" : 1750,\"y\" : 2},{\"x\" : 1750,\"y\" : 8},{\"x\" : 1750,\"y\" : 10},{\"x\" : 1751,\"y\" : 2},{\"x\" : 1751,\"y\" : 8},{\"x\" : 1751,\"y\" : 10},{\"x\" : 1752,\"y\" : 2},{\"x\" : 1752,\"y\" : 8},{\"x\" : 1752,\"y\" : 10},{\"x\" : 1753,\"y\" : 2},{\"x\" : 1753,\"y\" : 8},{\"x\" : 1753,\"y\" : 10},{\"x\" : 1754,\"y\" : 2},{\"x\" : 1754,\"y\" : 8},{\"x\" : 1754,\"y\" : 10},{\"x\" : 1755,\"y\" : 2},{\"x\" : 1755,\"y\" : 8},{\"x\" : 1755,\"y\" : 10},{\"x\" : 1756,\"y\" : 2},{\"x\" : 1756,\"y\" : 10},{\"x\" : 1757,\"y\" : 2},{\"x\" : 1757,\"y\" : 8},{\"x\" : 1757,\"y\" : 10},{\"x\" : 1758,\"y\" : 2},{\"x\" : 1758,\"y\" : 8},{\"x\" : 1758,\"y\" : 10},{\"x\" : 1759,\"y\" : 2},{\"x\" : 1759,\"y\" : 8},{\"x\" : 1759,\"y\" : 10},{\"x\" : 1760,\"y\" : 2},{\"x\" : 1760,\"y\" : 8},{\"x\" : 1760,\"y\" : 10},{\"x\" : 1761,\"y\" : 2},{\"x\" : 1761,\"y\" : 10},{\"x\" : 1762,\"y\" : 2},{\"x\" : 1762,\"y\" : 10},{\"x\" : 1763,\"y\" : 2},{\"x\" : 1763,\"y\" : 10},{\"x\" : 1764,\"y\" : 2},{\"x\" : 1764,\"y\" : 8},{\"x\" : 1764,\"y\" : 10},{\"x\" : 1765,\"y\" : 2},{\"x\" : 1765,\"y\" : 8},{\"x\" : 1765,\"y\" : 10},{\"x\" : 1766,\"y\" : 2},{\"x\" : 1766,\"y\" : 10},{\"x\" : 1767,\"y\" : 2},{\"x\" : 1767,\"y\" : 10},{\"x\" : 1768,\"y\" : 2},{\"x\" : 1768,\"y\" : 8},{\"x\" : 1768,\"y\" : 10},{\"x\" : 1769,\"y\" : 2},{\"x\" : 1769,\"y\" : 8},{\"x\" : 1769,\"y\" : 10},{\"x\" : 1770,\"y\" : 2},{\"x\" : 1770,\"y\" : 8},{\"x\" : 1770,\"y\" : 10},{\"x\" : 1771,\"y\" : 2},{\"x\" : 1771,\"y\" : 8},{\"x\" : 1771,\"y\" : 10},{\"x\" : 1772,\"y\" : 2},{\"x\" : 1772,\"y\" : 8},{\"x\" : 1772,\"y\" : 10},{\"x\" : 1773,\"y\" : 2},{\"x\" : 1773,\"y\" : 8},{\"x\" : 1773,\"y\" : 10},{\"x\" : 1774,\"y\" : 2},{\"x\" : 1774,\"y\" : 8},{\"x\" : 1774,\"y\" : 10},{\"x\" : 1775,\"y\" : 2},{\"x\" : 1775,\"y\" : 8},{\"x\" : 1775,\"y\" : 10},{\"x\" : 1776,\"y\" : 2},{\"x\" : 1776,\"y\" : 10},{\"x\" : 1777,\"y\" : 2},{\"x\" : 1777,\"y\" : 10},{\"x\" : 1778,\"y\" : 2},{\"x\" : 1778,\"y\" : 8},{\"x\" : 1778,\"y\" : 10},{\"x\" : 1779,\"y\" : 2},{\"x\" : 1779,\"y\" : 8},{\"x\" : 1779,\"y\" : 10},{\"x\" : 1780,\"y\" : 2},{\"x\" : 1780,\"y\" : 8},{\"x\" : 1780,\"y\" : 10},{\"x\" : 1781,\"y\" : 2},{\"x\" : 1781,\"y\" : 10},{\"x\" : 1782,\"y\" : 2},{\"x\" : 1782,\"y\" : 10},{\"x\" : 1783,\"y\" : 2},{\"x\" : 1783,\"y\" : 10},{\"x\" : 1784,\"y\" : 2},{\"x\" : 1784,\"y\" : 10},{\"x\" : 1785,\"y\" : 2},{\"x\" : 1785,\"y\" : 6},{\"x\" : 1785,\"y\" : 8},{\"x\" : 1785,\"y\" : 10},{\"x\" : 1786,\"y\" : 2},{\"x\" : 1786,\"y\" : 8},{\"x\" : 1786,\"y\" : 10},{\"x\" : 1787,\"y\" : 2},{\"x\" : 1787,\"y\" : 8},{\"x\" : 1787,\"y\" : 10},{\"x\" : 1788,\"y\" : 2},{\"x\" : 1788,\"y\" : 8},{\"x\" : 1788,\"y\" : 10},{\"x\" : 1789,\"y\" : 2},{\"x\" : 1789,\"y\" : 8},{\"x\" : 1789,\"y\" : 10},{\"x\" : 1790,\"y\" : 2},{\"x\" : 1790,\"y\" : 8},{\"x\" : 1790,\"y\" : 10},{\"x\" : 1791,\"y\" : 2},{\"x\" : 1791,\"y\" : 10},{\"x\" : 1792,\"y\" : 2},{\"x\" : 1792,\"y\" : 8},{\"x\" : 1792,\"y\" : 10},{\"x\" : 1793,\"y\" : 2},{\"x\" : 1793,\"y\" : 8},{\"x\" : 1793,\"y\" : 10},{\"x\" : 1794,\"y\" : 2},{\"x\" : 1794,\"y\" : 8},{\"x\" : 1794,\"y\" : 10},{\"x\" : 1795,\"y\" : 2},{\"x\" : 1795,\"y\" : 8},{\"x\" : 1795,\"y\" : 10},{\"x\" : 1796,\"y\" : 2},{\"x\" : 1796,\"y\" : 10},{\"x\" : 1797,\"y\" : 2},{\"x\" : 1797,\"y\" : 10},{\"x\" : 1798,\"y\" : 2},{\"x\" : 1798,\"y\" : 10},{\"x\" : 1799,\"y\" : 2},{\"x\" : 1799,\"y\" : 8},{\"x\" : 1799,\"y\" : 10},{\"x\" : 1800,\"y\" : 2},{\"x\" : 1800,\"y\" : 8},{\"x\" : 1800,\"y\" : 10},{\"x\" : 1801,\"y\" : 2},{\"x\" : 1801,\"y\" : 10},{\"x\" : 1802,\"y\" : 2},{\"x\" : 1802,\"y\" : 8},{\"x\" : 1802,\"y\" : 10},{\"x\" : 1803,\"y\" : 2},{\"x\" : 1803,\"y\" : 8},{\"x\" : 1803,\"y\" : 10},{\"x\" : 1804,\"y\" : 2},{\"x\" : 1804,\"y\" : 8},{\"x\" : 1804,\"y\" : 10},{\"x\" : 1805,\"y\" : 2},{\"x\" : 1805,\"y\" : 8},{\"x\" : 1805,\"y\" : 10},{\"x\" : 1806,\"y\" : 2},{\"x\" : 1806,\"y\" : 8},{\"x\" : 1806,\"y\" : 10},{\"x\" : 1807,\"y\" : 2},{\"x\" : 1807,\"y\" : 8},{\"x\" : 1807,\"y\" : 10},{\"x\" : 1808,\"y\" : 2},{\"x\" : 1808,\"y\" : 8},{\"x\" : 1808,\"y\" : 10},{\"x\" : 1809,\"y\" : 2},{\"x\" : 1809,\"y\" : 8},{\"x\" : 1809,\"y\" : 10},{\"x\" : 1810,\"y\" : 2},{\"x\" : 1810,\"y\" : 8},{\"x\" : 1810,\"y\" : 10},{\"x\" : 1811,\"y\" : 2},{\"x\" : 1811,\"y\" : 10},{\"x\" : 1812,\"y\" : 2},{\"x\" : 1812,\"y\" : 10},{\"x\" : 1813,\"y\" : 2},{\"x\" : 1813,\"y\" : 8},{\"x\" : 1813,\"y\" : 10},{\"x\" : 1814,\"y\" : 2},{\"x\" : 1814,\"y\" : 8},{\"x\" : 1814,\"y\" : 10},{\"x\" : 1815,\"y\" : 2},{\"x\" : 1815,\"y\" : 8},{\"x\" : 1815,\"y\" : 10},{\"x\" : 1816,\"y\" : 2},{\"x\" : 1816,\"y\" : 10},{\"x\" : 1817,\"y\" : 2},{\"x\" : 1817,\"y\" : 10},{\"x\" : 1818,\"y\" : 2},{\"x\" : 1818,\"y\" : 10},{\"x\" : 1819,\"y\" : 2},{\"x\" : 1819,\"y\" : 8},{\"x\" : 1819,\"y\" : 10},{\"x\" : 1820,\"y\" : 2},{\"x\" : 1820,\"y\" : 6},{\"x\" : 1820,\"y\" : 8},{\"x\" : 1820,\"y\" : 10},{\"x\" : 1821,\"y\" : 2},{\"x\" : 1821,\"y\" : 8},{\"x\" : 1821,\"y\" : 10},{\"x\" : 1822,\"y\" : 2},{\"x\" : 1822,\"y\" : 8},{\"x\" : 1822,\"y\" : 10},{\"x\" : 1823,\"y\" : 2},{\"x\" : 1823,\"y\" : 8},{\"x\" : 1823,\"y\" : 10},{\"x\" : 1824,\"y\" : 2},{\"x\" : 1824,\"y\" : 8},{\"x\" : 1824,\"y\" : 10},{\"x\" : 1825,\"y\" : 2},{\"x\" : 1825,\"y\" : 8},{\"x\" : 1825,\"y\" : 10},{\"x\" : 1826,\"y\" : 2},{\"x\" : 1826,\"y\" : 10},{\"x\" : 1827,\"y\" : 2},{\"x\" : 1827,\"y\" : 8},{\"x\" : 1827,\"y\" : 10},{\"x\" : 1828,\"y\" : 2},{\"x\" : 1828,\"y\" : 8},{\"x\" : 1828,\"y\" : 10},{\"x\" : 1829,\"y\" : 2},{\"x\" : 1829,\"y\" : 8},{\"x\" : 1829,\"y\" : 10},{\"x\" : 1830,\"y\" : 2},{\"x\" : 1830,\"y\" : 8},{\"x\" : 1830,\"y\" : 10},{\"x\" : 1831,\"y\" : 2},{\"x\" : 1831,\"y\" : 10},{\"x\" : 1832,\"y\" : 2},{\"x\" : 1832,\"y\" : 10},{\"x\" : 1833,\"y\" : 2},{\"x\" : 1833,\"y\" : 10},{\"x\" : 1834,\"y\" : 2},{\"x\" : 1834,\"y\" : 8},{\"x\" : 1834,\"y\" : 10},{\"x\" : 1835,\"y\" : 2},{\"x\" : 1835,\"y\" : 8},{\"x\" : 1835,\"y\" : 10},{\"x\" : 1836,\"y\" : 2},{\"x\" : 1836,\"y\" : 8},{\"x\" : 1836,\"y\" : 10},{\"x\" : 1837,\"y\" : 2},{\"x\" : 1837,\"y\" : 8},{\"x\" : 1837,\"y\" : 10},{\"x\" : 1838,\"y\" : 2},{\"x\" : 1838,\"y\" : 8},{\"x\" : 1838,\"y\" : 10},{\"x\" : 1839,\"y\" : 2},{\"x\" : 1839,\"y\" : 8},{\"x\" : 1839,\"y\" : 10},{\"x\" : 1840,\"y\" : 2},{\"x\" : 1840,\"y\" : 8},{\"x\" : 1840,\"y\" : 10},{\"x\" : 1841,\"y\" : 2},{\"x\" : 1841,\"y\" : 8},{\"x\" : 1841,\"y\" : 10},{\"x\" : 1842,\"y\" : 2},{\"x\" : 1842,\"y\" : 8},{\"x\" : 1842,\"y\" : 10},{\"x\" : 1843,\"y\" : 2},{\"x\" : 1843,\"y\" : 8},{\"x\" : 1843,\"y\" : 10},{\"x\" : 1844,\"y\" : 2},{\"x\" : 1844,\"y\" : 8},{\"x\" : 1844,\"y\" : 10},{\"x\" : 1845,\"y\" : 2},{\"x\" : 1845,\"y\" : 8},{\"x\" : 1845,\"y\" : 10},{\"x\" : 1846,\"y\" : 2},{\"x\" : 1846,\"y\" : 10},{\"x\" : 1847,\"y\" : 2},{\"x\" : 1847,\"y\" : 10},{\"x\" : 1848,\"y\" : 2},{\"x\" : 1848,\"y\" : 8},{\"x\" : 1848,\"y\" : 10},{\"x\" : 1849,\"y\" : 2},{\"x\" : 1849,\"y\" : 8},{\"x\" : 1849,\"y\" : 10},{\"x\" : 1850,\"y\" : 2},{\"x\" : 1850,\"y\" : 8},{\"x\" : 1850,\"y\" : 10},{\"x\" : 1851,\"y\" : 2},{\"x\" : 1851,\"y\" : 10},{\"x\" : 1852,\"y\" : 2},{\"x\" : 1852,\"y\" : 10},{\"x\" : 1853,\"y\" : 2},{\"x\" : 1853,\"y\" : 8},{\"x\" : 1853,\"y\" : 10},{\"x\" : 1854,\"y\" : 2},{\"x\" : 1854,\"y\" : 8},{\"x\" : 1854,\"y\" : 10},{\"x\" : 1855,\"y\" : 2},{\"x\" : 1855,\"y\" : 6},{\"x\" : 1855,\"y\" : 8},{\"x\" : 1855,\"y\" : 10},{\"x\" : 1856,\"y\" : 2},{\"x\" : 1856,\"y\" : 8},{\"x\" : 1856,\"y\" : 10},{\"x\" : 1857,\"y\" : 2},{\"x\" : 1857,\"y\" : 8},{\"x\" : 1857,\"y\" : 10},{\"x\" : 1858,\"y\" : 2},{\"x\" : 1858,\"y\" : 8},{\"x\" : 1858,\"y\" : 10},{\"x\" : 1859,\"y\" : 2},{\"x\" : 1859,\"y\" : 8},{\"x\" : 1859,\"y\" : 10},{\"x\" : 1860,\"y\" : 2},{\"x\" : 1860,\"y\" : 8},{\"x\" : 1860,\"y\" : 10},{\"x\" : 1861,\"y\" : 2},{\"x\" : 1861,\"y\" : 10},{\"x\" : 1862,\"y\" : 2},{\"x\" : 1862,\"y\" : 8},{\"x\" : 1862,\"y\" : 10},{\"x\" : 1863,\"y\" : 2},{\"x\" : 1863,\"y\" : 8},{\"x\" : 1863,\"y\" : 10},{\"x\" : 1864,\"y\" : 2},{\"x\" : 1864,\"y\" : 8},{\"x\" : 1864,\"y\" : 10},{\"x\" : 1865,\"y\" : 2},{\"x\" : 1865,\"y\" : 8},{\"x\" : 1865,\"y\" : 10},{\"x\" : 1866,\"y\" : 2},{\"x\" : 1866,\"y\" : 10},{\"x\" : 1867,\"y\" : 2},{\"x\" : 1867,\"y\" : 10},{\"x\" : 1868,\"y\" : 2},{\"x\" : 1868,\"y\" : 10},{\"x\" : 1869,\"y\" : 2},{\"x\" : 1869,\"y\" : 8},{\"x\" : 1869,\"y\" : 10},{\"x\" : 1870,\"y\" : 2},{\"x\" : 1870,\"y\" : 6},{\"x\" : 1870,\"y\" : 8},{\"x\" : 1870,\"y\" : 10},{\"x\" : 1871,\"y\" : 2},{\"x\" : 1871,\"y\" : 8},{\"x\" : 1871,\"y\" : 10},{\"x\" : 1872,\"y\" : 2},{\"x\" : 1872,\"y\" : 8},{\"x\" : 1872,\"y\" : 10},{\"x\" : 1873,\"y\" : 2},{\"x\" : 1873,\"y\" : 8},{\"x\" : 1873,\"y\" : 10},{\"x\" : 1874,\"y\" : 2},{\"x\" : 1874,\"y\" : 8},{\"x\" : 1874,\"y\" : 10},{\"x\" : 1875,\"y\" : 2},{\"x\" : 1875,\"y\" : 8},{\"x\" : 1875,\"y\" : 10},{\"x\" : 1876,\"y\" : 2},{\"x\" : 1876,\"y\" : 8},{\"x\" : 1876,\"y\" : 10},{\"x\" : 1877,\"y\" : 2},{\"x\" : 1877,\"y\" : 8},{\"x\" : 1877,\"y\" : 10},{\"x\" : 1878,\"y\" : 2},{\"x\" : 1878,\"y\" : 8},{\"x\" : 1878,\"y\" : 10},{\"x\" : 1879,\"y\" : 2},{\"x\" : 1879,\"y\" : 8},{\"x\" : 1879,\"y\" : 10},{\"x\" : 1880,\"y\" : 2},{\"x\" : 1880,\"y\" : 8},{\"x\" : 1880,\"y\" : 10},{\"x\" : 1881,\"y\" : 2},{\"x\" : 1881,\"y\" : 10},{\"x\" : 1882,\"y\" : 2},{\"x\" : 1882,\"y\" : 10},{\"x\" : 1883,\"y\" : 2},{\"x\" : 1883,\"y\" : 8},{\"x\" : 1883,\"y\" : 10},{\"x\" : 1884,\"y\" : 2},{\"x\" : 1884,\"y\" : 8},{\"x\" : 1884,\"y\" : 10},{\"x\" : 1885,\"y\" : 2},{\"x\" : 1885,\"y\" : 8},{\"x\" : 1885,\"y\" : 10},{\"x\" : 1886,\"y\" : 2},{\"x\" : 1886,\"y\" : 10},{\"x\" : 1887,\"y\" : 2},{\"x\" : 1887,\"y\" : 8},{\"x\" : 1887,\"y\" : 10},{\"x\" : 1888,\"y\" : 2},{\"x\" : 1888,\"y\" : 8},{\"x\" : 1888,\"y\" : 10},{\"x\" : 1889,\"y\" : 2},{\"x\" : 1889,\"y\" : 8},{\"x\" : 1889,\"y\" : 10},{\"x\" : 1890,\"y\" : 2},{\"x\" : 1890,\"y\" : 6},{\"x\" : 1890,\"y\" : 8},{\"x\" : 1890,\"y\" : 10},{\"x\" : 1891,\"y\" : 2},{\"x\" : 1891,\"y\" : 8},{\"x\" : 1891,\"y\" : 10},{\"x\" : 1892,\"y\" : 2},{\"x\" : 1892,\"y\" : 8},{\"x\" : 1892,\"y\" : 10},{\"x\" : 1893,\"y\" : 2},{\"x\" : 1893,\"y\" : 8},{\"x\" : 1893,\"y\" : 10},{\"x\" : 1894,\"y\" : 2},{\"x\" : 1894,\"y\" : 8},{\"x\" : 1894,\"y\" : 10},{\"x\" : 1895,\"y\" : 2},{\"x\" : 1895,\"y\" : 8},{\"x\" : 1895,\"y\" : 10},{\"x\" : 1896,\"y\" : 2},{\"x\" : 1896,\"y\" : 10},{\"x\" : 1897,\"y\" : 2},{\"x\" : 1897,\"y\" : 8},{\"x\" : 1897,\"y\" : 10},{\"x\" : 1898,\"y\" : 2},{\"x\" : 1898,\"y\" : 8},{\"x\" : 1898,\"y\" : 10},{\"x\" : 1899,\"y\" : 2},{\"x\" : 1899,\"y\" : 8},{\"x\" : 1899,\"y\" : 10},{\"x\" : 1900,\"y\" : 2},{\"x\" : 1900,\"y\" : 8},{\"x\" : 1900,\"y\" : 10},{\"x\" : 1901,\"y\" : 2},{\"x\" : 1901,\"y\" : 10},{\"x\" : 1902,\"y\" : 2},{\"x\" : 1902,\"y\" : 10},{\"x\" : 1903,\"y\" : 2},{\"x\" : 1903,\"y\" : 10},{\"x\" : 1904,\"y\" : 2},{\"x\" : 1904,\"y\" : 6},{\"x\" : 1904,\"y\" : 8},{\"x\" : 1904,\"y\" : 10},{\"x\" : 1905,\"y\" : 2},{\"x\" : 1905,\"y\" : 6},{\"x\" : 1905,\"y\" : 8},{\"x\" : 1905,\"y\" : 10},{\"x\" : 1906,\"y\" : 2},{\"x\" : 1906,\"y\" : 8},{\"x\" : 1906,\"y\" : 10},{\"x\" : 1907,\"y\" : 2},{\"x\" : 1907,\"y\" : 8},{\"x\" : 1907,\"y\" : 10},{\"x\" : 1908,\"y\" : 2},{\"x\" : 1908,\"y\" : 8},{\"x\" : 1908,\"y\" : 10},{\"x\" : 1909,\"y\" : 2},{\"x\" : 1909,\"y\" : 8},{\"x\" : 1909,\"y\" : 10},{\"x\" : 1910,\"y\" : 2},{\"x\" : 1910,\"y\" : 8},{\"x\" : 1910,\"y\" : 10},{\"x\" : 1911,\"y\" : 2},{\"x\" : 1911,\"y\" : 8},{\"x\" : 1911,\"y\" : 10},{\"x\" : 1912,\"y\" : 2},{\"x\" : 1912,\"y\" : 8},{\"x\" : 1912,\"y\" : 10},{\"x\" : 1913,\"y\" : 2},{\"x\" : 1913,\"y\" : 8},{\"x\" : 1913,\"y\" : 10},{\"x\" : 1914,\"y\" : 2},{\"x\" : 1914,\"y\" : 8},{\"x\" : 1914,\"y\" : 10},{\"x\" : 1915,\"y\" : 2},{\"x\" : 1915,\"y\" : 8},{\"x\" : 1915,\"y\" : 10},{\"x\" : 1916,\"y\" : 2},{\"x\" : 1916,\"y\" : 10},{\"x\" : 1917,\"y\" : 2},{\"x\" : 1917,\"y\" : 10},{\"x\" : 1918,\"y\" : 2},{\"x\" : 1918,\"y\" : 8},{\"x\" : 1918,\"y\" : 10},{\"x\" : 1919,\"y\" : 2},{\"x\" : 1919,\"y\" : 8},{\"x\" : 1919,\"y\" : 10},{\"x\" : 1920,\"y\" : 2},{\"x\" : 1920,\"y\" : 8},{\"x\" : 1920,\"y\" : 10},{\"x\" : 1921,\"y\" : 2},{\"x\" : 1921,\"y\" : 8},{\"x\" : 1921,\"y\" : 10},{\"x\" : 1922,\"y\" : 2},{\"x\" : 1922,\"y\" : 8},{\"x\" : 1922,\"y\" : 10},{\"x\" : 1923,\"y\" : 2},{\"x\" : 1923,\"y\" : 8},{\"x\" : 1923,\"y\" : 10},{\"x\" : 1924,\"y\" : 2},{\"x\" : 1924,\"y\" : 8},{\"x\" : 1924,\"y\" : 10},{\"x\" : 1925,\"y\" : 2},{\"x\" : 1925,\"y\" : 6},{\"x\" : 1925,\"y\" : 8},{\"x\" : 1925,\"y\" : 10},{\"x\" : 1926,\"y\" : 2},{\"x\" : 1926,\"y\" : 8},{\"x\" : 1926,\"y\" : 10},{\"x\" : 1927,\"y\" : 2},{\"x\" : 1927,\"y\" : 8},{\"x\" : 1927,\"y\" : 10},{\"x\" : 1928,\"y\" : 2},{\"x\" : 1928,\"y\" : 8},{\"x\" : 1928,\"y\" : 10},{\"x\" : 1929,\"y\" : 2},{\"x\" : 1929,\"y\" : 8},{\"x\" : 1929,\"y\" : 10},{\"x\" : 1930,\"y\" : 2},{\"x\" : 1930,\"y\" : 8},{\"x\" : 1930,\"y\" : 10},{\"x\" : 1931,\"y\" : 2},{\"x\" : 1931,\"y\" : 10},{\"x\" : 1932,\"y\" : 2},{\"x\" : 1932,\"y\" : 8},{\"x\" : 1932,\"y\" : 10},{\"x\" : 1933,\"y\" : 2},{\"x\" : 1933,\"y\" : 8},{\"x\" : 1933,\"y\" : 10},{\"x\" : 1934,\"y\" : 2},{\"x\" : 1934,\"y\" : 8},{\"x\" : 1934,\"y\" : 10},{\"x\" : 1935,\"y\" : 2},{\"x\" : 1935,\"y\" : 8},{\"x\" : 1935,\"y\" : 10},{\"x\" : 1936,\"y\" : 2},{\"x\" : 1936,\"y\" : 10},{\"x\" : 1937,\"y\" : 2},{\"x\" : 1937,\"y\" : 10},{\"x\" : 1938,\"y\" : 2},{\"x\" : 1938,\"y\" : 8},{\"x\" : 1938,\"y\" : 10},{\"x\" : 1939,\"y\" : 2},{\"x\" : 1939,\"y\" : 6},{\"x\" : 1939,\"y\" : 8},{\"x\" : 1939,\"y\" : 10},{\"x\" : 1940,\"y\" : 2},{\"x\" : 1940,\"y\" : 6},{\"x\" : 1940,\"y\" : 8},{\"x\" : 1940,\"y\" : 10},{\"x\" : 1941,\"y\" : 2},{\"x\" : 1941,\"y\" : 8},{\"x\" : 1941,\"y\" : 10},{\"x\" : 1942,\"y\" : 2},{\"x\" : 1942,\"y\" : 8},{\"x\" : 1942,\"y\" : 10},{\"x\" : 1943,\"y\" : 2},{\"x\" : 1943,\"y\" : 8},{\"x\" : 1943,\"y\" : 10},{\"x\" : 1944,\"y\" : 2},{\"x\" : 1944,\"y\" : 8},{\"x\" : 1944,\"y\" : 10},{\"x\" : 1945,\"y\" : 2},{\"x\" : 1945,\"y\" : 8},{\"x\" : 1945,\"y\" : 10},{\"x\" : 1946,\"y\" : 2},{\"x\" : 1946,\"y\" : 8},{\"x\" : 1946,\"y\" : 10},{\"x\" : 1947,\"y\" : 2},{\"x\" : 1947,\"y\" : 8},{\"x\" : 1947,\"y\" : 10},{\"x\" : 1948,\"y\" : 2},{\"x\" : 1948,\"y\" : 8},{\"x\" : 1948,\"y\" : 10},{\"x\" : 1949,\"y\" : 2},{\"x\" : 1949,\"y\" : 8},{\"x\" : 1949,\"y\" : 10},{\"x\" : 1950,\"y\" : 2},{\"x\" : 1950,\"y\" : 8},{\"x\" : 1950,\"y\" : 10},{\"x\" : 1951,\"y\" : 2},{\"x\" : 1951,\"y\" : 10},{\"x\" : 1952,\"y\" : 2},{\"x\" : 1952,\"y\" : 10},{\"x\" : 1953,\"y\" : 2},{\"x\" : 1953,\"y\" : 8},{\"x\" : 1953,\"y\" : 10},{\"x\" : 1954,\"y\" : 2},{\"x\" : 1954,\"y\" : 8},{\"x\" : 1954,\"y\" : 10},{\"x\" : 1955,\"y\" : 2},{\"x\" : 1955,\"y\" : 6},{\"x\" : 1955,\"y\" : 8},{\"x\" : 1955,\"y\" : 10},{\"x\" : 1956,\"y\" : 2},{\"x\" : 1956,\"y\" : 8},{\"x\" : 1956,\"y\" : 10},{\"x\" : 1957,\"y\" : 2},{\"x\" : 1957,\"y\" : 8},{\"x\" : 1957,\"y\" : 10},{\"x\" : 1958,\"y\" : 2},{\"x\" : 1958,\"y\" : 8},{\"x\" : 1958,\"y\" : 10},{\"x\" : 1959,\"y\" : 2},{\"x\" : 1959,\"y\" : 8},{\"x\" : 1959,\"y\" : 10},{\"x\" : 1960,\"y\" : 2},{\"x\" : 1960,\"y\" : 6},{\"x\" : 1960,\"y\" : 8},{\"x\" : 1960,\"y\" : 10},{\"x\" : 1961,\"y\" : 2},{\"x\" : 1961,\"y\" : 8},{\"x\" : 1961,\"y\" : 10},{\"x\" : 1962,\"y\" : 2},{\"x\" : 1962,\"y\" : 8},{\"x\" : 1962,\"y\" : 10},{\"x\" : 1963,\"y\" : 2},{\"x\" : 1963,\"y\" : 8},{\"x\" : 1963,\"y\" : 10},{\"x\" : 1964,\"y\" : 2},{\"x\" : 1964,\"y\" : 8},{\"x\" : 1964,\"y\" : 10},{\"x\" : 1965,\"y\" : 2},{\"x\" : 1965,\"y\" : 8},{\"x\" : 1965,\"y\" : 10},{\"x\" : 1966,\"y\" : 2},{\"x\" : 1966,\"y\" : 10},{\"x\" : 1967,\"y\" : 2},{\"x\" : 1967,\"y\" : 8},{\"x\" : 1967,\"y\" : 10},{\"x\" : 1968,\"y\" : 2},{\"x\" : 1968,\"y\" : 8},{\"x\" : 1968,\"y\" : 10},{\"x\" : 1969,\"y\" : 2},{\"x\" : 1969,\"y\" : 8},{\"x\" : 1969,\"y\" : 10},{\"x\" : 1970,\"y\" : 2},{\"x\" : 1970,\"y\" : 8},{\"x\" : 1970,\"y\" : 10},{\"x\" : 1971,\"y\" : 2},{\"x\" : 1971,\"y\" : 10},{\"x\" : 1972,\"y\" : 2},{\"x\" : 1972,\"y\" : 8},{\"x\" : 1972,\"y\" : 10},{\"x\" : 1973,\"y\" : 2},{\"x\" : 1973,\"y\" : 8},{\"x\" : 1973,\"y\" : 10},{\"x\" : 1974,\"y\" : 2},{\"x\" : 1974,\"y\" : 6},{\"x\" : 1974,\"y\" : 8},{\"x\" : 1974,\"y\" : 10},{\"x\" : 1975,\"y\" : 2},{\"x\" : 1975,\"y\" : 6},{\"x\" : 1975,\"y\" : 8},{\"x\" : 1975,\"y\" : 10},{\"x\" : 1976,\"y\" : 2},{\"x\" : 1976,\"y\" : 8},{\"x\" : 1976,\"y\" : 10},{\"x\" : 1977,\"y\" : 2},{\"x\" : 1977,\"y\" : 8},{\"x\" : 1977,\"y\" : 10},{\"x\" : 1978,\"y\" : 2},{\"x\" : 1978,\"y\" : 8},{\"x\" : 1978,\"y\" : 10},{\"x\" : 1979,\"y\" : 2},{\"x\" : 1979,\"y\" : 8},{\"x\" : 1979,\"y\" : 10},{\"x\" : 1980,\"y\" : 2},{\"x\" : 1980,\"y\" : 8},{\"x\" : 1980,\"y\" : 10},{\"x\" : 1981,\"y\" : 2},{\"x\" : 1981,\"y\" : 8},{\"x\" : 1981,\"y\" : 10},{\"x\" : 1982,\"y\" : 2},{\"x\" : 1982,\"y\" : 8},{\"x\" : 1982,\"y\" : 10},{\"x\" : 1983,\"y\" : 2},{\"x\" : 1983,\"y\" : 8},{\"x\" : 1983,\"y\" : 10},{\"x\" : 1984,\"y\" : 2},{\"x\" : 1984,\"y\" : 8},{\"x\" : 1984,\"y\" : 10},{\"x\" : 1985,\"y\" : 2},{\"x\" : 1985,\"y\" : 8},{\"x\" : 1985,\"y\" : 10},{\"x\" : 1986,\"y\" : 2},{\"x\" : 1986,\"y\" : 10},{\"x\" : 1987,\"y\" : 2},{\"x\" : 1987,\"y\" : 10},{\"x\" : 1988,\"y\" : 2},{\"x\" : 1988,\"y\" : 8},{\"x\" : 1988,\"y\" : 10},{\"x\" : 1989,\"y\" : 2},{\"x\" : 1989,\"y\" : 6},{\"x\" : 1989,\"y\" : 8},{\"x\" : 1989,\"y\" : 10},{\"x\" : 1990,\"y\" : 2},{\"x\" : 1990,\"y\" : 6},{\"x\" : 1990,\"y\" : 8},{\"x\" : 1990,\"y\" : 10},{\"x\" : 1991,\"y\" : 2},{\"x\" : 1991,\"y\" : 8},{\"x\" : 1991,\"y\" : 10},{\"x\" : 1992,\"y\" : 2},{\"x\" : 1992,\"y\" : 8},{\"x\" : 1992,\"y\" : 10},{\"x\" : 1993,\"y\" : 2},{\"x\" : 1993,\"y\" : 8},{\"x\" : 1993,\"y\" : 10},{\"x\" : 1994,\"y\" : 2},{\"x\" : 1994,\"y\" : 8},{\"x\" : 1994,\"y\" : 10},{\"x\" : 1995,\"y\" : 2},{\"x\" : 1995,\"y\" : 6},{\"x\" : 1995,\"y\" : 8},{\"x\" : 1995,\"y\" : 10},{\"x\" : 1996,\"y\" : 2},{\"x\" : 1996,\"y\" : 8},{\"x\" : 1996,\"y\" : 10},{\"x\" : 1997,\"y\" : 2},{\"x\" : 1997,\"y\" : 8},{\"x\" : 1997,\"y\" : 10},{\"x\" : 1998,\"y\" : 2},{\"x\" : 1998,\"y\" : 8},{\"x\" : 1998,\"y\" : 10},{\"x\" : 1999,\"y\" : 2},{\"x\" : 1999,\"y\" : 8},{\"x\" : 1999,\"y\" : 10},{\"x\" : 2000,\"y\" : 2},{\"x\" : 2000,\"y\" : 8},{\"x\" : 2000,\"y\" : 10},{\"x\" : 2001,\"y\" : 2},{\"x\" : 2001,\"y\" : 10},{\"x\" : 2002,\"y\" : 2},{\"x\" : 2002,\"y\" : 8},{\"x\" : 2002,\"y\" : 10},{\"x\" : 2003,\"y\" : 2},{\"x\" : 2003,\"y\" : 8},{\"x\" : 2003,\"y\" : 10},{\"x\" : 2004,\"y\" : 2},{\"x\" : 2004,\"y\" : 8},{\"x\" : 2004,\"y\" : 10},{\"x\" : 2005,\"y\" : 2},{\"x\" : 2005,\"y\" : 8},{\"x\" : 2005,\"y\" : 10},{\"x\" : 2006,\"y\" : 2},{\"x\" : 2006,\"y\" : 8},{\"x\" : 2006,\"y\" : 10},{\"x\" : 2007,\"y\" : 2},{\"x\" : 2007,\"y\" : 8},{\"x\" : 2007,\"y\" : 10},{\"x\" : 2008,\"y\" : 2},{\"x\" : 2008,\"y\" : 8},{\"x\" : 2008,\"y\" : 10},{\"x\" : 2009,\"y\" : 2},{\"x\" : 2009,\"y\" : 6},{\"x\" : 2009,\"y\" : 8},{\"x\" : 2009,\"y\" : 10},{\"x\" : 2010,\"y\" : 2},{\"x\" : 2010,\"y\" : 6},{\"x\" : 2010,\"y\" : 8},{\"x\" : 2010,\"y\" : 10},{\"x\" : 2011,\"y\" : 2},{\"x\" : 2011,\"y\" : 8},{\"x\" : 2011,\"y\" : 10},{\"x\" : 2012,\"y\" : 2},{\"x\" : 2012,\"y\" : 8},{\"x\" : 2012,\"y\" : 10},{\"x\" : 2013,\"y\" : 2},{\"x\" : 2013,\"y\" : 8},{\"x\" : 2013,\"y\" : 10},{\"x\" : 2014,\"y\" : 2},{\"x\" : 2014,\"y\" : 8},{\"x\" : 2014,\"y\" : 10},{\"x\" : 2015,\"y\" : 2},{\"x\" : 2015,\"y\" : 8},{\"x\" : 2015,\"y\" : 10},{\"x\" : 2016,\"y\" : 2},{\"x\" : 2016,\"y\" : 8},{\"x\" : 2016,\"y\" : 10},{\"x\" : 2017,\"y\" : 2},{\"x\" : 2017,\"y\" : 8},{\"x\" : 2017,\"y\" : 10},{\"x\" : 2018,\"y\" : 2},{\"x\" : 2018,\"y\" : 8},{\"x\" : 2018,\"y\" : 10},{\"x\" : 2019,\"y\" : 2},{\"x\" : 2019,\"y\" : 8},{\"x\" : 2019,\"y\" : 10},{\"x\" : 2020,\"y\" : 2},{\"x\" : 2020,\"y\" : 8},{\"x\" : 2020,\"y\" : 10},{\"x\" : 2021,\"y\" : 2},{\"x\" : 2021,\"y\" : 10},{\"x\" : 2022,\"y\" : 2},{\"x\" : 2022,\"y\" : 10},{\"x\" : 2023,\"y\" : 2},{\"x\" : 2023,\"y\" : 6},{\"x\" : 2023,\"y\" : 8},{\"x\" : 2023,\"y\" : 10},{\"x\" : 2024,\"y\" : 2},{\"x\" : 2024,\"y\" : 6},{\"x\" : 2024,\"y\" : 8},{\"x\" : 2024,\"y\" : 10},{\"x\" : 2025,\"y\" : 2},{\"x\" : 2025,\"y\" : 6},{\"x\" : 2025,\"y\" : 8},{\"x\" : 2025,\"y\" : 10},{\"x\" : 2026,\"y\" : 2},{\"x\" : 2026,\"y\" : 8},{\"x\" : 2026,\"y\" : 10},{\"x\" : 2027,\"y\" : 2},{\"x\" : 2027,\"y\" : 8},{\"x\" : 2027,\"y\" : 10},{\"x\" : 2028,\"y\" : 2},{\"x\" : 2028,\"y\" : 8},{\"x\" : 2028,\"y\" : 10},{\"x\" : 2029,\"y\" : 2},{\"x\" : 2029,\"y\" : 8},{\"x\" : 2029,\"y\" : 10},{\"x\" : 2030,\"y\" : 2},{\"x\" : 2030,\"y\" : 6},{\"x\" : 2030,\"y\" : 8},{\"x\" : 2030,\"y\" : 10},{\"x\" : 2031,\"y\" : 2},{\"x\" : 2031,\"y\" : 8},{\"x\" : 2031,\"y\" : 10},{\"x\" : 2032,\"y\" : 2},{\"x\" : 2032,\"y\" : 8},{\"x\" : 2032,\"y\" : 10},{\"x\" : 2033,\"y\" : 2},{\"x\" : 2033,\"y\" : 8},{\"x\" : 2033,\"y\" : 10},{\"x\" : 2034,\"y\" : 2},{\"x\" : 2034,\"y\" : 8},{\"x\" : 2034,\"y\" : 10},{\"x\" : 2035,\"y\" : 2},{\"x\" : 2035,\"y\" : 8},{\"x\" : 2035,\"y\" : 10},{\"x\" : 2036,\"y\" : 2},{\"x\" : 2036,\"y\" : 10},{\"x\" : 2037,\"y\" : 2},{\"x\" : 2037,\"y\" : 8},{\"x\" : 2037,\"y\" : 10},{\"x\" : 2038,\"y\" : 2},{\"x\" : 2038,\"y\" : 8},{\"x\" : 2038,\"y\" : 10},{\"x\" : 2039,\"y\" : 2},{\"x\" : 2039,\"y\" : 8},{\"x\" : 2039,\"y\" : 10},{\"x\" : 2040,\"y\" : 2},{\"x\" : 2040,\"y\" : 6},{\"x\" : 2040,\"y\" : 8},{\"x\" : 2040,\"y\" : 10},{\"x\" : 2041,\"y\" : 2},{\"x\" : 2041,\"y\" : 8},{\"x\" : 2041,\"y\" : 10},{\"x\" : 2042,\"y\" : 2},{\"x\" : 2042,\"y\" : 8},{\"x\" : 2042,\"y\" : 10},{\"x\" : 2043,\"y\" : 2},{\"x\" : 2043,\"y\" : 8},{\"x\" : 2043,\"y\" : 10},{\"x\" : 2044,\"y\" : 2},{\"x\" : 2044,\"y\" : 6},{\"x\" : 2044,\"y\" : 8},{\"x\" : 2044,\"y\" : 10},{\"x\" : 2045,\"y\" : 2},{\"x\" : 2045,\"y\" : 6},{\"x\" : 2045,\"y\" : 8},{\"x\" : 2045,\"y\" : 10},{\"x\" : 2046,\"y\" : 2},{\"x\" : 2046,\"y\" : 8},{\"x\" : 2046,\"y\" : 10},{\"x\" : 2047,\"y\" : 2},{\"x\" : 2047,\"y\" : 8},{\"x\" : 2047,\"y\" : 10},{\"x\" : 2048,\"y\" : 2},{\"x\" : 2048,\"y\" : 8},{\"x\" : 2048,\"y\" : 10},{\"x\" : 2049,\"y\" : 2},{\"x\" : 2049,\"y\" : 8},{\"x\" : 2049,\"y\" : 10},{\"x\" : 2050,\"y\" : 2},{\"x\" : 2050,\"y\" : 8},{\"x\" : 2050,\"y\" : 10},{\"x\" : 2051,\"y\" : 2},{\"x\" : 2051,\"y\" : 8},{\"x\" : 2051,\"y\" : 10},{\"x\" : 2052,\"y\" : 2},{\"x\" : 2052,\"y\" : 8},{\"x\" : 2052,\"y\" : 10},{\"x\" : 2053,\"y\" : 2},{\"x\" : 2053,\"y\" : 8},{\"x\" : 2053,\"y\" : 10},{\"x\" : 2054,\"y\" : 2},{\"x\" : 2054,\"y\" : 8},{\"x\" : 2054,\"y\" : 10},{\"x\" : 2055,\"y\" : 2},{\"x\" : 2055,\"y\" : 8},{\"x\" : 2055,\"y\" : 10},{\"x\" : 2056,\"y\" : 2},{\"x\" : 2056,\"y\" : 10},{\"x\" : 2057,\"y\" : 2},{\"x\" : 2057,\"y\" : 8},{\"x\" : 2057,\"y\" : 10},{\"x\" : 2058,\"y\" : 2},{\"x\" : 2058,\"y\" : 6},{\"x\" : 2058,\"y\" : 8},{\"x\" : 2058,\"y\" : 10},{\"x\" : 2059,\"y\" : 2},{\"x\" : 2059,\"y\" : 6},{\"x\" : 2059,\"y\" : 8},{\"x\" : 2059,\"y\" : 10},{\"x\" : 2060,\"y\" : 2},{\"x\" : 2060,\"y\" : 6},{\"x\" : 2060,\"y\" : 8},{\"x\" : 2060,\"y\" : 10},{\"x\" : 2061,\"y\" : 2},{\"x\" : 2061,\"y\" : 8},{\"x\" : 2061,\"y\" : 10},{\"x\" : 2062,\"y\" : 2},{\"x\" : 2062,\"y\" : 8},{\"x\" : 2062,\"y\" : 10},{\"x\" : 2063,\"y\" : 2},{\"x\" : 2063,\"y\" : 8},{\"x\" : 2063,\"y\" : 10},{\"x\" : 2064,\"y\" : 2},{\"x\" : 2064,\"y\" : 8},{\"x\" : 2064,\"y\" : 10},{\"x\" : 2065,\"y\" : 2},{\"x\" : 2065,\"y\" : 6},{\"x\" : 2065,\"y\" : 8},{\"x\" : 2065,\"y\" : 10},{\"x\" : 2066,\"y\" : 2},{\"x\" : 2066,\"y\" : 8},{\"x\" : 2066,\"y\" : 10},{\"x\" : 2067,\"y\" : 2},{\"x\" : 2067,\"y\" : 8},{\"x\" : 2067,\"y\" : 10},{\"x\" : 2068,\"y\" : 2},{\"x\" : 2068,\"y\" : 8},{\"x\" : 2068,\"y\" : 10},{\"x\" : 2069,\"y\" : 2},{\"x\" : 2069,\"y\" : 8},{\"x\" : 2069,\"y\" : 10},{\"x\" : 2070,\"y\" : 2},{\"x\" : 2070,\"y\" : 8},{\"x\" : 2070,\"y\" : 10},{\"x\" : 2071,\"y\" : 2},{\"x\" : 2071,\"y\" : 10},{\"x\" : 2072,\"y\" : 2},{\"x\" : 2072,\"y\" : 8},{\"x\" : 2072,\"y\" : 10},{\"x\" : 2073,\"y\" : 2},{\"x\" : 2073,\"y\" : 8},{\"x\" : 2073,\"y\" : 10},{\"x\" : 2074,\"y\" : 2},{\"x\" : 2074,\"y\" : 6},{\"x\" : 2074,\"y\" : 8},{\"x\" : 2074,\"y\" : 10},{\"x\" : 2075,\"y\" : 2},{\"x\" : 2075,\"y\" : 6},{\"x\" : 2075,\"y\" : 8},{\"x\" : 2075,\"y\" : 10},{\"x\" : 2076,\"y\" : 2},{\"x\" : 2076,\"y\" : 8},{\"x\" : 2076,\"y\" : 10},{\"x\" : 2077,\"y\" : 2},{\"x\" : 2077,\"y\" : 8},{\"x\" : 2077,\"y\" : 10},{\"x\" : 2078,\"y\" : 2},{\"x\" : 2078,\"y\" : 8},{\"x\" : 2078,\"y\" : 10},{\"x\" : 2079,\"y\" : 2},{\"x\" : 2079,\"y\" : 6},{\"x\" : 2079,\"y\" : 8},{\"x\" : 2079,\"y\" : 10},{\"x\" : 2080,\"y\" : 2},{\"x\" : 2080,\"y\" : 6},{\"x\" : 2080,\"y\" : 8},{\"x\" : 2080,\"y\" : 10},{\"x\" : 2081,\"y\" : 2},{\"x\" : 2081,\"y\" : 8},{\"x\" : 2081,\"y\" : 10},{\"x\" : 2082,\"y\" : 2},{\"x\" : 2082,\"y\" : 8},{\"x\" : 2082,\"y\" : 10},{\"x\" : 2083,\"y\" : 2},{\"x\" : 2083,\"y\" : 8},{\"x\" : 2083,\"y\" : 10},{\"x\" : 2084,\"y\" : 2},{\"x\" : 2084,\"y\" : 8},{\"x\" : 2084,\"y\" : 10},{\"x\" : 2085,\"y\" : 2},{\"x\" : 2085,\"y\" : 8},{\"x\" : 2085,\"y\" : 10},{\"x\" : 2086,\"y\" : 2},{\"x\" : 2086,\"y\" : 8},{\"x\" : 2086,\"y\" : 10},{\"x\" : 2087,\"y\" : 2},{\"x\" : 2087,\"y\" : 8},{\"x\" : 2087,\"y\" : 10},{\"x\" : 2088,\"y\" : 2},{\"x\" : 2088,\"y\" : 8},{\"x\" : 2088,\"y\" : 10},{\"x\" : 2089,\"y\" : 2},{\"x\" : 2089,\"y\" : 8},{\"x\" : 2089,\"y\" : 10},{\"x\" : 2090,\"y\" : 2},{\"x\" : 2090,\"y\" : 8},{\"x\" : 2090,\"y\" : 10},{\"x\" : 2091,\"y\" : 2},{\"x\" : 2091,\"y\" : 8},{\"x\" : 2091,\"y\" : 10},{\"x\" : 2092,\"y\" : 2},{\"x\" : 2092,\"y\" : 8},{\"x\" : 2092,\"y\" : 10},{\"x\" : 2093,\"y\" : 2},{\"x\" : 2093,\"y\" : 6},{\"x\" : 2093,\"y\" : 8},{\"x\" : 2093,\"y\" : 10},{\"x\" : 2094,\"y\" : 2},{\"x\" : 2094,\"y\" : 6},{\"x\" : 2094,\"y\" : 8},{\"x\" : 2094,\"y\" : 10},{\"x\" : 2095,\"y\" : 2},{\"x\" : 2095,\"y\" : 6},{\"x\" : 2095,\"y\" : 8},{\"x\" : 2095,\"y\" : 10},{\"x\" : 2096,\"y\" : 2},{\"x\" : 2096,\"y\" : 8},{\"x\" : 2096,\"y\" : 10},{\"x\" : 2097,\"y\" : 2},{\"x\" : 2097,\"y\" : 8},{\"x\" : 2097,\"y\" : 10},{\"x\" : 2098,\"y\" : 2},{\"x\" : 2098,\"y\" : 8},{\"x\" : 2098,\"y\" : 10},{\"x\" : 2099,\"y\" : 2},{\"x\" : 2099,\"y\" : 8},{\"x\" : 2099,\"y\" : 10},{\"x\" : 2100,\"y\" : 2},{\"x\" : 2100,\"y\" : 6},{\"x\" : 2100,\"y\" : 8},{\"x\" : 2100,\"y\" : 10},{\"x\" : 2101,\"y\" : 2},{\"x\" : 2101,\"y\" : 8},{\"x\" : 2101,\"y\" : 10},{\"x\" : 2102,\"y\" : 2},{\"x\" : 2102,\"y\" : 8},{\"x\" : 2102,\"y\" : 10},{\"x\" : 2103,\"y\" : 2},{\"x\" : 2103,\"y\" : 8},{\"x\" : 2103,\"y\" : 10},{\"x\" : 2104,\"y\" : 2},{\"x\" : 2104,\"y\" : 8},{\"x\" : 2104,\"y\" : 10},{\"x\" : 2105,\"y\" : 2},{\"x\" : 2105,\"y\" : 8},{\"x\" : 2105,\"y\" : 10},{\"x\" : 2106,\"y\" : 2},{\"x\" : 2106,\"y\" : 10},{\"x\" : 2107,\"y\" : 2},{\"x\" : 2107,\"y\" : 8},{\"x\" : 2107,\"y\" : 10},{\"x\" : 2108,\"y\" : 2},{\"x\" : 2108,\"y\" : 6},{\"x\" : 2108,\"y\" : 8},{\"x\" : 2108,\"y\" : 10},{\"x\" : 2109,\"y\" : 2},{\"x\" : 2109,\"y\" : 6},{\"x\" : 2109,\"y\" : 8},{\"x\" : 2109,\"y\" : 10},{\"x\" : 2110,\"y\" : 2},{\"x\" : 2110,\"y\" : 6},{\"x\" : 2110,\"y\" : 8},{\"x\" : 2110,\"y\" : 10},{\"x\" : 2111,\"y\" : 2},{\"x\" : 2111,\"y\" : 8},{\"x\" : 2111,\"y\" : 10},{\"x\" : 2112,\"y\" : 2},{\"x\" : 2112,\"y\" : 8},{\"x\" : 2112,\"y\" : 10},{\"x\" : 2113,\"y\" : 2},{\"x\" : 2113,\"y\" : 8},{\"x\" : 2113,\"y\" : 10},{\"x\" : 2114,\"y\" : 2},{\"x\" : 2114,\"y\" : 6},{\"x\" : 2114,\"y\" : 8},{\"x\" : 2114,\"y\" : 10},{\"x\" : 2115,\"y\" : 2},{\"x\" : 2115,\"y\" : 6},{\"x\" : 2115,\"y\" : 8},{\"x\" : 2115,\"y\" : 10},{\"x\" : 2116,\"y\" : 2},{\"x\" : 2116,\"y\" : 8},{\"x\" : 2116,\"y\" : 10},{\"x\" : 2117,\"y\" : 2},{\"x\" : 2117,\"y\" : 8},{\"x\" : 2117,\"y\" : 10},{\"x\" : 2118,\"y\" : 2},{\"x\" : 2118,\"y\" : 8},{\"x\" : 2118,\"y\" : 10},{\"x\" : 2119,\"y\" : 2},{\"x\" : 2119,\"y\" : 8},{\"x\" : 2119,\"y\" : 10},{\"x\" : 2120,\"y\" : 2},{\"x\" : 2120,\"y\" : 8},{\"x\" : 2120,\"y\" : 10},{\"x\" : 2121,\"y\" : 2},{\"x\" : 2121,\"y\" : 8},{\"x\" : 2121,\"y\" : 10},{\"x\" : 2122,\"y\" : 2},{\"x\" : 2122,\"y\" : 8},{\"x\" : 2122,\"y\" : 10},{\"x\" : 2123,\"y\" : 2},{\"x\" : 2123,\"y\" : 8},{\"x\" : 2123,\"y\" : 10},{\"x\" : 2124,\"y\" : 2},{\"x\" : 2124,\"y\" : 8},{\"x\" : 2124,\"y\" : 10},{\"x\" : 2125,\"y\" : 2},{\"x\" : 2125,\"y\" : 6},{\"x\" : 2125,\"y\" : 8},{\"x\" : 2125,\"y\" : 10},{\"x\" : 2126,\"y\" : 2},{\"x\" : 2126,\"y\" : 8},{\"x\" : 2126,\"y\" : 10},{\"x\" : 2127,\"y\" : 2},{\"x\" : 2127,\"y\" : 8},{\"x\" : 2127,\"y\" : 10},{\"x\" : 2128,\"y\" : 2},{\"x\" : 2128,\"y\" : 6},{\"x\" : 2128,\"y\" : 8},{\"x\" : 2128,\"y\" : 10},{\"x\" : 2129,\"y\" : 2},{\"x\" : 2129,\"y\" : 6},{\"x\" : 2129,\"y\" : 8},{\"x\" : 2129,\"y\" : 10},{\"x\" : 2130,\"y\" : 2},{\"x\" : 2130,\"y\" : 6},{\"x\" : 2130,\"y\" : 8},{\"x\" : 2130,\"y\" : 10},{\"x\" : 2131,\"y\" : 2},{\"x\" : 2131,\"y\" : 8},{\"x\" : 2131,\"y\" : 10},{\"x\" : 2132,\"y\" : 2},{\"x\" : 2132,\"y\" : 8},{\"x\" : 2132,\"y\" : 10},{\"x\" : 2133,\"y\" : 2},{\"x\" : 2133,\"y\" : 8},{\"x\" : 2133,\"y\" : 10},{\"x\" : 2134,\"y\" : 2},{\"x\" : 2134,\"y\" : 8},{\"x\" : 2134,\"y\" : 10},{\"x\" : 2135,\"y\" : 2},{\"x\" : 2135,\"y\" : 6},{\"x\" : 2135,\"y\" : 8},{\"x\" : 2135,\"y\" : 10},{\"x\" : 2136,\"y\" : 2},{\"x\" : 2136,\"y\" : 8},{\"x\" : 2136,\"y\" : 10},{\"x\" : 2137,\"y\" : 2},{\"x\" : 2137,\"y\" : 8},{\"x\" : 2137,\"y\" : 10},{\"x\" : 2138,\"y\" : 2},{\"x\" : 2138,\"y\" : 8},{\"x\" : 2138,\"y\" : 10},{\"x\" : 2139,\"y\" : 2},{\"x\" : 2139,\"y\" : 8},{\"x\" : 2139,\"y\" : 10},{\"x\" : 2140,\"y\" : 2},{\"x\" : 2140,\"y\" : 8},{\"x\" : 2140,\"y\" : 10},{\"x\" : 2141,\"y\" : 2},{\"x\" : 2141,\"y\" : 10},{\"x\" : 2142,\"y\" : 2},{\"x\" : 2142,\"y\" : 6},{\"x\" : 2142,\"y\" : 8},{\"x\" : 2142,\"y\" : 10},{\"x\" : 2143,\"y\" : 2},{\"x\" : 2143,\"y\" : 6},{\"x\" : 2143,\"y\" : 8},{\"x\" : 2143,\"y\" : 10},{\"x\" : 2144,\"y\" : 2},{\"x\" : 2144,\"y\" : 6},{\"x\" : 2144,\"y\" : 8},{\"x\" : 2144,\"y\" : 10},{\"x\" : 2145,\"y\" : 2},{\"x\" : 2145,\"y\" : 6},{\"x\" : 2145,\"y\" : 8},{\"x\" : 2145,\"y\" : 10},{\"x\" : 2146,\"y\" : 2},{\"x\" : 2146,\"y\" : 8},{\"x\" : 2146,\"y\" : 10},{\"x\" : 2147,\"y\" : 2},{\"x\" : 2147,\"y\" : 8},{\"x\" : 2147,\"y\" : 10},{\"x\" : 2148,\"y\" : 2},{\"x\" : 2148,\"y\" : 8},{\"x\" : 2148,\"y\" : 10},{\"x\" : 2149,\"y\" : 2},{\"x\" : 2149,\"y\" : 6},{\"x\" : 2149,\"y\" : 8},{\"x\" : 2149,\"y\" : 10},{\"x\" : 2150,\"y\" : 2},{\"x\" : 2150,\"y\" : 6},{\"x\" : 2150,\"y\" : 8},{\"x\" : 2150,\"y\" : 10},{\"x\" : 2151,\"y\" : 2},{\"x\" : 2151,\"y\" : 8},{\"x\" : 2151,\"y\" : 10},{\"x\" : 2152,\"y\" : 2},{\"x\" : 2152,\"y\" : 8},{\"x\" : 2152,\"y\" : 10},{\"x\" : 2153,\"y\" : 2},{\"x\" : 2153,\"y\" : 8},{\"x\" : 2153,\"y\" : 10},{\"x\" : 2154,\"y\" : 2},{\"x\" : 2154,\"y\" : 8},{\"x\" : 2154,\"y\" : 10},{\"x\" : 2155,\"y\" : 2},{\"x\" : 2155,\"y\" : 8},{\"x\" : 2155,\"y\" : 10},{\"x\" : 2156,\"y\" : 2},{\"x\" : 2156,\"y\" : 8},{\"x\" : 2156,\"y\" : 10},{\"x\" : 2157,\"y\" : 2},{\"x\" : 2157,\"y\" : 8},{\"x\" : 2157,\"y\" : 10},{\"x\" : 2158,\"y\" : 2},{\"x\" : 2158,\"y\" : 8},{\"x\" : 2158,\"y\" : 10},{\"x\" : 2159,\"y\" : 2},{\"x\" : 2159,\"y\" : 6},{\"x\" : 2159,\"y\" : 8},{\"x\" : 2159,\"y\" : 10},{\"x\" : 2160,\"y\" : 2},{\"x\" : 2160,\"y\" : 6},{\"x\" : 2160,\"y\" : 8},{\"x\" : 2160,\"y\" : 10},{\"x\" : 2161,\"y\" : 2},{\"x\" : 2161,\"y\" : 8},{\"x\" : 2161,\"y\" : 10},{\"x\" : 2162,\"y\" : 2},{\"x\" : 2162,\"y\" : 8},{\"x\" : 2162,\"y\" : 10},{\"x\" : 2163,\"y\" : 2},{\"x\" : 2163,\"y\" : 6},{\"x\" : 2163,\"y\" : 8},{\"x\" : 2163,\"y\" : 10},{\"x\" : 2164,\"y\" : 2},{\"x\" : 2164,\"y\" : 6},{\"x\" : 2164,\"y\" : 8},{\"x\" : 2164,\"y\" : 10},{\"x\" : 2165,\"y\" : 2},{\"x\" : 2165,\"y\" : 6},{\"x\" : 2165,\"y\" : 8},{\"x\" : 2165,\"y\" : 10},{\"x\" : 2166,\"y\" : 2},{\"x\" : 2166,\"y\" : 8},{\"x\" : 2166,\"y\" : 10},{\"x\" : 2167,\"y\" : 2},{\"x\" : 2167,\"y\" : 8},{\"x\" : 2167,\"y\" : 10},{\"x\" : 2168,\"y\" : 2},{\"x\" : 2168,\"y\" : 8},{\"x\" : 2168,\"y\" : 10},{\"x\" : 2169,\"y\" : 2},{\"x\" : 2169,\"y\" : 8},{\"x\" : 2169,\"y\" : 10},{\"x\" : 2170,\"y\" : 2},{\"x\" : 2170,\"y\" : 6},{\"x\" : 2170,\"y\" : 8},{\"x\" : 2170,\"y\" : 10},{\"x\" : 2171,\"y\" : 2},{\"x\" : 2171,\"y\" : 8},{\"x\" : 2171,\"y\" : 10},{\"x\" : 2172,\"y\" : 2},{\"x\" : 2172,\"y\" : 8},{\"x\" : 2172,\"y\" : 10},{\"x\" : 2173,\"y\" : 2},{\"x\" : 2173,\"y\" : 8},{\"x\" : 2173,\"y\" : 10},{\"x\" : 2174,\"y\" : 2},{\"x\" : 2174,\"y\" : 8},{\"x\" : 2174,\"y\" : 10},{\"x\" : 2175,\"y\" : 2},{\"x\" : 2175,\"y\" : 8},{\"x\" : 2175,\"y\" : 10},{\"x\" : 2176,\"y\" : 2},{\"x\" : 2176,\"y\" : 8},{\"x\" : 2176,\"y\" : 10},{\"x\" : 2177,\"y\" : 2},{\"x\" : 2177,\"y\" : 6},{\"x\" : 2177,\"y\" : 8},{\"x\" : 2177,\"y\" : 10},{\"x\" : 2178,\"y\" : 2},{\"x\" : 2178,\"y\" : 6},{\"x\" : 2178,\"y\" : 8},{\"x\" : 2178,\"y\" : 10},{\"x\" : 2179,\"y\" : 2},{\"x\" : 2179,\"y\" : 6},{\"x\" : 2179,\"y\" : 8},{\"x\" : 2179,\"y\" : 10},{\"x\" : 2180,\"y\" : 2},{\"x\" : 2180,\"y\" : 6},{\"x\" : 2180,\"y\" : 8},{\"x\" : 2180,\"y\" : 10},{\"x\" : 2181,\"y\" : 2},{\"x\" : 2181,\"y\" : 8},{\"x\" : 2181,\"y\" : 10},{\"x\" : 2182,\"y\" : 2},{\"x\" : 2182,\"y\" : 8},{\"x\" : 2182,\"y\" : 10},{\"x\" : 2183,\"y\" : 2},{\"x\" : 2183,\"y\" : 8},{\"x\" : 2183,\"y\" : 10},{\"x\" : 2184,\"y\" : 2},{\"x\" : 2184,\"y\" : 6},{\"x\" : 2184,\"y\" : 8},{\"x\" : 2184,\"y\" : 10},{\"x\" : 2185,\"y\" : 2},{\"x\" : 2185,\"y\" : 6},{\"x\" : 2185,\"y\" : 8},{\"x\" : 2185,\"y\" : 10},{\"x\" : 2186,\"y\" : 2},{\"x\" : 2186,\"y\" : 8},{\"x\" : 2186,\"y\" : 10},{\"x\" : 2187,\"y\" : 2},{\"x\" : 2187,\"y\" : 8},{\"x\" : 2187,\"y\" : 10},{\"x\" : 2188,\"y\" : 2},{\"x\" : 2188,\"y\" : 8},{\"x\" : 2188,\"y\" : 10},{\"x\" : 2189,\"y\" : 2},{\"x\" : 2189,\"y\" : 8},{\"x\" : 2189,\"y\" : 10},{\"x\" : 2190,\"y\" : 2},{\"x\" : 2190,\"y\" : 8},{\"x\" : 2190,\"y\" : 10},{\"x\" : 2191,\"y\" : 2},{\"x\" : 2191,\"y\" : 8},{\"x\" : 2191,\"y\" : 10},{\"x\" : 2192,\"y\" : 2},{\"x\" : 2192,\"y\" : 8},{\"x\" : 2192,\"y\" : 10},{\"x\" : 2193,\"y\" : 2},{\"x\" : 2193,\"y\" : 6},{\"x\" : 2193,\"y\" : 8},{\"x\" : 2193,\"y\" : 10},{\"x\" : 2194,\"y\" : 2},{\"x\" : 2194,\"y\" : 6},{\"x\" : 2194,\"y\" : 8},{\"x\" : 2194,\"y\" : 10},{\"x\" : 2195,\"y\" : 2},{\"x\" : 2195,\"y\" : 6},{\"x\" : 2195,\"y\" : 8},{\"x\" : 2195,\"y\" : 10},{\"x\" : 2196,\"y\" : 2},{\"x\" : 2196,\"y\" : 8},{\"x\" : 2196,\"y\" : 10},{\"x\" : 2197,\"y\" : 2},{\"x\" : 2197,\"y\" : 8},{\"x\" : 2197,\"y\" : 10},{\"x\" : 2198,\"y\" : 2},{\"x\" : 2198,\"y\" : 6},{\"x\" : 2198,\"y\" : 8},{\"x\" : 2198,\"y\" : 10},{\"x\" : 2199,\"y\" : 2},{\"x\" : 2199,\"y\" : 6},{\"x\" : 2199,\"y\" : 8},{\"x\" : 2199,\"y\" : 10},{\"x\" : 2200,\"y\" : 2},{\"x\" : 2200,\"y\" : 6},{\"x\" : 2200,\"y\" : 8},{\"x\" : 2200,\"y\" : 10},{\"x\" : 2201,\"y\" : 2},{\"x\" : 2201,\"y\" : 8},{\"x\" : 2201,\"y\" : 10},{\"x\" : 2202,\"y\" : 2},{\"x\" : 2202,\"y\" : 8},{\"x\" : 2202,\"y\" : 10},{\"x\" : 2203,\"y\" : 2},{\"x\" : 2203,\"y\" : 8},{\"x\" : 2203,\"y\" : 10},{\"x\" : 2204,\"y\" : 2},{\"x\" : 2204,\"y\" : 8},{\"x\" : 2204,\"y\" : 10},{\"x\" : 2205,\"y\" : 2},{\"x\" : 2205,\"y\" : 6},{\"x\" : 2205,\"y\" : 8},{\"x\" : 2205,\"y\" : 10},{\"x\" : 2206,\"y\" : 2},{\"x\" : 2206,\"y\" : 8},{\"x\" : 2206,\"y\" : 10},{\"x\" : 2207,\"y\" : 2},{\"x\" : 2207,\"y\" : 8},{\"x\" : 2207,\"y\" : 10},{\"x\" : 2208,\"y\" : 2},{\"x\" : 2208,\"y\" : 8},{\"x\" : 2208,\"y\" : 10},{\"x\" : 2209,\"y\" : 2},{\"x\" : 2209,\"y\" : 8},{\"x\" : 2209,\"y\" : 10},{\"x\" : 2210,\"y\" : 2},{\"x\" : 2210,\"y\" : 6},{\"x\" : 2210,\"y\" : 8},{\"x\" : 2210,\"y\" : 10},{\"x\" : 2211,\"y\" : 2},{\"x\" : 2211,\"y\" : 8},{\"x\" : 2211,\"y\" : 10},{\"x\" : 2212,\"y\" : 2},{\"x\" : 2212,\"y\" : 6},{\"x\" : 2212,\"y\" : 8},{\"x\" : 2212,\"y\" : 10},{\"x\" : 2213,\"y\" : 2},{\"x\" : 2213,\"y\" : 6},{\"x\" : 2213,\"y\" : 8},{\"x\" : 2213,\"y\" : 10},{\"x\" : 2214,\"y\" : 2},{\"x\" : 2214,\"y\" : 6},{\"x\" : 2214,\"y\" : 8},{\"x\" : 2214,\"y\" : 10},{\"x\" : 2215,\"y\" : 2},{\"x\" : 2215,\"y\" : 6},{\"x\" : 2215,\"y\" : 8},{\"x\" : 2215,\"y\" : 10},{\"x\" : 2216,\"y\" : 2},{\"x\" : 2216,\"y\" : 8},{\"x\" : 2216,\"y\" : 10},{\"x\" : 2217,\"y\" : 2},{\"x\" : 2217,\"y\" : 8},{\"x\" : 2217,\"y\" : 10},{\"x\" : 2218,\"y\" : 2},{\"x\" : 2218,\"y\" : 8},{\"x\" : 2218,\"y\" : 10},{\"x\" : 2219,\"y\" : 2},{\"x\" : 2219,\"y\" : 6},{\"x\" : 2219,\"y\" : 8},{\"x\" : 2219,\"y\" : 10},{\"x\" : 2220,\"y\" : 2},{\"x\" : 2220,\"y\" : 6},{\"x\" : 2220,\"y\" : 8},{\"x\" : 2220,\"y\" : 10},{\"x\" : 2221,\"y\" : 2},{\"x\" : 2221,\"y\" : 8},{\"x\" : 2221,\"y\" : 10},{\"x\" : 2222,\"y\" : 2},{\"x\" : 2222,\"y\" : 8},{\"x\" : 2222,\"y\" : 10},{\"x\" : 2223,\"y\" : 2},{\"x\" : 2223,\"y\" : 8},{\"x\" : 2223,\"y\" : 10},{\"x\" : 2224,\"y\" : 2},{\"x\" : 2224,\"y\" : 8},{\"x\" : 2224,\"y\" : 10},{\"x\" : 2225,\"y\" : 2},{\"x\" : 2225,\"y\" : 8},{\"x\" : 2225,\"y\" : 10},{\"x\" : 2226,\"y\" : 2},{\"x\" : 2226,\"y\" : 8},{\"x\" : 2226,\"y\" : 10},{\"x\" : 2227,\"y\" : 2},{\"x\" : 2227,\"y\" : 6},{\"x\" : 2227,\"y\" : 8},{\"x\" : 2227,\"y\" : 10},{\"x\" : 2228,\"y\" : 2},{\"x\" : 2228,\"y\" : 6},{\"x\" : 2228,\"y\" : 8},{\"x\" : 2228,\"y\" : 10},{\"x\" : 2229,\"y\" : 2},{\"x\" : 2229,\"y\" : 6},{\"x\" : 2229,\"y\" : 8},{\"x\" : 2229,\"y\" : 10},{\"x\" : 2230,\"y\" : 2},{\"x\" : 2230,\"y\" : 6},{\"x\" : 2230,\"y\" : 8},{\"x\" : 2230,\"y\" : 10},{\"x\" : 2231,\"y\" : 2},{\"x\" : 2231,\"y\" : 8},{\"x\" : 2231,\"y\" : 10},{\"x\" : 2232,\"y\" : 2},{\"x\" : 2232,\"y\" : 8},{\"x\" : 2232,\"y\" : 10},{\"x\" : 2233,\"y\" : 2},{\"x\" : 2233,\"y\" : 6},{\"x\" : 2233,\"y\" : 8},{\"x\" : 2233,\"y\" : 10},{\"x\" : 2234,\"y\" : 2},{\"x\" : 2234,\"y\" : 6},{\"x\" : 2234,\"y\" : 8},{\"x\" : 2234,\"y\" : 10},{\"x\" : 2235,\"y\" : 2},{\"x\" : 2235,\"y\" : 6},{\"x\" : 2235,\"y\" : 8},{\"x\" : 2235,\"y\" : 10},{\"x\" : 2236,\"y\" : 2},{\"x\" : 2236,\"y\" : 8},{\"x\" : 2236,\"y\" : 10},{\"x\" : 2237,\"y\" : 2},{\"x\" : 2237,\"y\" : 8},{\"x\" : 2237,\"y\" : 10},{\"x\" : 2238,\"y\" : 2},{\"x\" : 2238,\"y\" : 8},{\"x\" : 2238,\"y\" : 10},{\"x\" : 2239,\"y\" : 2},{\"x\" : 2239,\"y\" : 8},{\"x\" : 2239,\"y\" : 10},{\"x\" : 2240,\"y\" : 2},{\"x\" : 2240,\"y\" : 6},{\"x\" : 2240,\"y\" : 8},{\"x\" : 2240,\"y\" : 10},{\"x\" : 2241,\"y\" : 2},{\"x\" : 2241,\"y\" : 8},{\"x\" : 2241,\"y\" : 10},{\"x\" : 2242,\"y\" : 2},{\"x\" : 2242,\"y\" : 8},{\"x\" : 2242,\"y\" : 10},{\"x\" : 2243,\"y\" : 2},{\"x\" : 2243,\"y\" : 8},{\"x\" : 2243,\"y\" : 10},{\"x\" : 2244,\"y\" : 2},{\"x\" : 2244,\"y\" : 6},{\"x\" : 2244,\"y\" : 8},{\"x\" : 2244,\"y\" : 10},{\"x\" : 2245,\"y\" : 2},{\"x\" : 2245,\"y\" : 6},{\"x\" : 2245,\"y\" : 8},{\"x\" : 2245,\"y\" : 10},{\"x\" : 2246,\"y\" : 2},{\"x\" : 2246,\"y\" : 8},{\"x\" : 2246,\"y\" : 10},{\"x\" : 2247,\"y\" : 2},{\"x\" : 2247,\"y\" : 6},{\"x\" : 2247,\"y\" : 8},{\"x\" : 2247,\"y\" : 10},{\"x\" : 2248,\"y\" : 2},{\"x\" : 2248,\"y\" : 6},{\"x\" : 2248,\"y\" : 8},{\"x\" : 2248,\"y\" : 10},{\"x\" : 2249,\"y\" : 2},{\"x\" : 2249,\"y\" : 6},{\"x\" : 2249,\"y\" : 8},{\"x\" : 2249,\"y\" : 10},{\"x\" : 2250,\"y\" : 2},{\"x\" : 2250,\"y\" : 6},{\"x\" : 2250,\"y\" : 8},{\"x\" : 2250,\"y\" : 10},{\"x\" : 2251,\"y\" : 2},{\"x\" : 2251,\"y\" : 8},{\"x\" : 2251,\"y\" : 10},{\"x\" : 2252,\"y\" : 2},{\"x\" : 2252,\"y\" : 8},{\"x\" : 2252,\"y\" : 10},{\"x\" : 2253,\"y\" : 2},{\"x\" : 2253,\"y\" : 8},{\"x\" : 2253,\"y\" : 10},{\"x\" : 2254,\"y\" : 2},{\"x\" : 2254,\"y\" : 6},{\"x\" : 2254,\"y\" : 8},{\"x\" : 2254,\"y\" : 10},{\"x\" : 2255,\"y\" : 2},{\"x\" : 2255,\"y\" : 6},{\"x\" : 2255,\"y\" : 8},{\"x\" : 2255,\"y\" : 10},{\"x\" : 2256,\"y\" : 2},{\"x\" : 2256,\"y\" : 8},{\"x\" : 2256,\"y\" : 10},{\"x\" : 2257,\"y\" : 2},{\"x\" : 2257,\"y\" : 8},{\"x\" : 2257,\"y\" : 10},{\"x\" : 2258,\"y\" : 2},{\"x\" : 2258,\"y\" : 8},{\"x\" : 2258,\"y\" : 10},{\"x\" : 2259,\"y\" : 2},{\"x\" : 2259,\"y\" : 8},{\"x\" : 2259,\"y\" : 10},{\"x\" : 2260,\"y\" : 2},{\"x\" : 2260,\"y\" : 8},{\"x\" : 2260,\"y\" : 10},{\"x\" : 2261,\"y\" : 2},{\"x\" : 2261,\"y\" : 6},{\"x\" : 2261,\"y\" : 8},{\"x\" : 2261,\"y\" : 10},{\"x\" : 2262,\"y\" : 2},{\"x\" : 2262,\"y\" : 6},{\"x\" : 2262,\"y\" : 8},{\"x\" : 2262,\"y\" : 10},{\"x\" : 2263,\"y\" : 2},{\"x\" : 2263,\"y\" : 6},{\"x\" : 2263,\"y\" : 8},{\"x\" : 2263,\"y\" : 10},{\"x\" : 2264,\"y\" : 2},{\"x\" : 2264,\"y\" : 6},{\"x\" : 2264,\"y\" : 8},{\"x\" : 2264,\"y\" : 10},{\"x\" : 2265,\"y\" : 2},{\"x\" : 2265,\"y\" : 6},{\"x\" : 2265,\"y\" : 8},{\"x\" : 2265,\"y\" : 10},{\"x\" : 2266,\"y\" : 2},{\"x\" : 2266,\"y\" : 8},{\"x\" : 2266,\"y\" : 10},{\"x\" : 2267,\"y\" : 2},{\"x\" : 2267,\"y\" : 8},{\"x\" : 2267,\"y\" : 10},{\"x\" : 2268,\"y\" : 2},{\"x\" : 2268,\"y\" : 6},{\"x\" : 2268,\"y\" : 8},{\"x\" : 2268,\"y\" : 10},{\"x\" : 2269,\"y\" : 2},{\"x\" : 2269,\"y\" : 6},{\"x\" : 2269,\"y\" : 8},{\"x\" : 2269,\"y\" : 10},{\"x\" : 2270,\"y\" : 2},{\"x\" : 2270,\"y\" : 6},{\"x\" : 2270,\"y\" : 8},{\"x\" : 2270,\"y\" : 10},{\"x\" : 2271,\"y\" : 2},{\"x\" : 2271,\"y\" : 8},{\"x\" : 2271,\"y\" : 10},{\"x\" : 2272,\"y\" : 2},{\"x\" : 2272,\"y\" : 8},{\"x\" : 2272,\"y\" : 10},{\"x\" : 2273,\"y\" : 2},{\"x\" : 2273,\"y\" : 8},{\"x\" : 2273,\"y\" : 10},{\"x\" : 2274,\"y\" : 2},{\"x\" : 2274,\"y\" : 8},{\"x\" : 2274,\"y\" : 10},{\"x\" : 2275,\"y\" : 2},{\"x\" : 2275,\"y\" : 6},{\"x\" : 2275,\"y\" : 8},{\"x\" : 2275,\"y\" : 10},{\"x\" : 2276,\"y\" : 2},{\"x\" : 2276,\"y\" : 8},{\"x\" : 2276,\"y\" : 10},{\"x\" : 2277,\"y\" : 2},{\"x\" : 2277,\"y\" : 8},{\"x\" : 2277,\"y\" : 10},{\"x\" : 2278,\"y\" : 2},{\"x\" : 2278,\"y\" : 6},{\"x\" : 2278,\"y\" : 8},{\"x\" : 2278,\"y\" : 10},{\"x\" : 2279,\"y\" : 2},{\"x\" : 2279,\"y\" : 6},{\"x\" : 2279,\"y\" : 8},{\"x\" : 2279,\"y\" : 10},{\"x\" : 2280,\"y\" : 2},{\"x\" : 2280,\"y\" : 6},{\"x\" : 2280,\"y\" : 8},{\"x\" : 2280,\"y\" : 10},{\"x\" : 2281,\"y\" : 2},{\"x\" : 2281,\"y\" : 8},{\"x\" : 2281,\"y\" : 10},{\"x\" : 2282,\"y\" : 2},{\"x\" : 2282,\"y\" : 6},{\"x\" : 2282,\"y\" : 8},{\"x\" : 2282,\"y\" : 10},{\"x\" : 2283,\"y\" : 2},{\"x\" : 2283,\"y\" : 6},{\"x\" : 2283,\"y\" : 8},{\"x\" : 2283,\"y\" : 10},{\"x\" : 2284,\"y\" : 2},{\"x\" : 2284,\"y\" : 6},{\"x\" : 2284,\"y\" : 8},{\"x\" : 2284,\"y\" : 10},{\"x\" : 2285,\"y\" : 2},{\"x\" : 2285,\"y\" : 6},{\"x\" : 2285,\"y\" : 8},{\"x\" : 2285,\"y\" : 10},{\"x\" : 2286,\"y\" : 2},{\"x\" : 2286,\"y\" : 8},{\"x\" : 2286,\"y\" : 10},{\"x\" : 2287,\"y\" : 2},{\"x\" : 2287,\"y\" : 8},{\"x\" : 2287,\"y\" : 10},{\"x\" : 2288,\"y\" : 2},{\"x\" : 2288,\"y\" : 8},{\"x\" : 2288,\"y\" : 10},{\"x\" : 2289,\"y\" : 2},{\"x\" : 2289,\"y\" : 6},{\"x\" : 2289,\"y\" : 8},{\"x\" : 2289,\"y\" : 10},{\"x\" : 2290,\"y\" : 2},{\"x\" : 2290,\"y\" : 6},{\"x\" : 2290,\"y\" : 8},{\"x\" : 2290,\"y\" : 10},{\"x\" : 2291,\"y\" : 2},{\"x\" : 2291,\"y\" : 8},{\"x\" : 2291,\"y\" : 10},{\"x\" : 2292,\"y\" : 2},{\"x\" : 2292,\"y\" : 8},{\"x\" : 2292,\"y\" : 10},{\"x\" : 2293,\"y\" : 2},{\"x\" : 2293,\"y\" : 8},{\"x\" : 2293,\"y\" : 10},{\"x\" : 2294,\"y\" : 2},{\"x\" : 2294,\"y\" : 8},{\"x\" : 2294,\"y\" : 10},{\"x\" : 2295,\"y\" : 2},{\"x\" : 2295,\"y\" : 6},{\"x\" : 2295,\"y\" : 8},{\"x\" : 2295,\"y\" : 10},{\"x\" : 2296,\"y\" : 2},{\"x\" : 2296,\"y\" : 6},{\"x\" : 2296,\"y\" : 8},{\"x\" : 2296,\"y\" : 10},{\"x\" : 2297,\"y\" : 2},{\"x\" : 2297,\"y\" : 6},{\"x\" : 2297,\"y\" : 8},{\"x\" : 2297,\"y\" : 10},{\"x\" : 2298,\"y\" : 2},{\"x\" : 2298,\"y\" : 6},{\"x\" : 2298,\"y\" : 8},{\"x\" : 2298,\"y\" : 10},{\"x\" : 2299,\"y\" : 2},{\"x\" : 2299,\"y\" : 6},{\"x\" : 2299,\"y\" : 8},{\"x\" : 2299,\"y\" : 10},{\"x\" : 2300,\"y\" : 2},{\"x\" : 2300,\"y\" : 6},{\"x\" : 2300,\"y\" : 8},{\"x\" : 2300,\"y\" : 10},{\"x\" : 2301,\"y\" : 2},{\"x\" : 2301,\"y\" : 8},{\"x\" : 2301,\"y\" : 10},{\"x\" : 2302,\"y\" : 2},{\"x\" : 2302,\"y\" : 8},{\"x\" : 2302,\"y\" : 10},{\"x\" : 2303,\"y\" : 2},{\"x\" : 2303,\"y\" : 6},{\"x\" : 2303,\"y\" : 8},{\"x\" : 2303,\"y\" : 10},{\"x\" : 2304,\"y\" : 2},{\"x\" : 2304,\"y\" : 6},{\"x\" : 2304,\"y\" : 8},{\"x\" : 2304,\"y\" : 10},{\"x\" : 2305,\"y\" : 2},{\"x\" : 2305,\"y\" : 6},{\"x\" : 2305,\"y\" : 8},{\"x\" : 2305,\"y\" : 10},{\"x\" : 2306,\"y\" : 2},{\"x\" : 2306,\"y\" : 8},{\"x\" : 2306,\"y\" : 10},{\"x\" : 2307,\"y\" : 2},{\"x\" : 2307,\"y\" : 8},{\"x\" : 2307,\"y\" : 10},{\"x\" : 2308,\"y\" : 2},{\"x\" : 2308,\"y\" : 8},{\"x\" : 2308,\"y\" : 10},{\"x\" : 2309,\"y\" : 2},{\"x\" : 2309,\"y\" : 8},{\"x\" : 2309,\"y\" : 10},{\"x\" : 2310,\"y\" : 2},{\"x\" : 2310,\"y\" : 6},{\"x\" : 2310,\"y\" : 8},{\"x\" : 2310,\"y\" : 10},{\"x\" : 2311,\"y\" : 2},{\"x\" : 2311,\"y\" : 8},{\"x\" : 2311,\"y\" : 10},{\"x\" : 2312,\"y\" : 2},{\"x\" : 2312,\"y\" : 6},{\"x\" : 2312,\"y\" : 8},{\"x\" : 2312,\"y\" : 10},{\"x\" : 2313,\"y\" : 2},{\"x\" : 2313,\"y\" : 6},{\"x\" : 2313,\"y\" : 8},{\"x\" : 2313,\"y\" : 10},{\"x\" : 2314,\"y\" : 2},{\"x\" : 2314,\"y\" : 6},{\"x\" : 2314,\"y\" : 8},{\"x\" : 2314,\"y\" : 10},{\"x\" : 2315,\"y\" : 2},{\"x\" : 2315,\"y\" : 6},{\"x\" : 2315,\"y\" : 8},{\"x\" : 2315,\"y\" : 10},{\"x\" : 2316,\"y\" : 2},{\"x\" : 2316,\"y\" : 8},{\"x\" : 2316,\"y\" : 10},{\"x\" : 2317,\"y\" : 2},{\"x\" : 2317,\"y\" : 6},{\"x\" : 2317,\"y\" : 8},{\"x\" : 2317,\"y\" : 10},{\"x\" : 2318,\"y\" : 2},{\"x\" : 2318,\"y\" : 6},{\"x\" : 2318,\"y\" : 8},{\"x\" : 2318,\"y\" : 10},{\"x\" : 2319,\"y\" : 2},{\"x\" : 2319,\"y\" : 6},{\"x\" : 2319,\"y\" : 8},{\"x\" : 2319,\"y\" : 10},{\"x\" : 2320,\"y\" : 2},{\"x\" : 2320,\"y\" : 6},{\"x\" : 2320,\"y\" : 8},{\"x\" : 2320,\"y\" : 10},{\"x\" : 2321,\"y\" : 2},{\"x\" : 2321,\"y\" : 8},{\"x\" : 2321,\"y\" : 10},{\"x\" : 2322,\"y\" : 2},{\"x\" : 2322,\"y\" : 8},{\"x\" : 2322,\"y\" : 10},{\"x\" : 2323,\"y\" : 2},{\"x\" : 2323,\"y\" : 8},{\"x\" : 2323,\"y\" : 10},{\"x\" : 2324,\"y\" : 2},{\"x\" : 2324,\"y\" : 6},{\"x\" : 2324,\"y\" : 8},{\"x\" : 2324,\"y\" : 10},{\"x\" : 2325,\"y\" : 2},{\"x\" : 2325,\"y\" : 6},{\"x\" : 2325,\"y\" : 8},{\"x\" : 2325,\"y\" : 10},{\"x\" : 2326,\"y\" : 2},{\"x\" : 2326,\"y\" : 8},{\"x\" : 2326,\"y\" : 10},{\"x\" : 2327,\"y\" : 2},{\"x\" : 2327,\"y\" : 8},{\"x\" : 2327,\"y\" : 10},{\"x\" : 2328,\"y\" : 2},{\"x\" : 2328,\"y\" : 8},{\"x\" : 2328,\"y\" : 10},{\"x\" : 2329,\"y\" : 2},{\"x\" : 2329,\"y\" : 6},{\"x\" : 2329,\"y\" : 8},{\"x\" : 2329,\"y\" : 10},{\"x\" : 2330,\"y\" : 2},{\"x\" : 2330,\"y\" : 6},{\"x\" : 2330,\"y\" : 8},{\"x\" : 2330,\"y\" : 10},{\"x\" : 2331,\"y\" : 2},{\"x\" : 2331,\"y\" : 6},{\"x\" : 2331,\"y\" : 8},{\"x\" : 2331,\"y\" : 10},{\"x\" : 2332,\"y\" : 2},{\"x\" : 2332,\"y\" : 6},{\"x\" : 2332,\"y\" : 8},{\"x\" : 2332,\"y\" : 10},{\"x\" : 2333,\"y\" : 2},{\"x\" : 2333,\"y\" : 6},{\"x\" : 2333,\"y\" : 8},{\"x\" : 2333,\"y\" : 10},{\"x\" : 2334,\"y\" : 2},{\"x\" : 2334,\"y\" : 6},{\"x\" : 2334,\"y\" : 8},{\"x\" : 2334,\"y\" : 10},{\"x\" : 2335,\"y\" : 2},{\"x\" : 2335,\"y\" : 6},{\"x\" : 2335,\"y\" : 8},{\"x\" : 2335,\"y\" : 10},{\"x\" : 2336,\"y\" : 2},{\"x\" : 2336,\"y\" : 8},{\"x\" : 2336,\"y\" : 10},{\"x\" : 2337,\"y\" : 2},{\"x\" : 2337,\"y\" : 8},{\"x\" : 2337,\"y\" : 10},{\"x\" : 2338,\"y\" : 2},{\"x\" : 2338,\"y\" : 6},{\"x\" : 2338,\"y\" : 8},{\"x\" : 2338,\"y\" : 10},{\"x\" : 2339,\"y\" : 2},{\"x\" : 2339,\"y\" : 6},{\"x\" : 2339,\"y\" : 8},{\"x\" : 2339,\"y\" : 10},{\"x\" : 2340,\"y\" : 2},{\"x\" : 2340,\"y\" : 6},{\"x\" : 2340,\"y\" : 8},{\"x\" : 2340,\"y\" : 10},{\"x\" : 2341,\"y\" : 2},{\"x\" : 2341,\"y\" : 8},{\"x\" : 2341,\"y\" : 10},{\"x\" : 2342,\"y\" : 2},{\"x\" : 2342,\"y\" : 8},{\"x\" : 2342,\"y\" : 10},{\"x\" : 2343,\"y\" : 2},{\"x\" : 2343,\"y\" : 8},{\"x\" : 2343,\"y\" : 10},{\"x\" : 2344,\"y\" : 2},{\"x\" : 2344,\"y\" : 8},{\"x\" : 2344,\"y\" : 10},{\"x\" : 2345,\"y\" : 2},{\"x\" : 2345,\"y\" : 6},{\"x\" : 2345,\"y\" : 8},{\"x\" : 2345,\"y\" : 10},{\"x\" : 2346,\"y\" : 2},{\"x\" : 2346,\"y\" : 6},{\"x\" : 2346,\"y\" : 8},{\"x\" : 2346,\"y\" : 10},{\"x\" : 2347,\"y\" : 2},{\"x\" : 2347,\"y\" : 6},{\"x\" : 2347,\"y\" : 8},{\"x\" : 2347,\"y\" : 10},{\"x\" : 2348,\"y\" : 2},{\"x\" : 2348,\"y\" : 6},{\"x\" : 2348,\"y\" : 8},{\"x\" : 2348,\"y\" : 10},{\"x\" : 2349,\"y\" : 2},{\"x\" : 2349,\"y\" : 6},{\"x\" : 2349,\"y\" : 8},{\"x\" : 2349,\"y\" : 10},{\"x\" : 2350,\"y\" : 2},{\"x\" : 2350,\"y\" : 6},{\"x\" : 2350,\"y\" : 8},{\"x\" : 2350,\"y\" : 10},{\"x\" : 2351,\"y\" : 2},{\"x\" : 2351,\"y\" : 8},{\"x\" : 2351,\"y\" : 10},{\"x\" : 2352,\"y\" : 2},{\"x\" : 2352,\"y\" : 6},{\"x\" : 2352,\"y\" : 8},{\"x\" : 2352,\"y\" : 10},{\"x\" : 2353,\"y\" : 2},{\"x\" : 2353,\"y\" : 6},{\"x\" : 2353,\"y\" : 8},{\"x\" : 2353,\"y\" : 10},{\"x\" : 2354,\"y\" : 2},{\"x\" : 2354,\"y\" : 6},{\"x\" : 2354,\"y\" : 8},{\"x\" : 2354,\"y\" : 10},{\"x\" : 2355,\"y\" : 2},{\"x\" : 2355,\"y\" : 6},{\"x\" : 2355,\"y\" : 8},{\"x\" : 2355,\"y\" : 10},{\"x\" : 2356,\"y\" : 2},{\"x\" : 2356,\"y\" : 8},{\"x\" : 2356,\"y\" : 10},{\"x\" : 2357,\"y\" : 2},{\"x\" : 2357,\"y\" : 8},{\"x\" : 2357,\"y\" : 10},{\"x\" : 2358,\"y\" : 2},{\"x\" : 2358,\"y\" : 8},{\"x\" : 2358,\"y\" : 10},{\"x\" : 2359,\"y\" : 2},{\"x\" : 2359,\"y\" : 6},{\"x\" : 2359,\"y\" : 8},{\"x\" : 2359,\"y\" : 10},{\"x\" : 2360,\"y\" : 2},{\"x\" : 2360,\"y\" : 6},{\"x\" : 2360,\"y\" : 8},{\"x\" : 2360,\"y\" : 10},{\"x\" : 2361,\"y\" : 2},{\"x\" : 2361,\"y\" : 8},{\"x\" : 2361,\"y\" : 10},{\"x\" : 2362,\"y\" : 2},{\"x\" : 2362,\"y\" : 8},{\"x\" : 2362,\"y\" : 10},{\"x\" : 2363,\"y\" : 2},{\"x\" : 2363,\"y\" : 6},{\"x\" : 2363,\"y\" : 8},{\"x\" : 2363,\"y\" : 10},{\"x\" : 2364,\"y\" : 2},{\"x\" : 2364,\"y\" : 6},{\"x\" : 2364,\"y\" : 8},{\"x\" : 2364,\"y\" : 10},{\"x\" : 2365,\"y\" : 2},{\"x\" : 2365,\"y\" : 6},{\"x\" : 2365,\"y\" : 8},{\"x\" : 2365,\"y\" : 10},{\"x\" : 2366,\"y\" : 2},{\"x\" : 2366,\"y\" : 6},{\"x\" : 2366,\"y\" : 8},{\"x\" : 2366,\"y\" : 10},{\"x\" : 2367,\"y\" : 2},{\"x\" : 2367,\"y\" : 6},{\"x\" : 2367,\"y\" : 8},{\"x\" : 2367,\"y\" : 10},{\"x\" : 2368,\"y\" : 2},{\"x\" : 2368,\"y\" : 6},{\"x\" : 2368,\"y\" : 8},{\"x\" : 2368,\"y\" : 10},{\"x\" : 2369,\"y\" : 2},{\"x\" : 2369,\"y\" : 6},{\"x\" : 2369,\"y\" : 8},{\"x\" : 2369,\"y\" : 10},{\"x\" : 2370,\"y\" : 2},{\"x\" : 2370,\"y\" : 6},{\"x\" : 2370,\"y\" : 8},{\"x\" : 2370,\"y\" : 10},{\"x\" : 2371,\"y\" : 2},{\"x\" : 2371,\"y\" : 8},{\"x\" : 2371,\"y\" : 10},{\"x\" : 2372,\"y\" : 2},{\"x\" : 2372,\"y\" : 8},{\"x\" : 2372,\"y\" : 10},{\"x\" : 2373,\"y\" : 2},{\"x\" : 2373,\"y\" : 6},{\"x\" : 2373,\"y\" : 8},{\"x\" : 2373,\"y\" : 10},{\"x\" : 2374,\"y\" : 2},{\"x\" : 2374,\"y\" : 6},{\"x\" : 2374,\"y\" : 8},{\"x\" : 2374,\"y\" : 10},{\"x\" : 2375,\"y\" : 2},{\"x\" : 2375,\"y\" : 6},{\"x\" : 2375,\"y\" : 8},{\"x\" : 2375,\"y\" : 10},{\"x\" : 2376,\"y\" : 2},{\"x\" : 2376,\"y\" : 8},{\"x\" : 2376,\"y\" : 10},{\"x\" : 2377,\"y\" : 2},{\"x\" : 2377,\"y\" : 8},{\"x\" : 2377,\"y\" : 10},{\"x\" : 2378,\"y\" : 2},{\"x\" : 2378,\"y\" : 8},{\"x\" : 2378,\"y\" : 10},{\"x\" : 2379,\"y\" : 2},{\"x\" : 2379,\"y\" : 8},{\"x\" : 2379,\"y\" : 10},{\"x\" : 2380,\"y\" : 2},{\"x\" : 2380,\"y\" : 4},{\"x\" : 2380,\"y\" : 6},{\"x\" : 2380,\"y\" : 8},{\"x\" : 2380,\"y\" : 10},{\"x\" : 2381,\"y\" : 2},{\"x\" : 2381,\"y\" : 6},{\"x\" : 2381,\"y\" : 8},{\"x\" : 2381,\"y\" : 10},{\"x\" : 2382,\"y\" : 2},{\"x\" : 2382,\"y\" : 6},{\"x\" : 2382,\"y\" : 8},{\"x\" : 2382,\"y\" : 10},{\"x\" : 2383,\"y\" : 2},{\"x\" : 2383,\"y\" : 6},{\"x\" : 2383,\"y\" : 8},{\"x\" : 2383,\"y\" : 10},{\"x\" : 2384,\"y\" : 2},{\"x\" : 2384,\"y\" : 6},{\"x\" : 2384,\"y\" : 8},{\"x\" : 2384,\"y\" : 10},{\"x\" : 2385,\"y\" : 2},{\"x\" : 2385,\"y\" : 6},{\"x\" : 2385,\"y\" : 8},{\"x\" : 2385,\"y\" : 10},{\"x\" : 2386,\"y\" : 2},{\"x\" : 2386,\"y\" : 8},{\"x\" : 2386,\"y\" : 10},{\"x\" : 2387,\"y\" : 2},{\"x\" : 2387,\"y\" : 6},{\"x\" : 2387,\"y\" : 8},{\"x\" : 2387,\"y\" : 10},{\"x\" : 2388,\"y\" : 2},{\"x\" : 2388,\"y\" : 6},{\"x\" : 2388,\"y\" : 8},{\"x\" : 2388,\"y\" : 10},{\"x\" : 2389,\"y\" : 2},{\"x\" : 2389,\"y\" : 6},{\"x\" : 2389,\"y\" : 8},{\"x\" : 2389,\"y\" : 10},{\"x\" : 2390,\"y\" : 2},{\"x\" : 2390,\"y\" : 6},{\"x\" : 2390,\"y\" : 8},{\"x\" : 2390,\"y\" : 10},{\"x\" : 2391,\"y\" : 2},{\"x\" : 2391,\"y\" : 8},{\"x\" : 2391,\"y\" : 10},{\"x\" : 2392,\"y\" : 2},{\"x\" : 2392,\"y\" : 8},{\"x\" : 2392,\"y\" : 10},{\"x\" : 2393,\"y\" : 2},{\"x\" : 2393,\"y\" : 8},{\"x\" : 2393,\"y\" : 10},{\"x\" : 2394,\"y\" : 2},{\"x\" : 2394,\"y\" : 6},{\"x\" : 2394,\"y\" : 8},{\"x\" : 2394,\"y\" : 10},{\"x\" : 2395,\"y\" : 2},{\"x\" : 2395,\"y\" : 6},{\"x\" : 2395,\"y\" : 8},{\"x\" : 2395,\"y\" : 10},{\"x\" : 2396,\"y\" : 2},{\"x\" : 2396,\"y\" : 8},{\"x\" : 2396,\"y\" : 10},{\"x\" : 2397,\"y\" : 2},{\"x\" : 2397,\"y\" : 6},{\"x\" : 2397,\"y\" : 8},{\"x\" : 2397,\"y\" : 10},{\"x\" : 2398,\"y\" : 2},{\"x\" : 2398,\"y\" : 6},{\"x\" : 2398,\"y\" : 8},{\"x\" : 2398,\"y\" : 10},{\"x\" : 2399,\"y\" : 2},{\"x\" : 2399,\"y\" : 6},{\"x\" : 2399,\"y\" : 8},{\"x\" : 2399,\"y\" : 10},{\"x\" : 2400,\"y\" : 2},{\"x\" : 2400,\"y\" : 6},{\"x\" : 2400,\"y\" : 8},{\"x\" : 2400,\"y\" : 10},{\"x\" : 2401,\"y\" : 2},{\"x\" : 2401,\"y\" : 6},{\"x\" : 2401,\"y\" : 8},{\"x\" : 2401,\"y\" : 10},{\"x\" : 2402,\"y\" : 2},{\"x\" : 2402,\"y\" : 6},{\"x\" : 2402,\"y\" : 8},{\"x\" : 2402,\"y\" : 10},{\"x\" : 2403,\"y\" : 2},{\"x\" : 2403,\"y\" : 6},{\"x\" : 2403,\"y\" : 8},{\"x\" : 2403,\"y\" : 10},{\"x\" : 2404,\"y\" : 2},{\"x\" : 2404,\"y\" : 6},{\"x\" : 2404,\"y\" : 8},{\"x\" : 2404,\"y\" : 10},{\"x\" : 2405,\"y\" : 2},{\"x\" : 2405,\"y\" : 6},{\"x\" : 2405,\"y\" : 8},{\"x\" : 2405,\"y\" : 10},{\"x\" : 2406,\"y\" : 2},{\"x\" : 2406,\"y\" : 8},{\"x\" : 2406,\"y\" : 10},{\"x\" : 2407,\"y\" : 2},{\"x\" : 2407,\"y\" : 8},{\"x\" : 2407,\"y\" : 10},{\"x\" : 2408,\"y\" : 2},{\"x\" : 2408,\"y\" : 6},{\"x\" : 2408,\"y\" : 8},{\"x\" : 2408,\"y\" : 10},{\"x\" : 2409,\"y\" : 2},{\"x\" : 2409,\"y\" : 6},{\"x\" : 2409,\"y\" : 8},{\"x\" : 2409,\"y\" : 10},{\"x\" : 2410,\"y\" : 2},{\"x\" : 2410,\"y\" : 6},{\"x\" : 2410,\"y\" : 8},{\"x\" : 2410,\"y\" : 10},{\"x\" : 2411,\"y\" : 2},{\"x\" : 2411,\"y\" : 8},{\"x\" : 2411,\"y\" : 10},{\"x\" : 2412,\"y\" : 2},{\"x\" : 2412,\"y\" : 8},{\"x\" : 2412,\"y\" : 10},{\"x\" : 2413,\"y\" : 2},{\"x\" : 2413,\"y\" : 8},{\"x\" : 2413,\"y\" : 10},{\"x\" : 2414,\"y\" : 2},{\"x\" : 2414,\"y\" : 6},{\"x\" : 2414,\"y\" : 8},{\"x\" : 2414,\"y\" : 10},{\"x\" : 2415,\"y\" : 2},{\"x\" : 2415,\"y\" : 4},{\"x\" : 2415,\"y\" : 6},{\"x\" : 2415,\"y\" : 8},{\"x\" : 2415,\"y\" : 10},{\"x\" : 2416,\"y\" : 2},{\"x\" : 2416,\"y\" : 6},{\"x\" : 2416,\"y\" : 8},{\"x\" : 2416,\"y\" : 10},{\"x\" : 2417,\"y\" : 2},{\"x\" : 2417,\"y\" : 6},{\"x\" : 2417,\"y\" : 8},{\"x\" : 2417,\"y\" : 10},{\"x\" : 2418,\"y\" : 2},{\"x\" : 2418,\"y\" : 6},{\"x\" : 2418,\"y\" : 8},{\"x\" : 2418,\"y\" : 10},{\"x\" : 2419,\"y\" : 2},{\"x\" : 2419,\"y\" : 6},{\"x\" : 2419,\"y\" : 8},{\"x\" : 2419,\"y\" : 10},{\"x\" : 2420,\"y\" : 2},{\"x\" : 2420,\"y\" : 6},{\"x\" : 2420,\"y\" : 8},{\"x\" : 2420,\"y\" : 10},{\"x\" : 2421,\"y\" : 2},{\"x\" : 2421,\"y\" : 8},{\"x\" : 2421,\"y\" : 10},{\"x\" : 2422,\"y\" : 2},{\"x\" : 2422,\"y\" : 6},{\"x\" : 2422,\"y\" : 8},{\"x\" : 2422,\"y\" : 10},{\"x\" : 2423,\"y\" : 2},{\"x\" : 2423,\"y\" : 6},{\"x\" : 2423,\"y\" : 8},{\"x\" : 2423,\"y\" : 10},{\"x\" : 2424,\"y\" : 2},{\"x\" : 2424,\"y\" : 6},{\"x\" : 2424,\"y\" : 8},{\"x\" : 2424,\"y\" : 10},{\"x\" : 2425,\"y\" : 2},{\"x\" : 2425,\"y\" : 6},{\"x\" : 2425,\"y\" : 8},{\"x\" : 2425,\"y\" : 10},{\"x\" : 2426,\"y\" : 2},{\"x\" : 2426,\"y\" : 8},{\"x\" : 2426,\"y\" : 10},{\"x\" : 2427,\"y\" : 2},{\"x\" : 2427,\"y\" : 8},{\"x\" : 2427,\"y\" : 10},{\"x\" : 2428,\"y\" : 2},{\"x\" : 2428,\"y\" : 8},{\"x\" : 2428,\"y\" : 10},{\"x\" : 2429,\"y\" : 2},{\"x\" : 2429,\"y\" : 6},{\"x\" : 2429,\"y\" : 8},{\"x\" : 2429,\"y\" : 10},{\"x\" : 2430,\"y\" : 2},{\"x\" : 2430,\"y\" : 6},{\"x\" : 2430,\"y\" : 8},{\"x\" : 2430,\"y\" : 10},{\"x\" : 2431,\"y\" : 2},{\"x\" : 2431,\"y\" : 6},{\"x\" : 2431,\"y\" : 8},{\"x\" : 2431,\"y\" : 10},{\"x\" : 2432,\"y\" : 2},{\"x\" : 2432,\"y\" : 6},{\"x\" : 2432,\"y\" : 8},{\"x\" : 2432,\"y\" : 10},{\"x\" : 2433,\"y\" : 2},{\"x\" : 2433,\"y\" : 6},{\"x\" : 2433,\"y\" : 8},{\"x\" : 2433,\"y\" : 10},{\"x\" : 2434,\"y\" : 2},{\"x\" : 2434,\"y\" : 6},{\"x\" : 2434,\"y\" : 8},{\"x\" : 2434,\"y\" : 10},{\"x\" : 2435,\"y\" : 2},{\"x\" : 2435,\"y\" : 6},{\"x\" : 2435,\"y\" : 8},{\"x\" : 2435,\"y\" : 10},{\"x\" : 2436,\"y\" : 2},{\"x\" : 2436,\"y\" : 6},{\"x\" : 2436,\"y\" : 8},{\"x\" : 2436,\"y\" : 10},{\"x\" : 2437,\"y\" : 2},{\"x\" : 2437,\"y\" : 6},{\"x\" : 2437,\"y\" : 8},{\"x\" : 2437,\"y\" : 10},{\"x\" : 2438,\"y\" : 2},{\"x\" : 2438,\"y\" : 6},{\"x\" : 2438,\"y\" : 8},{\"x\" : 2438,\"y\" : 10},{\"x\" : 2439,\"y\" : 2},{\"x\" : 2439,\"y\" : 6},{\"x\" : 2439,\"y\" : 8},{\"x\" : 2439,\"y\" : 10},{\"x\" : 2440,\"y\" : 2},{\"x\" : 2440,\"y\" : 6},{\"x\" : 2440,\"y\" : 8},{\"x\" : 2440,\"y\" : 10},{\"x\" : 2441,\"y\" : 2},{\"x\" : 2441,\"y\" : 8},{\"x\" : 2441,\"y\" : 10},{\"x\" : 2442,\"y\" : 2},{\"x\" : 2442,\"y\" : 8},{\"x\" : 2442,\"y\" : 10},{\"x\" : 2443,\"y\" : 2},{\"x\" : 2443,\"y\" : 6},{\"x\" : 2443,\"y\" : 8},{\"x\" : 2443,\"y\" : 10},{\"x\" : 2444,\"y\" : 2},{\"x\" : 2444,\"y\" : 6},{\"x\" : 2444,\"y\" : 8},{\"x\" : 2444,\"y\" : 10},{\"x\" : 2445,\"y\" : 2},{\"x\" : 2445,\"y\" : 6},{\"x\" : 2445,\"y\" : 8},{\"x\" : 2445,\"y\" : 10},{\"x\" : 2446,\"y\" : 2},{\"x\" : 2446,\"y\" : 8},{\"x\" : 2446,\"y\" : 10},{\"x\" : 2447,\"y\" : 2},{\"x\" : 2447,\"y\" : 8},{\"x\" : 2447,\"y\" : 10},{\"x\" : 2448,\"y\" : 2},{\"x\" : 2448,\"y\" : 6},{\"x\" : 2448,\"y\" : 8},{\"x\" : 2448,\"y\" : 10},{\"x\" : 2449,\"y\" : 2},{\"x\" : 2449,\"y\" : 6},{\"x\" : 2449,\"y\" : 8},{\"x\" : 2449,\"y\" : 10},{\"x\" : 2450,\"y\" : 2},{\"x\" : 2450,\"y\" : 4},{\"x\" : 2450,\"y\" : 6},{\"x\" : 2450,\"y\" : 8},{\"x\" : 2450,\"y\" : 10},{\"x\" : 2451,\"y\" : 2},{\"x\" : 2451,\"y\" : 6},{\"x\" : 2451,\"y\" : 8},{\"x\" : 2451,\"y\" : 10},{\"x\" : 2452,\"y\" : 2},{\"x\" : 2452,\"y\" : 6},{\"x\" : 2452,\"y\" : 8},{\"x\" : 2452,\"y\" : 10},{\"x\" : 2453,\"y\" : 2},{\"x\" : 2453,\"y\" : 6},{\"x\" : 2453,\"y\" : 8},{\"x\" : 2453,\"y\" : 10},{\"x\" : 2454,\"y\" : 2},{\"x\" : 2454,\"y\" : 6},{\"x\" : 2454,\"y\" : 8},{\"x\" : 2454,\"y\" : 10},{\"x\" : 2455,\"y\" : 2},{\"x\" : 2455,\"y\" : 6},{\"x\" : 2455,\"y\" : 8},{\"x\" : 2455,\"y\" : 10},{\"x\" : 2456,\"y\" : 2},{\"x\" : 2456,\"y\" : 8},{\"x\" : 2456,\"y\" : 10},{\"x\" : 2457,\"y\" : 2},{\"x\" : 2457,\"y\" : 6},{\"x\" : 2457,\"y\" : 8},{\"x\" : 2457,\"y\" : 10},{\"x\" : 2458,\"y\" : 2},{\"x\" : 2458,\"y\" : 6},{\"x\" : 2458,\"y\" : 8},{\"x\" : 2458,\"y\" : 10},{\"x\" : 2459,\"y\" : 2},{\"x\" : 2459,\"y\" : 6},{\"x\" : 2459,\"y\" : 8},{\"x\" : 2459,\"y\" : 10},{\"x\" : 2460,\"y\" : 2},{\"x\" : 2460,\"y\" : 6},{\"x\" : 2460,\"y\" : 8},{\"x\" : 2460,\"y\" : 10},{\"x\" : 2461,\"y\" : 2},{\"x\" : 2461,\"y\" : 8},{\"x\" : 2461,\"y\" : 10},{\"x\" : 2462,\"y\" : 2},{\"x\" : 2462,\"y\" : 8},{\"x\" : 2462,\"y\" : 10},{\"x\" : 2463,\"y\" : 2},{\"x\" : 2463,\"y\" : 8},{\"x\" : 2463,\"y\" : 10},{\"x\" : 2464,\"y\" : 2},{\"x\" : 2464,\"y\" : 6},{\"x\" : 2464,\"y\" : 8},{\"x\" : 2464,\"y\" : 10},{\"x\" : 2465,\"y\" : 2},{\"x\" : 2465,\"y\" : 4},{\"x\" : 2465,\"y\" : 6},{\"x\" : 2465,\"y\" : 8},{\"x\" : 2465,\"y\" : 10},{\"x\" : 2466,\"y\" : 2},{\"x\" : 2466,\"y\" : 6},{\"x\" : 2466,\"y\" : 8},{\"x\" : 2466,\"y\" : 10},{\"x\" : 2467,\"y\" : 2},{\"x\" : 2467,\"y\" : 6},{\"x\" : 2467,\"y\" : 8},{\"x\" : 2467,\"y\" : 10},{\"x\" : 2468,\"y\" : 2},{\"x\" : 2468,\"y\" : 6},{\"x\" : 2468,\"y\" : 8},{\"x\" : 2468,\"y\" : 10},{\"x\" : 2469,\"y\" : 2},{\"x\" : 2469,\"y\" : 6},{\"x\" : 2469,\"y\" : 8},{\"x\" : 2469,\"y\" : 10},{\"x\" : 2470,\"y\" : 2},{\"x\" : 2470,\"y\" : 6},{\"x\" : 2470,\"y\" : 8},{\"x\" : 2470,\"y\" : 10},{\"x\" : 2471,\"y\" : 2},{\"x\" : 2471,\"y\" : 6},{\"x\" : 2471,\"y\" : 8},{\"x\" : 2471,\"y\" : 10},{\"x\" : 2472,\"y\" : 2},{\"x\" : 2472,\"y\" : 6},{\"x\" : 2472,\"y\" : 8},{\"x\" : 2472,\"y\" : 10},{\"x\" : 2473,\"y\" : 2},{\"x\" : 2473,\"y\" : 6},{\"x\" : 2473,\"y\" : 8},{\"x\" : 2473,\"y\" : 10},{\"x\" : 2474,\"y\" : 2},{\"x\" : 2474,\"y\" : 6},{\"x\" : 2474,\"y\" : 8},{\"x\" : 2474,\"y\" : 10},{\"x\" : 2475,\"y\" : 2},{\"x\" : 2475,\"y\" : 6},{\"x\" : 2475,\"y\" : 8},{\"x\" : 2475,\"y\" : 10},{\"x\" : 2476,\"y\" : 2},{\"x\" : 2476,\"y\" : 8},{\"x\" : 2476,\"y\" : 10},{\"x\" : 2477,\"y\" : 2},{\"x\" : 2477,\"y\" : 8},{\"x\" : 2477,\"y\" : 10},{\"x\" : 2478,\"y\" : 2},{\"x\" : 2478,\"y\" : 6},{\"x\" : 2478,\"y\" : 8},{\"x\" : 2478,\"y\" : 10},{\"x\" : 2479,\"y\" : 2},{\"x\" : 2479,\"y\" : 6},{\"x\" : 2479,\"y\" : 8},{\"x\" : 2479,\"y\" : 10},{\"x\" : 2480,\"y\" : 2},{\"x\" : 2480,\"y\" : 6},{\"x\" : 2480,\"y\" : 8},{\"x\" : 2480,\"y\" : 10},{\"x\" : 2481,\"y\" : 2},{\"x\" : 2481,\"y\" : 8},{\"x\" : 2481,\"y\" : 10},{\"x\" : 2482,\"y\" : 2},{\"x\" : 2482,\"y\" : 6},{\"x\" : 2482,\"y\" : 8},{\"x\" : 2482,\"y\" : 10},{\"x\" : 2483,\"y\" : 2},{\"x\" : 2483,\"y\" : 6},{\"x\" : 2483,\"y\" : 8},{\"x\" : 2483,\"y\" : 10},{\"x\" : 2484,\"y\" : 2},{\"x\" : 2484,\"y\" : 6},{\"x\" : 2484,\"y\" : 8},{\"x\" : 2484,\"y\" : 10},{\"x\" : 2485,\"y\" : 2},{\"x\" : 2485,\"y\" : 4},{\"x\" : 2485,\"y\" : 6},{\"x\" : 2485,\"y\" : 8},{\"x\" : 2485,\"y\" : 10},{\"x\" : 2486,\"y\" : 2},{\"x\" : 2486,\"y\" : 6},{\"x\" : 2486,\"y\" : 8},{\"x\" : 2486,\"y\" : 10},{\"x\" : 2487,\"y\" : 2},{\"x\" : 2487,\"y\" : 6},{\"x\" : 2487,\"y\" : 8},{\"x\" : 2487,\"y\" : 10},{\"x\" : 2488,\"y\" : 2},{\"x\" : 2488,\"y\" : 6},{\"x\" : 2488,\"y\" : 8},{\"x\" : 2488,\"y\" : 10},{\"x\" : 2489,\"y\" : 2},{\"x\" : 2489,\"y\" : 6},{\"x\" : 2489,\"y\" : 8},{\"x\" : 2489,\"y\" : 10},{\"x\" : 2490,\"y\" : 2},{\"x\" : 2490,\"y\" : 6},{\"x\" : 2490,\"y\" : 8},{\"x\" : 2490,\"y\" : 10},{\"x\" : 2491,\"y\" : 2},{\"x\" : 2491,\"y\" : 8},{\"x\" : 2491,\"y\" : 10},{\"x\" : 2492,\"y\" : 2},{\"x\" : 2492,\"y\" : 6},{\"x\" : 2492,\"y\" : 8},{\"x\" : 2492,\"y\" : 10},{\"x\" : 2493,\"y\" : 2},{\"x\" : 2493,\"y\" : 6},{\"x\" : 2493,\"y\" : 8},{\"x\" : 2493,\"y\" : 10},{\"x\" : 2494,\"y\" : 2},{\"x\" : 2494,\"y\" : 6},{\"x\" : 2494,\"y\" : 8},{\"x\" : 2494,\"y\" : 10},{\"x\" : 2495,\"y\" : 2},{\"x\" : 2495,\"y\" : 6},{\"x\" : 2495,\"y\" : 8},{\"x\" : 2495,\"y\" : 10},{\"x\" : 2496,\"y\" : 2},{\"x\" : 2496,\"y\" : 8},{\"x\" : 2496,\"y\" : 10},{\"x\" : 2497,\"y\" : 2},{\"x\" : 2497,\"y\" : 8},{\"x\" : 2497,\"y\" : 10},{\"x\" : 2498,\"y\" : 2},{\"x\" : 2498,\"y\" : 8},{\"x\" : 2498,\"y\" : 10},{\"x\" : 2499,\"y\" : 2},{\"x\" : 2499,\"y\" : 4},{\"x\" : 2499,\"y\" : 6},{\"x\" : 2499,\"y\" : 8},{\"x\" : 2499,\"y\" : 10},{\"x\" : 2500,\"y\" : 2},{\"x\" : 2500,\"y\" : 4},{\"x\" : 2500,\"y\" : 6},{\"x\" : 2500,\"y\" : 8},{\"x\" : 2500,\"y\" : 10},{\"x\" : 2501,\"y\" : 2},{\"x\" : 2501,\"y\" : 6},{\"x\" : 2501,\"y\" : 8},{\"x\" : 2501,\"y\" : 10},{\"x\" : 2502,\"y\" : 2},{\"x\" : 2502,\"y\" : 6},{\"x\" : 2502,\"y\" : 8},{\"x\" : 2502,\"y\" : 10},{\"x\" : 2503,\"y\" : 2},{\"x\" : 2503,\"y\" : 6},{\"x\" : 2503,\"y\" : 8},{\"x\" : 2503,\"y\" : 10},{\"x\" : 2504,\"y\" : 2},{\"x\" : 2504,\"y\" : 6},{\"x\" : 2504,\"y\" : 8},{\"x\" : 2504,\"y\" : 10},{\"x\" : 2505,\"y\" : 2},{\"x\" : 2505,\"y\" : 6},{\"x\" : 2505,\"y\" : 8},{\"x\" : 2505,\"y\" : 10},{\"x\" : 2506,\"y\" : 2},{\"x\" : 2506,\"y\" : 6},{\"x\" : 2506,\"y\" : 8},{\"x\" : 2506,\"y\" : 10},{\"x\" : 2507,\"y\" : 2},{\"x\" : 2507,\"y\" : 6},{\"x\" : 2507,\"y\" : 8},{\"x\" : 2507,\"y\" : 10},{\"x\" : 2508,\"y\" : 2},{\"x\" : 2508,\"y\" : 6},{\"x\" : 2508,\"y\" : 8},{\"x\" : 2508,\"y\" : 10},{\"x\" : 2509,\"y\" : 2},{\"x\" : 2509,\"y\" : 6},{\"x\" : 2509,\"y\" : 8},{\"x\" : 2509,\"y\" : 10},{\"x\" : 2510,\"y\" : 2},{\"x\" : 2510,\"y\" : 6},{\"x\" : 2510,\"y\" : 8},{\"x\" : 2510,\"y\" : 10},{\"x\" : 2511,\"y\" : 2},{\"x\" : 2511,\"y\" : 8},{\"x\" : 2511,\"y\" : 10},{\"x\" : 2512,\"y\" : 2},{\"x\" : 2512,\"y\" : 8},{\"x\" : 2512,\"y\" : 10},{\"x\" : 2513,\"y\" : 2},{\"x\" : 2513,\"y\" : 6},{\"x\" : 2513,\"y\" : 8},{\"x\" : 2513,\"y\" : 10},{\"x\" : 2514,\"y\" : 2},{\"x\" : 2514,\"y\" : 6},{\"x\" : 2514,\"y\" : 8},{\"x\" : 2514,\"y\" : 10},{\"x\" : 2515,\"y\" : 2},{\"x\" : 2515,\"y\" : 6},{\"x\" : 2515,\"y\" : 8},{\"x\" : 2515,\"y\" : 10},{\"x\" : 2516,\"y\" : 2},{\"x\" : 2516,\"y\" : 6},{\"x\" : 2516,\"y\" : 8},{\"x\" : 2516,\"y\" : 10},{\"x\" : 2517,\"y\" : 2},{\"x\" : 2517,\"y\" : 6},{\"x\" : 2517,\"y\" : 8},{\"x\" : 2517,\"y\" : 10},{\"x\" : 2518,\"y\" : 2},{\"x\" : 2518,\"y\" : 6},{\"x\" : 2518,\"y\" : 8},{\"x\" : 2518,\"y\" : 10},{\"x\" : 2519,\"y\" : 2},{\"x\" : 2519,\"y\" : 6},{\"x\" : 2519,\"y\" : 8},{\"x\" : 2519,\"y\" : 10},{\"x\" : 2520,\"y\" : 2},{\"x\" : 2520,\"y\" : 4},{\"x\" : 2520,\"y\" : 6},{\"x\" : 2520,\"y\" : 8},{\"x\" : 2520,\"y\" : 10},{\"x\" : 2521,\"y\" : 2},{\"x\" : 2521,\"y\" : 6},{\"x\" : 2521,\"y\" : 8},{\"x\" : 2521,\"y\" : 10},{\"x\" : 2522,\"y\" : 2},{\"x\" : 2522,\"y\" : 6},{\"x\" : 2522,\"y\" : 8},{\"x\" : 2522,\"y\" : 10},{\"x\" : 2523,\"y\" : 2},{\"x\" : 2523,\"y\" : 6},{\"x\" : 2523,\"y\" : 8},{\"x\" : 2523,\"y\" : 10},{\"x\" : 2524,\"y\" : 2},{\"x\" : 2524,\"y\" : 6},{\"x\" : 2524,\"y\" : 8},{\"x\" : 2524,\"y\" : 10},{\"x\" : 2525,\"y\" : 2},{\"x\" : 2525,\"y\" : 6},{\"x\" : 2525,\"y\" : 8},{\"x\" : 2525,\"y\" : 10},{\"x\" : 2526,\"y\" : 2},{\"x\" : 2526,\"y\" : 8},{\"x\" : 2526,\"y\" : 10},{\"x\" : 2527,\"y\" : 2},{\"x\" : 2527,\"y\" : 6},{\"x\" : 2527,\"y\" : 8},{\"x\" : 2527,\"y\" : 10},{\"x\" : 2528,\"y\" : 2},{\"x\" : 2528,\"y\" : 6},{\"x\" : 2528,\"y\" : 8},{\"x\" : 2528,\"y\" : 10},{\"x\" : 2529,\"y\" : 2},{\"x\" : 2529,\"y\" : 6},{\"x\" : 2529,\"y\" : 8},{\"x\" : 2529,\"y\" : 10},{\"x\" : 2530,\"y\" : 2},{\"x\" : 2530,\"y\" : 6},{\"x\" : 2530,\"y\" : 8},{\"x\" : 2530,\"y\" : 10},{\"x\" : 2531,\"y\" : 2},{\"x\" : 2531,\"y\" : 8},{\"x\" : 2531,\"y\" : 10},{\"x\" : 2532,\"y\" : 2},{\"x\" : 2532,\"y\" : 8},{\"x\" : 2532,\"y\" : 10},{\"x\" : 2533,\"y\" : 2},{\"x\" : 2533,\"y\" : 6},{\"x\" : 2533,\"y\" : 8},{\"x\" : 2533,\"y\" : 10},{\"x\" : 2534,\"y\" : 2},{\"x\" : 2534,\"y\" : 4},{\"x\" : 2534,\"y\" : 6},{\"x\" : 2534,\"y\" : 8},{\"x\" : 2534,\"y\" : 10},{\"x\" : 2535,\"y\" : 2},{\"x\" : 2535,\"y\" : 4},{\"x\" : 2535,\"y\" : 6},{\"x\" : 2535,\"y\" : 8},{\"x\" : 2535,\"y\" : 10},{\"x\" : 2536,\"y\" : 2},{\"x\" : 2536,\"y\" : 6},{\"x\" : 2536,\"y\" : 8},{\"x\" : 2536,\"y\" : 10},{\"x\" : 2537,\"y\" : 2},{\"x\" : 2537,\"y\" : 6},{\"x\" : 2537,\"y\" : 8},{\"x\" : 2537,\"y\" : 10},{\"x\" : 2538,\"y\" : 2},{\"x\" : 2538,\"y\" : 6},{\"x\" : 2538,\"y\" : 8},{\"x\" : 2538,\"y\" : 10},{\"x\" : 2539,\"y\" : 2},{\"x\" : 2539,\"y\" : 6},{\"x\" : 2539,\"y\" : 8},{\"x\" : 2539,\"y\" : 10},{\"x\" : 2540,\"y\" : 2},{\"x\" : 2540,\"y\" : 6},{\"x\" : 2540,\"y\" : 8},{\"x\" : 2540,\"y\" : 10},{\"x\" : 2541,\"y\" : 2},{\"x\" : 2541,\"y\" : 6},{\"x\" : 2541,\"y\" : 8},{\"x\" : 2541,\"y\" : 10},{\"x\" : 2542,\"y\" : 2},{\"x\" : 2542,\"y\" : 6},{\"x\" : 2542,\"y\" : 8},{\"x\" : 2542,\"y\" : 10},{\"x\" : 2543,\"y\" : 2},{\"x\" : 2543,\"y\" : 6},{\"x\" : 2543,\"y\" : 8},{\"x\" : 2543,\"y\" : 10},{\"x\" : 2544,\"y\" : 2},{\"x\" : 2544,\"y\" : 6},{\"x\" : 2544,\"y\" : 8},{\"x\" : 2544,\"y\" : 10},{\"x\" : 2545,\"y\" : 2},{\"x\" : 2545,\"y\" : 6},{\"x\" : 2545,\"y\" : 8},{\"x\" : 2545,\"y\" : 10},{\"x\" : 2546,\"y\" : 2},{\"x\" : 2546,\"y\" : 8},{\"x\" : 2546,\"y\" : 10},{\"x\" : 2547,\"y\" : 2},{\"x\" : 2547,\"y\" : 8},{\"x\" : 2547,\"y\" : 10},{\"x\" : 2548,\"y\" : 2},{\"x\" : 2548,\"y\" : 6},{\"x\" : 2548,\"y\" : 8},{\"x\" : 2548,\"y\" : 10},{\"x\" : 2549,\"y\" : 2},{\"x\" : 2549,\"y\" : 6},{\"x\" : 2549,\"y\" : 8},{\"x\" : 2549,\"y\" : 10},{\"x\" : 2550,\"y\" : 2},{\"x\" : 2550,\"y\" : 4},{\"x\" : 2550,\"y\" : 6},{\"x\" : 2550,\"y\" : 8},{\"x\" : 2550,\"y\" : 10},{\"x\" : 2551,\"y\" : 2},{\"x\" : 2551,\"y\" : 6},{\"x\" : 2551,\"y\" : 8},{\"x\" : 2551,\"y\" : 10},{\"x\" : 2552,\"y\" : 2},{\"x\" : 2552,\"y\" : 6},{\"x\" : 2552,\"y\" : 8},{\"x\" : 2552,\"y\" : 10},{\"x\" : 2553,\"y\" : 2},{\"x\" : 2553,\"y\" : 6},{\"x\" : 2553,\"y\" : 8},{\"x\" : 2553,\"y\" : 10},{\"x\" : 2554,\"y\" : 2},{\"x\" : 2554,\"y\" : 6},{\"x\" : 2554,\"y\" : 8},{\"x\" : 2554,\"y\" : 10},{\"x\" : 2555,\"y\" : 2},{\"x\" : 2555,\"y\" : 4},{\"x\" : 2555,\"y\" : 6},{\"x\" : 2555,\"y\" : 8},{\"x\" : 2555,\"y\" : 10},{\"x\" : 2556,\"y\" : 2},{\"x\" : 2556,\"y\" : 6},{\"x\" : 2556,\"y\" : 8},{\"x\" : 2556,\"y\" : 10},{\"x\" : 2557,\"y\" : 2},{\"x\" : 2557,\"y\" : 6},{\"x\" : 2557,\"y\" : 8},{\"x\" : 2557,\"y\" : 10},{\"x\" : 2558,\"y\" : 2},{\"x\" : 2558,\"y\" : 6},{\"x\" : 2558,\"y\" : 8},{\"x\" : 2558,\"y\" : 10},{\"x\" : 2559,\"y\" : 2},{\"x\" : 2559,\"y\" : 6},{\"x\" : 2559,\"y\" : 8},{\"x\" : 2559,\"y\" : 10},{\"x\" : 2560,\"y\" : 2},{\"x\" : 2560,\"y\" : 6},{\"x\" : 2560,\"y\" : 8},{\"x\" : 2560,\"y\" : 10},{\"x\" : 2561,\"y\" : 2},{\"x\" : 2561,\"y\" : 8},{\"x\" : 2561,\"y\" : 10},{\"x\" : 2562,\"y\" : 2},{\"x\" : 2562,\"y\" : 6},{\"x\" : 2562,\"y\" : 8},{\"x\" : 2562,\"y\" : 10},{\"x\" : 2563,\"y\" : 2},{\"x\" : 2563,\"y\" : 6},{\"x\" : 2563,\"y\" : 8},{\"x\" : 2563,\"y\" : 10},{\"x\" : 2564,\"y\" : 2},{\"x\" : 2564,\"y\" : 6},{\"x\" : 2564,\"y\" : 8},{\"x\" : 2564,\"y\" : 10},{\"x\" : 2565,\"y\" : 2},{\"x\" : 2565,\"y\" : 6},{\"x\" : 2565,\"y\" : 8},{\"x\" : 2565,\"y\" : 10},{\"x\" : 2566,\"y\" : 2},{\"x\" : 2566,\"y\" : 8},{\"x\" : 2566,\"y\" : 10},{\"x\" : 2567,\"y\" : 2},{\"x\" : 2567,\"y\" : 6},{\"x\" : 2567,\"y\" : 8},{\"x\" : 2567,\"y\" : 10},{\"x\" : 2568,\"y\" : 2},{\"x\" : 2568,\"y\" : 6},{\"x\" : 2568,\"y\" : 8},{\"x\" : 2568,\"y\" : 10},{\"x\" : 2569,\"y\" : 2},{\"x\" : 2569,\"y\" : 4},{\"x\" : 2569,\"y\" : 6},{\"x\" : 2569,\"y\" : 8},{\"x\" : 2569,\"y\" : 10},{\"x\" : 2570,\"y\" : 2},{\"x\" : 2570,\"y\" : 4},{\"x\" : 2570,\"y\" : 6},{\"x\" : 2570,\"y\" : 8},{\"x\" : 2570,\"y\" : 10},{\"x\" : 2571,\"y\" : 2},{\"x\" : 2571,\"y\" : 6},{\"x\" : 2571,\"y\" : 8},{\"x\" : 2571,\"y\" : 10},{\"x\" : 2572,\"y\" : 2},{\"x\" : 2572,\"y\" : 6},{\"x\" : 2572,\"y\" : 8},{\"x\" : 2572,\"y\" : 10},{\"x\" : 2573,\"y\" : 2},{\"x\" : 2573,\"y\" : 6},{\"x\" : 2573,\"y\" : 8},{\"x\" : 2573,\"y\" : 10},{\"x\" : 2574,\"y\" : 2},{\"x\" : 2574,\"y\" : 6},{\"x\" : 2574,\"y\" : 8},{\"x\" : 2574,\"y\" : 10},{\"x\" : 2575,\"y\" : 2},{\"x\" : 2575,\"y\" : 6},{\"x\" : 2575,\"y\" : 8},{\"x\" : 2575,\"y\" : 10},{\"x\" : 2576,\"y\" : 2},{\"x\" : 2576,\"y\" : 6},{\"x\" : 2576,\"y\" : 8},{\"x\" : 2576,\"y\" : 10},{\"x\" : 2577,\"y\" : 2},{\"x\" : 2577,\"y\" : 6},{\"x\" : 2577,\"y\" : 8},{\"x\" : 2577,\"y\" : 10},{\"x\" : 2578,\"y\" : 2},{\"x\" : 2578,\"y\" : 6},{\"x\" : 2578,\"y\" : 8},{\"x\" : 2578,\"y\" : 10},{\"x\" : 2579,\"y\" : 2},{\"x\" : 2579,\"y\" : 6},{\"x\" : 2579,\"y\" : 8},{\"x\" : 2579,\"y\" : 10},{\"x\" : 2580,\"y\" : 2},{\"x\" : 2580,\"y\" : 6},{\"x\" : 2580,\"y\" : 8},{\"x\" : 2580,\"y\" : 10},{\"x\" : 2581,\"y\" : 2},{\"x\" : 2581,\"y\" : 8},{\"x\" : 2581,\"y\" : 10},{\"x\" : 2582,\"y\" : 2},{\"x\" : 2582,\"y\" : 8},{\"x\" : 2582,\"y\" : 10},{\"x\" : 2583,\"y\" : 2},{\"x\" : 2583,\"y\" : 6},{\"x\" : 2583,\"y\" : 8},{\"x\" : 2583,\"y\" : 10},{\"x\" : 2584,\"y\" : 2},{\"x\" : 2584,\"y\" : 4},{\"x\" : 2584,\"y\" : 6},{\"x\" : 2584,\"y\" : 8},{\"x\" : 2584,\"y\" : 10},{\"x\" : 2585,\"y\" : 2},{\"x\" : 2585,\"y\" : 4},{\"x\" : 2585,\"y\" : 6},{\"x\" : 2585,\"y\" : 8},{\"x\" : 2585,\"y\" : 10},{\"x\" : 2586,\"y\" : 2},{\"x\" : 2586,\"y\" : 6},{\"x\" : 2586,\"y\" : 8},{\"x\" : 2586,\"y\" : 10},{\"x\" : 2587,\"y\" : 2},{\"x\" : 2587,\"y\" : 6},{\"x\" : 2587,\"y\" : 8},{\"x\" : 2587,\"y\" : 10},{\"x\" : 2588,\"y\" : 2},{\"x\" : 2588,\"y\" : 6},{\"x\" : 2588,\"y\" : 8},{\"x\" : 2588,\"y\" : 10},{\"x\" : 2589,\"y\" : 2},{\"x\" : 2589,\"y\" : 6},{\"x\" : 2589,\"y\" : 8},{\"x\" : 2589,\"y\" : 10},{\"x\" : 2590,\"y\" : 2},{\"x\" : 2590,\"y\" : 4},{\"x\" : 2590,\"y\" : 6},{\"x\" : 2590,\"y\" : 8},{\"x\" : 2590,\"y\" : 10},{\"x\" : 2591,\"y\" : 2},{\"x\" : 2591,\"y\" : 6},{\"x\" : 2591,\"y\" : 8},{\"x\" : 2591,\"y\" : 10},{\"x\" : 2592,\"y\" : 2},{\"x\" : 2592,\"y\" : 6},{\"x\" : 2592,\"y\" : 8},{\"x\" : 2592,\"y\" : 10},{\"x\" : 2593,\"y\" : 2},{\"x\" : 2593,\"y\" : 6},{\"x\" : 2593,\"y\" : 8},{\"x\" : 2593,\"y\" : 10},{\"x\" : 2594,\"y\" : 2},{\"x\" : 2594,\"y\" : 6},{\"x\" : 2594,\"y\" : 8},{\"x\" : 2594,\"y\" : 10},{\"x\" : 2595,\"y\" : 2},{\"x\" : 2595,\"y\" : 6},{\"x\" : 2595,\"y\" : 8},{\"x\" : 2595,\"y\" : 10},{\"x\" : 2596,\"y\" : 2},{\"x\" : 2596,\"y\" : 8},{\"x\" : 2596,\"y\" : 10},{\"x\" : 2597,\"y\" : 2},{\"x\" : 2597,\"y\" : 6},{\"x\" : 2597,\"y\" : 8},{\"x\" : 2597,\"y\" : 10},{\"x\" : 2598,\"y\" : 2},{\"x\" : 2598,\"y\" : 6},{\"x\" : 2598,\"y\" : 8},{\"x\" : 2598,\"y\" : 10},{\"x\" : 2599,\"y\" : 2},{\"x\" : 2599,\"y\" : 6},{\"x\" : 2599,\"y\" : 8},{\"x\" : 2599,\"y\" : 10},{\"x\" : 2600,\"y\" : 2},{\"x\" : 2600,\"y\" : 6},{\"x\" : 2600,\"y\" : 8},{\"x\" : 2600,\"y\" : 10},{\"x\" : 2601,\"y\" : 2},{\"x\" : 2601,\"y\" : 6},{\"x\" : 2601,\"y\" : 8},{\"x\" : 2601,\"y\" : 10},{\"x\" : 2602,\"y\" : 2},{\"x\" : 2602,\"y\" : 6},{\"x\" : 2602,\"y\" : 8},{\"x\" : 2602,\"y\" : 10},{\"x\" : 2603,\"y\" : 2},{\"x\" : 2603,\"y\" : 6},{\"x\" : 2603,\"y\" : 8},{\"x\" : 2603,\"y\" : 10},{\"x\" : 2604,\"y\" : 2},{\"x\" : 2604,\"y\" : 4},{\"x\" : 2604,\"y\" : 6},{\"x\" : 2604,\"y\" : 8},{\"x\" : 2604,\"y\" : 10},{\"x\" : 2605,\"y\" : 2},{\"x\" : 2605,\"y\" : 4},{\"x\" : 2605,\"y\" : 6},{\"x\" : 2605,\"y\" : 8},{\"x\" : 2605,\"y\" : 10},{\"x\" : 2606,\"y\" : 2},{\"x\" : 2606,\"y\" : 6},{\"x\" : 2606,\"y\" : 8},{\"x\" : 2606,\"y\" : 10},{\"x\" : 2607,\"y\" : 2},{\"x\" : 2607,\"y\" : 6},{\"x\" : 2607,\"y\" : 8},{\"x\" : 2607,\"y\" : 10},{\"x\" : 2608,\"y\" : 2},{\"x\" : 2608,\"y\" : 6},{\"x\" : 2608,\"y\" : 8},{\"x\" : 2608,\"y\" : 10},{\"x\" : 2609,\"y\" : 2},{\"x\" : 2609,\"y\" : 6},{\"x\" : 2609,\"y\" : 8},{\"x\" : 2609,\"y\" : 10},{\"x\" : 2610,\"y\" : 2},{\"x\" : 2610,\"y\" : 6},{\"x\" : 2610,\"y\" : 8},{\"x\" : 2610,\"y\" : 10},{\"x\" : 2611,\"y\" : 2},{\"x\" : 2611,\"y\" : 6},{\"x\" : 2611,\"y\" : 8},{\"x\" : 2611,\"y\" : 10},{\"x\" : 2612,\"y\" : 2},{\"x\" : 2612,\"y\" : 6},{\"x\" : 2612,\"y\" : 8},{\"x\" : 2612,\"y\" : 10},{\"x\" : 2613,\"y\" : 2},{\"x\" : 2613,\"y\" : 6},{\"x\" : 2613,\"y\" : 8},{\"x\" : 2613,\"y\" : 10},{\"x\" : 2614,\"y\" : 2},{\"x\" : 2614,\"y\" : 6},{\"x\" : 2614,\"y\" : 8},{\"x\" : 2614,\"y\" : 10},{\"x\" : 2615,\"y\" : 2},{\"x\" : 2615,\"y\" : 6},{\"x\" : 2615,\"y\" : 8},{\"x\" : 2615,\"y\" : 10},{\"x\" : 2616,\"y\" : 2},{\"x\" : 2616,\"y\" : 8},{\"x\" : 2616,\"y\" : 10},{\"x\" : 2617,\"y\" : 2},{\"x\" : 2617,\"y\" : 8},{\"x\" : 2617,\"y\" : 10},{\"x\" : 2618,\"y\" : 2},{\"x\" : 2618,\"y\" : 4},{\"x\" : 2618,\"y\" : 6},{\"x\" : 2618,\"y\" : 8},{\"x\" : 2618,\"y\" : 10},{\"x\" : 2619,\"y\" : 2},{\"x\" : 2619,\"y\" : 4},{\"x\" : 2619,\"y\" : 6},{\"x\" : 2619,\"y\" : 8},{\"x\" : 2619,\"y\" : 10},{\"x\" : 2620,\"y\" : 2},{\"x\" : 2620,\"y\" : 4},{\"x\" : 2620,\"y\" : 6},{\"x\" : 2620,\"y\" : 8},{\"x\" : 2620,\"y\" : 10},{\"x\" : 2621,\"y\" : 2},{\"x\" : 2621,\"y\" : 6},{\"x\" : 2621,\"y\" : 8},{\"x\" : 2621,\"y\" : 10},{\"x\" : 2622,\"y\" : 2},{\"x\" : 2622,\"y\" : 6},{\"x\" : 2622,\"y\" : 8},{\"x\" : 2622,\"y\" : 10},{\"x\" : 2623,\"y\" : 2},{\"x\" : 2623,\"y\" : 6},{\"x\" : 2623,\"y\" : 8},{\"x\" : 2623,\"y\" : 10},{\"x\" : 2624,\"y\" : 2},{\"x\" : 2624,\"y\" : 6},{\"x\" : 2624,\"y\" : 8},{\"x\" : 2624,\"y\" : 10},{\"x\" : 2625,\"y\" : 2},{\"x\" : 2625,\"y\" : 4},{\"x\" : 2625,\"y\" : 6},{\"x\" : 2625,\"y\" : 8},{\"x\" : 2625,\"y\" : 10},{\"x\" : 2626,\"y\" : 2},{\"x\" : 2626,\"y\" : 6},{\"x\" : 2626,\"y\" : 8},{\"x\" : 2626,\"y\" : 10},{\"x\" : 2627,\"y\" : 2},{\"x\" : 2627,\"y\" : 6},{\"x\" : 2627,\"y\" : 8},{\"x\" : 2627,\"y\" : 10},{\"x\" : 2628,\"y\" : 2},{\"x\" : 2628,\"y\" : 6},{\"x\" : 2628,\"y\" : 8},{\"x\" : 2628,\"y\" : 10},{\"x\" : 2629,\"y\" : 2},{\"x\" : 2629,\"y\" : 6},{\"x\" : 2629,\"y\" : 8},{\"x\" : 2629,\"y\" : 10},{\"x\" : 2630,\"y\" : 2},{\"x\" : 2630,\"y\" : 6},{\"x\" : 2630,\"y\" : 8},{\"x\" : 2630,\"y\" : 10},{\"x\" : 2631,\"y\" : 2},{\"x\" : 2631,\"y\" : 8},{\"x\" : 2631,\"y\" : 10},{\"x\" : 2632,\"y\" : 2},{\"x\" : 2632,\"y\" : 6},{\"x\" : 2632,\"y\" : 8},{\"x\" : 2632,\"y\" : 10},{\"x\" : 2633,\"y\" : 2},{\"x\" : 2633,\"y\" : 6},{\"x\" : 2633,\"y\" : 8},{\"x\" : 2633,\"y\" : 10},{\"x\" : 2634,\"y\" : 2},{\"x\" : 2634,\"y\" : 6},{\"x\" : 2634,\"y\" : 8},{\"x\" : 2634,\"y\" : 10},{\"x\" : 2635,\"y\" : 2},{\"x\" : 2635,\"y\" : 4},{\"x\" : 2635,\"y\" : 6},{\"x\" : 2635,\"y\" : 8},{\"x\" : 2635,\"y\" : 10},{\"x\" : 2636,\"y\" : 2},{\"x\" : 2636,\"y\" : 6},{\"x\" : 2636,\"y\" : 8},{\"x\" : 2636,\"y\" : 10},{\"x\" : 2637,\"y\" : 2},{\"x\" : 2637,\"y\" : 6},{\"x\" : 2637,\"y\" : 8},{\"x\" : 2637,\"y\" : 10},{\"x\" : 2638,\"y\" : 2},{\"x\" : 2638,\"y\" : 6},{\"x\" : 2638,\"y\" : 8},{\"x\" : 2638,\"y\" : 10},{\"x\" : 2639,\"y\" : 2},{\"x\" : 2639,\"y\" : 4},{\"x\" : 2639,\"y\" : 6},{\"x\" : 2639,\"y\" : 8},{\"x\" : 2639,\"y\" : 10},{\"x\" : 2640,\"y\" : 2},{\"x\" : 2640,\"y\" : 4},{\"x\" : 2640,\"y\" : 6},{\"x\" : 2640,\"y\" : 8},{\"x\" : 2640,\"y\" : 10},{\"x\" : 2641,\"y\" : 2},{\"x\" : 2641,\"y\" : 6},{\"x\" : 2641,\"y\" : 8},{\"x\" : 2641,\"y\" : 10},{\"x\" : 2642,\"y\" : 2},{\"x\" : 2642,\"y\" : 6},{\"x\" : 2642,\"y\" : 8},{\"x\" : 2642,\"y\" : 10},{\"x\" : 2643,\"y\" : 2},{\"x\" : 2643,\"y\" : 6},{\"x\" : 2643,\"y\" : 8},{\"x\" : 2643,\"y\" : 10},{\"x\" : 2644,\"y\" : 2},{\"x\" : 2644,\"y\" : 6},{\"x\" : 2644,\"y\" : 8},{\"x\" : 2644,\"y\" : 10},{\"x\" : 2645,\"y\" : 2},{\"x\" : 2645,\"y\" : 6},{\"x\" : 2645,\"y\" : 8},{\"x\" : 2645,\"y\" : 10},{\"x\" : 2646,\"y\" : 2},{\"x\" : 2646,\"y\" : 6},{\"x\" : 2646,\"y\" : 8},{\"x\" : 2646,\"y\" : 10},{\"x\" : 2647,\"y\" : 2},{\"x\" : 2647,\"y\" : 6},{\"x\" : 2647,\"y\" : 8},{\"x\" : 2647,\"y\" : 10},{\"x\" : 2648,\"y\" : 2},{\"x\" : 2648,\"y\" : 6},{\"x\" : 2648,\"y\" : 8},{\"x\" : 2648,\"y\" : 10},{\"x\" : 2649,\"y\" : 2},{\"x\" : 2649,\"y\" : 6},{\"x\" : 2649,\"y\" : 8},{\"x\" : 2649,\"y\" : 10},{\"x\" : 2650,\"y\" : 2},{\"x\" : 2650,\"y\" : 6},{\"x\" : 2650,\"y\" : 8},{\"x\" : 2650,\"y\" : 10},{\"x\" : 2651,\"y\" : 2},{\"x\" : 2651,\"y\" : 8},{\"x\" : 2651,\"y\" : 10},{\"x\" : 2652,\"y\" : 2},{\"x\" : 2652,\"y\" : 6},{\"x\" : 2652,\"y\" : 8},{\"x\" : 2652,\"y\" : 10},{\"x\" : 2653,\"y\" : 2},{\"x\" : 2653,\"y\" : 4},{\"x\" : 2653,\"y\" : 6},{\"x\" : 2653,\"y\" : 8},{\"x\" : 2653,\"y\" : 10},{\"x\" : 2654,\"y\" : 2},{\"x\" : 2654,\"y\" : 4},{\"x\" : 2654,\"y\" : 6},{\"x\" : 2654,\"y\" : 8},{\"x\" : 2654,\"y\" : 10},{\"x\" : 2655,\"y\" : 2},{\"x\" : 2655,\"y\" : 4},{\"x\" : 2655,\"y\" : 6},{\"x\" : 2655,\"y\" : 8},{\"x\" : 2655,\"y\" : 10},{\"x\" : 2656,\"y\" : 2},{\"x\" : 2656,\"y\" : 6},{\"x\" : 2656,\"y\" : 8},{\"x\" : 2656,\"y\" : 10},{\"x\" : 2657,\"y\" : 2},{\"x\" : 2657,\"y\" : 6},{\"x\" : 2657,\"y\" : 8},{\"x\" : 2657,\"y\" : 10},{\"x\" : 2658,\"y\" : 2},{\"x\" : 2658,\"y\" : 6},{\"x\" : 2658,\"y\" : 8},{\"x\" : 2658,\"y\" : 10},{\"x\" : 2659,\"y\" : 2},{\"x\" : 2659,\"y\" : 6},{\"x\" : 2659,\"y\" : 8},{\"x\" : 2659,\"y\" : 10},{\"x\" : 2660,\"y\" : 2},{\"x\" : 2660,\"y\" : 4},{\"x\" : 2660,\"y\" : 6},{\"x\" : 2660,\"y\" : 8},{\"x\" : 2660,\"y\" : 10},{\"x\" : 2661,\"y\" : 2},{\"x\" : 2661,\"y\" : 6},{\"x\" : 2661,\"y\" : 8},{\"x\" : 2661,\"y\" : 10},{\"x\" : 2662,\"y\" : 2},{\"x\" : 2662,\"y\" : 6},{\"x\" : 2662,\"y\" : 8},{\"x\" : 2662,\"y\" : 10},{\"x\" : 2663,\"y\" : 2},{\"x\" : 2663,\"y\" : 6},{\"x\" : 2663,\"y\" : 8},{\"x\" : 2663,\"y\" : 10},{\"x\" : 2664,\"y\" : 2},{\"x\" : 2664,\"y\" : 6},{\"x\" : 2664,\"y\" : 8},{\"x\" : 2664,\"y\" : 10},{\"x\" : 2665,\"y\" : 2},{\"x\" : 2665,\"y\" : 6},{\"x\" : 2665,\"y\" : 8},{\"x\" : 2665,\"y\" : 10},{\"x\" : 2666,\"y\" : 2},{\"x\" : 2666,\"y\" : 8},{\"x\" : 2666,\"y\" : 10},{\"x\" : 2667,\"y\" : 2},{\"x\" : 2667,\"y\" : 6},{\"x\" : 2667,\"y\" : 8},{\"x\" : 2667,\"y\" : 10},{\"x\" : 2668,\"y\" : 2},{\"x\" : 2668,\"y\" : 6},{\"x\" : 2668,\"y\" : 8},{\"x\" : 2668,\"y\" : 10},{\"x\" : 2669,\"y\" : 2},{\"x\" : 2669,\"y\" : 4},{\"x\" : 2669,\"y\" : 6},{\"x\" : 2669,\"y\" : 8},{\"x\" : 2669,\"y\" : 10},{\"x\" : 2670,\"y\" : 2},{\"x\" : 2670,\"y\" : 4},{\"x\" : 2670,\"y\" : 6},{\"x\" : 2670,\"y\" : 8},{\"x\" : 2670,\"y\" : 10},{\"x\" : 2671,\"y\" : 2},{\"x\" : 2671,\"y\" : 6},{\"x\" : 2671,\"y\" : 8},{\"x\" : 2671,\"y\" : 10},{\"x\" : 2672,\"y\" : 2},{\"x\" : 2672,\"y\" : 6},{\"x\" : 2672,\"y\" : 8},{\"x\" : 2672,\"y\" : 10},{\"x\" : 2673,\"y\" : 2},{\"x\" : 2673,\"y\" : 6},{\"x\" : 2673,\"y\" : 8},{\"x\" : 2673,\"y\" : 10},{\"x\" : 2674,\"y\" : 2},{\"x\" : 2674,\"y\" : 4},{\"x\" : 2674,\"y\" : 6},{\"x\" : 2674,\"y\" : 8},{\"x\" : 2674,\"y\" : 10},{\"x\" : 2675,\"y\" : 2},{\"x\" : 2675,\"y\" : 4},{\"x\" : 2675,\"y\" : 6},{\"x\" : 2675,\"y\" : 8},{\"x\" : 2675,\"y\" : 10},{\"x\" : 2676,\"y\" : 2},{\"x\" : 2676,\"y\" : 6},{\"x\" : 2676,\"y\" : 8},{\"x\" : 2676,\"y\" : 10},{\"x\" : 2677,\"y\" : 2},{\"x\" : 2677,\"y\" : 6},{\"x\" : 2677,\"y\" : 8},{\"x\" : 2677,\"y\" : 10},{\"x\" : 2678,\"y\" : 2},{\"x\" : 2678,\"y\" : 6},{\"x\" : 2678,\"y\" : 8},{\"x\" : 2678,\"y\" : 10},{\"x\" : 2679,\"y\" : 2},{\"x\" : 2679,\"y\" : 6},{\"x\" : 2679,\"y\" : 8},{\"x\" : 2679,\"y\" : 10},{\"x\" : 2680,\"y\" : 2},{\"x\" : 2680,\"y\" : 6},{\"x\" : 2680,\"y\" : 8},{\"x\" : 2680,\"y\" : 10},{\"x\" : 2681,\"y\" : 2},{\"x\" : 2681,\"y\" : 6},{\"x\" : 2681,\"y\" : 8},{\"x\" : 2681,\"y\" : 10},{\"x\" : 2682,\"y\" : 2},{\"x\" : 2682,\"y\" : 6},{\"x\" : 2682,\"y\" : 8},{\"x\" : 2682,\"y\" : 10},{\"x\" : 2683,\"y\" : 2},{\"x\" : 2683,\"y\" : 6},{\"x\" : 2683,\"y\" : 8},{\"x\" : 2683,\"y\" : 10},{\"x\" : 2684,\"y\" : 2},{\"x\" : 2684,\"y\" : 6},{\"x\" : 2684,\"y\" : 8},{\"x\" : 2684,\"y\" : 10},{\"x\" : 2685,\"y\" : 2},{\"x\" : 2685,\"y\" : 6},{\"x\" : 2685,\"y\" : 8},{\"x\" : 2685,\"y\" : 10},{\"x\" : 2686,\"y\" : 2},{\"x\" : 2686,\"y\" : 6},{\"x\" : 2686,\"y\" : 8},{\"x\" : 2686,\"y\" : 10},{\"x\" : 2687,\"y\" : 2},{\"x\" : 2687,\"y\" : 6},{\"x\" : 2687,\"y\" : 8},{\"x\" : 2687,\"y\" : 10},{\"x\" : 2688,\"y\" : 2},{\"x\" : 2688,\"y\" : 4},{\"x\" : 2688,\"y\" : 6},{\"x\" : 2688,\"y\" : 8},{\"x\" : 2688,\"y\" : 10},{\"x\" : 2689,\"y\" : 2},{\"x\" : 2689,\"y\" : 4},{\"x\" : 2689,\"y\" : 6},{\"x\" : 2689,\"y\" : 8},{\"x\" : 2689,\"y\" : 10},{\"x\" : 2690,\"y\" : 2},{\"x\" : 2690,\"y\" : 4},{\"x\" : 2690,\"y\" : 6},{\"x\" : 2690,\"y\" : 8},{\"x\" : 2690,\"y\" : 10},{\"x\" : 2691,\"y\" : 2},{\"x\" : 2691,\"y\" : 6},{\"x\" : 2691,\"y\" : 8},{\"x\" : 2691,\"y\" : 10},{\"x\" : 2692,\"y\" : 2},{\"x\" : 2692,\"y\" : 6},{\"x\" : 2692,\"y\" : 8},{\"x\" : 2692,\"y\" : 10},{\"x\" : 2693,\"y\" : 2},{\"x\" : 2693,\"y\" : 6},{\"x\" : 2693,\"y\" : 8},{\"x\" : 2693,\"y\" : 10},{\"x\" : 2694,\"y\" : 2},{\"x\" : 2694,\"y\" : 6},{\"x\" : 2694,\"y\" : 8},{\"x\" : 2694,\"y\" : 10},{\"x\" : 2695,\"y\" : 2},{\"x\" : 2695,\"y\" : 4},{\"x\" : 2695,\"y\" : 6},{\"x\" : 2695,\"y\" : 8},{\"x\" : 2695,\"y\" : 10},{\"x\" : 2696,\"y\" : 2},{\"x\" : 2696,\"y\" : 6},{\"x\" : 2696,\"y\" : 8},{\"x\" : 2696,\"y\" : 10},{\"x\" : 2697,\"y\" : 2},{\"x\" : 2697,\"y\" : 6},{\"x\" : 2697,\"y\" : 8},{\"x\" : 2697,\"y\" : 10},{\"x\" : 2698,\"y\" : 2},{\"x\" : 2698,\"y\" : 6},{\"x\" : 2698,\"y\" : 8},{\"x\" : 2698,\"y\" : 10},{\"x\" : 2699,\"y\" : 2},{\"x\" : 2699,\"y\" : 6},{\"x\" : 2699,\"y\" : 8},{\"x\" : 2699,\"y\" : 10},{\"x\" : 2700,\"y\" : 2},{\"x\" : 2700,\"y\" : 6},{\"x\" : 2700,\"y\" : 8},{\"x\" : 2700,\"y\" : 10},{\"x\" : 2701,\"y\" : 2},{\"x\" : 2701,\"y\" : 8},{\"x\" : 2701,\"y\" : 10},{\"x\" : 2702,\"y\" : 2},{\"x\" : 2702,\"y\" : 6},{\"x\" : 2702,\"y\" : 8},{\"x\" : 2702,\"y\" : 10},{\"x\" : 2703,\"y\" : 2},{\"x\" : 2703,\"y\" : 4},{\"x\" : 2703,\"y\" : 6},{\"x\" : 2703,\"y\" : 8},{\"x\" : 2703,\"y\" : 10},{\"x\" : 2704,\"y\" : 2},{\"x\" : 2704,\"y\" : 4},{\"x\" : 2704,\"y\" : 6},{\"x\" : 2704,\"y\" : 8},{\"x\" : 2704,\"y\" : 10},{\"x\" : 2705,\"y\" : 2},{\"x\" : 2705,\"y\" : 4},{\"x\" : 2705,\"y\" : 6},{\"x\" : 2705,\"y\" : 8},{\"x\" : 2705,\"y\" : 10},{\"x\" : 2706,\"y\" : 2},{\"x\" : 2706,\"y\" : 6},{\"x\" : 2706,\"y\" : 8},{\"x\" : 2706,\"y\" : 10},{\"x\" : 2707,\"y\" : 2},{\"x\" : 2707,\"y\" : 6},{\"x\" : 2707,\"y\" : 8},{\"x\" : 2707,\"y\" : 10},{\"x\" : 2708,\"y\" : 2},{\"x\" : 2708,\"y\" : 6},{\"x\" : 2708,\"y\" : 8},{\"x\" : 2708,\"y\" : 10},{\"x\" : 2709,\"y\" : 2},{\"x\" : 2709,\"y\" : 4},{\"x\" : 2709,\"y\" : 6},{\"x\" : 2709,\"y\" : 8},{\"x\" : 2709,\"y\" : 10},{\"x\" : 2710,\"y\" : 2},{\"x\" : 2710,\"y\" : 4},{\"x\" : 2710,\"y\" : 6},{\"x\" : 2710,\"y\" : 8},{\"x\" : 2710,\"y\" : 10},{\"x\" : 2711,\"y\" : 2},{\"x\" : 2711,\"y\" : 6},{\"x\" : 2711,\"y\" : 8},{\"x\" : 2711,\"y\" : 10},{\"x\" : 2712,\"y\" : 2},{\"x\" : 2712,\"y\" : 6},{\"x\" : 2712,\"y\" : 8},{\"x\" : 2712,\"y\" : 10},{\"x\" : 2713,\"y\" : 2},{\"x\" : 2713,\"y\" : 6},{\"x\" : 2713,\"y\" : 8},{\"x\" : 2713,\"y\" : 10},{\"x\" : 2714,\"y\" : 2},{\"x\" : 2714,\"y\" : 6},{\"x\" : 2714,\"y\" : 8},{\"x\" : 2714,\"y\" : 10},{\"x\" : 2715,\"y\" : 2},{\"x\" : 2715,\"y\" : 6},{\"x\" : 2715,\"y\" : 8},{\"x\" : 2715,\"y\" : 10},{\"x\" : 2716,\"y\" : 2},{\"x\" : 2716,\"y\" : 6},{\"x\" : 2716,\"y\" : 8},{\"x\" : 2716,\"y\" : 10},{\"x\" : 2717,\"y\" : 2},{\"x\" : 2717,\"y\" : 6},{\"x\" : 2717,\"y\" : 8},{\"x\" : 2717,\"y\" : 10},{\"x\" : 2718,\"y\" : 2},{\"x\" : 2718,\"y\" : 6},{\"x\" : 2718,\"y\" : 8},{\"x\" : 2718,\"y\" : 10},{\"x\" : 2719,\"y\" : 2},{\"x\" : 2719,\"y\" : 6},{\"x\" : 2719,\"y\" : 8},{\"x\" : 2719,\"y\" : 10},{\"x\" : 2720,\"y\" : 2},{\"x\" : 2720,\"y\" : 4},{\"x\" : 2720,\"y\" : 6},{\"x\" : 2720,\"y\" : 8},{\"x\" : 2720,\"y\" : 10},{\"x\" : 2721,\"y\" : 2},{\"x\" : 2721,\"y\" : 6},{\"x\" : 2721,\"y\" : 8},{\"x\" : 2721,\"y\" : 10},{\"x\" : 2722,\"y\" : 2},{\"x\" : 2722,\"y\" : 6},{\"x\" : 2722,\"y\" : 8},{\"x\" : 2722,\"y\" : 10},{\"x\" : 2723,\"y\" : 2},{\"x\" : 2723,\"y\" : 4},{\"x\" : 2723,\"y\" : 6},{\"x\" : 2723,\"y\" : 8},{\"x\" : 2723,\"y\" : 10},{\"x\" : 2724,\"y\" : 2},{\"x\" : 2724,\"y\" : 4},{\"x\" : 2724,\"y\" : 6},{\"x\" : 2724,\"y\" : 8},{\"x\" : 2724,\"y\" : 10},{\"x\" : 2725,\"y\" : 2},{\"x\" : 2725,\"y\" : 4},{\"x\" : 2725,\"y\" : 6},{\"x\" : 2725,\"y\" : 8},{\"x\" : 2725,\"y\" : 10},{\"x\" : 2726,\"y\" : 2},{\"x\" : 2726,\"y\" : 6},{\"x\" : 2726,\"y\" : 8},{\"x\" : 2726,\"y\" : 10},{\"x\" : 2727,\"y\" : 2},{\"x\" : 2727,\"y\" : 6},{\"x\" : 2727,\"y\" : 8},{\"x\" : 2727,\"y\" : 10},{\"x\" : 2728,\"y\" : 2},{\"x\" : 2728,\"y\" : 6},{\"x\" : 2728,\"y\" : 8},{\"x\" : 2728,\"y\" : 10},{\"x\" : 2729,\"y\" : 2},{\"x\" : 2729,\"y\" : 6},{\"x\" : 2729,\"y\" : 8},{\"x\" : 2729,\"y\" : 10},{\"x\" : 2730,\"y\" : 2},{\"x\" : 2730,\"y\" : 4},{\"x\" : 2730,\"y\" : 6},{\"x\" : 2730,\"y\" : 8},{\"x\" : 2730,\"y\" : 10},{\"x\" : 2731,\"y\" : 2},{\"x\" : 2731,\"y\" : 6},{\"x\" : 2731,\"y\" : 8},{\"x\" : 2731,\"y\" : 10},{\"x\" : 2732,\"y\" : 2},{\"x\" : 2732,\"y\" : 6},{\"x\" : 2732,\"y\" : 8},{\"x\" : 2732,\"y\" : 10},{\"x\" : 2733,\"y\" : 2},{\"x\" : 2733,\"y\" : 6},{\"x\" : 2733,\"y\" : 8},{\"x\" : 2733,\"y\" : 10},{\"x\" : 2734,\"y\" : 2},{\"x\" : 2734,\"y\" : 6},{\"x\" : 2734,\"y\" : 8},{\"x\" : 2734,\"y\" : 10},{\"x\" : 2735,\"y\" : 2},{\"x\" : 2735,\"y\" : 6},{\"x\" : 2735,\"y\" : 8},{\"x\" : 2735,\"y\" : 10},{\"x\" : 2736,\"y\" : 2},{\"x\" : 2736,\"y\" : 8},{\"x\" : 2736,\"y\" : 10},{\"x\" : 2737,\"y\" : 2},{\"x\" : 2737,\"y\" : 4},{\"x\" : 2737,\"y\" : 6},{\"x\" : 2737,\"y\" : 8},{\"x\" : 2737,\"y\" : 10},{\"x\" : 2738,\"y\" : 2},{\"x\" : 2738,\"y\" : 4},{\"x\" : 2738,\"y\" : 6},{\"x\" : 2738,\"y\" : 8},{\"x\" : 2738,\"y\" : 10},{\"x\" : 2739,\"y\" : 2},{\"x\" : 2739,\"y\" : 4},{\"x\" : 2739,\"y\" : 6},{\"x\" : 2739,\"y\" : 8},{\"x\" : 2739,\"y\" : 10},{\"x\" : 2740,\"y\" : 2},{\"x\" : 2740,\"y\" : 4},{\"x\" : 2740,\"y\" : 6},{\"x\" : 2740,\"y\" : 8},{\"x\" : 2740,\"y\" : 10},{\"x\" : 2741,\"y\" : 2},{\"x\" : 2741,\"y\" : 6},{\"x\" : 2741,\"y\" : 8},{\"x\" : 2741,\"y\" : 10},{\"x\" : 2742,\"y\" : 2},{\"x\" : 2742,\"y\" : 6},{\"x\" : 2742,\"y\" : 8},{\"x\" : 2742,\"y\" : 10},{\"x\" : 2743,\"y\" : 2},{\"x\" : 2743,\"y\" : 6},{\"x\" : 2743,\"y\" : 8},{\"x\" : 2743,\"y\" : 10},{\"x\" : 2744,\"y\" : 2},{\"x\" : 2744,\"y\" : 4},{\"x\" : 2744,\"y\" : 6},{\"x\" : 2744,\"y\" : 8},{\"x\" : 2744,\"y\" : 10},{\"x\" : 2745,\"y\" : 2},{\"x\" : 2745,\"y\" : 4},{\"x\" : 2745,\"y\" : 6},{\"x\" : 2745,\"y\" : 8},{\"x\" : 2745,\"y\" : 10},{\"x\" : 2746,\"y\" : 2},{\"x\" : 2746,\"y\" : 6},{\"x\" : 2746,\"y\" : 8},{\"x\" : 2746,\"y\" : 10},{\"x\" : 2747,\"y\" : 2},{\"x\" : 2747,\"y\" : 6},{\"x\" : 2747,\"y\" : 8},{\"x\" : 2747,\"y\" : 10},{\"x\" : 2748,\"y\" : 2},{\"x\" : 2748,\"y\" : 6},{\"x\" : 2748,\"y\" : 8},{\"x\" : 2748,\"y\" : 10},{\"x\" : 2749,\"y\" : 2},{\"x\" : 2749,\"y\" : 6},{\"x\" : 2749,\"y\" : 8},{\"x\" : 2749,\"y\" : 10},{\"x\" : 2750,\"y\" : 2},{\"x\" : 2750,\"y\" : 6},{\"x\" : 2750,\"y\" : 8},{\"x\" : 2750,\"y\" : 10},{\"x\" : 2751,\"y\" : 2},{\"x\" : 2751,\"y\" : 6},{\"x\" : 2751,\"y\" : 8},{\"x\" : 2751,\"y\" : 10},{\"x\" : 2752,\"y\" : 2},{\"x\" : 2752,\"y\" : 6},{\"x\" : 2752,\"y\" : 8},{\"x\" : 2752,\"y\" : 10},{\"x\" : 2753,\"y\" : 2},{\"x\" : 2753,\"y\" : 6},{\"x\" : 2753,\"y\" : 8},{\"x\" : 2753,\"y\" : 10},{\"x\" : 2754,\"y\" : 2},{\"x\" : 2754,\"y\" : 4},{\"x\" : 2754,\"y\" : 6},{\"x\" : 2754,\"y\" : 8},{\"x\" : 2754,\"y\" : 10},{\"x\" : 2755,\"y\" : 2},{\"x\" : 2755,\"y\" : 4},{\"x\" : 2755,\"y\" : 6},{\"x\" : 2755,\"y\" : 8},{\"x\" : 2755,\"y\" : 10},{\"x\" : 2756,\"y\" : 2},{\"x\" : 2756,\"y\" : 6},{\"x\" : 2756,\"y\" : 8},{\"x\" : 2756,\"y\" : 10},{\"x\" : 2757,\"y\" : 2},{\"x\" : 2757,\"y\" : 6},{\"x\" : 2757,\"y\" : 8},{\"x\" : 2757,\"y\" : 10},{\"x\" : 2758,\"y\" : 2},{\"x\" : 2758,\"y\" : 4},{\"x\" : 2758,\"y\" : 6},{\"x\" : 2758,\"y\" : 8},{\"x\" : 2758,\"y\" : 10},{\"x\" : 2759,\"y\" : 2},{\"x\" : 2759,\"y\" : 4},{\"x\" : 2759,\"y\" : 6},{\"x\" : 2759,\"y\" : 8},{\"x\" : 2759,\"y\" : 10},{\"x\" : 2760,\"y\" : 2},{\"x\" : 2760,\"y\" : 4},{\"x\" : 2760,\"y\" : 6},{\"x\" : 2760,\"y\" : 8},{\"x\" : 2760,\"y\" : 10},{\"x\" : 2761,\"y\" : 2},{\"x\" : 2761,\"y\" : 6},{\"x\" : 2761,\"y\" : 8},{\"x\" : 2761,\"y\" : 10},{\"x\" : 2762,\"y\" : 2},{\"x\" : 2762,\"y\" : 6},{\"x\" : 2762,\"y\" : 8},{\"x\" : 2762,\"y\" : 10},{\"x\" : 2763,\"y\" : 2},{\"x\" : 2763,\"y\" : 6},{\"x\" : 2763,\"y\" : 8},{\"x\" : 2763,\"y\" : 10},{\"x\" : 2764,\"y\" : 2},{\"x\" : 2764,\"y\" : 6},{\"x\" : 2764,\"y\" : 8},{\"x\" : 2764,\"y\" : 10},{\"x\" : 2765,\"y\" : 2},{\"x\" : 2765,\"y\" : 4},{\"x\" : 2765,\"y\" : 6},{\"x\" : 2765,\"y\" : 8},{\"x\" : 2765,\"y\" : 10},{\"x\" : 2766,\"y\" : 2},{\"x\" : 2766,\"y\" : 6},{\"x\" : 2766,\"y\" : 8},{\"x\" : 2766,\"y\" : 10},{\"x\" : 2767,\"y\" : 2},{\"x\" : 2767,\"y\" : 6},{\"x\" : 2767,\"y\" : 8},{\"x\" : 2767,\"y\" : 10},{\"x\" : 2768,\"y\" : 2},{\"x\" : 2768,\"y\" : 6},{\"x\" : 2768,\"y\" : 8},{\"x\" : 2768,\"y\" : 10},{\"x\" : 2769,\"y\" : 2},{\"x\" : 2769,\"y\" : 6},{\"x\" : 2769,\"y\" : 8},{\"x\" : 2769,\"y\" : 10},{\"x\" : 2770,\"y\" : 2},{\"x\" : 2770,\"y\" : 6},{\"x\" : 2770,\"y\" : 8},{\"x\" : 2770,\"y\" : 10},{\"x\" : 2771,\"y\" : 2},{\"x\" : 2771,\"y\" : 6},{\"x\" : 2771,\"y\" : 8},{\"x\" : 2771,\"y\" : 10},{\"x\" : 2772,\"y\" : 2},{\"x\" : 2772,\"y\" : 4},{\"x\" : 2772,\"y\" : 6},{\"x\" : 2772,\"y\" : 8},{\"x\" : 2772,\"y\" : 10},{\"x\" : 2773,\"y\" : 2},{\"x\" : 2773,\"y\" : 4},{\"x\" : 2773,\"y\" : 6},{\"x\" : 2773,\"y\" : 8},{\"x\" : 2773,\"y\" : 10},{\"x\" : 2774,\"y\" : 2},{\"x\" : 2774,\"y\" : 4},{\"x\" : 2774,\"y\" : 6},{\"x\" : 2774,\"y\" : 8},{\"x\" : 2774,\"y\" : 10},{\"x\" : 2775,\"y\" : 2},{\"x\" : 2775,\"y\" : 4},{\"x\" : 2775,\"y\" : 6},{\"x\" : 2775,\"y\" : 8},{\"x\" : 2775,\"y\" : 10},{\"x\" : 2776,\"y\" : 2},{\"x\" : 2776,\"y\" : 6},{\"x\" : 2776,\"y\" : 8},{\"x\" : 2776,\"y\" : 10},{\"x\" : 2777,\"y\" : 2},{\"x\" : 2777,\"y\" : 6},{\"x\" : 2777,\"y\" : 8},{\"x\" : 2777,\"y\" : 10},{\"x\" : 2778,\"y\" : 2},{\"x\" : 2778,\"y\" : 6},{\"x\" : 2778,\"y\" : 8},{\"x\" : 2778,\"y\" : 10},{\"x\" : 2779,\"y\" : 2},{\"x\" : 2779,\"y\" : 4},{\"x\" : 2779,\"y\" : 6},{\"x\" : 2779,\"y\" : 8},{\"x\" : 2779,\"y\" : 10},{\"x\" : 2780,\"y\" : 2},{\"x\" : 2780,\"y\" : 4},{\"x\" : 2780,\"y\" : 6},{\"x\" : 2780,\"y\" : 8},{\"x\" : 2780,\"y\" : 10},{\"x\" : 2781,\"y\" : 2},{\"x\" : 2781,\"y\" : 6},{\"x\" : 2781,\"y\" : 8},{\"x\" : 2781,\"y\" : 10},{\"x\" : 2782,\"y\" : 2},{\"x\" : 2782,\"y\" : 6},{\"x\" : 2782,\"y\" : 8},{\"x\" : 2782,\"y\" : 10},{\"x\" : 2783,\"y\" : 2},{\"x\" : 2783,\"y\" : 6},{\"x\" : 2783,\"y\" : 8},{\"x\" : 2783,\"y\" : 10},{\"x\" : 2784,\"y\" : 2},{\"x\" : 2784,\"y\" : 6},{\"x\" : 2784,\"y\" : 8},{\"x\" : 2784,\"y\" : 10},{\"x\" : 2785,\"y\" : 2},{\"x\" : 2785,\"y\" : 6},{\"x\" : 2785,\"y\" : 8},{\"x\" : 2785,\"y\" : 10},{\"x\" : 2786,\"y\" : 2},{\"x\" : 2786,\"y\" : 6},{\"x\" : 2786,\"y\" : 8},{\"x\" : 2786,\"y\" : 10},{\"x\" : 2787,\"y\" : 2},{\"x\" : 2787,\"y\" : 6},{\"x\" : 2787,\"y\" : 8},{\"x\" : 2787,\"y\" : 10},{\"x\" : 2788,\"y\" : 2},{\"x\" : 2788,\"y\" : 4},{\"x\" : 2788,\"y\" : 6},{\"x\" : 2788,\"y\" : 8},{\"x\" : 2788,\"y\" : 10},{\"x\" : 2789,\"y\" : 2},{\"x\" : 2789,\"y\" : 4},{\"x\" : 2789,\"y\" : 6},{\"x\" : 2789,\"y\" : 8},{\"x\" : 2789,\"y\" : 10},{\"x\" : 2790,\"y\" : 2},{\"x\" : 2790,\"y\" : 4},{\"x\" : 2790,\"y\" : 6},{\"x\" : 2790,\"y\" : 8},{\"x\" : 2790,\"y\" : 10},{\"x\" : 2791,\"y\" : 2},{\"x\" : 2791,\"y\" : 6},{\"x\" : 2791,\"y\" : 8},{\"x\" : 2791,\"y\" : 10},{\"x\" : 2792,\"y\" : 2},{\"x\" : 2792,\"y\" : 6},{\"x\" : 2792,\"y\" : 8},{\"x\" : 2792,\"y\" : 10},{\"x\" : 2793,\"y\" : 2},{\"x\" : 2793,\"y\" : 4},{\"x\" : 2793,\"y\" : 6},{\"x\" : 2793,\"y\" : 8},{\"x\" : 2793,\"y\" : 10},{\"x\" : 2794,\"y\" : 2},{\"x\" : 2794,\"y\" : 4},{\"x\" : 2794,\"y\" : 6},{\"x\" : 2794,\"y\" : 8},{\"x\" : 2794,\"y\" : 10},{\"x\" : 2795,\"y\" : 2},{\"x\" : 2795,\"y\" : 4},{\"x\" : 2795,\"y\" : 6},{\"x\" : 2795,\"y\" : 8},{\"x\" : 2795,\"y\" : 10},{\"x\" : 2796,\"y\" : 2},{\"x\" : 2796,\"y\" : 6},{\"x\" : 2796,\"y\" : 8},{\"x\" : 2796,\"y\" : 10},{\"x\" : 2797,\"y\" : 2},{\"x\" : 2797,\"y\" : 6},{\"x\" : 2797,\"y\" : 8},{\"x\" : 2797,\"y\" : 10},{\"x\" : 2798,\"y\" : 2},{\"x\" : 2798,\"y\" : 6},{\"x\" : 2798,\"y\" : 8},{\"x\" : 2798,\"y\" : 10},{\"x\" : 2799,\"y\" : 2},{\"x\" : 2799,\"y\" : 6},{\"x\" : 2799,\"y\" : 8},{\"x\" : 2799,\"y\" : 10},{\"x\" : 2800,\"y\" : 2},{\"x\" : 2800,\"y\" : 4},{\"x\" : 2800,\"y\" : 6},{\"x\" : 2800,\"y\" : 8},{\"x\" : 2800,\"y\" : 10},{\"x\" : 2801,\"y\" : 2},{\"x\" : 2801,\"y\" : 6},{\"x\" : 2801,\"y\" : 8},{\"x\" : 2801,\"y\" : 10},{\"x\" : 2802,\"y\" : 2},{\"x\" : 2802,\"y\" : 6},{\"x\" : 2802,\"y\" : 8},{\"x\" : 2802,\"y\" : 10},{\"x\" : 2803,\"y\" : 2},{\"x\" : 2803,\"y\" : 6},{\"x\" : 2803,\"y\" : 8},{\"x\" : 2803,\"y\" : 10},{\"x\" : 2804,\"y\" : 2},{\"x\" : 2804,\"y\" : 6},{\"x\" : 2804,\"y\" : 8},{\"x\" : 2804,\"y\" : 10},{\"x\" : 2805,\"y\" : 2},{\"x\" : 2805,\"y\" : 4},{\"x\" : 2805,\"y\" : 6},{\"x\" : 2805,\"y\" : 8},{\"x\" : 2805,\"y\" : 10},{\"x\" : 2806,\"y\" : 2},{\"x\" : 2806,\"y\" : 6},{\"x\" : 2806,\"y\" : 8},{\"x\" : 2806,\"y\" : 10},{\"x\" : 2807,\"y\" : 2},{\"x\" : 2807,\"y\" : 4},{\"x\" : 2807,\"y\" : 6},{\"x\" : 2807,\"y\" : 8},{\"x\" : 2807,\"y\" : 10},{\"x\" : 2808,\"y\" : 2},{\"x\" : 2808,\"y\" : 4},{\"x\" : 2808,\"y\" : 6},{\"x\" : 2808,\"y\" : 8},{\"x\" : 2808,\"y\" : 10},{\"x\" : 2809,\"y\" : 2},{\"x\" : 2809,\"y\" : 4},{\"x\" : 2809,\"y\" : 6},{\"x\" : 2809,\"y\" : 8},{\"x\" : 2809,\"y\" : 10},{\"x\" : 2810,\"y\" : 2},{\"x\" : 2810,\"y\" : 4},{\"x\" : 2810,\"y\" : 6},{\"x\" : 2810,\"y\" : 8},{\"x\" : 2810,\"y\" : 10},{\"x\" : 2811,\"y\" : 2},{\"x\" : 2811,\"y\" : 6},{\"x\" : 2811,\"y\" : 8},{\"x\" : 2811,\"y\" : 10},{\"x\" : 2812,\"y\" : 2},{\"x\" : 2812,\"y\" : 6},{\"x\" : 2812,\"y\" : 8},{\"x\" : 2812,\"y\" : 10},{\"x\" : 2813,\"y\" : 2},{\"x\" : 2813,\"y\" : 6},{\"x\" : 2813,\"y\" : 8},{\"x\" : 2813,\"y\" : 10},{\"x\" : 2814,\"y\" : 2},{\"x\" : 2814,\"y\" : 4},{\"x\" : 2814,\"y\" : 6},{\"x\" : 2814,\"y\" : 8},{\"x\" : 2814,\"y\" : 10},{\"x\" : 2815,\"y\" : 2},{\"x\" : 2815,\"y\" : 4},{\"x\" : 2815,\"y\" : 6},{\"x\" : 2815,\"y\" : 8},{\"x\" : 2815,\"y\" : 10},{\"x\" : 2816,\"y\" : 2},{\"x\" : 2816,\"y\" : 6},{\"x\" : 2816,\"y\" : 8},{\"x\" : 2816,\"y\" : 10},{\"x\" : 2817,\"y\" : 2},{\"x\" : 2817,\"y\" : 6},{\"x\" : 2817,\"y\" : 8},{\"x\" : 2817,\"y\" : 10},{\"x\" : 2818,\"y\" : 2},{\"x\" : 2818,\"y\" : 6},{\"x\" : 2818,\"y\" : 8},{\"x\" : 2818,\"y\" : 10},{\"x\" : 2819,\"y\" : 2},{\"x\" : 2819,\"y\" : 6},{\"x\" : 2819,\"y\" : 8},{\"x\" : 2819,\"y\" : 10},{\"x\" : 2820,\"y\" : 2},{\"x\" : 2820,\"y\" : 6},{\"x\" : 2820,\"y\" : 8},{\"x\" : 2820,\"y\" : 10},{\"x\" : 2821,\"y\" : 2},{\"x\" : 2821,\"y\" : 6},{\"x\" : 2821,\"y\" : 8},{\"x\" : 2821,\"y\" : 10},{\"x\" : 2822,\"y\" : 2},{\"x\" : 2822,\"y\" : 4},{\"x\" : 2822,\"y\" : 6},{\"x\" : 2822,\"y\" : 8},{\"x\" : 2822,\"y\" : 10},{\"x\" : 2823,\"y\" : 2},{\"x\" : 2823,\"y\" : 4},{\"x\" : 2823,\"y\" : 6},{\"x\" : 2823,\"y\" : 8},{\"x\" : 2823,\"y\" : 10},{\"x\" : 2824,\"y\" : 2},{\"x\" : 2824,\"y\" : 4},{\"x\" : 2824,\"y\" : 6},{\"x\" : 2824,\"y\" : 8},{\"x\" : 2824,\"y\" : 10},{\"x\" : 2825,\"y\" : 2},{\"x\" : 2825,\"y\" : 4},{\"x\" : 2825,\"y\" : 6},{\"x\" : 2825,\"y\" : 8},{\"x\" : 2825,\"y\" : 10},{\"x\" : 2826,\"y\" : 2},{\"x\" : 2826,\"y\" : 6},{\"x\" : 2826,\"y\" : 8},{\"x\" : 2826,\"y\" : 10},{\"x\" : 2827,\"y\" : 2},{\"x\" : 2827,\"y\" : 6},{\"x\" : 2827,\"y\" : 8},{\"x\" : 2827,\"y\" : 10},{\"x\" : 2828,\"y\" : 2},{\"x\" : 2828,\"y\" : 4},{\"x\" : 2828,\"y\" : 6},{\"x\" : 2828,\"y\" : 8},{\"x\" : 2828,\"y\" : 10},{\"x\" : 2829,\"y\" : 2},{\"x\" : 2829,\"y\" : 4},{\"x\" : 2829,\"y\" : 6},{\"x\" : 2829,\"y\" : 8},{\"x\" : 2829,\"y\" : 10},{\"x\" : 2830,\"y\" : 2},{\"x\" : 2830,\"y\" : 4},{\"x\" : 2830,\"y\" : 6},{\"x\" : 2830,\"y\" : 8},{\"x\" : 2830,\"y\" : 10},{\"x\" : 2831,\"y\" : 2},{\"x\" : 2831,\"y\" : 6},{\"x\" : 2831,\"y\" : 8},{\"x\" : 2831,\"y\" : 10},{\"x\" : 2832,\"y\" : 2},{\"x\" : 2832,\"y\" : 6},{\"x\" : 2832,\"y\" : 8},{\"x\" : 2832,\"y\" : 10},{\"x\" : 2833,\"y\" : 2},{\"x\" : 2833,\"y\" : 6},{\"x\" : 2833,\"y\" : 8},{\"x\" : 2833,\"y\" : 10},{\"x\" : 2834,\"y\" : 2},{\"x\" : 2834,\"y\" : 6},{\"x\" : 2834,\"y\" : 8},{\"x\" : 2834,\"y\" : 10},{\"x\" : 2835,\"y\" : 2},{\"x\" : 2835,\"y\" : 4},{\"x\" : 2835,\"y\" : 6},{\"x\" : 2835,\"y\" : 8},{\"x\" : 2835,\"y\" : 10},{\"x\" : 2836,\"y\" : 2},{\"x\" : 2836,\"y\" : 6},{\"x\" : 2836,\"y\" : 8},{\"x\" : 2836,\"y\" : 10},{\"x\" : 2837,\"y\" : 2},{\"x\" : 2837,\"y\" : 6},{\"x\" : 2837,\"y\" : 8},{\"x\" : 2837,\"y\" : 10},{\"x\" : 2838,\"y\" : 2},{\"x\" : 2838,\"y\" : 6},{\"x\" : 2838,\"y\" : 8},{\"x\" : 2838,\"y\" : 10},{\"x\" : 2839,\"y\" : 2},{\"x\" : 2839,\"y\" : 4},{\"x\" : 2839,\"y\" : 6},{\"x\" : 2839,\"y\" : 8},{\"x\" : 2839,\"y\" : 10},{\"x\" : 2840,\"y\" : 2},{\"x\" : 2840,\"y\" : 4},{\"x\" : 2840,\"y\" : 6},{\"x\" : 2840,\"y\" : 8},{\"x\" : 2840,\"y\" : 10},{\"x\" : 2841,\"y\" : 2},{\"x\" : 2841,\"y\" : 6},{\"x\" : 2841,\"y\" : 8},{\"x\" : 2841,\"y\" : 10},{\"x\" : 2842,\"y\" : 2},{\"x\" : 2842,\"y\" : 4},{\"x\" : 2842,\"y\" : 6},{\"x\" : 2842,\"y\" : 8},{\"x\" : 2842,\"y\" : 10},{\"x\" : 2843,\"y\" : 2},{\"x\" : 2843,\"y\" : 4},{\"x\" : 2843,\"y\" : 6},{\"x\" : 2843,\"y\" : 8},{\"x\" : 2843,\"y\" : 10},{\"x\" : 2844,\"y\" : 2},{\"x\" : 2844,\"y\" : 4},{\"x\" : 2844,\"y\" : 6},{\"x\" : 2844,\"y\" : 8},{\"x\" : 2844,\"y\" : 10},{\"x\" : 2845,\"y\" : 2},{\"x\" : 2845,\"y\" : 4},{\"x\" : 2845,\"y\" : 6},{\"x\" : 2845,\"y\" : 8},{\"x\" : 2845,\"y\" : 10},{\"x\" : 2846,\"y\" : 2},{\"x\" : 2846,\"y\" : 6},{\"x\" : 2846,\"y\" : 8},{\"x\" : 2846,\"y\" : 10},{\"x\" : 2847,\"y\" : 2},{\"x\" : 2847,\"y\" : 6},{\"x\" : 2847,\"y\" : 8},{\"x\" : 2847,\"y\" : 10},{\"x\" : 2848,\"y\" : 2},{\"x\" : 2848,\"y\" : 6},{\"x\" : 2848,\"y\" : 8},{\"x\" : 2848,\"y\" : 10},{\"x\" : 2849,\"y\" : 2},{\"x\" : 2849,\"y\" : 4},{\"x\" : 2849,\"y\" : 6},{\"x\" : 2849,\"y\" : 8},{\"x\" : 2849,\"y\" : 10},{\"x\" : 2850,\"y\" : 2},{\"x\" : 2850,\"y\" : 4},{\"x\" : 2850,\"y\" : 6},{\"x\" : 2850,\"y\" : 8},{\"x\" : 2850,\"y\" : 10},{\"x\" : 2851,\"y\" : 2},{\"x\" : 2851,\"y\" : 6},{\"x\" : 2851,\"y\" : 8},{\"x\" : 2851,\"y\" : 10},{\"x\" : 2852,\"y\" : 2},{\"x\" : 2852,\"y\" : 6},{\"x\" : 2852,\"y\" : 8},{\"x\" : 2852,\"y\" : 10},{\"x\" : 2853,\"y\" : 2},{\"x\" : 2853,\"y\" : 6},{\"x\" : 2853,\"y\" : 8},{\"x\" : 2853,\"y\" : 10},{\"x\" : 2854,\"y\" : 2},{\"x\" : 2854,\"y\" : 6},{\"x\" : 2854,\"y\" : 8},{\"x\" : 2854,\"y\" : 10},{\"x\" : 2855,\"y\" : 2},{\"x\" : 2855,\"y\" : 6},{\"x\" : 2855,\"y\" : 8},{\"x\" : 2855,\"y\" : 10},{\"x\" : 2856,\"y\" : 2},{\"x\" : 2856,\"y\" : 4},{\"x\" : 2856,\"y\" : 6},{\"x\" : 2856,\"y\" : 8},{\"x\" : 2856,\"y\" : 10},{\"x\" : 2857,\"y\" : 2},{\"x\" : 2857,\"y\" : 4},{\"x\" : 2857,\"y\" : 6},{\"x\" : 2857,\"y\" : 8},{\"x\" : 2857,\"y\" : 10},{\"x\" : 2858,\"y\" : 2},{\"x\" : 2858,\"y\" : 4},{\"x\" : 2858,\"y\" : 6},{\"x\" : 2858,\"y\" : 8},{\"x\" : 2858,\"y\" : 10},{\"x\" : 2859,\"y\" : 2},{\"x\" : 2859,\"y\" : 4},{\"x\" : 2859,\"y\" : 6},{\"x\" : 2859,\"y\" : 8},{\"x\" : 2859,\"y\" : 10},{\"x\" : 2860,\"y\" : 2},{\"x\" : 2860,\"y\" : 4},{\"x\" : 2860,\"y\" : 6},{\"x\" : 2860,\"y\" : 8},{\"x\" : 2860,\"y\" : 10},{\"x\" : 2861,\"y\" : 2},{\"x\" : 2861,\"y\" : 6},{\"x\" : 2861,\"y\" : 8},{\"x\" : 2861,\"y\" : 10},{\"x\" : 2862,\"y\" : 2},{\"x\" : 2862,\"y\" : 6},{\"x\" : 2862,\"y\" : 8},{\"x\" : 2862,\"y\" : 10},{\"x\" : 2863,\"y\" : 2},{\"x\" : 2863,\"y\" : 4},{\"x\" : 2863,\"y\" : 6},{\"x\" : 2863,\"y\" : 8},{\"x\" : 2863,\"y\" : 10},{\"x\" : 2864,\"y\" : 2},{\"x\" : 2864,\"y\" : 4},{\"x\" : 2864,\"y\" : 6},{\"x\" : 2864,\"y\" : 8},{\"x\" : 2864,\"y\" : 10},{\"x\" : 2865,\"y\" : 2},{\"x\" : 2865,\"y\" : 4},{\"x\" : 2865,\"y\" : 6},{\"x\" : 2865,\"y\" : 8},{\"x\" : 2865,\"y\" : 10},{\"x\" : 2866,\"y\" : 2},{\"x\" : 2866,\"y\" : 6},{\"x\" : 2866,\"y\" : 8},{\"x\" : 2866,\"y\" : 10},{\"x\" : 2867,\"y\" : 2},{\"x\" : 2867,\"y\" : 6},{\"x\" : 2867,\"y\" : 8},{\"x\" : 2867,\"y\" : 10},{\"x\" : 2868,\"y\" : 2},{\"x\" : 2868,\"y\" : 6},{\"x\" : 2868,\"y\" : 8},{\"x\" : 2868,\"y\" : 10},{\"x\" : 2869,\"y\" : 2},{\"x\" : 2869,\"y\" : 6},{\"x\" : 2869,\"y\" : 8},{\"x\" : 2869,\"y\" : 10},{\"x\" : 2870,\"y\" : 2},{\"x\" : 2870,\"y\" : 4},{\"x\" : 2870,\"y\" : 6},{\"x\" : 2870,\"y\" : 8},{\"x\" : 2870,\"y\" : 10},{\"x\" : 2871,\"y\" : 2},{\"x\" : 2871,\"y\" : 6},{\"x\" : 2871,\"y\" : 8},{\"x\" : 2871,\"y\" : 10},{\"x\" : 2872,\"y\" : 2},{\"x\" : 2872,\"y\" : 6},{\"x\" : 2872,\"y\" : 8},{\"x\" : 2872,\"y\" : 10},{\"x\" : 2873,\"y\" : 2},{\"x\" : 2873,\"y\" : 4},{\"x\" : 2873,\"y\" : 6},{\"x\" : 2873,\"y\" : 8},{\"x\" : 2873,\"y\" : 10},{\"x\" : 2874,\"y\" : 2},{\"x\" : 2874,\"y\" : 4},{\"x\" : 2874,\"y\" : 6},{\"x\" : 2874,\"y\" : 8},{\"x\" : 2874,\"y\" : 10},{\"x\" : 2875,\"y\" : 2},{\"x\" : 2875,\"y\" : 4},{\"x\" : 2875,\"y\" : 6},{\"x\" : 2875,\"y\" : 8},{\"x\" : 2875,\"y\" : 10},{\"x\" : 2876,\"y\" : 2},{\"x\" : 2876,\"y\" : 6},{\"x\" : 2876,\"y\" : 8},{\"x\" : 2876,\"y\" : 10},{\"x\" : 2877,\"y\" : 2},{\"x\" : 2877,\"y\" : 4},{\"x\" : 2877,\"y\" : 6},{\"x\" : 2877,\"y\" : 8},{\"x\" : 2877,\"y\" : 10},{\"x\" : 2878,\"y\" : 2},{\"x\" : 2878,\"y\" : 4},{\"x\" : 2878,\"y\" : 6},{\"x\" : 2878,\"y\" : 8},{\"x\" : 2878,\"y\" : 10},{\"x\" : 2879,\"y\" : 2},{\"x\" : 2879,\"y\" : 4},{\"x\" : 2879,\"y\" : 6},{\"x\" : 2879,\"y\" : 8},{\"x\" : 2879,\"y\" : 10},{\"x\" : 2880,\"y\" : 2},{\"x\" : 2880,\"y\" : 4},{\"x\" : 2880,\"y\" : 6},{\"x\" : 2880,\"y\" : 8},{\"x\" : 2880,\"y\" : 10},{\"x\" : 2881,\"y\" : 2},{\"x\" : 2881,\"y\" : 6},{\"x\" : 2881,\"y\" : 8},{\"x\" : 2881,\"y\" : 10},{\"x\" : 2882,\"y\" : 2},{\"x\" : 2882,\"y\" : 6},{\"x\" : 2882,\"y\" : 8},{\"x\" : 2882,\"y\" : 10},{\"x\" : 2883,\"y\" : 2},{\"x\" : 2883,\"y\" : 6},{\"x\" : 2883,\"y\" : 8},{\"x\" : 2883,\"y\" : 10},{\"x\" : 2884,\"y\" : 2},{\"x\" : 2884,\"y\" : 4},{\"x\" : 2884,\"y\" : 6},{\"x\" : 2884,\"y\" : 8},{\"x\" : 2884,\"y\" : 10},{\"x\" : 2885,\"y\" : 2},{\"x\" : 2885,\"y\" : 4},{\"x\" : 2885,\"y\" : 6},{\"x\" : 2885,\"y\" : 8},{\"x\" : 2885,\"y\" : 10},{\"x\" : 2886,\"y\" : 2},{\"x\" : 2886,\"y\" : 6},{\"x\" : 2886,\"y\" : 8},{\"x\" : 2886,\"y\" : 10},{\"x\" : 2887,\"y\" : 2},{\"x\" : 2887,\"y\" : 6},{\"x\" : 2887,\"y\" : 8},{\"x\" : 2887,\"y\" : 10},{\"x\" : 2888,\"y\" : 2},{\"x\" : 2888,\"y\" : 6},{\"x\" : 2888,\"y\" : 8},{\"x\" : 2888,\"y\" : 10},{\"x\" : 2889,\"y\" : 2},{\"x\" : 2889,\"y\" : 6},{\"x\" : 2889,\"y\" : 8},{\"x\" : 2889,\"y\" : 10},{\"x\" : 2890,\"y\" : 2},{\"x\" : 2890,\"y\" : 4},{\"x\" : 2890,\"y\" : 6},{\"x\" : 2890,\"y\" : 8},{\"x\" : 2890,\"y\" : 10},{\"x\" : 2891,\"y\" : 2},{\"x\" : 2891,\"y\" : 4},{\"x\" : 2891,\"y\" : 6},{\"x\" : 2891,\"y\" : 8},{\"x\" : 2891,\"y\" : 10},{\"x\" : 2892,\"y\" : 2},{\"x\" : 2892,\"y\" : 4},{\"x\" : 2892,\"y\" : 6},{\"x\" : 2892,\"y\" : 8},{\"x\" : 2892,\"y\" : 10},{\"x\" : 2893,\"y\" : 2},{\"x\" : 2893,\"y\" : 4},{\"x\" : 2893,\"y\" : 6},{\"x\" : 2893,\"y\" : 8},{\"x\" : 2893,\"y\" : 10},{\"x\" : 2894,\"y\" : 2},{\"x\" : 2894,\"y\" : 4},{\"x\" : 2894,\"y\" : 6},{\"x\" : 2894,\"y\" : 8},{\"x\" : 2894,\"y\" : 10},{\"x\" : 2895,\"y\" : 2},{\"x\" : 2895,\"y\" : 4},{\"x\" : 2895,\"y\" : 6},{\"x\" : 2895,\"y\" : 8},{\"x\" : 2895,\"y\" : 10},{\"x\" : 2896,\"y\" : 2},{\"x\" : 2896,\"y\" : 6},{\"x\" : 2896,\"y\" : 8},{\"x\" : 2896,\"y\" : 10},{\"x\" : 2897,\"y\" : 2},{\"x\" : 2897,\"y\" : 6},{\"x\" : 2897,\"y\" : 8},{\"x\" : 2897,\"y\" : 10},{\"x\" : 2898,\"y\" : 2},{\"x\" : 2898,\"y\" : 4},{\"x\" : 2898,\"y\" : 6},{\"x\" : 2898,\"y\" : 8},{\"x\" : 2898,\"y\" : 10},{\"x\" : 2899,\"y\" : 2},{\"x\" : 2899,\"y\" : 4},{\"x\" : 2899,\"y\" : 6},{\"x\" : 2899,\"y\" : 8},{\"x\" : 2899,\"y\" : 10},{\"x\" : 2900,\"y\" : 2},{\"x\" : 2900,\"y\" : 4},{\"x\" : 2900,\"y\" : 6},{\"x\" : 2900,\"y\" : 8},{\"x\" : 2900,\"y\" : 10},{\"x\" : 2901,\"y\" : 2},{\"x\" : 2901,\"y\" : 6},{\"x\" : 2901,\"y\" : 8},{\"x\" : 2901,\"y\" : 10},{\"x\" : 2902,\"y\" : 2},{\"x\" : 2902,\"y\" : 6},{\"x\" : 2902,\"y\" : 8},{\"x\" : 2902,\"y\" : 10},{\"x\" : 2903,\"y\" : 2},{\"x\" : 2903,\"y\" : 6},{\"x\" : 2903,\"y\" : 8},{\"x\" : 2903,\"y\" : 10},{\"x\" : 2904,\"y\" : 2},{\"x\" : 2904,\"y\" : 6},{\"x\" : 2904,\"y\" : 8},{\"x\" : 2904,\"y\" : 10},{\"x\" : 2905,\"y\" : 2},{\"x\" : 2905,\"y\" : 4},{\"x\" : 2905,\"y\" : 6},{\"x\" : 2905,\"y\" : 8},{\"x\" : 2905,\"y\" : 10},{\"x\" : 2906,\"y\" : 2},{\"x\" : 2906,\"y\" : 6},{\"x\" : 2906,\"y\" : 8},{\"x\" : 2906,\"y\" : 10},{\"x\" : 2907,\"y\" : 2},{\"x\" : 2907,\"y\" : 4},{\"x\" : 2907,\"y\" : 6},{\"x\" : 2907,\"y\" : 8},{\"x\" : 2907,\"y\" : 10},{\"x\" : 2908,\"y\" : 2},{\"x\" : 2908,\"y\" : 4},{\"x\" : 2908,\"y\" : 6},{\"x\" : 2908,\"y\" : 8},{\"x\" : 2908,\"y\" : 10},{\"x\" : 2909,\"y\" : 2},{\"x\" : 2909,\"y\" : 4},{\"x\" : 2909,\"y\" : 6},{\"x\" : 2909,\"y\" : 8},{\"x\" : 2909,\"y\" : 10},{\"x\" : 2910,\"y\" : 2},{\"x\" : 2910,\"y\" : 4},{\"x\" : 2910,\"y\" : 6},{\"x\" : 2910,\"y\" : 8},{\"x\" : 2910,\"y\" : 10},{\"x\" : 2911,\"y\" : 2},{\"x\" : 2911,\"y\" : 6},{\"x\" : 2911,\"y\" : 8},{\"x\" : 2911,\"y\" : 10},{\"x\" : 2912,\"y\" : 2},{\"x\" : 2912,\"y\" : 4},{\"x\" : 2912,\"y\" : 6},{\"x\" : 2912,\"y\" : 8},{\"x\" : 2912,\"y\" : 10},{\"x\" : 2913,\"y\" : 2},{\"x\" : 2913,\"y\" : 4},{\"x\" : 2913,\"y\" : 6},{\"x\" : 2913,\"y\" : 8},{\"x\" : 2913,\"y\" : 10},{\"x\" : 2914,\"y\" : 2},{\"x\" : 2914,\"y\" : 4},{\"x\" : 2914,\"y\" : 6},{\"x\" : 2914,\"y\" : 8},{\"x\" : 2914,\"y\" : 10},{\"x\" : 2915,\"y\" : 2},{\"x\" : 2915,\"y\" : 4},{\"x\" : 2915,\"y\" : 6},{\"x\" : 2915,\"y\" : 8},{\"x\" : 2915,\"y\" : 10},{\"x\" : 2916,\"y\" : 2},{\"x\" : 2916,\"y\" : 6},{\"x\" : 2916,\"y\" : 8},{\"x\" : 2916,\"y\" : 10},{\"x\" : 2917,\"y\" : 2},{\"x\" : 2917,\"y\" : 6},{\"x\" : 2917,\"y\" : 8},{\"x\" : 2917,\"y\" : 10},{\"x\" : 2918,\"y\" : 2},{\"x\" : 2918,\"y\" : 6},{\"x\" : 2918,\"y\" : 8},{\"x\" : 2918,\"y\" : 10},{\"x\" : 2919,\"y\" : 2},{\"x\" : 2919,\"y\" : 4},{\"x\" : 2919,\"y\" : 6},{\"x\" : 2919,\"y\" : 8},{\"x\" : 2919,\"y\" : 10},{\"x\" : 2920,\"y\" : 2},{\"x\" : 2920,\"y\" : 4},{\"x\" : 2920,\"y\" : 6},{\"x\" : 2920,\"y\" : 8},{\"x\" : 2920,\"y\" : 10},{\"x\" : 2921,\"y\" : 2},{\"x\" : 2921,\"y\" : 6},{\"x\" : 2921,\"y\" : 8},{\"x\" : 2921,\"y\" : 10},{\"x\" : 2922,\"y\" : 2},{\"x\" : 2922,\"y\" : 6},{\"x\" : 2922,\"y\" : 8},{\"x\" : 2922,\"y\" : 10},{\"x\" : 2923,\"y\" : 2},{\"x\" : 2923,\"y\" : 6},{\"x\" : 2923,\"y\" : 8},{\"x\" : 2923,\"y\" : 10},{\"x\" : 2924,\"y\" : 2},{\"x\" : 2924,\"y\" : 4},{\"x\" : 2924,\"y\" : 6},{\"x\" : 2924,\"y\" : 8},{\"x\" : 2924,\"y\" : 10},{\"x\" : 2925,\"y\" : 2},{\"x\" : 2925,\"y\" : 4},{\"x\" : 2925,\"y\" : 6},{\"x\" : 2925,\"y\" : 8},{\"x\" : 2925,\"y\" : 10},{\"x\" : 2926,\"y\" : 2},{\"x\" : 2926,\"y\" : 4},{\"x\" : 2926,\"y\" : 6},{\"x\" : 2926,\"y\" : 8},{\"x\" : 2926,\"y\" : 10},{\"x\" : 2927,\"y\" : 2},{\"x\" : 2927,\"y\" : 4},{\"x\" : 2927,\"y\" : 6},{\"x\" : 2927,\"y\" : 8},{\"x\" : 2927,\"y\" : 10},{\"x\" : 2928,\"y\" : 2},{\"x\" : 2928,\"y\" : 4},{\"x\" : 2928,\"y\" : 6},{\"x\" : 2928,\"y\" : 8},{\"x\" : 2928,\"y\" : 10},{\"x\" : 2929,\"y\" : 2},{\"x\" : 2929,\"y\" : 4},{\"x\" : 2929,\"y\" : 6},{\"x\" : 2929,\"y\" : 8},{\"x\" : 2929,\"y\" : 10},{\"x\" : 2930,\"y\" : 2},{\"x\" : 2930,\"y\" : 4},{\"x\" : 2930,\"y\" : 6},{\"x\" : 2930,\"y\" : 8},{\"x\" : 2930,\"y\" : 10},{\"x\" : 2931,\"y\" : 2},{\"x\" : 2931,\"y\" : 6},{\"x\" : 2931,\"y\" : 8},{\"x\" : 2931,\"y\" : 10},{\"x\" : 2932,\"y\" : 2},{\"x\" : 2932,\"y\" : 6},{\"x\" : 2932,\"y\" : 8},{\"x\" : 2932,\"y\" : 10},{\"x\" : 2933,\"y\" : 2},{\"x\" : 2933,\"y\" : 4},{\"x\" : 2933,\"y\" : 6},{\"x\" : 2933,\"y\" : 8},{\"x\" : 2933,\"y\" : 10},{\"x\" : 2934,\"y\" : 2},{\"x\" : 2934,\"y\" : 4},{\"x\" : 2934,\"y\" : 6},{\"x\" : 2934,\"y\" : 8},{\"x\" : 2934,\"y\" : 10},{\"x\" : 2935,\"y\" : 2},{\"x\" : 2935,\"y\" : 4},{\"x\" : 2935,\"y\" : 6},{\"x\" : 2935,\"y\" : 8},{\"x\" : 2935,\"y\" : 10},{\"x\" : 2936,\"y\" : 2},{\"x\" : 2936,\"y\" : 6},{\"x\" : 2936,\"y\" : 8},{\"x\" : 2936,\"y\" : 10},{\"x\" : 2937,\"y\" : 2},{\"x\" : 2937,\"y\" : 6},{\"x\" : 2937,\"y\" : 8},{\"x\" : 2937,\"y\" : 10},{\"x\" : 2938,\"y\" : 2},{\"x\" : 2938,\"y\" : 6},{\"x\" : 2938,\"y\" : 8},{\"x\" : 2938,\"y\" : 10},{\"x\" : 2939,\"y\" : 2},{\"x\" : 2939,\"y\" : 6},{\"x\" : 2939,\"y\" : 8},{\"x\" : 2939,\"y\" : 10},{\"x\" : 2940,\"y\" : 2},{\"x\" : 2940,\"y\" : 4},{\"x\" : 2940,\"y\" : 6},{\"x\" : 2940,\"y\" : 8},{\"x\" : 2940,\"y\" : 10},{\"x\" : 2941,\"y\" : 2},{\"x\" : 2941,\"y\" : 4},{\"x\" : 2941,\"y\" : 6},{\"x\" : 2941,\"y\" : 8},{\"x\" : 2941,\"y\" : 10},{\"x\" : 2942,\"y\" : 2},{\"x\" : 2942,\"y\" : 4},{\"x\" : 2942,\"y\" : 6},{\"x\" : 2942,\"y\" : 8},{\"x\" : 2942,\"y\" : 10},{\"x\" : 2943,\"y\" : 2},{\"x\" : 2943,\"y\" : 4},{\"x\" : 2943,\"y\" : 6},{\"x\" : 2943,\"y\" : 8},{\"x\" : 2943,\"y\" : 10},{\"x\" : 2944,\"y\" : 2},{\"x\" : 2944,\"y\" : 4},{\"x\" : 2944,\"y\" : 6},{\"x\" : 2944,\"y\" : 8},{\"x\" : 2944,\"y\" : 10},{\"x\" : 2945,\"y\" : 2},{\"x\" : 2945,\"y\" : 4},{\"x\" : 2945,\"y\" : 6},{\"x\" : 2945,\"y\" : 8},{\"x\" : 2945,\"y\" : 10},{\"x\" : 2946,\"y\" : 2},{\"x\" : 2946,\"y\" : 6},{\"x\" : 2946,\"y\" : 8},{\"x\" : 2946,\"y\" : 10},{\"x\" : 2947,\"y\" : 2},{\"x\" : 2947,\"y\" : 4},{\"x\" : 2947,\"y\" : 6},{\"x\" : 2947,\"y\" : 8},{\"x\" : 2947,\"y\" : 10},{\"x\" : 2948,\"y\" : 2},{\"x\" : 2948,\"y\" : 4},{\"x\" : 2948,\"y\" : 6},{\"x\" : 2948,\"y\" : 8},{\"x\" : 2948,\"y\" : 10},{\"x\" : 2949,\"y\" : 2},{\"x\" : 2949,\"y\" : 4},{\"x\" : 2949,\"y\" : 6},{\"x\" : 2949,\"y\" : 8},{\"x\" : 2949,\"y\" : 10},{\"x\" : 2950,\"y\" : 2},{\"x\" : 2950,\"y\" : 4},{\"x\" : 2950,\"y\" : 6},{\"x\" : 2950,\"y\" : 8},{\"x\" : 2950,\"y\" : 10},{\"x\" : 2951,\"y\" : 2},{\"x\" : 2951,\"y\" : 6},{\"x\" : 2951,\"y\" : 8},{\"x\" : 2951,\"y\" : 10},{\"x\" : 2952,\"y\" : 2},{\"x\" : 2952,\"y\" : 6},{\"x\" : 2952,\"y\" : 8},{\"x\" : 2952,\"y\" : 10},{\"x\" : 2953,\"y\" : 2},{\"x\" : 2953,\"y\" : 6},{\"x\" : 2953,\"y\" : 8},{\"x\" : 2953,\"y\" : 10},{\"x\" : 2954,\"y\" : 2},{\"x\" : 2954,\"y\" : 4},{\"x\" : 2954,\"y\" : 6},{\"x\" : 2954,\"y\" : 8},{\"x\" : 2954,\"y\" : 10},{\"x\" : 2955,\"y\" : 2},{\"x\" : 2955,\"y\" : 4},{\"x\" : 2955,\"y\" : 6},{\"x\" : 2955,\"y\" : 8},{\"x\" : 2955,\"y\" : 10},{\"x\" : 2956,\"y\" : 2},{\"x\" : 2956,\"y\" : 6},{\"x\" : 2956,\"y\" : 8},{\"x\" : 2956,\"y\" : 10},{\"x\" : 2957,\"y\" : 2},{\"x\" : 2957,\"y\" : 6},{\"x\" : 2957,\"y\" : 8},{\"x\" : 2957,\"y\" : 10},{\"x\" : 2958,\"y\" : 2},{\"x\" : 2958,\"y\" : 4},{\"x\" : 2958,\"y\" : 6},{\"x\" : 2958,\"y\" : 8},{\"x\" : 2958,\"y\" : 10},{\"x\" : 2959,\"y\" : 2},{\"x\" : 2959,\"y\" : 4},{\"x\" : 2959,\"y\" : 6},{\"x\" : 2959,\"y\" : 8},{\"x\" : 2959,\"y\" : 10},{\"x\" : 2960,\"y\" : 2},{\"x\" : 2960,\"y\" : 4},{\"x\" : 2960,\"y\" : 6},{\"x\" : 2960,\"y\" : 8},{\"x\" : 2960,\"y\" : 10},{\"x\" : 2961,\"y\" : 2},{\"x\" : 2961,\"y\" : 4},{\"x\" : 2961,\"y\" : 6},{\"x\" : 2961,\"y\" : 8},{\"x\" : 2961,\"y\" : 10},{\"x\" : 2962,\"y\" : 2},{\"x\" : 2962,\"y\" : 4},{\"x\" : 2962,\"y\" : 6},{\"x\" : 2962,\"y\" : 8},{\"x\" : 2962,\"y\" : 10},{\"x\" : 2963,\"y\" : 2},{\"x\" : 2963,\"y\" : 4},{\"x\" : 2963,\"y\" : 6},{\"x\" : 2963,\"y\" : 8},{\"x\" : 2963,\"y\" : 10},{\"x\" : 2964,\"y\" : 2},{\"x\" : 2964,\"y\" : 4},{\"x\" : 2964,\"y\" : 6},{\"x\" : 2964,\"y\" : 8},{\"x\" : 2964,\"y\" : 10},{\"x\" : 2965,\"y\" : 2},{\"x\" : 2965,\"y\" : 4},{\"x\" : 2965,\"y\" : 6},{\"x\" : 2965,\"y\" : 8},{\"x\" : 2965,\"y\" : 10},{\"x\" : 2966,\"y\" : 2},{\"x\" : 2966,\"y\" : 6},{\"x\" : 2966,\"y\" : 8},{\"x\" : 2966,\"y\" : 10},{\"x\" : 2967,\"y\" : 2},{\"x\" : 2967,\"y\" : 6},{\"x\" : 2967,\"y\" : 8},{\"x\" : 2967,\"y\" : 10},{\"x\" : 2968,\"y\" : 2},{\"x\" : 2968,\"y\" : 4},{\"x\" : 2968,\"y\" : 6},{\"x\" : 2968,\"y\" : 8},{\"x\" : 2968,\"y\" : 10},{\"x\" : 2969,\"y\" : 2},{\"x\" : 2969,\"y\" : 4},{\"x\" : 2969,\"y\" : 6},{\"x\" : 2969,\"y\" : 8},{\"x\" : 2969,\"y\" : 10},{\"x\" : 2970,\"y\" : 2},{\"x\" : 2970,\"y\" : 4},{\"x\" : 2970,\"y\" : 6},{\"x\" : 2970,\"y\" : 8},{\"x\" : 2970,\"y\" : 10},{\"x\" : 2971,\"y\" : 2},{\"x\" : 2971,\"y\" : 6},{\"x\" : 2971,\"y\" : 8},{\"x\" : 2971,\"y\" : 10},{\"x\" : 2972,\"y\" : 2},{\"x\" : 2972,\"y\" : 6},{\"x\" : 2972,\"y\" : 8},{\"x\" : 2972,\"y\" : 10},{\"x\" : 2973,\"y\" : 2},{\"x\" : 2973,\"y\" : 6},{\"x\" : 2973,\"y\" : 8},{\"x\" : 2973,\"y\" : 10},{\"x\" : 2974,\"y\" : 2},{\"x\" : 2974,\"y\" : 6},{\"x\" : 2974,\"y\" : 8},{\"x\" : 2974,\"y\" : 10},{\"x\" : 2975,\"y\" : 2},{\"x\" : 2975,\"y\" : 4},{\"x\" : 2975,\"y\" : 6},{\"x\" : 2975,\"y\" : 8},{\"x\" : 2975,\"y\" : 10},{\"x\" : 2976,\"y\" : 2},{\"x\" : 2976,\"y\" : 4},{\"x\" : 2976,\"y\" : 6},{\"x\" : 2976,\"y\" : 8},{\"x\" : 2976,\"y\" : 10},{\"x\" : 2977,\"y\" : 2},{\"x\" : 2977,\"y\" : 4},{\"x\" : 2977,\"y\" : 6},{\"x\" : 2977,\"y\" : 8},{\"x\" : 2977,\"y\" : 10},{\"x\" : 2978,\"y\" : 2},{\"x\" : 2978,\"y\" : 4},{\"x\" : 2978,\"y\" : 6},{\"x\" : 2978,\"y\" : 8},{\"x\" : 2978,\"y\" : 10},{\"x\" : 2979,\"y\" : 2},{\"x\" : 2979,\"y\" : 4},{\"x\" : 2979,\"y\" : 6},{\"x\" : 2979,\"y\" : 8},{\"x\" : 2979,\"y\" : 10},{\"x\" : 2980,\"y\" : 2},{\"x\" : 2980,\"y\" : 4},{\"x\" : 2980,\"y\" : 6},{\"x\" : 2980,\"y\" : 8},{\"x\" : 2980,\"y\" : 10},{\"x\" : 2981,\"y\" : 2},{\"x\" : 2981,\"y\" : 6},{\"x\" : 2981,\"y\" : 8},{\"x\" : 2981,\"y\" : 10},{\"x\" : 2982,\"y\" : 2},{\"x\" : 2982,\"y\" : 4},{\"x\" : 2982,\"y\" : 6},{\"x\" : 2982,\"y\" : 8},{\"x\" : 2982,\"y\" : 10},{\"x\" : 2983,\"y\" : 2},{\"x\" : 2983,\"y\" : 4},{\"x\" : 2983,\"y\" : 6},{\"x\" : 2983,\"y\" : 8},{\"x\" : 2983,\"y\" : 10},{\"x\" : 2984,\"y\" : 2},{\"x\" : 2984,\"y\" : 4},{\"x\" : 2984,\"y\" : 6},{\"x\" : 2984,\"y\" : 8},{\"x\" : 2984,\"y\" : 10},{\"x\" : 2985,\"y\" : 2},{\"x\" : 2985,\"y\" : 4},{\"x\" : 2985,\"y\" : 6},{\"x\" : 2985,\"y\" : 8},{\"x\" : 2985,\"y\" : 10},{\"x\" : 2986,\"y\" : 2},{\"x\" : 2986,\"y\" : 6},{\"x\" : 2986,\"y\" : 8},{\"x\" : 2986,\"y\" : 10},{\"x\" : 2987,\"y\" : 2},{\"x\" : 2987,\"y\" : 6},{\"x\" : 2987,\"y\" : 8},{\"x\" : 2987,\"y\" : 10},{\"x\" : 2988,\"y\" : 2},{\"x\" : 2988,\"y\" : 6},{\"x\" : 2988,\"y\" : 8},{\"x\" : 2988,\"y\" : 10},{\"x\" : 2989,\"y\" : 2},{\"x\" : 2989,\"y\" : 4},{\"x\" : 2989,\"y\" : 6},{\"x\" : 2989,\"y\" : 8},{\"x\" : 2989,\"y\" : 10},{\"x\" : 2990,\"y\" : 2},{\"x\" : 2990,\"y\" : 4},{\"x\" : 2990,\"y\" : 6},{\"x\" : 2990,\"y\" : 8},{\"x\" : 2990,\"y\" : 10},{\"x\" : 2991,\"y\" : 2},{\"x\" : 2991,\"y\" : 6},{\"x\" : 2991,\"y\" : 8},{\"x\" : 2991,\"y\" : 10},{\"x\" : 2992,\"y\" : 2},{\"x\" : 2992,\"y\" : 4},{\"x\" : 2992,\"y\" : 6},{\"x\" : 2992,\"y\" : 8},{\"x\" : 2992,\"y\" : 10},{\"x\" : 2993,\"y\" : 2},{\"x\" : 2993,\"y\" : 4},{\"x\" : 2993,\"y\" : 6},{\"x\" : 2993,\"y\" : 8},{\"x\" : 2993,\"y\" : 10},{\"x\" : 2994,\"y\" : 2},{\"x\" : 2994,\"y\" : 4},{\"x\" : 2994,\"y\" : 6},{\"x\" : 2994,\"y\" : 8},{\"x\" : 2994,\"y\" : 10},{\"x\" : 2995,\"y\" : 2},{\"x\" : 2995,\"y\" : 4},{\"x\" : 2995,\"y\" : 6},{\"x\" : 2995,\"y\" : 8},{\"x\" : 2995,\"y\" : 10},{\"x\" : 2996,\"y\" : 2},{\"x\" : 2996,\"y\" : 4},{\"x\" : 2996,\"y\" : 6},{\"x\" : 2996,\"y\" : 8},{\"x\" : 2996,\"y\" : 10},{\"x\" : 2997,\"y\" : 2},{\"x\" : 2997,\"y\" : 4},{\"x\" : 2997,\"y\" : 6},{\"x\" : 2997,\"y\" : 8},{\"x\" : 2997,\"y\" : 10},{\"x\" : 2998,\"y\" : 2},{\"x\" : 2998,\"y\" : 4},{\"x\" : 2998,\"y\" : 6},{\"x\" : 2998,\"y\" : 8},{\"x\" : 2998,\"y\" : 10},{\"x\" : 2999,\"y\" : 2},{\"x\" : 2999,\"y\" : 4},{\"x\" : 2999,\"y\" : 6},{\"x\" : 2999,\"y\" : 8},{\"x\" : 2999,\"y\" : 10},{\"x\" : 3000,\"y\" : 2},{\"x\" : 3000,\"y\" : 4},{\"x\" : 3000,\"y\" : 6},{\"x\" : 3000,\"y\" : 8},{\"x\" : 3000,\"y\" : 10}]}],\"height\" : 400,\"animationEnabled\" : true},\"tool\" : \"canvasjs\"}\n",
       ",function(element,visualization){\n",
       "});\n",
       "} )( element.get( 0 ) )"
      ]
     },
     "execution_count": 127,
     "metadata": {
      "application/javascript": ""
     },
     "output_type": "execute_result"
    }
   ],
   "source": [
    "l:=[];;\n",
    "gens:=[5*7,5*17,7*17];;\n",
    "for s in Intersection([0..3000],NumericalSemigroup(gens)) do\n",
    "    Append(l,List(DeltaSet(LengthsOfFactorizationsIntegerWRTList(s,gens)), d->[s,d]));;\n",
    "od;\n",
    "Plot(l,rec(type:=\"scatter\",tool:=\"canvasjs\"));"
   ]
  },
  {
   "cell_type": "code",
   "execution_count": 102,
   "metadata": {},
   "outputs": [
    {
     "data": {
      "text/plain": [
       "[ 2, 4, 6, 8, 10 ]"
      ]
     },
     "execution_count": 102,
     "metadata": {
      "text/plain": ""
     },
     "output_type": "execute_result"
    }
   ],
   "source": [
    "DeltaSet(NumericalSemigroup(5*7,5*17,7*17));"
   ]
  },
  {
   "cell_type": "code",
   "execution_count": 115,
   "metadata": {},
   "outputs": [
    {
     "data": {
      "text/plain": [
       "[ 595 ]"
      ]
     },
     "execution_count": 115,
     "metadata": {
      "text/plain": ""
     },
     "output_type": "execute_result"
    }
   ],
   "source": [
    "BettiElements(NumericalSemigroup(5*7,5*17,7*17));"
   ]
  },
  {
   "cell_type": "code",
   "execution_count": 128,
   "metadata": {},
   "outputs": [
    {
     "data": {
      "text/plain": [
       "[ 2, 10 ]"
      ]
     },
     "execution_count": 128,
     "metadata": {
      "text/plain": ""
     },
     "output_type": "execute_result"
    }
   ],
   "source": [
    "DeltaSet(LengthsOfFactorizationsIntegerWRTList(595,[5*7,5*17,7*17]));"
   ]
  }
 ],
 "metadata": {
  "kernelspec": {
   "display_name": "GAP 4",
   "language": "gap",
   "name": "gap-4"
  },
  "language_info": {
   "codemirror_mode": "gap",
   "file_extension": ".g",
   "mimetype": "text/x-gap",
   "name": "GAP 4",
   "nbconvert_exporter": "",
   "pygments_lexer": "gap",
   "version": "4.10.0"
  }
 },
 "nbformat": 4,
 "nbformat_minor": 2
}
