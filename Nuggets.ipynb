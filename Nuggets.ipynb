{
 "cells": [
  {
   "cell_type": "markdown",
   "metadata": {},
   "source": [
    "# Nuggets and `gap`\n",
    "\n",
    "## Pedro A. García Sánchez (Universidad de Granada)"
   ]
  },
  {
   "cell_type": "markdown",
   "metadata": {},
   "source": [
    "The problem is simple. You want to buy a certain amount of nuggets, and the store offers boxes of 6, 9 and 20 (as it was in MacDonnald's sometime in the last century; nowadays the boxes are not so generous). You actually want to have the exact amount of Nuggets you want to eat, no one above no one below. So for instance, you cannot buy four nuggets, not 10. But you have several ways to buy 18 nuggets: three boxes of six, or two boxes of nine.\n",
    "\n",
    "We want to visualize first in how many ways can we buy a certain amount of Nuggets. To this end we will use the [`gap`](https://www.gap-system.org) function `NrRestrictedPartitions` and the `gap` package [`jupyterviz`](https://nathancarter.github.io/jupyterviz/). We will also give some hints on how to use [`francy`](https://gap-packages.github.io/francy/). \n",
    "\n",
    "Notice that the amounts that we correspond with finite sums of integers in the set $\\{6,9,20\\}$, and thus we are talking about the semigroup $\\langle 6,9,20\\rangle$. We will use `numericalsgps` to work with numerical semigroups.\n",
    "\n",
    "If you want to know more about nuggets and numerical semigroups, please refer to this [book chapter](https://link.springer.com/chapter/10.1007/978-3-030-37853-0_6), this [paper](https://www.tandfonline.com/doi/abs/10.1080/0025570X.2018.1515559?journalCode=umma20) and this [manuscript](https://arxiv.org/abs/1912.04494)."
   ]
  },
  {
   "cell_type": "code",
   "execution_count": 1,
   "metadata": {},
   "outputs": [
    {
     "data": {
      "text/plain": [
       "true"
      ]
     },
     "execution_count": 1,
     "metadata": {
      "text/plain": ""
     },
     "output_type": "execute_result"
    }
   ],
   "source": [
    "LoadPackage(\"francy\");"
   ]
  },
  {
   "cell_type": "code",
   "execution_count": 2,
   "metadata": {},
   "outputs": [
    {
     "data": {
      "text/plain": [
       "true"
      ]
     },
     "execution_count": 2,
     "metadata": {
      "text/plain": ""
     },
     "output_type": "execute_result"
    }
   ],
   "source": [
    "LoadPackage(\"jupyterviz\");"
   ]
  },
  {
   "cell_type": "markdown",
   "metadata": {},
   "source": [
    "We want graphs and diagrams stored on the notebook."
   ]
  },
  {
   "cell_type": "code",
   "execution_count": 3,
   "metadata": {},
   "outputs": [
    {
     "data": {
      "text/plain": [
       "\"PlotDisplayMethod_JupyterSimple\""
      ]
     },
     "execution_count": 3,
     "metadata": {
      "text/plain": ""
     },
     "output_type": "execute_result"
    }
   ],
   "source": [
    "PlotDisplayMethod:=PlotDisplayMethod_JupyterSimple;"
   ]
  },
  {
   "cell_type": "code",
   "execution_count": 4,
   "metadata": {},
   "outputs": [
    {
     "data": {
      "text/plain": [
       "true"
      ]
     },
     "execution_count": 4,
     "metadata": {
      "text/plain": ""
     },
     "output_type": "execute_result"
    }
   ],
   "source": [
    "LoadPackage(\"numericalsgps\");"
   ]
  },
  {
   "cell_type": "markdown",
   "metadata": {},
   "source": [
    "Let us start by showing how many ways of buying Nuggets do we have in the range $\\{0,\\ldots,50\\}$."
   ]
  },
  {
   "cell_type": "code",
   "execution_count": 5,
   "metadata": {},
   "outputs": [
    {
     "data": {
      "application/javascript": [
       "( function ( element ) {\n",
       "if ( !window.JUPVIZLibs ) window.JUPVIZLibs = { };\n",
       "if ( !window.JUPVIZLibs[\"main\"] ) {\n",
       "window.createVisualization=function(element,data,callback){if(window.VisualizationTools[data.tool])window.VisualizationTools[data.tool](element,data,callback);else{window.VisualizationTools.html(element,{data:{html:'Error: No known visualization tool, \"'+data.tool+'.\"'}},callback)}};window.VisualizationTools={html:function(element,json,callback){var div=document.createElement(\"div\");element.appendChild(div);div.innerHTML=json.data.html;if(json.width)$(div).width(json.width);if(json.height)$(div).height(json.height);callback(element,div)}};window.resizeToShowContents=function(element){var maxima={right:0,bottom:0};$(element).find(\"*\").each(function(idx,elt){var $elt=$(elt);var right=$elt.position().left+$elt.outerWidth();var bottom=$elt.position().top+$elt.outerHeight();maxima={right:Math.max(right,maxima.right),bottom:Math.max(bottom,maxima.bottom)}});var $element=$(element);$element.width(maxima.right-$element.position().left);$element.height(maxima.bottom-$element.position().top)};\n",
       "    window.JUPVIZLibs[\"main\"] = 'loaded';\n",
       "}\n",
       "if ( !window.JUPVIZLibs[\"viz-tool-plotly\"] ) {\n",
       "window.requirejs.config({paths:{plotly:\"https://cdn.plot.ly/plotly-latest.min\"}});window.VisualizationTools.plotly=function(element,json,callback){require([\"plotly\"],function(plotly){plotly.newPlot(element,json.data);callback(element,element.childNodes[0])})};\n",
       "    window.JUPVIZLibs[\"viz-tool-plotly\"] = 'loaded';\n",
       "}\n",
       "window.createVisualization(element,{\"data\" : {\"data\" : [{\"x\" : [0,1,2,3,4,5,6,7,8,9,10,11,12,13,14,15,16,17,18,19,20,21,22,23,24,25,26,27,28,29,30,31,32,33,34,35,36,37,38,39,40,41,42,43,44,45,46,47,48,49,50],\"y\" : [1,0,0,0,0,0,1,0,0,1,0,0,1,0,0,1,0,0,2,0,1,1,0,0,2,0,1,2,0,1,2,0,1,2,0,1,3,0,2,2,1,1,3,0,2,3,1,2,3,1,2],\"type\" : \"bar\"}],\"layout\" : {\"height\" : 400,\"title\" : \"Different ways to buy this many Nuggets\",\"xaxis\" : {\"title\" : \"number of Nuggets, n\"},\"yaxis\" : {\"title\" : \"number of expressions of n in terms of the boxes\"}}},\"tool\" : \"plotly\"}\n",
       ",function(element,visualization){\n",
       "});\n",
       "} )( element.get( 0 ) )"
      ]
     },
     "execution_count": 5,
     "metadata": {
      "application/javascript": ""
     },
     "output_type": "execute_result"
    }
   ],
   "source": [
    "Plot([0..50], x->NrRestrictedPartitions(x,[6,9,20]), \n",
    " rec(\n",
    "title := \"Different ways to buy this many Nuggets\",\n",
    "          xaxis := \"n\",\n",
    "yaxis := \"number of expressions of n in terms of the boxes\", \n",
    "xaxis := \"number of Nuggets, n\",\n",
    "type:=\"bar\"\n",
    "      ));"
   ]
  },
  {
   "cell_type": "markdown",
   "metadata": {},
   "source": [
    "Clearly for elements outside $\\langle 6,9,20\\rangle$ there will be no possible choice of boxes to get that specific amount of nuggets."
   ]
  },
  {
   "cell_type": "code",
   "execution_count": 6,
   "metadata": {},
   "outputs": [
    {
     "data": {
      "text/plain": [
       "Numerical semigroup with 3 generators"
      ]
     },
     "execution_count": 6,
     "metadata": {
      "text/plain": ""
     },
     "output_type": "execute_result"
    }
   ],
   "source": [
    "S:=NumericalSemigroup(6,9,20);"
   ]
  },
  {
   "cell_type": "code",
   "execution_count": 7,
   "metadata": {},
   "outputs": [
    {
     "data": {
      "text/plain": [
       "[ 0, 6, 9, 12, 15, 18, 20, 21, 24, 26, 27, 29, 30, 32, 33, 35, 36, 38, 39, 40, 41, 42, 44, 45, 46, 47, 48, 49, 50 ]"
      ]
     },
     "execution_count": 7,
     "metadata": {
      "text/plain": ""
     },
     "output_type": "execute_result"
    }
   ],
   "source": [
    "realizable:=Intersection(S,[0..50]);"
   ]
  },
  {
   "cell_type": "markdown",
   "metadata": {},
   "source": [
    "The amounts of nuggets that we cannot buy with this box offer are precisely the gaps of $S$."
   ]
  },
  {
   "cell_type": "code",
   "execution_count": 8,
   "metadata": {
    "scrolled": true
   },
   "outputs": [
    {
     "data": {
      "text/plain": [
       "[ 1, 2, 3, 4, 5, 7, 8, 10, 11, 13, 14, 16, 17, 19, 22, 23, 25, 28, 31, 34, 37, 43 ]"
      ]
     },
     "execution_count": 8,
     "metadata": {
      "text/plain": ""
     },
     "output_type": "execute_result"
    }
   ],
   "source": [
    "Gaps(S);"
   ]
  },
  {
   "cell_type": "markdown",
   "metadata": {},
   "source": [
    "We will now overprint to the above bar diagram the minimum number of boxes required to obtain the dessired number of Nuggets. "
   ]
  },
  {
   "cell_type": "code",
   "execution_count": 11,
   "metadata": {},
   "outputs": [
    {
     "data": {
      "application/javascript": [
       "( function ( element ) {\n",
       "if ( !window.JUPVIZLibs ) window.JUPVIZLibs = { };\n",
       "if ( !window.JUPVIZLibs[\"main\"] ) {\n",
       "window.createVisualization=function(element,data,callback){if(window.VisualizationTools[data.tool])window.VisualizationTools[data.tool](element,data,callback);else{window.VisualizationTools.html(element,{data:{html:'Error: No known visualization tool, \"'+data.tool+'.\"'}},callback)}};window.VisualizationTools={html:function(element,json,callback){var div=document.createElement(\"div\");element.appendChild(div);div.innerHTML=json.data.html;if(json.width)$(div).width(json.width);if(json.height)$(div).height(json.height);callback(element,div)}};window.resizeToShowContents=function(element){var maxima={right:0,bottom:0};$(element).find(\"*\").each(function(idx,elt){var $elt=$(elt);var right=$elt.position().left+$elt.outerWidth();var bottom=$elt.position().top+$elt.outerHeight();maxima={right:Math.max(right,maxima.right),bottom:Math.max(bottom,maxima.bottom)}});var $element=$(element);$element.width(maxima.right-$element.position().left);$element.height(maxima.bottom-$element.position().top)};\n",
       "    window.JUPVIZLibs[\"main\"] = 'loaded';\n",
       "}\n",
       "if ( !window.JUPVIZLibs[\"viz-tool-plotly\"] ) {\n",
       "window.requirejs.config({paths:{plotly:\"https://cdn.plot.ly/plotly-latest.min\"}});window.VisualizationTools.plotly=function(element,json,callback){require([\"plotly\"],function(plotly){plotly.newPlot(element,json.data);callback(element,element.childNodes[0])})};\n",
       "    window.JUPVIZLibs[\"viz-tool-plotly\"] = 'loaded';\n",
       "}\n",
       "window.createVisualization(element,{\"data\" : {\"data\" : [{\"x\" : [0,6,9,12,15,18,20,21,24,26,27,29,30,32,33,35,36,38,39,40,41,42,44,45,46,47,48,49,50,51,52,53,54,55,56,57,58,59,60,61,62,63,64,65,66,67,68,69,70,71,72,73,74,75,76,77,78,79,80,81,82,83,84,85,86,87,88,89,90,91,92,93,94,95,96,97,98,99,100],\"y\" : [1,1,1,1,1,2,1,1,2,1,2,1,2,1,2,1,3,2,2,1,1,3,2,3,1,2,3,1,2,3,1,2,4,1,3,3,2,2,5,1,3,4,2,3,5,2,3,5,2,3,6,2,4,5,3,3,7,2,5,6,3,4,7,3,5,7,3,5,8,3,6,7,4,5,9,3,7,8,5],\"type\" : \"bar\"},{\"x\" : [0,6,9,12,15,18,20,21,24,26,27,29,30,32,33,35,36,38,39,40,41,42,44,45,46,47,48,49,50,51,52,53,54,55,56,57,58,59,60,61,62,63,64,65,66,67,68,69,70,71,72,73,74,75,76,77,78,79,80,81,82,83,84,85,86,87,88,89,90,91,92,93,94,95,96,97,98,99,100],\"y\" : [0,1,1,2,2,2,1,3,3,2,3,2,4,3,4,3,4,3,5,2,4,5,4,5,3,4,6,3,5,6,4,5,6,4,5,7,4,6,3,5,6,7,5,6,4,5,7,4,6,7,5,6,7,5,6,8,5,7,4,6,7,8,6,7,5,6,8,5,7,8,6,7,8,6,7,9,6,8,5],\"name\" : \"min # boxes\",\"type\" : \"line\"},{\"x\" : [0,6,9,12,15,18,20,21,24,26,27,29,30,32,33,35,36,38,39,40,41,42,44,45,46,47,48,49,50,51,52,53,54,55,56,57,58,59,60,61,62,63,64,65,66,67,68,69,70,71,72,73,74,75,76,77,78,79,80,81,82,83,84,85,86,87,88,89,90,91,92,93,94,95,96,97,98,99,100],\"y\" : [0,1,1,2,2,3,1,3,4,2,4,2,5,3,5,3,6,4,6,2,4,7,5,7,3,5,8,3,6,8,4,6,9,4,7,9,5,7,10,5,8,10,6,8,11,6,9,11,7,9,12,7,10,12,8,10,13,8,11,13,9,11,14,9,12,14,10,12,15,10,13,15,11,13,16,11,14,16,12],\"name\" : \"max # boxes\",\"type\" : \"line\"}],\"layout\" : {\"height\" : 400,\"title\" : \"Different ways to buy this many Nuggets\",\"xaxis\" : {\"title\" : \"number of Nuggets, n\"},\"yaxis\" : {\"title\" : \"number of expressions of n in terms of the boxes\"}}},\"tool\" : \"plotly\"}\n",
       ",function(element,visualization){\n",
       "});\n",
       "} )( element.get( 0 ) )"
      ]
     },
     "execution_count": 11,
     "metadata": {
      "application/javascript": ""
     },
     "output_type": "execute_result"
    }
   ],
   "source": [
    "sizes:=[6,9,20];;\n",
    "realizable:=Intersection(S,[0..100]);;\n",
    "Plot([realizable, x->NrRestrictedPartitions(x,sizes), \n",
    " rec(\n",
    "title := \"Different ways to buy this many Nuggets\",\n",
    "          xaxis := \"n\",\n",
    "yaxis := \"number of expressions of n in terms of the boxes\", \n",
    "xaxis := \"number of Nuggets, n\",\n",
    "type:=\"bar\"\n",
    ")], \n",
    "[realizable, x->Minimum(List(RestrictedPartitions(x,sizes),Length)), \n",
    " rec(\n",
    "type:=\"line\", name:=\"min # boxes\",\n",
    ")],\n",
    "[realizable, x->Maximum(List(RestrictedPartitions(x,sizes),Length)), \n",
    " rec(\n",
    "type:=\"line\", name:=\"max # boxes\",\n",
    ")]\n",
    ");"
   ]
  },
  {
   "cell_type": "markdown",
   "metadata": {},
   "source": [
    "Let us have a closer look at the number of ways one can buy 150 nuggets."
   ]
  },
  {
   "cell_type": "code",
   "execution_count": 14,
   "metadata": {},
   "outputs": [
    {
     "data": {
      "application/javascript": [
       "( function ( element ) {\n",
       "if ( !window.JUPVIZLibs ) window.JUPVIZLibs = { };\n",
       "if ( !window.JUPVIZLibs[\"main\"] ) {\n",
       "window.createVisualization=function(element,data,callback){if(window.VisualizationTools[data.tool])window.VisualizationTools[data.tool](element,data,callback);else{window.VisualizationTools.html(element,{data:{html:'Error: No known visualization tool, \"'+data.tool+'.\"'}},callback)}};window.VisualizationTools={html:function(element,json,callback){var div=document.createElement(\"div\");element.appendChild(div);div.innerHTML=json.data.html;if(json.width)$(div).width(json.width);if(json.height)$(div).height(json.height);callback(element,div)}};window.resizeToShowContents=function(element){var maxima={right:0,bottom:0};$(element).find(\"*\").each(function(idx,elt){var $elt=$(elt);var right=$elt.position().left+$elt.outerWidth();var bottom=$elt.position().top+$elt.outerHeight();maxima={right:Math.max(right,maxima.right),bottom:Math.max(bottom,maxima.bottom)}});var $element=$(element);$element.width(maxima.right-$element.position().left);$element.height(maxima.bottom-$element.position().top)};\n",
       "    window.JUPVIZLibs[\"main\"] = 'loaded';\n",
       "}\n",
       "if ( !window.JUPVIZLibs[\"viz-tool-plotly\"] ) {\n",
       "window.requirejs.config({paths:{plotly:\"https://cdn.plot.ly/plotly-latest.min\"}});window.VisualizationTools.plotly=function(element,json,callback){require([\"plotly\"],function(plotly){plotly.newPlot(element,json.data);callback(element,element.childNodes[0])})};\n",
       "    window.JUPVIZLibs[\"viz-tool-plotly\"] = 'loaded';\n",
       "}\n",
       "window.createVisualization(element,{\"data\" : {\"data\" : [{\"values\" : [1,1,1,1,1,1,2,2,1,1,1,1,1,1,1],\"type\" : \"pie\",\"labels\" : [10,11,13,14,15,16,17,18,19,20,21,22,23,24,25]}],\"layout\" : {\"height\" : 500,\"title\" : \"Classifying the number of different ways to buy 150 Nuggets, depending on the number of boxes needed\"}},\"tool\" : \"plotly\"}\n",
       ",function(element,visualization){\n",
       "});\n",
       "} )( element.get( 0 ) )"
      ]
     },
     "execution_count": 14,
     "metadata": {
      "application/javascript": ""
     },
     "output_type": "execute_result"
    }
   ],
   "source": [
    "p:=RestrictedPartitions(150,sizes);;\n",
    "ls:=List(p,Length);;\n",
    "Plot(Set(ls),x->Length(Filtered(ls,l->l=x)), rec(type:=\"pie\", height:=500, \n",
    "title:=\"Classifying the number of different ways to buy 150 Nuggets, depending on the number of boxes needed\"));"
   ]
  },
  {
   "cell_type": "code",
   "execution_count": 15,
   "metadata": {},
   "outputs": [
    {
     "data": {
      "application/javascript": [
       "( function ( element ) {\n",
       "if ( !window.JUPVIZLibs ) window.JUPVIZLibs = { };\n",
       "if ( !window.JUPVIZLibs[\"main\"] ) {\n",
       "window.createVisualization=function(element,data,callback){if(window.VisualizationTools[data.tool])window.VisualizationTools[data.tool](element,data,callback);else{window.VisualizationTools.html(element,{data:{html:'Error: No known visualization tool, \"'+data.tool+'.\"'}},callback)}};window.VisualizationTools={html:function(element,json,callback){var div=document.createElement(\"div\");element.appendChild(div);div.innerHTML=json.data.html;if(json.width)$(div).width(json.width);if(json.height)$(div).height(json.height);callback(element,div)}};window.resizeToShowContents=function(element){var maxima={right:0,bottom:0};$(element).find(\"*\").each(function(idx,elt){var $elt=$(elt);var right=$elt.position().left+$elt.outerWidth();var bottom=$elt.position().top+$elt.outerHeight();maxima={right:Math.max(right,maxima.right),bottom:Math.max(bottom,maxima.bottom)}});var $element=$(element);$element.width(maxima.right-$element.position().left);$element.height(maxima.bottom-$element.position().top)};\n",
       "    window.JUPVIZLibs[\"main\"] = 'loaded';\n",
       "}\n",
       "if ( !window.JUPVIZLibs[\"viz-tool-plotly\"] ) {\n",
       "window.requirejs.config({paths:{plotly:\"https://cdn.plot.ly/plotly-latest.min\"}});window.VisualizationTools.plotly=function(element,json,callback){require([\"plotly\"],function(plotly){plotly.newPlot(element,json.data);callback(element,element.childNodes[0])})};\n",
       "    window.JUPVIZLibs[\"viz-tool-plotly\"] = 'loaded';\n",
       "}\n",
       "window.createVisualization(element,{\"data\" : {\"data\" : [{\"x\" : [10,11,13,14,15,16,17,18,19,20,21,22,23,24,25],\"y\" : [1,1,1,1,1,1,2,2,1,1,1,1,1,1,1],\"type\" : \"line\"}],\"layout\" : {\"height\" : 400,\"xaxis\" : {\"title\" : \"Number of boxes needed for 150 nuggets\"},\"yaxis\" : {\"title\" : \"# possibilities\"}}},\"tool\" : \"plotly\"}\n",
       ",function(element,visualization){\n",
       "});\n",
       "} )( element.get( 0 ) )"
      ]
     },
     "execution_count": 15,
     "metadata": {
      "application/javascript": ""
     },
     "output_type": "execute_result"
    }
   ],
   "source": [
    "Plot(Set(ls),x->Length(Filtered(ls,l->l=x)), rec(xaxis:=\"Number of boxes needed for 150 nuggets\", \n",
    "yaxis:=\"# possibilities\"));"
   ]
  },
  {
   "cell_type": "code",
   "execution_count": 16,
   "metadata": {
    "scrolled": true
   },
   "outputs": [
    {
     "data": {
      "text/plain": [
       "[ [ 6, 6, 6, 6, 6, 6, 6, 6, 6, 6, 6, 6, 6, 6, 6, 6, 6, 6, 6, 6, 6, 6, 6, 6, 6 ], [ 9, 9, 6, 6, 6, 6, 6, 6, 6, 6, 6, 6, 6, 6, 6, 6, 6, 6, 6, 6, 6, 6, 6, 6 ], [ 9, 9, 9, 9, 6, 6, 6, 6, 6, 6, 6, 6, 6, 6, 6, 6, 6, 6, 6, 6, 6, 6, 6 ], [ 9, 9, 9, 9, 9, 9, 6, 6, 6, 6, 6, 6, 6, 6, 6, 6, 6, 6, 6, 6, 6, 6 ], [ 9, 9, 9, 9, 9, 9, 9, 9, 6, 6, 6, 6, 6, 6, 6, 6, 6, 6, 6, 6, 6 ], [ 9, 9, 9, 9, 9, 9, 9, 9, 9, 9, 6, 6, 6, 6, 6, 6, 6, 6, 6, 6 ], [ 9, 9, 9, 9, 9, 9, 9, 9, 9, 9, 9, 9, 6, 6, 6, 6, 6, 6, 6 ], [ 9, 9, 9, 9, 9, 9, 9, 9, 9, 9, 9, 9, 9, 9, 6, 6, 6, 6 ], [ 9, 9, 9, 9, 9, 9, 9, 9, 9, 9, 9, 9, 9, 9, 9, 9, 6 ], [ 20, 20, 20, 6, 6, 6, 6, 6, 6, 6, 6, 6, 6, 6, 6, 6, 6, 6 ], [ 20, 20, 20, 9, 9, 6, 6, 6, 6, 6, 6, 6, 6, 6, 6, 6, 6 ], [ 20, 20, 20, 9, 9, 9, 9, 6, 6, 6, 6, 6, 6, 6, 6, 6 ], [ 20, 20, 20, 9, 9, 9, 9, 9, 9, 6, 6, 6, 6, 6, 6 ], [ 20, 20, 20, 9, 9, 9, 9, 9, 9, 9, 9, 6, 6, 6 ], [ 20, 20, 20, 9, 9, 9, 9, 9, 9, 9, 9, 9, 9 ], [ 20, 20, 20, 20, 20, 20, 6, 6, 6, 6, 6 ], [ 20, 20, 20, 20, 20, 20, 9, 9, 6, 6 ] ]"
      ]
     },
     "execution_count": 16,
     "metadata": {
      "text/plain": ""
     },
     "output_type": "execute_result"
    }
   ],
   "source": [
    "p;"
   ]
  },
  {
   "cell_type": "markdown",
   "metadata": {},
   "source": [
    "We can, for every possible choice, plot the number of boxes needed for each \"realizable\" amount of nuggets (thanks to [@nathancarter](https://nathancarter.github.io/) for showing how to do scatter plots)"
   ]
  },
  {
   "cell_type": "code",
   "execution_count": 19,
   "metadata": {},
   "outputs": [
    {
     "data": {
      "application/javascript": [
       "( function ( element ) {\n",
       "if ( !window.JUPVIZLibs ) window.JUPVIZLibs = { };\n",
       "if ( !window.JUPVIZLibs[\"main\"] ) {\n",
       "window.createVisualization=function(element,data,callback){if(window.VisualizationTools[data.tool])window.VisualizationTools[data.tool](element,data,callback);else{window.VisualizationTools.html(element,{data:{html:'Error: No known visualization tool, \"'+data.tool+'.\"'}},callback)}};window.VisualizationTools={html:function(element,json,callback){var div=document.createElement(\"div\");element.appendChild(div);div.innerHTML=json.data.html;if(json.width)$(div).width(json.width);if(json.height)$(div).height(json.height);callback(element,div)}};window.resizeToShowContents=function(element){var maxima={right:0,bottom:0};$(element).find(\"*\").each(function(idx,elt){var $elt=$(elt);var right=$elt.position().left+$elt.outerWidth();var bottom=$elt.position().top+$elt.outerHeight();maxima={right:Math.max(right,maxima.right),bottom:Math.max(bottom,maxima.bottom)}});var $element=$(element);$element.width(maxima.right-$element.position().left);$element.height(maxima.bottom-$element.position().top)};\n",
       "    window.JUPVIZLibs[\"main\"] = 'loaded';\n",
       "}\n",
       "if ( !window.JUPVIZLibs[\"viz-tool-canvasjs\"] ) {\n",
       "window.requirejs.config({paths:{canvasjs:\"https://cdnjs.cloudflare.com/ajax/libs/canvasjs/1.7.0/canvasjs.min\"}});window.VisualizationTools.canvasjs=function(element,json,callback){require([\"canvasjs\"],function(canvasjs){new window.CanvasJS.Chart(element,json.data).render();window.resizeToShowContents(element);callback(element,element.childNodes[0])})};\n",
       "    window.JUPVIZLibs[\"viz-tool-canvasjs\"] = 'loaded';\n",
       "}\n",
       "window.createVisualization(element,{\"data\" : {\"data\" : [{\"type\" : \"scatter\",\"dataPoints\" : [{\"x\" : 0,\"y\" : 0},{\"x\" : 6,\"y\" : 1},{\"x\" : 9,\"y\" : 1},{\"x\" : 12,\"y\" : 2},{\"x\" : 15,\"y\" : 2},{\"x\" : 18,\"y\" : 2},{\"x\" : 18,\"y\" : 3},{\"x\" : 20,\"y\" : 1},{\"x\" : 21,\"y\" : 3},{\"x\" : 24,\"y\" : 3},{\"x\" : 24,\"y\" : 4},{\"x\" : 26,\"y\" : 2},{\"x\" : 27,\"y\" : 3},{\"x\" : 27,\"y\" : 4},{\"x\" : 29,\"y\" : 2},{\"x\" : 30,\"y\" : 4},{\"x\" : 30,\"y\" : 5},{\"x\" : 32,\"y\" : 3},{\"x\" : 33,\"y\" : 4},{\"x\" : 33,\"y\" : 5},{\"x\" : 35,\"y\" : 3},{\"x\" : 36,\"y\" : 4},{\"x\" : 36,\"y\" : 5},{\"x\" : 36,\"y\" : 6},{\"x\" : 38,\"y\" : 3},{\"x\" : 38,\"y\" : 4},{\"x\" : 39,\"y\" : 5},{\"x\" : 39,\"y\" : 6},{\"x\" : 40,\"y\" : 2},{\"x\" : 41,\"y\" : 4},{\"x\" : 42,\"y\" : 5},{\"x\" : 42,\"y\" : 6},{\"x\" : 42,\"y\" : 7},{\"x\" : 44,\"y\" : 4},{\"x\" : 44,\"y\" : 5},{\"x\" : 45,\"y\" : 5},{\"x\" : 45,\"y\" : 6},{\"x\" : 45,\"y\" : 7},{\"x\" : 46,\"y\" : 3},{\"x\" : 47,\"y\" : 4},{\"x\" : 47,\"y\" : 5},{\"x\" : 48,\"y\" : 6},{\"x\" : 48,\"y\" : 7},{\"x\" : 48,\"y\" : 8},{\"x\" : 49,\"y\" : 3},{\"x\" : 50,\"y\" : 5},{\"x\" : 50,\"y\" : 6}]}],\"height\" : 400,\"animationEnabled\" : true},\"tool\" : \"canvasjs\"}\n",
       ",function(element,visualization){\n",
       "});\n",
       "} )( element.get( 0 ) )"
      ]
     },
     "execution_count": 19,
     "metadata": {
      "application/javascript": ""
     },
     "output_type": "execute_result"
    }
   ],
   "source": [
    "l:=[];;\n",
    "for s in Intersection([0..50],S) do\n",
    "    Append(l,List(LengthsOfFactorizationsIntegerWRTList(s,sizes), l->[s,l]));;\n",
    "od;\n",
    "Plot(l,rec(type:=\"scatter\",tool:=\"canvasjs\"));"
   ]
  },
  {
   "cell_type": "markdown",
   "metadata": {},
   "source": [
    "Let us illustrate a naïve way to determine all possible ways to buy $n$ nuggets with boxes of sizes $\\{s_1,\\ldots,s_k\\}$. The idea is quite simple, and we can draw it in a tree. We discriminate the possible ways depending on which we use the box of size $s_1$ or not, that is, $n\\in\\langle s_1,\\ldots,s_k\\}$ if either $n-s_1\\in\\langle s_1,\\ldots,s_k\\rangle$ or $n\\in\\langle s_2,\\ldots, s_k\\rangle$ (and proceed recursively). \n",
    "\n",
    "If in this process we reach a negative integer, we stop, and if we arrive to zero, then we trace the boxes we have used. We will draw this leafs of the tree as a square, and when hovering with the mouse over them, we will show the boxes used to get $n$ nuggets."
   ]
  },
  {
   "cell_type": "code",
   "execution_count": 20,
   "metadata": {},
   "outputs": [
    {
     "data": {
      "text/plain": [
       "function( n, sizes ) ... end"
      ]
     },
     "execution_count": 20,
     "metadata": {
      "text/plain": ""
     },
     "output_type": "execute_result"
    }
   ],
   "source": [
    "treefrancy:=function(n,sizes)\n",
    "    local l, sons, t,  ps, canvas, graphTree,shpr;\n",
    "\n",
    "    sons:=function(m,lm,szs,shpm)\n",
    "        local ns,shp;\n",
    "        if m<0 then \n",
    "            return;\n",
    "        fi;\n",
    "        ns:=Length(szs);\n",
    "        if ns=0 then \n",
    "            return;\n",
    "        fi;\n",
    "        if m=szs[1] then \n",
    "            shp:=Shape(ShapeType!.SQUARE, String(0));\n",
    "            SetSize(shp,5);\n",
    "            Add(graphTree,shp);\n",
    "            SetParentShape(shp,shpm);\n",
    "            Add(shp,FrancyMessage(String(Concatenation(lm,[szs[1]]))));\n",
    "            Add(ps,Concatenation(lm,[szs[1]]));\n",
    "        fi;\n",
    "        if (m-szs[1]>0) then\n",
    "            shp:=Shape(ShapeType!.CIRCLE, String(m-szs[1]));\n",
    "            SetSize(shp,5);\n",
    "            Add(graphTree,shp);\n",
    "            SetParentShape(shp,shpm);\n",
    "            Add(ps,Concatenation(lm,[szs[1]]));\n",
    "            sons(m-szs[1],Concatenation(lm,[szs[1]]),szs,shp);\n",
    "        fi;\n",
    "        sons(m,lm,szs{[2..ns]},shpm);\n",
    "    end;\n",
    "\n",
    "    t:=[];\n",
    "    l:=[];\n",
    "    ps:=[];\n",
    "    graphTree := Graph(GraphType.TREE);\n",
    "    SetCollapsed(graphTree,false);\n",
    "    shpr:=Shape(ShapeType!.CIRCLE, String(n));\n",
    "    SetSize(shpr,5);\n",
    "    #Add(shpr,FrancyMessage(Concatenation(String(n),\" \",String(l))));\n",
    "    Add(graphTree,shpr);\n",
    "    canvas:=Canvas(\"Boxes\");\n",
    "    SetTexTypesetting(canvas, true);\n",
    "    Add(canvas,graphTree);\n",
    "    sons(n,l,sizes,shpr);\n",
    "    return Draw(canvas);\n",
    "end;\n"
   ]
  },
  {
   "cell_type": "code",
   "execution_count": 21,
   "metadata": {
    "scrolled": false
   },
   "outputs": [
    {
     "data": {
      "application/vnd.francy+json": "{\"version\" : \"1.0.4\",\"mime\" : \"application\\/vnd.francy+json\",\"canvas\" : {\"width\" : 800,\"id\" : \"F3\",\"height\" : 600,\"title\" : \"Boxes\",\"zoomToFit\" : true,\"texTypesetting\" : true,\"menus\" : {},\"graph\" : {\"type\" : \"tree\",\"id\" : \"F1\",\"simulation\" : true,\"collapsed\" : false,\"nodes\" : {\"F2\" : {\"x\" : 0,\"y\" : 0,\"type\" : \"circle\",\"id\" : \"F2\",\"size\" : 5,\"title\" : \"30\",\"color\" : \"\",\"layer\" : 0,\"parent\" : \"\",\"menus\" : {},\"messages\" : {},\"callbacks\" : {}},\"F4\" : {\"x\" : 0,\"y\" : 0,\"type\" : \"circle\",\"id\" : \"F4\",\"size\" : 5,\"title\" : \"24\",\"color\" : \"\",\"layer\" : 0,\"parent\" : \"F2\",\"menus\" : {},\"messages\" : {},\"callbacks\" : {}},\"F5\" : {\"x\" : 0,\"y\" : 0,\"type\" : \"circle\",\"id\" : \"F5\",\"size\" : 5,\"title\" : \"18\",\"color\" : \"\",\"layer\" : 0,\"parent\" : \"F4\",\"menus\" : {},\"messages\" : {},\"callbacks\" : {}},\"F6\" : {\"x\" : 0,\"y\" : 0,\"type\" : \"circle\",\"id\" : \"F6\",\"size\" : 5,\"title\" : \"12\",\"color\" : \"\",\"layer\" : 0,\"parent\" : \"F5\",\"menus\" : {},\"messages\" : {},\"callbacks\" : {}},\"F7\" : {\"x\" : 0,\"y\" : 0,\"type\" : \"circle\",\"id\" : \"F7\",\"size\" : 5,\"title\" : \"6\",\"color\" : \"\",\"layer\" : 0,\"parent\" : \"F6\",\"menus\" : {},\"messages\" : {},\"callbacks\" : {}},\"F8\" : {\"x\" : 0,\"y\" : 0,\"type\" : \"square\",\"id\" : \"F8\",\"size\" : 5,\"title\" : \"0\",\"color\" : \"\",\"layer\" : 0,\"parent\" : \"F7\",\"menus\" : {},\"messages\" : {\"F9\" : {\"type\" : \"default\",\"id\" : \"F9\",\"text\" : \"[ 6, 6, 6, 6, 6 ]\",\"title\" : \"\"}},\"callbacks\" : {}},\"F10\" : {\"x\" : 0,\"y\" : 0,\"type\" : \"circle\",\"id\" : \"F10\",\"size\" : 5,\"title\" : \"3\",\"color\" : \"\",\"layer\" : 0,\"parent\" : \"F6\",\"menus\" : {},\"messages\" : {},\"callbacks\" : {}},\"F11\" : {\"x\" : 0,\"y\" : 0,\"type\" : \"circle\",\"id\" : \"F11\",\"size\" : 5,\"title\" : \"9\",\"color\" : \"\",\"layer\" : 0,\"parent\" : \"F5\",\"menus\" : {},\"messages\" : {},\"callbacks\" : {}},\"F12\" : {\"x\" : 0,\"y\" : 0,\"type\" : \"square\",\"id\" : \"F12\",\"size\" : 5,\"title\" : \"0\",\"color\" : \"\",\"layer\" : 0,\"parent\" : \"F11\",\"menus\" : {},\"messages\" : {\"F13\" : {\"type\" : \"default\",\"id\" : \"F13\",\"text\" : \"[ 6, 6, 9, 9 ]\",\"title\" : \"\"}},\"callbacks\" : {}},\"F14\" : {\"x\" : 0,\"y\" : 0,\"type\" : \"circle\",\"id\" : \"F14\",\"size\" : 5,\"title\" : \"15\",\"color\" : \"\",\"layer\" : 0,\"parent\" : \"F4\",\"menus\" : {},\"messages\" : {},\"callbacks\" : {}},\"F15\" : {\"x\" : 0,\"y\" : 0,\"type\" : \"circle\",\"id\" : \"F15\",\"size\" : 5,\"title\" : \"6\",\"color\" : \"\",\"layer\" : 0,\"parent\" : \"F14\",\"menus\" : {},\"messages\" : {},\"callbacks\" : {}},\"F16\" : {\"x\" : 0,\"y\" : 0,\"type\" : \"circle\",\"id\" : \"F16\",\"size\" : 5,\"title\" : \"4\",\"color\" : \"\",\"layer\" : 0,\"parent\" : \"F4\",\"menus\" : {},\"messages\" : {},\"callbacks\" : {}},\"F17\" : {\"x\" : 0,\"y\" : 0,\"type\" : \"circle\",\"id\" : \"F17\",\"size\" : 5,\"title\" : \"21\",\"color\" : \"\",\"layer\" : 0,\"parent\" : \"F2\",\"menus\" : {},\"messages\" : {},\"callbacks\" : {}},\"F18\" : {\"x\" : 0,\"y\" : 0,\"type\" : \"circle\",\"id\" : \"F18\",\"size\" : 5,\"title\" : \"12\",\"color\" : \"\",\"layer\" : 0,\"parent\" : \"F17\",\"menus\" : {},\"messages\" : {},\"callbacks\" : {}},\"F19\" : {\"x\" : 0,\"y\" : 0,\"type\" : \"circle\",\"id\" : \"F19\",\"size\" : 5,\"title\" : \"3\",\"color\" : \"\",\"layer\" : 0,\"parent\" : \"F18\",\"menus\" : {},\"messages\" : {},\"callbacks\" : {}},\"F20\" : {\"x\" : 0,\"y\" : 0,\"type\" : \"circle\",\"id\" : \"F20\",\"size\" : 5,\"title\" : \"1\",\"color\" : \"\",\"layer\" : 0,\"parent\" : \"F17\",\"menus\" : {},\"messages\" : {},\"callbacks\" : {}},\"F21\" : {\"x\" : 0,\"y\" : 0,\"type\" : \"circle\",\"id\" : \"F21\",\"size\" : 5,\"title\" : \"10\",\"color\" : \"\",\"layer\" : 0,\"parent\" : \"F2\",\"menus\" : {},\"messages\" : {},\"callbacks\" : {}}},\"links\" : {}},\"messages\" : {}}}"
     },
     "execution_count": 21,
     "metadata": {
      "application/vnd.francy+json": {}
     },
     "output_type": "execute_result"
    }
   ],
   "source": [
    "treefrancy(30,sizes);"
   ]
  },
  {
   "cell_type": "code",
   "execution_count": 22,
   "metadata": {
    "scrolled": true
   },
   "outputs": [
    {
     "data": {
      "text/plain": [
       "Numerical semigroup with 3 generators"
      ]
     },
     "execution_count": 22,
     "metadata": {
      "text/plain": ""
     },
     "output_type": "execute_result"
    }
   ],
   "source": [
    "S:=NumericalSemigroup(sizes);"
   ]
  },
  {
   "cell_type": "markdown",
   "metadata": {},
   "source": [
    "There are other ways to construct all possible combinations of boxes to reach the desired amount of nuggets. We can think about $\\langle 6, 9 , 20\\rangle$ as an object generated by three elements together with some relations among these generators (relations). We can use `MinimalPresentation` to obtain these relations. "
   ]
  },
  {
   "cell_type": "code",
   "execution_count": 23,
   "metadata": {},
   "outputs": [
    {
     "data": {
      "text/plain": [
       "[ [ [ 1, 6, 0 ], [ 0, 0, 3 ] ], [ [ 3, 0, 0 ], [ 0, 2, 0 ] ] ]"
      ]
     },
     "execution_count": 23,
     "metadata": {
      "text/plain": ""
     },
     "output_type": "execute_result"
    }
   ],
   "source": [
    "mps:=MinimalPresentation(S);"
   ]
  },
  {
   "cell_type": "markdown",
   "metadata": {},
   "source": [
    "One may think about these relations as trades. So fors instance, one can change tree boxes of size six with two of size nine.\n",
    "\n",
    "Let us write a graph depicting all trades performed starting from a known possible choice of boxes."
   ]
  },
  {
   "cell_type": "code",
   "execution_count": 24,
   "metadata": {},
   "outputs": [
    {
     "data": {
      "text/plain": [
       "function( f, tds ) ... end"
      ]
     },
     "execution_count": 24,
     "metadata": {
      "text/plain": ""
     },
     "output_type": "execute_result"
    }
   ],
   "source": [
    "trades:=function(f,tds)\n",
    "    local nonneg, sons, edges, vertices;\n",
    "\n",
    "    nonneg:=function(l)\n",
    "        return ForAll(l, x-> x>=0);\n",
    "    end;\n",
    "\n",
    "    sons:= function(fc)\n",
    "        local ptds, t,fcs;\n",
    "        if not(nonneg(fc)) then\n",
    "            return;\n",
    "        fi;\n",
    "        ptds:=Filtered(tds, t->nonneg(fc-t[1]));\n",
    "        for t in ptds do\n",
    "            fcs:=fc-t[1]+t[2];\n",
    "            Add(vertices,fcs);\n",
    "            Add(edges,[fc,fcs]);\n",
    "            sons(fcs);\n",
    "        od;\n",
    "    end;\n",
    "    \n",
    "    vertices:=[f];\n",
    "    edges:=[];\n",
    "    sons(f);\n",
    "\n",
    "    return PlotGraph(vertices, edges, rec(directed:=true, layout:=\"cose\", arrowscale:=2));\n",
    "end;"
   ]
  },
  {
   "cell_type": "code",
   "execution_count": 25,
   "metadata": {
    "scrolled": false
   },
   "outputs": [
    {
     "data": {
      "application/javascript": [
       "( function ( element ) {\n",
       "if ( !window.JUPVIZLibs ) window.JUPVIZLibs = { };\n",
       "if ( !window.JUPVIZLibs[\"main\"] ) {\n",
       "window.createVisualization=function(element,data,callback){if(window.VisualizationTools[data.tool])window.VisualizationTools[data.tool](element,data,callback);else{window.VisualizationTools.html(element,{data:{html:'Error: No known visualization tool, \"'+data.tool+'.\"'}},callback)}};window.VisualizationTools={html:function(element,json,callback){var div=document.createElement(\"div\");element.appendChild(div);div.innerHTML=json.data.html;if(json.width)$(div).width(json.width);if(json.height)$(div).height(json.height);callback(element,div)}};window.resizeToShowContents=function(element){var maxima={right:0,bottom:0};$(element).find(\"*\").each(function(idx,elt){var $elt=$(elt);var right=$elt.position().left+$elt.outerWidth();var bottom=$elt.position().top+$elt.outerHeight();maxima={right:Math.max(right,maxima.right),bottom:Math.max(bottom,maxima.bottom)}});var $element=$(element);$element.width(maxima.right-$element.position().left);$element.height(maxima.bottom-$element.position().top)};\n",
       "    window.JUPVIZLibs[\"main\"] = 'loaded';\n",
       "}\n",
       "if ( !window.JUPVIZLibs[\"viz-tool-cytoscape\"] ) {\n",
       "window.requirejs.config({paths:{cytoscape:\"https://cdnjs.cloudflare.com/ajax/libs/cytoscape/3.2.16/cytoscape.min\"}});window.VisualizationTools.cytoscape=function(element,json,callback){require([\"cytoscape\"],function(cytoscape){if(json.width)$(element).width(json.width);if(json.height)$(element).height(json.height);json.data.container=element;callback(element,cytoscape(json.data))})};\n",
       "    window.JUPVIZLibs[\"viz-tool-cytoscape\"] = 'loaded';\n",
       "}\n",
       "window.createVisualization(element,{\"data\" : {\"elements\" : [{\"data\" : {\"id\" : \"[ 20, 0, 0 ]\"}},{\"data\" : {\"id\" : \"[ 17, 2, 0 ]\"}},{\"data\" : {\"id\" : \"[ 14, 4, 0 ]\"}},{\"data\" : {\"id\" : \"[ 11, 6, 0 ]\"}},{\"data\" : {\"id\" : \"[ 10, 0, 3 ]\"}},{\"data\" : {\"id\" : \"[ 7, 2, 3 ]\"}},{\"data\" : {\"id\" : \"[ 4, 4, 3 ]\"}},{\"data\" : {\"id\" : \"[ 1, 6, 3 ]\"}},{\"data\" : {\"id\" : \"[ 0, 0, 6 ]\"}},{\"data\" : {\"id\" : \"[ 8, 8, 0 ]\"}},{\"data\" : {\"id\" : \"[ 7, 2, 3 ]\"}},{\"data\" : {\"id\" : \"[ 4, 4, 3 ]\"}},{\"data\" : {\"id\" : \"[ 1, 6, 3 ]\"}},{\"data\" : {\"id\" : \"[ 0, 0, 6 ]\"}},{\"data\" : {\"id\" : \"[ 5, 10, 0 ]\"}},{\"data\" : {\"id\" : \"[ 4, 4, 3 ]\"}},{\"data\" : {\"id\" : \"[ 1, 6, 3 ]\"}},{\"data\" : {\"id\" : \"[ 0, 0, 6 ]\"}},{\"data\" : {\"id\" : \"[ 2, 12, 0 ]\"}},{\"data\" : {\"id\" : \"[ 1, 6, 3 ]\"}},{\"data\" : {\"id\" : \"[ 0, 0, 6 ]\"}},{\"data\" : {\"source\" : \"[ 20, 0, 0 ]\",\"target\" : \"[ 17, 2, 0 ]\"}},{\"data\" : {\"source\" : \"[ 17, 2, 0 ]\",\"target\" : \"[ 14, 4, 0 ]\"}},{\"data\" : {\"source\" : \"[ 14, 4, 0 ]\",\"target\" : \"[ 11, 6, 0 ]\"}},{\"data\" : {\"source\" : \"[ 11, 6, 0 ]\",\"target\" : \"[ 10, 0, 3 ]\"}},{\"data\" : {\"source\" : \"[ 10, 0, 3 ]\",\"target\" : \"[ 7, 2, 3 ]\"}},{\"data\" : {\"source\" : \"[ 7, 2, 3 ]\",\"target\" : \"[ 4, 4, 3 ]\"}},{\"data\" : {\"source\" : \"[ 4, 4, 3 ]\",\"target\" : \"[ 1, 6, 3 ]\"}},{\"data\" : {\"source\" : \"[ 1, 6, 3 ]\",\"target\" : \"[ 0, 0, 6 ]\"}},{\"data\" : {\"source\" : \"[ 11, 6, 0 ]\",\"target\" : \"[ 8, 8, 0 ]\"}},{\"data\" : {\"source\" : \"[ 8, 8, 0 ]\",\"target\" : \"[ 7, 2, 3 ]\"}},{\"data\" : {\"source\" : \"[ 7, 2, 3 ]\",\"target\" : \"[ 4, 4, 3 ]\"}},{\"data\" : {\"source\" : \"[ 4, 4, 3 ]\",\"target\" : \"[ 1, 6, 3 ]\"}},{\"data\" : {\"source\" : \"[ 1, 6, 3 ]\",\"target\" : \"[ 0, 0, 6 ]\"}},{\"data\" : {\"source\" : \"[ 8, 8, 0 ]\",\"target\" : \"[ 5, 10, 0 ]\"}},{\"data\" : {\"source\" : \"[ 5, 10, 0 ]\",\"target\" : \"[ 4, 4, 3 ]\"}},{\"data\" : {\"source\" : \"[ 4, 4, 3 ]\",\"target\" : \"[ 1, 6, 3 ]\"}},{\"data\" : {\"source\" : \"[ 1, 6, 3 ]\",\"target\" : \"[ 0, 0, 6 ]\"}},{\"data\" : {\"source\" : \"[ 5, 10, 0 ]\",\"target\" : \"[ 2, 12, 0 ]\"}},{\"data\" : {\"source\" : \"[ 2, 12, 0 ]\",\"target\" : \"[ 1, 6, 3 ]\"}},{\"data\" : {\"source\" : \"[ 1, 6, 3 ]\",\"target\" : \"[ 0, 0, 6 ]\"}}],\"layout\" : {\"name\" : \"cose\"},\"style\" : [{\"style\" : {\"content\" : \"data(id)\"},\"selector\" : \"node\"},{\"style\" : {\"mid-target-arrow-shape\" : \"vee\",\"arrow-scale\" : 2},\"selector\" : \"edge\"}]},\"height\" : 400,\"tool\" : \"cytoscape\"}\n",
       ",function(element,visualization){\n",
       "});\n",
       "} )( element.get( 0 ) )"
      ]
     },
     "execution_count": 25,
     "metadata": {
      "application/javascript": ""
     },
     "output_type": "execute_result"
    }
   ],
   "source": [
    "trades([20,0,0], mps);"
   ]
  },
  {
   "cell_type": "markdown",
   "metadata": {},
   "source": [
    "Since there are only two relations (trades), we can force a grid shape in the 'trading' graph. Vertices in `jupyterviz` graphs can store their position."
   ]
  },
  {
   "cell_type": "code",
   "execution_count": 27,
   "metadata": {},
   "outputs": [
    {
     "data": {
      "text/plain": [
       "function( f, tds ) ... end"
      ]
     },
     "execution_count": 27,
     "metadata": {
      "text/plain": ""
     },
     "output_type": "execute_result"
    }
   ],
   "source": [
    "step:=75;;\n",
    "tradespreset:=function(f,tds)\n",
    "    local nonneg, sons, edges, vertices;\n",
    "\n",
    "    nonneg:=function(l)\n",
    "        return ForAll(l, x-> x>=0);\n",
    "    end;\n",
    "\n",
    "    sons:= function(fc,vx,vy)\n",
    "        local t,fcs;\n",
    "        if not(nonneg(fc)) then\n",
    "            return;\n",
    "        fi;\n",
    "        if nonneg(fc-tds[1][1]) then\n",
    "            fcs:=fc-tds[1][1]+tds[1][2];\n",
    "            Add(vertices,rec(name:=String(fcs),x:=vx+step,y:=vy));\n",
    "            Add(edges,[fc,fcs]);\n",
    "            sons(fcs,vx+step,vy);\n",
    "        fi;\n",
    "        if nonneg(fc-tds[2][1]) then\n",
    "            fcs:=fc-tds[2][1]+tds[2][2];\n",
    "            Add(vertices,rec(name:=String(fcs),x:=vx,y:=vy+step));\n",
    "            Add(edges,[fc,fcs]);\n",
    "            sons(fcs,vx,vy+step);\n",
    "        fi;\n",
    "    end;\n",
    "    \n",
    "    vertices:=[rec(name:=String(f),x:=0,y:=0)];\n",
    "    edges:=[];\n",
    "    sons(f,0,0);\n",
    "\n",
    "    return PlotGraph(vertices, edges, rec(directed:=true, layout:=\"preset\", arrowscale:=2));\n",
    "end;"
   ]
  },
  {
   "cell_type": "code",
   "execution_count": 28,
   "metadata": {},
   "outputs": [
    {
     "data": {
      "application/javascript": [
       "( function ( element ) {\n",
       "if ( !window.JUPVIZLibs ) window.JUPVIZLibs = { };\n",
       "if ( !window.JUPVIZLibs[\"main\"] ) {\n",
       "window.createVisualization=function(element,data,callback){if(window.VisualizationTools[data.tool])window.VisualizationTools[data.tool](element,data,callback);else{window.VisualizationTools.html(element,{data:{html:'Error: No known visualization tool, \"'+data.tool+'.\"'}},callback)}};window.VisualizationTools={html:function(element,json,callback){var div=document.createElement(\"div\");element.appendChild(div);div.innerHTML=json.data.html;if(json.width)$(div).width(json.width);if(json.height)$(div).height(json.height);callback(element,div)}};window.resizeToShowContents=function(element){var maxima={right:0,bottom:0};$(element).find(\"*\").each(function(idx,elt){var $elt=$(elt);var right=$elt.position().left+$elt.outerWidth();var bottom=$elt.position().top+$elt.outerHeight();maxima={right:Math.max(right,maxima.right),bottom:Math.max(bottom,maxima.bottom)}});var $element=$(element);$element.width(maxima.right-$element.position().left);$element.height(maxima.bottom-$element.position().top)};\n",
       "    window.JUPVIZLibs[\"main\"] = 'loaded';\n",
       "}\n",
       "if ( !window.JUPVIZLibs[\"viz-tool-cytoscape\"] ) {\n",
       "window.requirejs.config({paths:{cytoscape:\"https://cdnjs.cloudflare.com/ajax/libs/cytoscape/3.2.16/cytoscape.min\"}});window.VisualizationTools.cytoscape=function(element,json,callback){require([\"cytoscape\"],function(cytoscape){if(json.width)$(element).width(json.width);if(json.height)$(element).height(json.height);json.data.container=element;callback(element,cytoscape(json.data))})};\n",
       "    window.JUPVIZLibs[\"viz-tool-cytoscape\"] = 'loaded';\n",
       "}\n",
       "window.createVisualization(element,{\"data\" : {\"elements\" : [{\"data\" : {\"id\" : \"[ 20, 0, 0 ]\"},\"position\" : {\"x\" : 0,\"y\" : 0}},{\"data\" : {\"id\" : \"[ 17, 2, 0 ]\"},\"position\" : {\"x\" : 0,\"y\" : 75}},{\"data\" : {\"id\" : \"[ 14, 4, 0 ]\"},\"position\" : {\"x\" : 0,\"y\" : 150}},{\"data\" : {\"id\" : \"[ 11, 6, 0 ]\"},\"position\" : {\"x\" : 0,\"y\" : 225}},{\"data\" : {\"id\" : \"[ 10, 0, 3 ]\"},\"position\" : {\"x\" : 75,\"y\" : 225}},{\"data\" : {\"id\" : \"[ 7, 2, 3 ]\"},\"position\" : {\"x\" : 75,\"y\" : 300}},{\"data\" : {\"id\" : \"[ 4, 4, 3 ]\"},\"position\" : {\"x\" : 75,\"y\" : 375}},{\"data\" : {\"id\" : \"[ 1, 6, 3 ]\"},\"position\" : {\"x\" : 75,\"y\" : 450}},{\"data\" : {\"id\" : \"[ 0, 0, 6 ]\"},\"position\" : {\"x\" : 150,\"y\" : 450}},{\"data\" : {\"id\" : \"[ 8, 8, 0 ]\"},\"position\" : {\"x\" : 0,\"y\" : 300}},{\"data\" : {\"id\" : \"[ 7, 2, 3 ]\"},\"position\" : {\"x\" : 75,\"y\" : 300}},{\"data\" : {\"id\" : \"[ 4, 4, 3 ]\"},\"position\" : {\"x\" : 75,\"y\" : 375}},{\"data\" : {\"id\" : \"[ 1, 6, 3 ]\"},\"position\" : {\"x\" : 75,\"y\" : 450}},{\"data\" : {\"id\" : \"[ 0, 0, 6 ]\"},\"position\" : {\"x\" : 150,\"y\" : 450}},{\"data\" : {\"id\" : \"[ 5, 10, 0 ]\"},\"position\" : {\"x\" : 0,\"y\" : 375}},{\"data\" : {\"id\" : \"[ 4, 4, 3 ]\"},\"position\" : {\"x\" : 75,\"y\" : 375}},{\"data\" : {\"id\" : \"[ 1, 6, 3 ]\"},\"position\" : {\"x\" : 75,\"y\" : 450}},{\"data\" : {\"id\" : \"[ 0, 0, 6 ]\"},\"position\" : {\"x\" : 150,\"y\" : 450}},{\"data\" : {\"id\" : \"[ 2, 12, 0 ]\"},\"position\" : {\"x\" : 0,\"y\" : 450}},{\"data\" : {\"id\" : \"[ 1, 6, 3 ]\"},\"position\" : {\"x\" : 75,\"y\" : 450}},{\"data\" : {\"id\" : \"[ 0, 0, 6 ]\"},\"position\" : {\"x\" : 150,\"y\" : 450}},{\"data\" : {\"source\" : \"[ 20, 0, 0 ]\",\"target\" : \"[ 17, 2, 0 ]\"}},{\"data\" : {\"source\" : \"[ 17, 2, 0 ]\",\"target\" : \"[ 14, 4, 0 ]\"}},{\"data\" : {\"source\" : \"[ 14, 4, 0 ]\",\"target\" : \"[ 11, 6, 0 ]\"}},{\"data\" : {\"source\" : \"[ 11, 6, 0 ]\",\"target\" : \"[ 10, 0, 3 ]\"}},{\"data\" : {\"source\" : \"[ 10, 0, 3 ]\",\"target\" : \"[ 7, 2, 3 ]\"}},{\"data\" : {\"source\" : \"[ 7, 2, 3 ]\",\"target\" : \"[ 4, 4, 3 ]\"}},{\"data\" : {\"source\" : \"[ 4, 4, 3 ]\",\"target\" : \"[ 1, 6, 3 ]\"}},{\"data\" : {\"source\" : \"[ 1, 6, 3 ]\",\"target\" : \"[ 0, 0, 6 ]\"}},{\"data\" : {\"source\" : \"[ 11, 6, 0 ]\",\"target\" : \"[ 8, 8, 0 ]\"}},{\"data\" : {\"source\" : \"[ 8, 8, 0 ]\",\"target\" : \"[ 7, 2, 3 ]\"}},{\"data\" : {\"source\" : \"[ 7, 2, 3 ]\",\"target\" : \"[ 4, 4, 3 ]\"}},{\"data\" : {\"source\" : \"[ 4, 4, 3 ]\",\"target\" : \"[ 1, 6, 3 ]\"}},{\"data\" : {\"source\" : \"[ 1, 6, 3 ]\",\"target\" : \"[ 0, 0, 6 ]\"}},{\"data\" : {\"source\" : \"[ 8, 8, 0 ]\",\"target\" : \"[ 5, 10, 0 ]\"}},{\"data\" : {\"source\" : \"[ 5, 10, 0 ]\",\"target\" : \"[ 4, 4, 3 ]\"}},{\"data\" : {\"source\" : \"[ 4, 4, 3 ]\",\"target\" : \"[ 1, 6, 3 ]\"}},{\"data\" : {\"source\" : \"[ 1, 6, 3 ]\",\"target\" : \"[ 0, 0, 6 ]\"}},{\"data\" : {\"source\" : \"[ 5, 10, 0 ]\",\"target\" : \"[ 2, 12, 0 ]\"}},{\"data\" : {\"source\" : \"[ 2, 12, 0 ]\",\"target\" : \"[ 1, 6, 3 ]\"}},{\"data\" : {\"source\" : \"[ 1, 6, 3 ]\",\"target\" : \"[ 0, 0, 6 ]\"}}],\"layout\" : {\"name\" : \"preset\"},\"style\" : [{\"style\" : {\"content\" : \"data(id)\"},\"selector\" : \"node\"},{\"style\" : {\"mid-target-arrow-shape\" : \"vee\",\"arrow-scale\" : 2},\"selector\" : \"edge\"}]},\"height\" : 400,\"tool\" : \"cytoscape\"}\n",
       ",function(element,visualization){\n",
       "});\n",
       "} )( element.get( 0 ) )"
      ]
     },
     "execution_count": 28,
     "metadata": {
      "application/javascript": ""
     },
     "output_type": "execute_result"
    }
   ],
   "source": [
    "tradespreset([20,0,0],mps);"
   ]
  },
  {
   "cell_type": "markdown",
   "metadata": {},
   "source": [
    "Minimal presentations (trade systems) might not be unique. For our sizes of boxes we have another choices, since in the first component of the first trade, we can apply the second to obtain a new trade [[4,4,0],[0,0,3]], and applying it once more, we obtain [[7,2,0],[0,0,3]]. "
   ]
  },
  {
   "cell_type": "code",
   "execution_count": 29,
   "metadata": {},
   "outputs": [
    {
     "data": {
      "text/plain": [
       "true"
      ]
     },
     "execution_count": 29,
     "metadata": {
      "text/plain": ""
     },
     "output_type": "execute_result"
    }
   ],
   "source": [
    "[4,4,0]*[6,9,20]=[7,2,0]*[6,9,20];"
   ]
  },
  {
   "cell_type": "markdown",
   "metadata": {},
   "source": [
    "These are indeed the factorizations of 60."
   ]
  },
  {
   "cell_type": "code",
   "execution_count": 30,
   "metadata": {},
   "outputs": [
    {
     "data": {
      "text/plain": [
       "[ [ 10, 0, 0 ], [ 7, 2, 0 ], [ 4, 4, 0 ], [ 1, 6, 0 ], [ 0, 0, 3 ] ]"
      ]
     },
     "execution_count": 30,
     "metadata": {
      "text/plain": ""
     },
     "output_type": "execute_result"
    }
   ],
   "source": [
    "FactorizationsIntegerWRTList(60,sizes);"
   ]
  },
  {
   "cell_type": "markdown",
   "metadata": {},
   "source": [
    "We can choose another trade system, and will obtain another 'trading' graph."
   ]
  },
  {
   "cell_type": "code",
   "execution_count": 31,
   "metadata": {},
   "outputs": [
    {
     "data": {
      "application/javascript": [
       "( function ( element ) {\n",
       "if ( !window.JUPVIZLibs ) window.JUPVIZLibs = { };\n",
       "if ( !window.JUPVIZLibs[\"main\"] ) {\n",
       "window.createVisualization=function(element,data,callback){if(window.VisualizationTools[data.tool])window.VisualizationTools[data.tool](element,data,callback);else{window.VisualizationTools.html(element,{data:{html:'Error: No known visualization tool, \"'+data.tool+'.\"'}},callback)}};window.VisualizationTools={html:function(element,json,callback){var div=document.createElement(\"div\");element.appendChild(div);div.innerHTML=json.data.html;if(json.width)$(div).width(json.width);if(json.height)$(div).height(json.height);callback(element,div)}};window.resizeToShowContents=function(element){var maxima={right:0,bottom:0};$(element).find(\"*\").each(function(idx,elt){var $elt=$(elt);var right=$elt.position().left+$elt.outerWidth();var bottom=$elt.position().top+$elt.outerHeight();maxima={right:Math.max(right,maxima.right),bottom:Math.max(bottom,maxima.bottom)}});var $element=$(element);$element.width(maxima.right-$element.position().left);$element.height(maxima.bottom-$element.position().top)};\n",
       "    window.JUPVIZLibs[\"main\"] = 'loaded';\n",
       "}\n",
       "if ( !window.JUPVIZLibs[\"viz-tool-cytoscape\"] ) {\n",
       "window.requirejs.config({paths:{cytoscape:\"https://cdnjs.cloudflare.com/ajax/libs/cytoscape/3.2.16/cytoscape.min\"}});window.VisualizationTools.cytoscape=function(element,json,callback){require([\"cytoscape\"],function(cytoscape){if(json.width)$(element).width(json.width);if(json.height)$(element).height(json.height);json.data.container=element;callback(element,cytoscape(json.data))})};\n",
       "    window.JUPVIZLibs[\"viz-tool-cytoscape\"] = 'loaded';\n",
       "}\n",
       "window.createVisualization(element,{\"data\" : {\"elements\" : [{\"data\" : {\"id\" : \"[ 20, 0, 0 ]\"},\"position\" : {\"x\" : 0,\"y\" : 0}},{\"data\" : {\"id\" : \"[ 10, 0, 3 ]\"},\"position\" : {\"x\" : 75,\"y\" : 0}},{\"data\" : {\"id\" : \"[ 0, 0, 6 ]\"},\"position\" : {\"x\" : 150,\"y\" : 0}},{\"data\" : {\"id\" : \"[ 7, 2, 3 ]\"},\"position\" : {\"x\" : 75,\"y\" : 75}},{\"data\" : {\"id\" : \"[ 4, 4, 3 ]\"},\"position\" : {\"x\" : 75,\"y\" : 150}},{\"data\" : {\"id\" : \"[ 1, 6, 3 ]\"},\"position\" : {\"x\" : 75,\"y\" : 225}},{\"data\" : {\"id\" : \"[ 17, 2, 0 ]\"},\"position\" : {\"x\" : 0,\"y\" : 75}},{\"data\" : {\"id\" : \"[ 7, 2, 3 ]\"},\"position\" : {\"x\" : 75,\"y\" : 75}},{\"data\" : {\"id\" : \"[ 4, 4, 3 ]\"},\"position\" : {\"x\" : 75,\"y\" : 150}},{\"data\" : {\"id\" : \"[ 1, 6, 3 ]\"},\"position\" : {\"x\" : 75,\"y\" : 225}},{\"data\" : {\"id\" : \"[ 14, 4, 0 ]\"},\"position\" : {\"x\" : 0,\"y\" : 150}},{\"data\" : {\"id\" : \"[ 4, 4, 3 ]\"},\"position\" : {\"x\" : 75,\"y\" : 150}},{\"data\" : {\"id\" : \"[ 1, 6, 3 ]\"},\"position\" : {\"x\" : 75,\"y\" : 225}},{\"data\" : {\"id\" : \"[ 11, 6, 0 ]\"},\"position\" : {\"x\" : 0,\"y\" : 225}},{\"data\" : {\"id\" : \"[ 1, 6, 3 ]\"},\"position\" : {\"x\" : 75,\"y\" : 225}},{\"data\" : {\"id\" : \"[ 8, 8, 0 ]\"},\"position\" : {\"x\" : 0,\"y\" : 300}},{\"data\" : {\"id\" : \"[ 5, 10, 0 ]\"},\"position\" : {\"x\" : 0,\"y\" : 375}},{\"data\" : {\"id\" : \"[ 2, 12, 0 ]\"},\"position\" : {\"x\" : 0,\"y\" : 450}},{\"data\" : {\"source\" : \"[ 20, 0, 0 ]\",\"target\" : \"[ 10, 0, 3 ]\"}},{\"data\" : {\"source\" : \"[ 10, 0, 3 ]\",\"target\" : \"[ 0, 0, 6 ]\"}},{\"data\" : {\"source\" : \"[ 10, 0, 3 ]\",\"target\" : \"[ 7, 2, 3 ]\"}},{\"data\" : {\"source\" : \"[ 7, 2, 3 ]\",\"target\" : \"[ 4, 4, 3 ]\"}},{\"data\" : {\"source\" : \"[ 4, 4, 3 ]\",\"target\" : \"[ 1, 6, 3 ]\"}},{\"data\" : {\"source\" : \"[ 20, 0, 0 ]\",\"target\" : \"[ 17, 2, 0 ]\"}},{\"data\" : {\"source\" : \"[ 17, 2, 0 ]\",\"target\" : \"[ 7, 2, 3 ]\"}},{\"data\" : {\"source\" : \"[ 7, 2, 3 ]\",\"target\" : \"[ 4, 4, 3 ]\"}},{\"data\" : {\"source\" : \"[ 4, 4, 3 ]\",\"target\" : \"[ 1, 6, 3 ]\"}},{\"data\" : {\"source\" : \"[ 17, 2, 0 ]\",\"target\" : \"[ 14, 4, 0 ]\"}},{\"data\" : {\"source\" : \"[ 14, 4, 0 ]\",\"target\" : \"[ 4, 4, 3 ]\"}},{\"data\" : {\"source\" : \"[ 4, 4, 3 ]\",\"target\" : \"[ 1, 6, 3 ]\"}},{\"data\" : {\"source\" : \"[ 14, 4, 0 ]\",\"target\" : \"[ 11, 6, 0 ]\"}},{\"data\" : {\"source\" : \"[ 11, 6, 0 ]\",\"target\" : \"[ 1, 6, 3 ]\"}},{\"data\" : {\"source\" : \"[ 11, 6, 0 ]\",\"target\" : \"[ 8, 8, 0 ]\"}},{\"data\" : {\"source\" : \"[ 8, 8, 0 ]\",\"target\" : \"[ 5, 10, 0 ]\"}},{\"data\" : {\"source\" : \"[ 5, 10, 0 ]\",\"target\" : \"[ 2, 12, 0 ]\"}}],\"layout\" : {\"name\" : \"preset\"},\"style\" : [{\"style\" : {\"content\" : \"data(id)\"},\"selector\" : \"node\"},{\"style\" : {\"mid-target-arrow-shape\" : \"vee\",\"arrow-scale\" : 2},\"selector\" : \"edge\"}]},\"height\" : 400,\"tool\" : \"cytoscape\"}\n",
       ",function(element,visualization){\n",
       "});\n",
       "} )( element.get( 0 ) )"
      ]
     },
     "execution_count": 31,
     "metadata": {
      "application/javascript": ""
     },
     "output_type": "execute_result"
    }
   ],
   "source": [
    "tradespreset([20,0,0],[[[10,0,0],[0,0,3]],[[3,0,0],[0,2,0]]]);"
   ]
  },
  {
   "cell_type": "markdown",
   "metadata": {},
   "source": [
    "Trades in a numerical semigroup (or relations) can be obtained from some specific elements in the semigroup. We have seen that one of our possible trades can be choosen from a pair of expressions of 60 as combinations of 6, 9, and 20. What makes 60 special is that there are some expressions of 60 in terms of 6, 9 and 20 where only 6 and 9 show up, and another were 20 is the only size of box used.\n",
    "\n",
    "We can draw a graph with vertices the set of possible combinations (expressions, factorizations) of $n$ in terms of $\\lbrace s_1,\\ldots, s_k\\rbrace$, and there is an edge between two combinations if in the expression there is a common box used.\n",
    "\n",
    "There are several `gap` packages that offer procedures that output graphs in `dot` language. In order to make these outputs visible in the notebook one can use `JupyterSplashDot`."
   ]
  },
  {
   "cell_type": "code",
   "execution_count": 32,
   "metadata": {},
   "outputs": [
    {
     "data": {
      "image/svg+xml": [
       "<?xml version=\"1.0\" encoding=\"UTF-8\" standalone=\"no\"?>\n",
       "<!DOCTYPE svg PUBLIC \"-//W3C//DTD SVG 1.1//EN\"\n",
       " \"http://www.w3.org/Graphics/SVG/1.1/DTD/svg11.dtd\">\n",
       "<!-- Generated by graphviz version 2.40.1 (20161225.0304)\n",
       " -->\n",
       "<!-- Title: NSGraph Pages: 1 -->\n",
       "<svg width=\"276pt\" height=\"305pt\"\n",
       " viewBox=\"0.00 0.00 276.49 305.00\" xmlns=\"http://www.w3.org/2000/svg\" xmlns:xlink=\"http://www.w3.org/1999/xlink\">\n",
       "<g id=\"graph0\" class=\"graph\" transform=\"scale(1 1) rotate(0) translate(4 301)\">\n",
       "<title>NSGraph</title>\n",
       "<polygon fill=\"#ffffff\" stroke=\"transparent\" points=\"-4,4 -4,-301 272.4925,-301 272.4925,4 -4,4\"/>\n",
       "<!-- 1 -->\n",
       "<g id=\"node1\" class=\"node\">\n",
       "<title>1</title>\n",
       "<ellipse fill=\"none\" stroke=\"#000000\" cx=\"120.2463\" cy=\"-279\" rx=\"46.2923\" ry=\"18\"/>\n",
       "<text text-anchor=\"middle\" x=\"120.2463\" y=\"-275.3\" font-family=\"Times,serif\" font-size=\"14.00\" fill=\"#000000\"> (10, 0, 0)</text>\n",
       "</g>\n",
       "<!-- 2 -->\n",
       "<g id=\"node2\" class=\"node\">\n",
       "<title>2</title>\n",
       "<ellipse fill=\"none\" stroke=\"#000000\" cx=\"42.2463\" cy=\"-192\" rx=\"42.4939\" ry=\"18\"/>\n",
       "<text text-anchor=\"middle\" x=\"42.2463\" y=\"-188.3\" font-family=\"Times,serif\" font-size=\"14.00\" fill=\"#000000\"> (7, 2, 0)</text>\n",
       "</g>\n",
       "<!-- 1&#45;&#45;2 -->\n",
       "<g id=\"edge1\" class=\"edge\">\n",
       "<title>1&#45;&#45;2</title>\n",
       "<path fill=\"none\" stroke=\"#000000\" d=\"M104.836,-261.8116C91.0727,-246.4603 71.031,-224.106 57.3591,-208.8567\"/>\n",
       "<text text-anchor=\"middle\" x=\"89.7463\" y=\"-231.8\" font-family=\"Times,serif\" font-size=\"14.00\" fill=\"#000000\">3</text>\n",
       "</g>\n",
       "<!-- 3 -->\n",
       "<g id=\"node3\" class=\"node\">\n",
       "<title>3</title>\n",
       "<ellipse fill=\"none\" stroke=\"#000000\" cx=\"97.2463\" cy=\"-105\" rx=\"42.4939\" ry=\"18\"/>\n",
       "<text text-anchor=\"middle\" x=\"97.2463\" y=\"-101.3\" font-family=\"Times,serif\" font-size=\"14.00\" fill=\"#000000\"> (4, 4, 0)</text>\n",
       "</g>\n",
       "<!-- 1&#45;&#45;3 -->\n",
       "<g id=\"edge4\" class=\"edge\">\n",
       "<title>1&#45;&#45;3</title>\n",
       "<path fill=\"none\" stroke=\"#000000\" d=\"M117.8283,-260.7078C113.3994,-227.2024 104.0365,-156.3695 99.6318,-123.0471\"/>\n",
       "<text text-anchor=\"middle\" x=\"113.7463\" y=\"-188.3\" font-family=\"Times,serif\" font-size=\"14.00\" fill=\"#000000\">6</text>\n",
       "</g>\n",
       "<!-- 4 -->\n",
       "<g id=\"node4\" class=\"node\">\n",
       "<title>4</title>\n",
       "<ellipse fill=\"none\" stroke=\"#000000\" cx=\"97.2463\" cy=\"-18\" rx=\"42.4939\" ry=\"18\"/>\n",
       "<text text-anchor=\"middle\" x=\"97.2463\" y=\"-14.3\" font-family=\"Times,serif\" font-size=\"14.00\" fill=\"#000000\"> (1, 6, 0)</text>\n",
       "</g>\n",
       "<!-- 1&#45;&#45;4 -->\n",
       "<g id=\"edge6\" class=\"edge\">\n",
       "<title>1&#45;&#45;4</title>\n",
       "<path fill=\"none\" stroke=\"#000000\" d=\"M128.195,-261.0583C142.3445,-226.52 168.5897,-148.749 148.2463,-87 141.5808,-66.7681 126.4485,-47.6092 114.3883,-34.6374\"/>\n",
       "<text text-anchor=\"middle\" x=\"158.7463\" y=\"-144.8\" font-family=\"Times,serif\" font-size=\"14.00\" fill=\"#000000\">9</text>\n",
       "</g>\n",
       "<!-- 2&#45;&#45;3 -->\n",
       "<g id=\"edge2\" class=\"edge\">\n",
       "<title>2&#45;&#45;3</title>\n",
       "<path fill=\"none\" stroke=\"#000000\" d=\"M53.3763,-174.3943C62.9186,-159.3001 76.5953,-137.6661 86.1327,-122.5796\"/>\n",
       "<text text-anchor=\"middle\" x=\"76.7463\" y=\"-144.8\" font-family=\"Times,serif\" font-size=\"14.00\" fill=\"#000000\">3</text>\n",
       "</g>\n",
       "<!-- 2&#45;&#45;4 -->\n",
       "<g id=\"edge5\" class=\"edge\">\n",
       "<title>2&#45;&#45;4</title>\n",
       "<path fill=\"none\" stroke=\"#000000\" d=\"M37.7857,-173.8949C33.3805,-152.4411 28.6927,-115.9566 39.2463,-87 46.9092,-65.9747 64.1087,-46.9087 77.7997,-34.1736\"/>\n",
       "<text text-anchor=\"middle\" x=\"42.7463\" y=\"-101.3\" font-family=\"Times,serif\" font-size=\"14.00\" fill=\"#000000\">6</text>\n",
       "</g>\n",
       "<!-- 3&#45;&#45;4 -->\n",
       "<g id=\"edge3\" class=\"edge\">\n",
       "<title>3&#45;&#45;4</title>\n",
       "<path fill=\"none\" stroke=\"#000000\" d=\"M97.2463,-86.9735C97.2463,-72.0422 97.2463,-50.9283 97.2463,-36.0034\"/>\n",
       "<text text-anchor=\"middle\" x=\"100.7463\" y=\"-57.8\" font-family=\"Times,serif\" font-size=\"14.00\" fill=\"#000000\">3</text>\n",
       "</g>\n",
       "<!-- 5 -->\n",
       "<g id=\"node5\" class=\"node\">\n",
       "<title>5</title>\n",
       "<ellipse fill=\"none\" stroke=\"#000000\" cx=\"226.2463\" cy=\"-279\" rx=\"42.4939\" ry=\"18\"/>\n",
       "<text text-anchor=\"middle\" x=\"226.2463\" y=\"-275.3\" font-family=\"Times,serif\" font-size=\"14.00\" fill=\"#000000\"> (0, 0, 3)</text>\n",
       "</g>\n",
       "</g>\n",
       "</svg>\n"
      ]
     },
     "execution_count": 32,
     "metadata": {
      "image/svg+xml": {
       "height": 500,
       "width": 500
      }
     },
     "output_type": "execute_result"
    }
   ],
   "source": [
    "JupyterSplashDot(DotEliahouGraph(FactorizationsIntegerWRTList(60,sizes)));"
   ]
  },
  {
   "cell_type": "markdown",
   "metadata": {},
   "source": [
    "There are exactly two elements with nonconnected associated graph in $S$. One is 60, the other already showed up: 18."
   ]
  },
  {
   "cell_type": "code",
   "execution_count": 33,
   "metadata": {},
   "outputs": [
    {
     "data": {
      "image/svg+xml": [
       "<?xml version=\"1.0\" encoding=\"UTF-8\" standalone=\"no\"?>\n",
       "<!DOCTYPE svg PUBLIC \"-//W3C//DTD SVG 1.1//EN\"\n",
       " \"http://www.w3.org/Graphics/SVG/1.1/DTD/svg11.dtd\">\n",
       "<!-- Generated by graphviz version 2.40.1 (20161225.0304)\n",
       " -->\n",
       "<!-- Title: NSGraph Pages: 1 -->\n",
       "<svg width=\"194pt\" height=\"44pt\"\n",
       " viewBox=\"0.00 0.00 194.49 44.00\" xmlns=\"http://www.w3.org/2000/svg\" xmlns:xlink=\"http://www.w3.org/1999/xlink\">\n",
       "<g id=\"graph0\" class=\"graph\" transform=\"scale(1 1) rotate(0) translate(4 40)\">\n",
       "<title>NSGraph</title>\n",
       "<polygon fill=\"#ffffff\" stroke=\"transparent\" points=\"-4,4 -4,-40 190.4925,-40 190.4925,4 -4,4\"/>\n",
       "<!-- 1 -->\n",
       "<g id=\"node1\" class=\"node\">\n",
       "<title>1</title>\n",
       "<ellipse fill=\"none\" stroke=\"#000000\" cx=\"42.2463\" cy=\"-18\" rx=\"42.4939\" ry=\"18\"/>\n",
       "<text text-anchor=\"middle\" x=\"42.2463\" y=\"-14.3\" font-family=\"Times,serif\" font-size=\"14.00\" fill=\"#000000\"> (3, 0, 0)</text>\n",
       "</g>\n",
       "<!-- 2 -->\n",
       "<g id=\"node2\" class=\"node\">\n",
       "<title>2</title>\n",
       "<ellipse fill=\"none\" stroke=\"#000000\" cx=\"144.2463\" cy=\"-18\" rx=\"42.4939\" ry=\"18\"/>\n",
       "<text text-anchor=\"middle\" x=\"144.2463\" y=\"-14.3\" font-family=\"Times,serif\" font-size=\"14.00\" fill=\"#000000\"> (0, 2, 0)</text>\n",
       "</g>\n",
       "</g>\n",
       "</svg>\n"
      ]
     },
     "execution_count": 33,
     "metadata": {
      "image/svg+xml": {
       "height": 500,
       "width": 500
      }
     },
     "output_type": "execute_result"
    }
   ],
   "source": [
    "JupyterSplashDot(DotEliahouGraph(FactorizationsIntegerWRTList(18,sizes)));"
   ]
  },
  {
   "cell_type": "markdown",
   "metadata": {},
   "source": [
    "In order to obtain a 'complete trade system' that allows us to go from any combination of boxes to any other choice, we only need to take expressions in different connected components of the above graphs, so that there is a trade connecting both connected components. "
   ]
  },
  {
   "cell_type": "code",
   "execution_count": 34,
   "metadata": {},
   "outputs": [
    {
     "data": {
      "text/plain": [
       "[ 18, 60 ]"
      ]
     },
     "execution_count": 34,
     "metadata": {
      "text/plain": ""
     },
     "output_type": "execute_result"
    }
   ],
   "source": [
    "BettiElements(S);"
   ]
  },
  {
   "cell_type": "markdown",
   "metadata": {},
   "source": [
    "Another way to visualize possible combinations is through `DotFactorizationGraph` that shows the set of expressions of a nonnegative integer in terms of a given set of nonnegative integers depicted in a graph: the vertices are labelled with the different combinations, and in the edges shows the \"distance\" between factorizations. In red a minimal spanning tree is highlighted. The largest distance in the minimal spanning tree is known as the catenary degree of the integer in the numerical semigroup."
   ]
  },
  {
   "cell_type": "code",
   "execution_count": 35,
   "metadata": {
    "scrolled": false
   },
   "outputs": [
    {
     "data": {
      "image/svg+xml": [
       "<?xml version=\"1.0\" encoding=\"UTF-8\" standalone=\"no\"?>\n",
       "<!DOCTYPE svg PUBLIC \"-//W3C//DTD SVG 1.1//EN\"\n",
       " \"http://www.w3.org/Graphics/SVG/1.1/DTD/svg11.dtd\">\n",
       "<!-- Generated by graphviz version 2.40.1 (20161225.0304)\n",
       " -->\n",
       "<!-- Title: NSGraph Pages: 1 -->\n",
       "<svg width=\"230pt\" height=\"392pt\"\n",
       " viewBox=\"0.00 0.00 230.25 392.00\" xmlns=\"http://www.w3.org/2000/svg\" xmlns:xlink=\"http://www.w3.org/1999/xlink\">\n",
       "<g id=\"graph0\" class=\"graph\" transform=\"scale(1 1) rotate(0) translate(4 388)\">\n",
       "<title>NSGraph</title>\n",
       "<polygon fill=\"#ffffff\" stroke=\"transparent\" points=\"-4,4 -4,-388 226.2463,-388 226.2463,4 -4,4\"/>\n",
       "<!-- 1 -->\n",
       "<g id=\"node1\" class=\"node\">\n",
       "<title>1</title>\n",
       "<ellipse fill=\"none\" stroke=\"#000000\" cx=\"79\" cy=\"-366\" rx=\"46.2923\" ry=\"18\"/>\n",
       "<text text-anchor=\"middle\" x=\"79\" y=\"-362.3\" font-family=\"Times,serif\" font-size=\"14.00\" fill=\"#000000\"> (10, 0, 2)</text>\n",
       "</g>\n",
       "<!-- 2 -->\n",
       "<g id=\"node2\" class=\"node\">\n",
       "<title>2</title>\n",
       "<ellipse fill=\"none\" stroke=\"#000000\" cx=\"113\" cy=\"-279\" rx=\"42.4939\" ry=\"18\"/>\n",
       "<text text-anchor=\"middle\" x=\"113\" y=\"-275.3\" font-family=\"Times,serif\" font-size=\"14.00\" fill=\"#000000\"> (7, 2, 2)</text>\n",
       "</g>\n",
       "<!-- 1&#45;&#45;2 -->\n",
       "<g id=\"edge1\" class=\"edge\">\n",
       "<title>1&#45;&#45;2</title>\n",
       "<path fill=\"none\" stroke=\"#ff0000\" d=\"M86.0448,-347.9735C91.8801,-333.0422 100.1315,-311.9283 105.9642,-297.0034\"/>\n",
       "<text text-anchor=\"middle\" x=\"101.5\" y=\"-318.8\" font-family=\"Times,serif\" font-size=\"14.00\" fill=\"#000000\">3</text>\n",
       "</g>\n",
       "<!-- 3 -->\n",
       "<g id=\"node3\" class=\"node\">\n",
       "<title>3</title>\n",
       "<ellipse fill=\"none\" stroke=\"#000000\" cx=\"113\" cy=\"-192\" rx=\"42.4939\" ry=\"18\"/>\n",
       "<text text-anchor=\"middle\" x=\"113\" y=\"-188.3\" font-family=\"Times,serif\" font-size=\"14.00\" fill=\"#000000\"> (4, 4, 2)</text>\n",
       "</g>\n",
       "<!-- 1&#45;&#45;3 -->\n",
       "<g id=\"edge4\" class=\"edge\">\n",
       "<title>1&#45;&#45;3</title>\n",
       "<path fill=\"none\" stroke=\"#000000\" d=\"M68.819,-348.1494C58.1042,-326.9405 44.1787,-290.6913 55,-261 62.6629,-239.9747 79.8625,-220.9087 93.5534,-208.1736\"/>\n",
       "<text text-anchor=\"middle\" x=\"58.5\" y=\"-275.3\" font-family=\"Times,serif\" font-size=\"14.00\" fill=\"#000000\">6</text>\n",
       "</g>\n",
       "<!-- 4 -->\n",
       "<g id=\"node4\" class=\"node\">\n",
       "<title>4</title>\n",
       "<ellipse fill=\"none\" stroke=\"#000000\" cx=\"180\" cy=\"-105\" rx=\"42.4939\" ry=\"18\"/>\n",
       "<text text-anchor=\"middle\" x=\"180\" y=\"-101.3\" font-family=\"Times,serif\" font-size=\"14.00\" fill=\"#000000\"> (1, 6, 2)</text>\n",
       "</g>\n",
       "<!-- 1&#45;&#45;4 -->\n",
       "<g id=\"edge8\" class=\"edge\">\n",
       "<title>1&#45;&#45;4</title>\n",
       "<path fill=\"none\" stroke=\"#000000\" d=\"M105.5856,-350.9728C124.6733,-338.8228 149.4959,-319.9867 164,-297 198.0937,-242.9667 187.8848,-219.7577 192,-156 192.4294,-149.3472 193.0679,-147.5806 192,-141 191.0291,-135.0172 189.2063,-128.6852 187.2692,-123.0275\"/>\n",
       "<text text-anchor=\"middle\" x=\"192.5\" y=\"-231.8\" font-family=\"Times,serif\" font-size=\"14.00\" fill=\"#000000\">9</text>\n",
       "</g>\n",
       "<!-- 5 -->\n",
       "<g id=\"node5\" class=\"node\">\n",
       "<title>5</title>\n",
       "<ellipse fill=\"none\" stroke=\"#000000\" cx=\"66\" cy=\"-18\" rx=\"42.4939\" ry=\"18\"/>\n",
       "<text text-anchor=\"middle\" x=\"66\" y=\"-14.3\" font-family=\"Times,serif\" font-size=\"14.00\" fill=\"#000000\"> (0, 0, 5)</text>\n",
       "</g>\n",
       "<!-- 1&#45;&#45;5 -->\n",
       "<g id=\"edge10\" class=\"edge\">\n",
       "<title>1&#45;&#45;5</title>\n",
       "<path fill=\"none\" stroke=\"#000000\" d=\"M52.2542,-351.1151C29.3357,-336.1714 0,-310.8272 0,-279 0,-279 0,-279 0,-105 0,-75.235 24.8235,-49.2567 44.023,-33.6155\"/>\n",
       "<text text-anchor=\"middle\" x=\"7\" y=\"-188.3\" font-family=\"Times,serif\" font-size=\"14.00\" fill=\"#000000\">10</text>\n",
       "</g>\n",
       "<!-- 2&#45;&#45;3 -->\n",
       "<g id=\"edge2\" class=\"edge\">\n",
       "<title>2&#45;&#45;3</title>\n",
       "<path fill=\"none\" stroke=\"#ff0000\" d=\"M113,-260.9735C113,-246.0422 113,-224.9283 113,-210.0034\"/>\n",
       "<text text-anchor=\"middle\" x=\"116.5\" y=\"-231.8\" font-family=\"Times,serif\" font-size=\"14.00\" fill=\"#000000\">3</text>\n",
       "</g>\n",
       "<!-- 2&#45;&#45;4 -->\n",
       "<g id=\"edge5\" class=\"edge\">\n",
       "<title>2&#45;&#45;4</title>\n",
       "<path fill=\"none\" stroke=\"#000000\" d=\"M129.0168,-262.3093C140.6604,-249.1641 155.7682,-229.8081 164,-210 175.959,-181.2231 179.1013,-144.6811 179.8559,-123.1674\"/>\n",
       "<text text-anchor=\"middle\" x=\"177.5\" y=\"-188.3\" font-family=\"Times,serif\" font-size=\"14.00\" fill=\"#000000\">6</text>\n",
       "</g>\n",
       "<!-- 2&#45;&#45;5 -->\n",
       "<g id=\"edge9\" class=\"edge\">\n",
       "<title>2&#45;&#45;5</title>\n",
       "<path fill=\"none\" stroke=\"#000000\" d=\"M95.858,-262.3626C83.7977,-249.3908 68.6654,-230.2319 62,-210 41.8652,-148.884 54.3634,-70.7916 61.7343,-36.0567\"/>\n",
       "<text text-anchor=\"middle\" x=\"54.5\" y=\"-144.8\" font-family=\"Times,serif\" font-size=\"14.00\" fill=\"#000000\">9</text>\n",
       "</g>\n",
       "<!-- 3&#45;&#45;4 -->\n",
       "<g id=\"edge3\" class=\"edge\">\n",
       "<title>3&#45;&#45;4</title>\n",
       "<path fill=\"none\" stroke=\"#ff0000\" d=\"M126.237,-174.8116C137.9831,-159.5593 155.0528,-137.3942 166.7905,-122.1527\"/>\n",
       "<text text-anchor=\"middle\" x=\"153.5\" y=\"-144.8\" font-family=\"Times,serif\" font-size=\"14.00\" fill=\"#000000\">3</text>\n",
       "</g>\n",
       "<!-- 3&#45;&#45;5 -->\n",
       "<g id=\"edge7\" class=\"edge\">\n",
       "<title>3&#45;&#45;5</title>\n",
       "<path fill=\"none\" stroke=\"#000000\" d=\"M108.1472,-174.0343C99.1409,-140.6918 79.9362,-69.5937 70.8968,-36.1286\"/>\n",
       "<text text-anchor=\"middle\" x=\"97.5\" y=\"-101.3\" font-family=\"Times,serif\" font-size=\"14.00\" fill=\"#000000\">8</text>\n",
       "</g>\n",
       "<!-- 4&#45;&#45;5 -->\n",
       "<g id=\"edge6\" class=\"edge\">\n",
       "<title>4&#45;&#45;5</title>\n",
       "<path fill=\"none\" stroke=\"#ff0000\" d=\"M159.9254,-88.9833C147.144,-78.8519 130.1932,-65.537 115,-54 106.0886,-47.2331 96.156,-39.8979 87.5758,-33.6252\"/>\n",
       "<text text-anchor=\"middle\" x=\"135.5\" y=\"-57.8\" font-family=\"Times,serif\" font-size=\"14.00\" fill=\"#000000\">7</text>\n",
       "</g>\n",
       "</g>\n",
       "</svg>\n"
      ]
     },
     "execution_count": 35,
     "metadata": {
      "image/svg+xml": {
       "height": 500,
       "width": 500
      }
     },
     "output_type": "execute_result"
    }
   ],
   "source": [
    "JupyterSplashDot(DotFactorizationGraph(FactorizationsIntegerWRTList(100,sizes)));"
   ]
  },
  {
   "cell_type": "code",
   "execution_count": 36,
   "metadata": {},
   "outputs": [
    {
     "data": {
      "text/plain": [
       "7"
      ]
     },
     "execution_count": 36,
     "metadata": {
      "text/plain": ""
     },
     "output_type": "execute_result"
    }
   ],
   "source": [
    "CatenaryDegree(100,S);"
   ]
  },
  {
   "cell_type": "markdown",
   "metadata": {},
   "source": [
    "It has been shown that the catenary degree strongly depends on the trades, and that it becomes eventually periodic."
   ]
  },
  {
   "cell_type": "code",
   "execution_count": 37,
   "metadata": {
    "scrolled": true
   },
   "outputs": [
    {
     "data": {
      "application/javascript": [
       "( function ( element ) {\n",
       "if ( !window.JUPVIZLibs ) window.JUPVIZLibs = { };\n",
       "if ( !window.JUPVIZLibs[\"main\"] ) {\n",
       "window.createVisualization=function(element,data,callback){if(window.VisualizationTools[data.tool])window.VisualizationTools[data.tool](element,data,callback);else{window.VisualizationTools.html(element,{data:{html:'Error: No known visualization tool, \"'+data.tool+'.\"'}},callback)}};window.VisualizationTools={html:function(element,json,callback){var div=document.createElement(\"div\");element.appendChild(div);div.innerHTML=json.data.html;if(json.width)$(div).width(json.width);if(json.height)$(div).height(json.height);callback(element,div)}};window.resizeToShowContents=function(element){var maxima={right:0,bottom:0};$(element).find(\"*\").each(function(idx,elt){var $elt=$(elt);var right=$elt.position().left+$elt.outerWidth();var bottom=$elt.position().top+$elt.outerHeight();maxima={right:Math.max(right,maxima.right),bottom:Math.max(bottom,maxima.bottom)}});var $element=$(element);$element.width(maxima.right-$element.position().left);$element.height(maxima.bottom-$element.position().top)};\n",
       "    window.JUPVIZLibs[\"main\"] = 'loaded';\n",
       "}\n",
       "if ( !window.JUPVIZLibs[\"viz-tool-plotly\"] ) {\n",
       "window.requirejs.config({paths:{plotly:\"https://cdn.plot.ly/plotly-latest.min\"}});window.VisualizationTools.plotly=function(element,json,callback){require([\"plotly\"],function(plotly){plotly.newPlot(element,json.data);callback(element,element.childNodes[0])})};\n",
       "    window.JUPVIZLibs[\"viz-tool-plotly\"] = 'loaded';\n",
       "}\n",
       "window.createVisualization(element,{\"data\" : {\"data\" : [{\"x\" : [0,6,9,12,15,18,20,21,24,26,27,29,30,32,33,35,36,38,39,40,41,42,44,45,46,47,48,49,50,51,52,53,54,55,56,57,58,59,60,61,62,63,64,65,66,67,68,69,70,71,72,73,74,75,76,77,78,79,80,81,82,83,84,85,86,87,88,89,90,91,92,93,94,95,96,97,98,99,100,101,102,103,104,105,106,107,108,109,110,111,112,113,114,115,116,117,118,119,120,121,122,123,124,125,126,127,128,129,130,131,132,133,134,135,136,137,138,139,140,141,142,143,144,145,146,147,148,149,150],\"y\" : [0,0,0,0,0,3,0,0,3,0,3,0,3,0,3,0,3,3,3,0,0,3,3,3,0,3,3,0,3,3,0,3,3,0,3,3,3,3,7,0,3,3,3,3,7,3,3,7,3,3,7,3,3,7,3,3,7,3,7,7,3,3,7,3,7,7,3,7,7,3,7,7,3,7,7,3,7,7,7,7,7,3,7,7,7,7,7,7,7,7,7,7,7,7,7,7,7,7,7,7,7,7,7,7,7,7,7,7,7,7,7,7,7,7,7,7,7,7,7,7,7,7,7,7,7,7,7,7,7],\"type\" : \"bar\"}],\"layout\" : {\"height\" : 400,\"title\" : \"catenary degree of elements in the semigroup\",\"xaxis\" : {\"title\" : \"n\"},\"yaxis\" : {\"title\" : \"catenary degree\"}}},\"tool\" : \"plotly\"}\n",
       ",function(element,visualization){\n",
       "});\n",
       "} )( element.get( 0 ) )"
      ]
     },
     "execution_count": 37,
     "metadata": {
      "application/javascript": ""
     },
     "output_type": "execute_result"
    }
   ],
   "source": [
    "Plot(Intersection(S,[0..150]), x->CatenaryDegree(x,S), \n",
    " rec(\n",
    "title := \"catenary degree of elements in the semigroup\",\n",
    "          xaxis := \"n\",\n",
    "yaxis := \"catenary degree\", type:=\"bar\" ));"
   ]
  },
  {
   "cell_type": "markdown",
   "metadata": {},
   "source": [
    "The maximum can be computed with the trades."
   ]
  },
  {
   "cell_type": "code",
   "execution_count": 38,
   "metadata": {},
   "outputs": [
    {
     "data": {
      "text/plain": [
       "7"
      ]
     },
     "execution_count": 38,
     "metadata": {
      "text/plain": ""
     },
     "output_type": "execute_result"
    }
   ],
   "source": [
    "CatenaryDegree(S);"
   ]
  },
  {
   "cell_type": "markdown",
   "metadata": {},
   "source": [
    "We saw above a plot with the possible number of boxes required for each amount of nuggets, and as expected the number of boxes will increase as the amount of nuggets increases. There is a measure to detect how spread are this boxes (notice that the catenary degree already measures somehow this based on distances): we can compute the difference of two consecutive possible number of boxes of a fixed amount of nuggets. This invariant is known as the Delta set, and it is upper bounded from by the Delta set of the elements appearing in a minimal presentation of the semigroup."
   ]
  },
  {
   "cell_type": "code",
   "execution_count": 41,
   "metadata": {},
   "outputs": [
    {
     "data": {
      "application/javascript": [
       "( function ( element ) {\n",
       "if ( !window.JUPVIZLibs ) window.JUPVIZLibs = { };\n",
       "if ( !window.JUPVIZLibs[\"main\"] ) {\n",
       "window.createVisualization=function(element,data,callback){if(window.VisualizationTools[data.tool])window.VisualizationTools[data.tool](element,data,callback);else{window.VisualizationTools.html(element,{data:{html:'Error: No known visualization tool, \"'+data.tool+'.\"'}},callback)}};window.VisualizationTools={html:function(element,json,callback){var div=document.createElement(\"div\");element.appendChild(div);div.innerHTML=json.data.html;if(json.width)$(div).width(json.width);if(json.height)$(div).height(json.height);callback(element,div)}};window.resizeToShowContents=function(element){var maxima={right:0,bottom:0};$(element).find(\"*\").each(function(idx,elt){var $elt=$(elt);var right=$elt.position().left+$elt.outerWidth();var bottom=$elt.position().top+$elt.outerHeight();maxima={right:Math.max(right,maxima.right),bottom:Math.max(bottom,maxima.bottom)}});var $element=$(element);$element.width(maxima.right-$element.position().left);$element.height(maxima.bottom-$element.position().top)};\n",
       "    window.JUPVIZLibs[\"main\"] = 'loaded';\n",
       "}\n",
       "if ( !window.JUPVIZLibs[\"viz-tool-canvasjs\"] ) {\n",
       "window.requirejs.config({paths:{canvasjs:\"https://cdnjs.cloudflare.com/ajax/libs/canvasjs/1.7.0/canvasjs.min\"}});window.VisualizationTools.canvasjs=function(element,json,callback){require([\"canvasjs\"],function(canvasjs){new window.CanvasJS.Chart(element,json.data).render();window.resizeToShowContents(element);callback(element,element.childNodes[0])})};\n",
       "    window.JUPVIZLibs[\"viz-tool-canvasjs\"] = 'loaded';\n",
       "}\n",
       "window.createVisualization(element,{\"data\" : {\"data\" : [{\"type\" : \"scatter\",\"dataPoints\" : [{\"x\" : 18,\"y\" : 1},{\"x\" : 24,\"y\" : 1},{\"x\" : 27,\"y\" : 1},{\"x\" : 30,\"y\" : 1},{\"x\" : 33,\"y\" : 1},{\"x\" : 36,\"y\" : 1},{\"x\" : 38,\"y\" : 1},{\"x\" : 39,\"y\" : 1},{\"x\" : 42,\"y\" : 1},{\"x\" : 44,\"y\" : 1},{\"x\" : 45,\"y\" : 1},{\"x\" : 47,\"y\" : 1},{\"x\" : 48,\"y\" : 1},{\"x\" : 50,\"y\" : 1}]}],\"height\" : 400,\"animationEnabled\" : true},\"tool\" : \"canvasjs\"}\n",
       ",function(element,visualization){\n",
       "});\n",
       "} )( element.get( 0 ) )"
      ]
     },
     "execution_count": 41,
     "metadata": {
      "application/javascript": ""
     },
     "output_type": "execute_result"
    }
   ],
   "source": [
    "l:=[];;\n",
    "for s in Intersection([0..50],S) do\n",
    "    Append(l,List(DeltaSet(LengthsOfFactorizationsIntegerWRTList(s,sizes)), d->[s,d]));;\n",
    "od;\n",
    "Plot(l,rec(type:=\"scatter\",tool:=\"canvasjs\"));"
   ]
  },
  {
   "cell_type": "markdown",
   "metadata": {},
   "source": [
    "The union of all Delta sets can be computed explicitly (though in general requires some complex computations)."
   ]
  },
  {
   "cell_type": "code",
   "execution_count": 42,
   "metadata": {
    "scrolled": true
   },
   "outputs": [
    {
     "data": {
      "text/plain": [
       "[ 1, 2, 3, 4 ]"
      ]
     },
     "execution_count": 42,
     "metadata": {
      "text/plain": ""
     },
     "output_type": "execute_result"
    }
   ],
   "source": [
    "DeltaSet(S);"
   ]
  },
  {
   "cell_type": "markdown",
   "metadata": {},
   "source": [
    "Observe that in the above plot, we have not catched all possibilities. We will extend the range, until we get all possible \"deltas\"."
   ]
  },
  {
   "cell_type": "code",
   "execution_count": 45,
   "metadata": {},
   "outputs": [
    {
     "data": {
      "application/javascript": [
       "( function ( element ) {\n",
       "if ( !window.JUPVIZLibs ) window.JUPVIZLibs = { };\n",
       "if ( !window.JUPVIZLibs[\"main\"] ) {\n",
       "window.createVisualization=function(element,data,callback){if(window.VisualizationTools[data.tool])window.VisualizationTools[data.tool](element,data,callback);else{window.VisualizationTools.html(element,{data:{html:'Error: No known visualization tool, \"'+data.tool+'.\"'}},callback)}};window.VisualizationTools={html:function(element,json,callback){var div=document.createElement(\"div\");element.appendChild(div);div.innerHTML=json.data.html;if(json.width)$(div).width(json.width);if(json.height)$(div).height(json.height);callback(element,div)}};window.resizeToShowContents=function(element){var maxima={right:0,bottom:0};$(element).find(\"*\").each(function(idx,elt){var $elt=$(elt);var right=$elt.position().left+$elt.outerWidth();var bottom=$elt.position().top+$elt.outerHeight();maxima={right:Math.max(right,maxima.right),bottom:Math.max(bottom,maxima.bottom)}});var $element=$(element);$element.width(maxima.right-$element.position().left);$element.height(maxima.bottom-$element.position().top)};\n",
       "    window.JUPVIZLibs[\"main\"] = 'loaded';\n",
       "}\n",
       "if ( !window.JUPVIZLibs[\"viz-tool-canvasjs\"] ) {\n",
       "window.requirejs.config({paths:{canvasjs:\"https://cdnjs.cloudflare.com/ajax/libs/canvasjs/1.7.0/canvasjs.min\"}});window.VisualizationTools.canvasjs=function(element,json,callback){require([\"canvasjs\"],function(canvasjs){new window.CanvasJS.Chart(element,json.data).render();window.resizeToShowContents(element);callback(element,element.childNodes[0])})};\n",
       "    window.JUPVIZLibs[\"viz-tool-canvasjs\"] = 'loaded';\n",
       "}\n",
       "window.createVisualization(element,{\"data\" : {\"data\" : [{\"type\" : \"scatter\",\"dataPoints\" : [{\"x\" : 18,\"y\" : 1},{\"x\" : 24,\"y\" : 1},{\"x\" : 27,\"y\" : 1},{\"x\" : 30,\"y\" : 1},{\"x\" : 33,\"y\" : 1},{\"x\" : 36,\"y\" : 1},{\"x\" : 38,\"y\" : 1},{\"x\" : 39,\"y\" : 1},{\"x\" : 42,\"y\" : 1},{\"x\" : 44,\"y\" : 1},{\"x\" : 45,\"y\" : 1},{\"x\" : 47,\"y\" : 1},{\"x\" : 48,\"y\" : 1},{\"x\" : 50,\"y\" : 1},{\"x\" : 51,\"y\" : 1},{\"x\" : 53,\"y\" : 1},{\"x\" : 54,\"y\" : 1},{\"x\" : 56,\"y\" : 1},{\"x\" : 57,\"y\" : 1},{\"x\" : 58,\"y\" : 1},{\"x\" : 59,\"y\" : 1},{\"x\" : 60,\"y\" : 1},{\"x\" : 60,\"y\" : 4},{\"x\" : 62,\"y\" : 1},{\"x\" : 63,\"y\" : 1},{\"x\" : 64,\"y\" : 1},{\"x\" : 65,\"y\" : 1},{\"x\" : 66,\"y\" : 1},{\"x\" : 66,\"y\" : 4},{\"x\" : 67,\"y\" : 1},{\"x\" : 68,\"y\" : 1},{\"x\" : 69,\"y\" : 1},{\"x\" : 69,\"y\" : 4},{\"x\" : 70,\"y\" : 1},{\"x\" : 71,\"y\" : 1},{\"x\" : 72,\"y\" : 1},{\"x\" : 72,\"y\" : 3},{\"x\" : 73,\"y\" : 1},{\"x\" : 74,\"y\" : 1},{\"x\" : 75,\"y\" : 1},{\"x\" : 75,\"y\" : 4},{\"x\" : 76,\"y\" : 1},{\"x\" : 77,\"y\" : 1},{\"x\" : 78,\"y\" : 1},{\"x\" : 78,\"y\" : 3},{\"x\" : 79,\"y\" : 1},{\"x\" : 80,\"y\" : 1},{\"x\" : 80,\"y\" : 4},{\"x\" : 81,\"y\" : 1},{\"x\" : 81,\"y\" : 3},{\"x\" : 82,\"y\" : 1},{\"x\" : 83,\"y\" : 1},{\"x\" : 84,\"y\" : 1},{\"x\" : 84,\"y\" : 3},{\"x\" : 85,\"y\" : 1},{\"x\" : 86,\"y\" : 1},{\"x\" : 86,\"y\" : 4},{\"x\" : 87,\"y\" : 1},{\"x\" : 87,\"y\" : 3},{\"x\" : 88,\"y\" : 1},{\"x\" : 89,\"y\" : 1},{\"x\" : 89,\"y\" : 4},{\"x\" : 90,\"y\" : 1},{\"x\" : 90,\"y\" : 2},{\"x\" : 91,\"y\" : 1},{\"x\" : 92,\"y\" : 1},{\"x\" : 92,\"y\" : 3},{\"x\" : 93,\"y\" : 1},{\"x\" : 93,\"y\" : 3},{\"x\" : 94,\"y\" : 1},{\"x\" : 95,\"y\" : 1},{\"x\" : 95,\"y\" : 4},{\"x\" : 96,\"y\" : 1},{\"x\" : 96,\"y\" : 2},{\"x\" : 97,\"y\" : 1},{\"x\" : 98,\"y\" : 1},{\"x\" : 98,\"y\" : 3},{\"x\" : 99,\"y\" : 1},{\"x\" : 99,\"y\" : 2},{\"x\" : 100,\"y\" : 1},{\"x\" : 100,\"y\" : 4}]}],\"height\" : 400,\"theme\" : \"light1\",\"animationEnabled\" : false},\"tool\" : \"canvasjs\"}\n",
       ",function(element,visualization){\n",
       "});\n",
       "} )( element.get( 0 ) )"
      ]
     },
     "execution_count": 45,
     "metadata": {
      "application/javascript": ""
     },
     "output_type": "execute_result"
    }
   ],
   "source": [
    "l:=[];;\n",
    "for s in Intersection([0..100],S) do\n",
    "    Append(l,List(DeltaSet(LengthsOfFactorizationsIntegerWRTList(s,sizes)), d->[s,d]));;\n",
    "od;\n",
    "Plot(l,rec(type:=\"scatter\",theme:=\"light1\",animationEnabled:=false,tool:=\"canvasjs\"));"
   ]
  },
  {
   "cell_type": "markdown",
   "metadata": {},
   "source": [
    "Let us customize this plot without colors."
   ]
  },
  {
   "cell_type": "code",
   "execution_count": 55,
   "metadata": {},
   "outputs": [
    {
     "data": {
      "application/javascript": [
       "( function ( element ) {\n",
       "if ( !window.JUPVIZLibs ) window.JUPVIZLibs = { };\n",
       "if ( !window.JUPVIZLibs[\"main\"] ) {\n",
       "window.createVisualization=function(element,data,callback){if(window.VisualizationTools[data.tool])window.VisualizationTools[data.tool](element,data,callback);else{window.VisualizationTools.html(element,{data:{html:'Error: No known visualization tool, \"'+data.tool+'.\"'}},callback)}};window.VisualizationTools={html:function(element,json,callback){var div=document.createElement(\"div\");element.appendChild(div);div.innerHTML=json.data.html;if(json.width)$(div).width(json.width);if(json.height)$(div).height(json.height);callback(element,div)}};window.resizeToShowContents=function(element){var maxima={right:0,bottom:0};$(element).find(\"*\").each(function(idx,elt){var $elt=$(elt);var right=$elt.position().left+$elt.outerWidth();var bottom=$elt.position().top+$elt.outerHeight();maxima={right:Math.max(right,maxima.right),bottom:Math.max(bottom,maxima.bottom)}});var $element=$(element);$element.width(maxima.right-$element.position().left);$element.height(maxima.bottom-$element.position().top)};\n",
       "    window.JUPVIZLibs[\"main\"] = 'loaded';\n",
       "}\n",
       "if ( !window.JUPVIZLibs[\"viz-tool-canvasjs\"] ) {\n",
       "window.requirejs.config({paths:{canvasjs:\"https://cdnjs.cloudflare.com/ajax/libs/canvasjs/1.7.0/canvasjs.min\"}});window.VisualizationTools.canvasjs=function(element,json,callback){require([\"canvasjs\"],function(canvasjs){new window.CanvasJS.Chart(element,json.data).render();window.resizeToShowContents(element);callback(element,element.childNodes[0])})};\n",
       "    window.JUPVIZLibs[\"viz-tool-canvasjs\"] = 'loaded';\n",
       "}\n",
       "window.createVisualization(element,{\"data\" : {\"data\" : [{\"type\" : \"scatter\",\"color\" : \"blue\",\"dataPoints\" : [{\"x\" : 18,\"y\" : 1},{\"x\" : 24,\"y\" : 1},{\"x\" : 27,\"y\" : 1},{\"x\" : 30,\"y\" : 1},{\"x\" : 33,\"y\" : 1},{\"x\" : 36,\"y\" : 1},{\"x\" : 38,\"y\" : 1},{\"x\" : 39,\"y\" : 1},{\"x\" : 42,\"y\" : 1},{\"x\" : 44,\"y\" : 1},{\"x\" : 45,\"y\" : 1},{\"x\" : 47,\"y\" : 1},{\"x\" : 48,\"y\" : 1},{\"x\" : 50,\"y\" : 1},{\"x\" : 51,\"y\" : 1},{\"x\" : 53,\"y\" : 1},{\"x\" : 54,\"y\" : 1},{\"x\" : 56,\"y\" : 1},{\"x\" : 57,\"y\" : 1},{\"x\" : 58,\"y\" : 1},{\"x\" : 59,\"y\" : 1},{\"x\" : 60,\"y\" : 1},{\"x\" : 60,\"y\" : 4},{\"x\" : 62,\"y\" : 1},{\"x\" : 63,\"y\" : 1},{\"x\" : 64,\"y\" : 1},{\"x\" : 65,\"y\" : 1},{\"x\" : 66,\"y\" : 1},{\"x\" : 66,\"y\" : 4},{\"x\" : 67,\"y\" : 1},{\"x\" : 68,\"y\" : 1},{\"x\" : 69,\"y\" : 1},{\"x\" : 69,\"y\" : 4},{\"x\" : 70,\"y\" : 1},{\"x\" : 71,\"y\" : 1},{\"x\" : 72,\"y\" : 1},{\"x\" : 72,\"y\" : 3},{\"x\" : 73,\"y\" : 1},{\"x\" : 74,\"y\" : 1},{\"x\" : 75,\"y\" : 1},{\"x\" : 75,\"y\" : 4},{\"x\" : 76,\"y\" : 1},{\"x\" : 77,\"y\" : 1},{\"x\" : 78,\"y\" : 1},{\"x\" : 78,\"y\" : 3},{\"x\" : 79,\"y\" : 1},{\"x\" : 80,\"y\" : 1},{\"x\" : 80,\"y\" : 4},{\"x\" : 81,\"y\" : 1},{\"x\" : 81,\"y\" : 3},{\"x\" : 82,\"y\" : 1},{\"x\" : 83,\"y\" : 1},{\"x\" : 84,\"y\" : 1},{\"x\" : 84,\"y\" : 3},{\"x\" : 85,\"y\" : 1},{\"x\" : 86,\"y\" : 1},{\"x\" : 86,\"y\" : 4},{\"x\" : 87,\"y\" : 1},{\"x\" : 87,\"y\" : 3},{\"x\" : 88,\"y\" : 1},{\"x\" : 89,\"y\" : 1},{\"x\" : 89,\"y\" : 4},{\"x\" : 90,\"y\" : 1},{\"x\" : 90,\"y\" : 2},{\"x\" : 91,\"y\" : 1},{\"x\" : 92,\"y\" : 1},{\"x\" : 92,\"y\" : 3},{\"x\" : 93,\"y\" : 1},{\"x\" : 93,\"y\" : 3},{\"x\" : 94,\"y\" : 1},{\"x\" : 95,\"y\" : 1},{\"x\" : 95,\"y\" : 4},{\"x\" : 96,\"y\" : 1},{\"x\" : 96,\"y\" : 2},{\"x\" : 97,\"y\" : 1},{\"x\" : 98,\"y\" : 1},{\"x\" : 98,\"y\" : 3},{\"x\" : 99,\"y\" : 1},{\"x\" : 99,\"y\" : 2},{\"x\" : 100,\"y\" : 1},{\"x\" : 100,\"y\" : 4}],\"markerType\" : \"circle\"}],\"height\" : 250,\"theme\" : \"light1\",\"animationEnabled\" : true,\"axisX\" : {\"interval\" : 5},\"axisY\" : {\"interval\" : 1}},\"tool\" : \"canvasjs\"}\n",
       ",function(element,visualization){\n",
       "});\n",
       "} )( element.get( 0 ) )"
      ]
     },
     "execution_count": 55,
     "metadata": {
      "application/javascript": ""
     },
     "output_type": "execute_result"
    }
   ],
   "source": [
    "dataSeries := JUPVIZMakePlotDataSeries(l);;\n",
    "c:=ConvertDataSeriesForTool.canvasjs([dataSeries]);;\n",
    "c.theme:=\"light1\";;\n",
    "c.data[1].type:=\"scatter\";;\n",
    "c.data[1].markerType:=\"circle\";;\n",
    "c.data[1].color:=\"blue\";;\n",
    "c.axisX:=rec(interval:=5);;\n",
    "c.axisY:=rec(interval:=1);;\n",
    "c.height:=250;;\n",
    "CreateVisualization(rec(tool := \"canvasjs\",data:=c));"
   ]
  },
  {
   "cell_type": "markdown",
   "metadata": {},
   "source": [
    "Let us see what are the \"deltas\" involved in our trading system."
   ]
  },
  {
   "cell_type": "code",
   "execution_count": 56,
   "metadata": {
    "scrolled": true
   },
   "outputs": [
    {
     "data": {
      "text/plain": [
       "[ 18, 60 ]"
      ]
     },
     "execution_count": 56,
     "metadata": {
      "text/plain": ""
     },
     "output_type": "execute_result"
    }
   ],
   "source": [
    "BettiElements(S);"
   ]
  },
  {
   "cell_type": "code",
   "execution_count": 57,
   "metadata": {
    "scrolled": true
   },
   "outputs": [
    {
     "data": {
      "text/plain": [
       "[ 1 ]"
      ]
     },
     "execution_count": 57,
     "metadata": {
      "text/plain": ""
     },
     "output_type": "execute_result"
    }
   ],
   "source": [
    "DeltaSet(LengthsOfFactorizationsIntegerWRTList(18,sizes));"
   ]
  },
  {
   "cell_type": "code",
   "execution_count": 58,
   "metadata": {},
   "outputs": [
    {
     "data": {
      "text/plain": [
       "[ 1, 4 ]"
      ]
     },
     "execution_count": 58,
     "metadata": {
      "text/plain": ""
     },
     "output_type": "execute_result"
    }
   ],
   "source": [
    "DeltaSet(LengthsOfFactorizationsIntegerWRTList(60,sizes));"
   ]
  },
  {
   "cell_type": "markdown",
   "metadata": {},
   "source": [
    "We have seen that there are two trades in the trading system of our numerical semigroup $\\langle 6,9,20\\rangle$ (two relations in a minimal presentation). It can be shown that the minimal number of trades is at least the number of generators (sizes of boxes) minus one, and the semigroups attaining this lower bound are known as complete intersections (precisely because its associated semigroup rings are complete intersections). "
   ]
  },
  {
   "cell_type": "code",
   "execution_count": 59,
   "metadata": {},
   "outputs": [
    {
     "data": {
      "text/plain": [
       "true"
      ]
     },
     "execution_count": 59,
     "metadata": {
      "text/plain": ""
     },
     "output_type": "execute_result"
    }
   ],
   "source": [
    "IsCompleteIntersection(S);"
   ]
  },
  {
   "cell_type": "markdown",
   "metadata": {},
   "source": [
    "It can be shown that a numerical semigroup is a complete intersection if either it is $\\mathbb{N}$ or it is a gluing of two complete intersection numerical semigroups. We say that a $S$ is a gluing of $S_1$ and $S_2$ if $S=a_1S_1+a_2S_2$, with $a_1$ an element in $S_2$ that is not a minimal generator and $a_2$ is an element of $S_1$ that is not a minimal generator. In our semigroup, $\\langle 6,9,20\\rangle=\\langle 6,9\\rangle + \\langle 20\\rangle=3\\langle 2,3\\rangle+ 20\\mathbb{N}$. We can get the possible list of decompositions in the following way."
   ]
  },
  {
   "cell_type": "code",
   "execution_count": 60,
   "metadata": {
    "scrolled": true
   },
   "outputs": [
    {
     "data": {
      "text/plain": [
       "[ [ [ 6, 9 ], [ 20 ] ], [ [ 6, 20 ], [ 9 ] ] ]"
      ]
     },
     "execution_count": 60,
     "metadata": {
      "text/plain": ""
     },
     "output_type": "execute_result"
    }
   ],
   "source": [
    "AsGluingOfNumericalSemigroups(S);"
   ]
  },
  {
   "cell_type": "code",
   "execution_count": 61,
   "metadata": {},
   "outputs": [
    {
     "data": {
      "image/svg+xml": [
       "<?xml version=\"1.0\" encoding=\"UTF-8\" standalone=\"no\"?>\n",
       "<!DOCTYPE svg PUBLIC \"-//W3C//DTD SVG 1.1//EN\"\n",
       " \"http://www.w3.org/Graphics/SVG/1.1/DTD/svg11.dtd\">\n",
       "<!-- Generated by graphviz version 2.40.1 (20161225.0304)\n",
       " -->\n",
       "<!-- Title: NSGraph Pages: 1 -->\n",
       "<svg width=\"476pt\" height=\"332pt\"\n",
       " viewBox=\"0.00 0.00 475.69 332.00\" xmlns=\"http://www.w3.org/2000/svg\" xmlns:xlink=\"http://www.w3.org/1999/xlink\">\n",
       "<g id=\"graph0\" class=\"graph\" transform=\"scale(1 1) rotate(0) translate(4 328)\">\n",
       "<title>NSGraph</title>\n",
       "<polygon fill=\"#ffffff\" stroke=\"transparent\" points=\"-4,4 -4,-328 471.6932,-328 471.6932,4 -4,4\"/>\n",
       "<!-- 0 -->\n",
       "<g id=\"node1\" class=\"node\">\n",
       "<title>0</title>\n",
       "<ellipse fill=\"#d3d3d3\" stroke=\"#000000\" cx=\"254.3466\" cy=\"-306\" rx=\"61.99\" ry=\"18\"/>\n",
       "<text text-anchor=\"middle\" x=\"254.3466\" y=\"-302.3\" font-family=\"Times,serif\" font-size=\"14.00\" fill=\"#000000\">〈 6, 9, 20 〉</text>\n",
       "</g>\n",
       "<!-- 1 -->\n",
       "<g id=\"node2\" class=\"node\">\n",
       "<title>1</title>\n",
       "<polygon fill=\"none\" stroke=\"#000000\" points=\"245.8466,-252 106.8466,-252 106.8466,-216 245.8466,-216 245.8466,-252\"/>\n",
       "<text text-anchor=\"middle\" x=\"176.3466\" y=\"-230.3\" font-family=\"Times,serif\" font-size=\"14.00\" fill=\"#000000\">〈 6, 9 〉 + 〈 20 〉</text>\n",
       "</g>\n",
       "<!-- 0&#45;&gt;1 -->\n",
       "<g id=\"edge1\" class=\"edge\">\n",
       "<title>0&#45;&gt;1</title>\n",
       "<path fill=\"none\" stroke=\"#000000\" d=\"M235.465,-288.5708C225.8143,-279.6625 213.9004,-268.6651 203.3023,-258.8822\"/>\n",
       "<polygon fill=\"#000000\" stroke=\"#000000\" points=\"205.591,-256.2316 195.8689,-252.0206 200.843,-261.3752 205.591,-256.2316\"/>\n",
       "</g>\n",
       "<!-- 7 -->\n",
       "<g id=\"node8\" class=\"node\">\n",
       "<title>7</title>\n",
       "<polygon fill=\"none\" stroke=\"#000000\" points=\"402.8466,-252 263.8466,-252 263.8466,-216 402.8466,-216 402.8466,-252\"/>\n",
       "<text text-anchor=\"middle\" x=\"333.3466\" y=\"-230.3\" font-family=\"Times,serif\" font-size=\"14.00\" fill=\"#000000\">〈 6, 20 〉 + 〈 9 〉</text>\n",
       "</g>\n",
       "<!-- 0&#45;&gt;7 -->\n",
       "<g id=\"edge7\" class=\"edge\">\n",
       "<title>0&#45;&gt;7</title>\n",
       "<path fill=\"none\" stroke=\"#000000\" d=\"M273.4703,-288.5708C283.2447,-279.6625 295.3113,-268.6651 306.0453,-258.8822\"/>\n",
       "<polygon fill=\"#000000\" stroke=\"#000000\" points=\"308.5407,-261.3435 313.574,-252.0206 303.8254,-256.1698 308.5407,-261.3435\"/>\n",
       "</g>\n",
       "<!-- 2 -->\n",
       "<g id=\"node3\" class=\"node\">\n",
       "<title>2</title>\n",
       "<ellipse fill=\"#d3d3d3\" stroke=\"#000000\" cx=\"85.3466\" cy=\"-162\" rx=\"48.1917\" ry=\"18\"/>\n",
       "<text text-anchor=\"middle\" x=\"85.3466\" y=\"-158.3\" font-family=\"Times,serif\" font-size=\"14.00\" fill=\"#000000\">〈 2, 3 〉</text>\n",
       "</g>\n",
       "<!-- 1&#45;&gt;2 -->\n",
       "<g id=\"edge2\" class=\"edge\">\n",
       "<title>1&#45;&gt;2</title>\n",
       "<path fill=\"none\" stroke=\"#000000\" d=\"M153.3835,-215.8314C141.4626,-206.3995 126.7806,-194.783 114.1104,-184.7582\"/>\n",
       "<polygon fill=\"#000000\" stroke=\"#000000\" points=\"116.1379,-181.8994 106.124,-178.4393 111.7945,-187.3889 116.1379,-181.8994\"/>\n",
       "</g>\n",
       "<!-- 3 -->\n",
       "<g id=\"node7\" class=\"node\">\n",
       "<title>3</title>\n",
       "<ellipse fill=\"#d3d3d3\" stroke=\"#000000\" cx=\"189.3466\" cy=\"-162\" rx=\"38.1938\" ry=\"18\"/>\n",
       "<text text-anchor=\"middle\" x=\"189.3466\" y=\"-158.3\" font-family=\"Times,serif\" font-size=\"14.00\" fill=\"#000000\">〈 1 〉</text>\n",
       "</g>\n",
       "<!-- 1&#45;&gt;3 -->\n",
       "<g id=\"edge3\" class=\"edge\">\n",
       "<title>1&#45;&gt;3</title>\n",
       "<path fill=\"none\" stroke=\"#000000\" d=\"M179.627,-215.8314C181.0174,-208.131 182.6707,-198.9743 184.2158,-190.4166\"/>\n",
       "<polygon fill=\"#000000\" stroke=\"#000000\" points=\"187.6894,-190.8761 186.022,-180.4133 180.8008,-189.6322 187.6894,-190.8761\"/>\n",
       "</g>\n",
       "<!-- 4 -->\n",
       "<g id=\"node4\" class=\"node\">\n",
       "<title>4</title>\n",
       "<polygon fill=\"none\" stroke=\"#000000\" points=\"144.3466,-108 26.3466,-108 26.3466,-72 144.3466,-72 144.3466,-108\"/>\n",
       "<text text-anchor=\"middle\" x=\"85.3466\" y=\"-86.3\" font-family=\"Times,serif\" font-size=\"14.00\" fill=\"#000000\">〈 2 〉 + 〈 3 〉</text>\n",
       "</g>\n",
       "<!-- 2&#45;&gt;4 -->\n",
       "<g id=\"edge4\" class=\"edge\">\n",
       "<title>2&#45;&gt;4</title>\n",
       "<path fill=\"none\" stroke=\"#000000\" d=\"M85.3466,-143.8314C85.3466,-136.131 85.3466,-126.9743 85.3466,-118.4166\"/>\n",
       "<polygon fill=\"#000000\" stroke=\"#000000\" points=\"88.8467,-118.4132 85.3466,-108.4133 81.8467,-118.4133 88.8467,-118.4132\"/>\n",
       "</g>\n",
       "<!-- 5 -->\n",
       "<g id=\"node5\" class=\"node\">\n",
       "<title>5</title>\n",
       "<ellipse fill=\"#d3d3d3\" stroke=\"#000000\" cx=\"38.3466\" cy=\"-18\" rx=\"38.1938\" ry=\"18\"/>\n",
       "<text text-anchor=\"middle\" x=\"38.3466\" y=\"-14.3\" font-family=\"Times,serif\" font-size=\"14.00\" fill=\"#000000\">〈 1 〉</text>\n",
       "</g>\n",
       "<!-- 4&#45;&gt;5 -->\n",
       "<g id=\"edge5\" class=\"edge\">\n",
       "<title>4&#45;&gt;5</title>\n",
       "<path fill=\"none\" stroke=\"#000000\" d=\"M73.4865,-71.8314C67.9636,-63.3707 61.2931,-53.1521 55.2544,-43.9014\"/>\n",
       "<polygon fill=\"#000000\" stroke=\"#000000\" points=\"58.1136,-41.8783 49.7165,-35.4177 52.2519,-45.7047 58.1136,-41.8783\"/>\n",
       "</g>\n",
       "<!-- 6 -->\n",
       "<g id=\"node6\" class=\"node\">\n",
       "<title>6</title>\n",
       "<ellipse fill=\"#d3d3d3\" stroke=\"#000000\" cx=\"133.3466\" cy=\"-18\" rx=\"38.1938\" ry=\"18\"/>\n",
       "<text text-anchor=\"middle\" x=\"133.3466\" y=\"-14.3\" font-family=\"Times,serif\" font-size=\"14.00\" fill=\"#000000\">〈 1 〉</text>\n",
       "</g>\n",
       "<!-- 4&#45;&gt;6 -->\n",
       "<g id=\"edge6\" class=\"edge\">\n",
       "<title>4&#45;&gt;6</title>\n",
       "<path fill=\"none\" stroke=\"#000000\" d=\"M97.459,-71.8314C103.0995,-63.3707 109.9119,-53.1521 116.079,-43.9014\"/>\n",
       "<polygon fill=\"#000000\" stroke=\"#000000\" points=\"119.0999,-45.6797 121.7348,-35.4177 113.2756,-41.7968 119.0999,-45.6797\"/>\n",
       "</g>\n",
       "<!-- 8 -->\n",
       "<g id=\"node9\" class=\"node\">\n",
       "<title>8</title>\n",
       "<ellipse fill=\"#d3d3d3\" stroke=\"#000000\" cx=\"321.3466\" cy=\"-162\" rx=\"51.9908\" ry=\"18\"/>\n",
       "<text text-anchor=\"middle\" x=\"321.3466\" y=\"-158.3\" font-family=\"Times,serif\" font-size=\"14.00\" fill=\"#000000\">〈 3, 10 〉</text>\n",
       "</g>\n",
       "<!-- 7&#45;&gt;8 -->\n",
       "<g id=\"edge8\" class=\"edge\">\n",
       "<title>7&#45;&gt;8</title>\n",
       "<path fill=\"none\" stroke=\"#000000\" d=\"M330.3185,-215.8314C329.0351,-208.131 327.509,-198.9743 326.0827,-190.4166\"/>\n",
       "<polygon fill=\"#000000\" stroke=\"#000000\" points=\"329.5119,-189.7018 324.4155,-180.4133 322.6072,-190.8526 329.5119,-189.7018\"/>\n",
       "</g>\n",
       "<!-- 9 -->\n",
       "<g id=\"node13\" class=\"node\">\n",
       "<title>9</title>\n",
       "<ellipse fill=\"#d3d3d3\" stroke=\"#000000\" cx=\"429.3466\" cy=\"-162\" rx=\"38.1938\" ry=\"18\"/>\n",
       "<text text-anchor=\"middle\" x=\"429.3466\" y=\"-158.3\" font-family=\"Times,serif\" font-size=\"14.00\" fill=\"#000000\">〈 1 〉</text>\n",
       "</g>\n",
       "<!-- 7&#45;&gt;9 -->\n",
       "<g id=\"edge9\" class=\"edge\">\n",
       "<title>7&#45;&gt;9</title>\n",
       "<path fill=\"none\" stroke=\"#000000\" d=\"M357.5715,-215.8314C370.635,-206.0337 386.8418,-193.8786 400.5478,-183.5991\"/>\n",
       "<polygon fill=\"#000000\" stroke=\"#000000\" points=\"402.808,-186.279 408.708,-177.479 398.6079,-180.679 402.808,-186.279\"/>\n",
       "</g>\n",
       "<!-- 10 -->\n",
       "<g id=\"node10\" class=\"node\">\n",
       "<title>10</title>\n",
       "<polygon fill=\"none\" stroke=\"#000000\" points=\"383.8466,-108 258.8466,-108 258.8466,-72 383.8466,-72 383.8466,-108\"/>\n",
       "<text text-anchor=\"middle\" x=\"321.3466\" y=\"-86.3\" font-family=\"Times,serif\" font-size=\"14.00\" fill=\"#000000\">〈 3 〉 + 〈 10 〉</text>\n",
       "</g>\n",
       "<!-- 8&#45;&gt;10 -->\n",
       "<g id=\"edge10\" class=\"edge\">\n",
       "<title>8&#45;&gt;10</title>\n",
       "<path fill=\"none\" stroke=\"#000000\" d=\"M321.3466,-143.8314C321.3466,-136.131 321.3466,-126.9743 321.3466,-118.4166\"/>\n",
       "<polygon fill=\"#000000\" stroke=\"#000000\" points=\"324.8467,-118.4132 321.3466,-108.4133 317.8467,-118.4133 324.8467,-118.4132\"/>\n",
       "</g>\n",
       "<!-- 11 -->\n",
       "<g id=\"node11\" class=\"node\">\n",
       "<title>11</title>\n",
       "<ellipse fill=\"#d3d3d3\" stroke=\"#000000\" cx=\"275.3466\" cy=\"-18\" rx=\"38.1938\" ry=\"18\"/>\n",
       "<text text-anchor=\"middle\" x=\"275.3466\" y=\"-14.3\" font-family=\"Times,serif\" font-size=\"14.00\" fill=\"#000000\">〈 1 〉</text>\n",
       "</g>\n",
       "<!-- 10&#45;&gt;11 -->\n",
       "<g id=\"edge11\" class=\"edge\">\n",
       "<title>10&#45;&gt;11</title>\n",
       "<path fill=\"none\" stroke=\"#000000\" d=\"M309.7389,-71.8314C304.3334,-63.3707 297.8049,-53.1521 291.8947,-43.9014\"/>\n",
       "<polygon fill=\"#000000\" stroke=\"#000000\" points=\"294.808,-41.9603 286.4746,-35.4177 288.9091,-45.7291 294.808,-41.9603\"/>\n",
       "</g>\n",
       "<!-- 12 -->\n",
       "<g id=\"node12\" class=\"node\">\n",
       "<title>12</title>\n",
       "<ellipse fill=\"#d3d3d3\" stroke=\"#000000\" cx=\"370.3466\" cy=\"-18\" rx=\"38.1938\" ry=\"18\"/>\n",
       "<text text-anchor=\"middle\" x=\"370.3466\" y=\"-14.3\" font-family=\"Times,serif\" font-size=\"14.00\" fill=\"#000000\">〈 1 〉</text>\n",
       "</g>\n",
       "<!-- 10&#45;&gt;12 -->\n",
       "<g id=\"edge12\" class=\"edge\">\n",
       "<title>10&#45;&gt;12</title>\n",
       "<path fill=\"none\" stroke=\"#000000\" d=\"M333.7114,-71.8314C339.4693,-63.3707 346.4237,-53.1521 352.7193,-43.9014\"/>\n",
       "<polygon fill=\"#000000\" stroke=\"#000000\" points=\"355.7601,-45.6541 358.4929,-35.4177 349.9731,-41.7157 355.7601,-45.6541\"/>\n",
       "</g>\n",
       "</g>\n",
       "</svg>\n"
      ]
     },
     "execution_count": 61,
     "metadata": {
      "image/svg+xml": {
       "height": 500,
       "width": 500
      }
     },
     "output_type": "execute_result"
    }
   ],
   "source": [
    "JupyterSplashDot(DotTreeOfGluingsOfNumericalSemigroup(S));"
   ]
  },
  {
   "cell_type": "markdown",
   "metadata": {},
   "source": [
    "Complete intersection numerical semigroups are symmetric, meaning that for any integer $z$, either $z$ is in the semigroup of $F-z$ is in the semigroup, where $F$ is the Frobenius number of the semigroup (the largest amount of integer that is not representable with the given set of sizes of boxes). Recall that the Frobenius number of $S$ is 43."
   ]
  },
  {
   "cell_type": "code",
   "execution_count": 62,
   "metadata": {},
   "outputs": [
    {
     "data": {
      "text/plain": [
       "43"
      ]
     },
     "execution_count": 62,
     "metadata": {
      "text/plain": ""
     },
     "output_type": "execute_result"
    }
   ],
   "source": [
    "FrobeniusNumber(S);"
   ]
  },
  {
   "cell_type": "markdown",
   "metadata": {},
   "source": [
    "Clearly, every integer greater than $43$ is in $S$, and if $z$ is negative, then $F-z$ is in $S$. So in order to check symmetry in $S$ we only have to deal with the interval $\\{1,\\ldots,42\\}$.  "
   ]
  },
  {
   "cell_type": "code",
   "execution_count": 63,
   "metadata": {},
   "outputs": [
    {
     "data": {
      "text/plain": [
       "true"
      ]
     },
     "execution_count": 63,
     "metadata": {
      "text/plain": ""
     },
     "output_type": "execute_result"
    }
   ],
   "source": [
    "ForAll([1..42], x-> (x in S) or (43-x in S));"
   ]
  },
  {
   "cell_type": "code",
   "execution_count": 64,
   "metadata": {},
   "outputs": [
    {
     "data": {
      "text/plain": [
       "true"
      ]
     },
     "execution_count": 64,
     "metadata": {
      "text/plain": ""
     },
     "output_type": "execute_result"
    }
   ],
   "source": [
    "IsSymmetric(S);"
   ]
  },
  {
   "cell_type": "markdown",
   "metadata": {},
   "source": [
    "Symmetry implies that the Frobenius number must be odd, and that there are as many gaps as non gaps below the Frobenius number. In a numerical semigroup, the genus (the number of gaps) is always at least one half of the Frobenius number of the semigroup plus one. Symmetric numerical semigroups are precisely those semigroups attaining this bound, or equivalently, they are maximal (with respect to set inclusion) in the set of all numerical semigroups having the same (odd) Frobenius number. "
   ]
  },
  {
   "cell_type": "code",
   "execution_count": 65,
   "metadata": {},
   "outputs": [
    {
     "data": {
      "text/plain": [
       "22"
      ]
     },
     "execution_count": 65,
     "metadata": {
      "text/plain": ""
     },
     "output_type": "execute_result"
    }
   ],
   "source": [
    "Genus(S);"
   ]
  },
  {
   "cell_type": "code",
   "execution_count": 66,
   "metadata": {},
   "outputs": [
    {
     "data": {
      "text/plain": [
       "22"
      ]
     },
     "execution_count": 66,
     "metadata": {
      "text/plain": ""
     },
     "output_type": "execute_result"
    }
   ],
   "source": [
    "(FrobeniusNumber(S)+1)/2;"
   ]
  },
  {
   "cell_type": "markdown",
   "metadata": {},
   "source": [
    "We can plot the small elements and gaps of our monoid. Gaps will be in red (thanks to [@nathancarter](https://nathancarter.github.io/) for showing how to choose colors for vertices)."
   ]
  },
  {
   "cell_type": "code",
   "execution_count": 71,
   "metadata": {
    "scrolled": true
   },
   "outputs": [
    {
     "data": {
      "application/javascript": [
       "( function ( element ) {\n",
       "if ( !window.JUPVIZLibs ) window.JUPVIZLibs = { };\n",
       "if ( !window.JUPVIZLibs[\"main\"] ) {\n",
       "window.createVisualization=function(element,data,callback){if(window.VisualizationTools[data.tool])window.VisualizationTools[data.tool](element,data,callback);else{window.VisualizationTools.html(element,{data:{html:'Error: No known visualization tool, \"'+data.tool+'.\"'}},callback)}};window.VisualizationTools={html:function(element,json,callback){var div=document.createElement(\"div\");element.appendChild(div);div.innerHTML=json.data.html;if(json.width)$(div).width(json.width);if(json.height)$(div).height(json.height);callback(element,div)}};window.resizeToShowContents=function(element){var maxima={right:0,bottom:0};$(element).find(\"*\").each(function(idx,elt){var $elt=$(elt);var right=$elt.position().left+$elt.outerWidth();var bottom=$elt.position().top+$elt.outerHeight();maxima={right:Math.max(right,maxima.right),bottom:Math.max(bottom,maxima.bottom)}});var $element=$(element);$element.width(maxima.right-$element.position().left);$element.height(maxima.bottom-$element.position().top)};\n",
       "    window.JUPVIZLibs[\"main\"] = 'loaded';\n",
       "}\n",
       "if ( !window.JUPVIZLibs[\"viz-tool-cytoscape\"] ) {\n",
       "window.requirejs.config({paths:{cytoscape:\"https://cdnjs.cloudflare.com/ajax/libs/cytoscape/3.2.16/cytoscape.min\"}});window.VisualizationTools.cytoscape=function(element,json,callback){require([\"cytoscape\"],function(cytoscape){if(json.width)$(element).width(json.width);if(json.height)$(element).height(json.height);json.data.container=element;callback(element,cytoscape(json.data))})};\n",
       "    window.JUPVIZLibs[\"viz-tool-cytoscape\"] = 'loaded';\n",
       "}\n",
       "window.createVisualization(element,{\"data\" : {\"elements\" : [{\"data\" : {\"id\" : \"0\"},\"position\" : {\"x\" : 0,\"y\" : 0}},{\"data\" : {\"id\" : \"1\"},\"position\" : {\"x\" : 50,\"y\" : 0}},{\"data\" : {\"id\" : \"2\"},\"position\" : {\"x\" : 100,\"y\" : 0}},{\"data\" : {\"id\" : \"3\"},\"position\" : {\"x\" : 150,\"y\" : 0}},{\"data\" : {\"id\" : \"4\"},\"position\" : {\"x\" : 200,\"y\" : 0}},{\"data\" : {\"id\" : \"5\"},\"position\" : {\"x\" : 250,\"y\" : 0}},{\"data\" : {\"id\" : \"6\"},\"position\" : {\"x\" : 300,\"y\" : 0}},{\"data\" : {\"id\" : \"7\"},\"position\" : {\"x\" : 350,\"y\" : 0}},{\"data\" : {\"id\" : \"8\"},\"position\" : {\"x\" : 400,\"y\" : 0}},{\"data\" : {\"id\" : \"9\"},\"position\" : {\"x\" : 450,\"y\" : 0}},{\"data\" : {\"id\" : \"10\"},\"position\" : {\"x\" : 500,\"y\" : 0}},{\"data\" : {\"id\" : \"11\"},\"position\" : {\"x\" : 550,\"y\" : 0}},{\"data\" : {\"id\" : \"12\"},\"position\" : {\"x\" : 600,\"y\" : 0}},{\"data\" : {\"id\" : \"13\"},\"position\" : {\"x\" : 650,\"y\" : 0}},{\"data\" : {\"id\" : \"14\"},\"position\" : {\"x\" : 700,\"y\" : 0}},{\"data\" : {\"id\" : \"15\"},\"position\" : {\"x\" : 750,\"y\" : 0}},{\"data\" : {\"id\" : \"16\"},\"position\" : {\"x\" : 800,\"y\" : 0}},{\"data\" : {\"id\" : \"17\"},\"position\" : {\"x\" : 850,\"y\" : 0}},{\"data\" : {\"id\" : \"18\"},\"position\" : {\"x\" : 900,\"y\" : 0}},{\"data\" : {\"id\" : \"19\"},\"position\" : {\"x\" : 950,\"y\" : 0}},{\"data\" : {\"id\" : \"20\"},\"position\" : {\"x\" : 1000,\"y\" : 0}},{\"data\" : {\"id\" : \"21\"},\"position\" : {\"x\" : 1050,\"y\" : 0}},{\"data\" : {\"id\" : \"22\"},\"position\" : {\"x\" : 1100,\"y\" : 0}},{\"data\" : {\"id\" : \"23\"},\"position\" : {\"x\" : 1150,\"y\" : 0}},{\"data\" : {\"id\" : \"24\"},\"position\" : {\"x\" : 1200,\"y\" : 0}},{\"data\" : {\"id\" : \"25\"},\"position\" : {\"x\" : 1250,\"y\" : 0}},{\"data\" : {\"id\" : \"26\"},\"position\" : {\"x\" : 1300,\"y\" : 0}},{\"data\" : {\"id\" : \"27\"},\"position\" : {\"x\" : 1350,\"y\" : 0}},{\"data\" : {\"id\" : \"28\"},\"position\" : {\"x\" : 1400,\"y\" : 0}},{\"data\" : {\"id\" : \"29\"},\"position\" : {\"x\" : 1450,\"y\" : 0}},{\"data\" : {\"id\" : \"30\"},\"position\" : {\"x\" : 1500,\"y\" : 0}},{\"data\" : {\"id\" : \"31\"},\"position\" : {\"x\" : 1550,\"y\" : 0}},{\"data\" : {\"id\" : \"32\"},\"position\" : {\"x\" : 1600,\"y\" : 0}},{\"data\" : {\"id\" : \"33\"},\"position\" : {\"x\" : 1650,\"y\" : 0}},{\"data\" : {\"id\" : \"34\"},\"position\" : {\"x\" : 1700,\"y\" : 0}},{\"data\" : {\"id\" : \"35\"},\"position\" : {\"x\" : 1750,\"y\" : 0}},{\"data\" : {\"id\" : \"36\"},\"position\" : {\"x\" : 1800,\"y\" : 0}},{\"data\" : {\"id\" : \"37\"},\"position\" : {\"x\" : 1850,\"y\" : 0}},{\"data\" : {\"id\" : \"38\"},\"position\" : {\"x\" : 1900,\"y\" : 0}},{\"data\" : {\"id\" : \"39\"},\"position\" : {\"x\" : 1950,\"y\" : 0}},{\"data\" : {\"id\" : \"40\"},\"position\" : {\"x\" : 2000,\"y\" : 0}},{\"data\" : {\"id\" : \"41\"},\"position\" : {\"x\" : 2050,\"y\" : 0}},{\"data\" : {\"id\" : \"42\"},\"position\" : {\"x\" : 2100,\"y\" : 0}},{\"data\" : {\"id\" : \"43\"},\"position\" : {\"x\" : 2150,\"y\" : 0}}],\"layout\" : {\"name\" : \"preset\"},\"style\" : [{\"style\" : {\"content\" : \"data(id)\"},\"selector\" : \"node\"},{\"style\" : {\"backgroundColor\" : \"red\"},\"selector\" : \"#1\"},{\"style\" : {\"backgroundColor\" : \"red\"},\"selector\" : \"#2\"},{\"style\" : {\"backgroundColor\" : \"red\"},\"selector\" : \"#3\"},{\"style\" : {\"backgroundColor\" : \"red\"},\"selector\" : \"#4\"},{\"style\" : {\"backgroundColor\" : \"red\"},\"selector\" : \"#5\"},{\"style\" : {\"backgroundColor\" : \"red\"},\"selector\" : \"#7\"},{\"style\" : {\"backgroundColor\" : \"red\"},\"selector\" : \"#8\"},{\"style\" : {\"backgroundColor\" : \"red\"},\"selector\" : \"#10\"},{\"style\" : {\"backgroundColor\" : \"red\"},\"selector\" : \"#11\"},{\"style\" : {\"backgroundColor\" : \"red\"},\"selector\" : \"#13\"},{\"style\" : {\"backgroundColor\" : \"red\"},\"selector\" : \"#14\"},{\"style\" : {\"backgroundColor\" : \"red\"},\"selector\" : \"#16\"},{\"style\" : {\"backgroundColor\" : \"red\"},\"selector\" : \"#17\"},{\"style\" : {\"backgroundColor\" : \"red\"},\"selector\" : \"#19\"},{\"style\" : {\"backgroundColor\" : \"red\"},\"selector\" : \"#22\"},{\"style\" : {\"backgroundColor\" : \"red\"},\"selector\" : \"#23\"},{\"style\" : {\"backgroundColor\" : \"red\"},\"selector\" : \"#25\"},{\"style\" : {\"backgroundColor\" : \"red\"},\"selector\" : \"#28\"},{\"style\" : {\"backgroundColor\" : \"red\"},\"selector\" : \"#31\"},{\"style\" : {\"backgroundColor\" : \"red\"},\"selector\" : \"#34\"},{\"style\" : {\"backgroundColor\" : \"red\"},\"selector\" : \"#37\"},{\"style\" : {\"backgroundColor\" : \"red\"},\"selector\" : \"#43\"}]},\"height\" : 100,\"tool\" : \"cytoscape\"}\n",
       ",function(element,visualization){\n",
       "});\n",
       "} )( element.get( 0 ) )"
      ]
     },
     "execution_count": 71,
     "metadata": {
      "application/javascript": ""
     },
     "output_type": "execute_result"
    }
   ],
   "source": [
    "ns:=[];;\n",
    "for i in [0..43] do\n",
    "    Add(ns,rec( data := rec( id := String(i) ), position:=rec(x:=50*i,y:=0) ));\n",
    "od;\n",
    "st:=[rec(selector := \"node\", style := rec( content := \"data(id)\" ))];;\n",
    "for i in Intersection(Gaps(S),[0..43]) do\n",
    "    Add(st, rec(selector := Concatenation(\"#\",String(i)), style := rec( backgroundColor := \"red\" ))); \n",
    "od;\n",
    "\n",
    "CreateVisualization( rec(\n",
    "    tool := \"cytoscape\",\n",
    "    height := 100,\n",
    "    data := rec(elements := ns,layout := rec( name := \"preset\" ),style := st)\n",
    "    ) \n",
    ");"
   ]
  },
  {
   "cell_type": "markdown",
   "metadata": {},
   "source": [
    "Symmetry can also be characterized in terms of the Apéry sets of the numerical semigroup. For a given nonzero element $n$ of $S$, the Apéry set of $n$ in $S$ is defined as the set $\\{s\\in S \\mid s-n\\notin S\\}$. \n",
    "\n",
    "Every numerical semigroup defines an orden over the integers $a\\le_S b$ if $b-a\\in S$. It can be shown that a numerical semigroup $S$ is symmetric if and only if there is a maximum in the Apéry set of a (any) nonzero element with respect to $\\le_S$. "
   ]
  },
  {
   "cell_type": "code",
   "execution_count": 72,
   "metadata": {},
   "outputs": [
    {
     "data": {
      "image/svg+xml": [
       "<?xml version=\"1.0\" encoding=\"UTF-8\" standalone=\"no\"?>\n",
       "<!DOCTYPE svg PUBLIC \"-//W3C//DTD SVG 1.1//EN\"\n",
       " \"http://www.w3.org/Graphics/SVG/1.1/DTD/svg11.dtd\">\n",
       "<!-- Generated by graphviz version 2.40.1 (20161225.0304)\n",
       " -->\n",
       "<!-- Title: NSGraph Pages: 1 -->\n",
       "<svg width=\"134pt\" height=\"260pt\"\n",
       " viewBox=\"0.00 0.00 134.00 260.00\" xmlns=\"http://www.w3.org/2000/svg\" xmlns:xlink=\"http://www.w3.org/1999/xlink\">\n",
       "<g id=\"graph0\" class=\"graph\" transform=\"scale(1 1) rotate(0) translate(4 256)\">\n",
       "<title>NSGraph</title>\n",
       "<polygon fill=\"#ffffff\" stroke=\"transparent\" points=\"-4,4 -4,-256 130,-256 130,4 -4,4\"/>\n",
       "<!-- 1 -->\n",
       "<g id=\"node1\" class=\"node\">\n",
       "<title>1</title>\n",
       "<ellipse fill=\"none\" stroke=\"#000000\" cx=\"63\" cy=\"-18\" rx=\"27\" ry=\"18\"/>\n",
       "<text text-anchor=\"middle\" x=\"63\" y=\"-14.3\" font-family=\"Times,serif\" font-size=\"14.00\" fill=\"#000000\">0</text>\n",
       "</g>\n",
       "<!-- 2 -->\n",
       "<g id=\"node2\" class=\"node\">\n",
       "<title>2</title>\n",
       "<ellipse fill=\"none\" stroke=\"#000000\" cx=\"27\" cy=\"-90\" rx=\"27\" ry=\"18\"/>\n",
       "<text text-anchor=\"middle\" x=\"27\" y=\"-86.3\" font-family=\"Times,serif\" font-size=\"14.00\" fill=\"#000000\">9</text>\n",
       "</g>\n",
       "<!-- 2&#45;&gt;1 -->\n",
       "<g id=\"edge1\" class=\"edge\">\n",
       "<title>2&#45;&gt;1</title>\n",
       "<path fill=\"none\" stroke=\"#000000\" d=\"M40.223,-63.554C44.9417,-54.1166 50.1326,-43.7348 54.3657,-35.2687\"/>\n",
       "<polygon fill=\"#000000\" stroke=\"#000000\" points=\"37.0563,-62.0613 35.7146,-72.5708 43.3173,-65.1918 37.0563,-62.0613\"/>\n",
       "</g>\n",
       "<!-- 3 -->\n",
       "<g id=\"node3\" class=\"node\">\n",
       "<title>3</title>\n",
       "<ellipse fill=\"none\" stroke=\"#000000\" cx=\"99\" cy=\"-90\" rx=\"27\" ry=\"18\"/>\n",
       "<text text-anchor=\"middle\" x=\"99\" y=\"-86.3\" font-family=\"Times,serif\" font-size=\"14.00\" fill=\"#000000\">20</text>\n",
       "</g>\n",
       "<!-- 3&#45;&gt;1 -->\n",
       "<g id=\"edge2\" class=\"edge\">\n",
       "<title>3&#45;&gt;1</title>\n",
       "<path fill=\"none\" stroke=\"#000000\" d=\"M85.777,-63.554C81.0583,-54.1166 75.8674,-43.7348 71.6343,-35.2687\"/>\n",
       "<polygon fill=\"#000000\" stroke=\"#000000\" points=\"82.6827,-65.1918 90.2854,-72.5708 88.9437,-62.0613 82.6827,-65.1918\"/>\n",
       "</g>\n",
       "<!-- 4 -->\n",
       "<g id=\"node4\" class=\"node\">\n",
       "<title>4</title>\n",
       "<ellipse fill=\"none\" stroke=\"#000000\" cx=\"27\" cy=\"-162\" rx=\"27\" ry=\"18\"/>\n",
       "<text text-anchor=\"middle\" x=\"27\" y=\"-158.3\" font-family=\"Times,serif\" font-size=\"14.00\" fill=\"#000000\">29</text>\n",
       "</g>\n",
       "<!-- 4&#45;&gt;2 -->\n",
       "<g id=\"edge3\" class=\"edge\">\n",
       "<title>4&#45;&gt;2</title>\n",
       "<path fill=\"none\" stroke=\"#000000\" d=\"M27,-133.5726C27,-125.1084 27,-116.0593 27,-108.4133\"/>\n",
       "<polygon fill=\"#000000\" stroke=\"#000000\" points=\"23.5001,-133.8313 27,-143.8314 30.5001,-133.8314 23.5001,-133.8313\"/>\n",
       "</g>\n",
       "<!-- 4&#45;&gt;3 -->\n",
       "<g id=\"edge4\" class=\"edge\">\n",
       "<title>4&#45;&gt;3</title>\n",
       "<path fill=\"none\" stroke=\"#000000\" d=\"M49.5883,-139.4117C60.7123,-128.2877 73.8297,-115.1703 83.7527,-105.2473\"/>\n",
       "<polygon fill=\"#000000\" stroke=\"#000000\" points=\"46.8656,-137.1847 42.2693,-146.7307 51.8153,-142.1344 46.8656,-137.1847\"/>\n",
       "</g>\n",
       "<!-- 5 -->\n",
       "<g id=\"node5\" class=\"node\">\n",
       "<title>5</title>\n",
       "<ellipse fill=\"none\" stroke=\"#000000\" cx=\"99\" cy=\"-162\" rx=\"27\" ry=\"18\"/>\n",
       "<text text-anchor=\"middle\" x=\"99\" y=\"-158.3\" font-family=\"Times,serif\" font-size=\"14.00\" fill=\"#000000\">40</text>\n",
       "</g>\n",
       "<!-- 5&#45;&gt;3 -->\n",
       "<g id=\"edge5\" class=\"edge\">\n",
       "<title>5&#45;&gt;3</title>\n",
       "<path fill=\"none\" stroke=\"#000000\" d=\"M99,-133.5726C99,-125.1084 99,-116.0593 99,-108.4133\"/>\n",
       "<polygon fill=\"#000000\" stroke=\"#000000\" points=\"95.5001,-133.8313 99,-143.8314 102.5001,-133.8314 95.5001,-133.8313\"/>\n",
       "</g>\n",
       "<!-- 6 -->\n",
       "<g id=\"node6\" class=\"node\">\n",
       "<title>6</title>\n",
       "<ellipse fill=\"none\" stroke=\"#000000\" cx=\"63\" cy=\"-234\" rx=\"27\" ry=\"18\"/>\n",
       "<text text-anchor=\"middle\" x=\"63\" y=\"-230.3\" font-family=\"Times,serif\" font-size=\"14.00\" fill=\"#000000\">49</text>\n",
       "</g>\n",
       "<!-- 6&#45;&gt;4 -->\n",
       "<g id=\"edge6\" class=\"edge\">\n",
       "<title>6&#45;&gt;4</title>\n",
       "<path fill=\"none\" stroke=\"#000000\" d=\"M49.777,-207.554C45.0583,-198.1166 39.8674,-187.7348 35.6343,-179.2687\"/>\n",
       "<polygon fill=\"#000000\" stroke=\"#000000\" points=\"46.6827,-209.1918 54.2854,-216.5708 52.9437,-206.0613 46.6827,-209.1918\"/>\n",
       "</g>\n",
       "<!-- 6&#45;&gt;5 -->\n",
       "<g id=\"edge7\" class=\"edge\">\n",
       "<title>6&#45;&gt;5</title>\n",
       "<path fill=\"none\" stroke=\"#000000\" d=\"M76.223,-207.554C80.9417,-198.1166 86.1326,-187.7348 90.3657,-179.2687\"/>\n",
       "<polygon fill=\"#000000\" stroke=\"#000000\" points=\"73.0563,-206.0613 71.7146,-216.5708 79.3173,-209.1918 73.0563,-206.0613\"/>\n",
       "</g>\n",
       "</g>\n",
       "</svg>\n"
      ]
     },
     "execution_count": 72,
     "metadata": {
      "image/svg+xml": {
       "height": 500,
       "width": 500
      }
     },
     "output_type": "execute_result"
    }
   ],
   "source": [
    "JupyterSplashDot(DotBinaryRelation(HasseDiagramOfAperyListOfNumericalSemigroup(S)));"
   ]
  },
  {
   "cell_type": "markdown",
   "metadata": {},
   "source": [
    "When not specified, the Apéry set is computed with respect to the multiplicity, the least positive integer in the semigroup (in our case six). The maximum in this case is 49. In general, for a numerical semigroup $T$ the greatest element (which is then a maximal element with respect to $\\le_T$, though not necessarily a maximum) in the Apéry set of $n\\in T\\setminus\\{0\\}$ is the Frobenius number of $T$ plus $n$. In our example, 49=43+6."
   ]
  },
  {
   "cell_type": "markdown",
   "metadata": {},
   "source": [
    "Another characterization of symmetric numerical semigroups is that they are irreducible numerical semigroups with odd Frobenius number. A numerical semigroup is said to be irreducible if it cannot be expressed as the intersection of two numerical semigroups properly containing it."
   ]
  },
  {
   "cell_type": "code",
   "execution_count": 73,
   "metadata": {},
   "outputs": [
    {
     "data": {
      "text/plain": [
       "true"
      ]
     },
     "execution_count": 73,
     "metadata": {
      "text/plain": ""
     },
     "output_type": "execute_result"
    }
   ],
   "source": [
    "IsIrreducible(S);"
   ]
  },
  {
   "cell_type": "markdown",
   "metadata": {},
   "source": [
    "Indeed, the proportion of complete intersections compared with irreducibles is relatively small."
   ]
  },
  {
   "cell_type": "code",
   "execution_count": 74,
   "metadata": {},
   "outputs": [
    {
     "data": {
      "text/plain": [
       "31"
      ]
     },
     "execution_count": 74,
     "metadata": {
      "text/plain": ""
     },
     "output_type": "execute_result"
    }
   ],
   "source": [
    "Length(CompleteIntersectionNumericalSemigroupsWithFrobeniusNumber(43));"
   ]
  },
  {
   "cell_type": "code",
   "execution_count": 75,
   "metadata": {},
   "outputs": [
    {
     "data": {
      "text/plain": [
       "546"
      ]
     },
     "execution_count": 75,
     "metadata": {
      "text/plain": ""
     },
     "output_type": "execute_result"
    }
   ],
   "source": [
    "Length(IrreducibleNumericalSemigroupsWithFrobeniusNumber(43));"
   ]
  },
  {
   "cell_type": "markdown",
   "metadata": {},
   "source": [
    "We can plot the elements and gaps of our monoid modulo six (the multiplicity)."
   ]
  },
  {
   "cell_type": "code",
   "execution_count": 82,
   "metadata": {},
   "outputs": [
    {
     "data": {
      "application/javascript": [
       "( function ( element ) {\n",
       "if ( !window.JUPVIZLibs ) window.JUPVIZLibs = { };\n",
       "if ( !window.JUPVIZLibs[\"main\"] ) {\n",
       "window.createVisualization=function(element,data,callback){if(window.VisualizationTools[data.tool])window.VisualizationTools[data.tool](element,data,callback);else{window.VisualizationTools.html(element,{data:{html:'Error: No known visualization tool, \"'+data.tool+'.\"'}},callback)}};window.VisualizationTools={html:function(element,json,callback){var div=document.createElement(\"div\");element.appendChild(div);div.innerHTML=json.data.html;if(json.width)$(div).width(json.width);if(json.height)$(div).height(json.height);callback(element,div)}};window.resizeToShowContents=function(element){var maxima={right:0,bottom:0};$(element).find(\"*\").each(function(idx,elt){var $elt=$(elt);var right=$elt.position().left+$elt.outerWidth();var bottom=$elt.position().top+$elt.outerHeight();maxima={right:Math.max(right,maxima.right),bottom:Math.max(bottom,maxima.bottom)}});var $element=$(element);$element.width(maxima.right-$element.position().left);$element.height(maxima.bottom-$element.position().top)};\n",
       "    window.JUPVIZLibs[\"main\"] = 'loaded';\n",
       "}\n",
       "if ( !window.JUPVIZLibs[\"viz-tool-cytoscape\"] ) {\n",
       "window.requirejs.config({paths:{cytoscape:\"https://cdnjs.cloudflare.com/ajax/libs/cytoscape/3.2.16/cytoscape.min\"}});window.VisualizationTools.cytoscape=function(element,json,callback){require([\"cytoscape\"],function(cytoscape){if(json.width)$(element).width(json.width);if(json.height)$(element).height(json.height);json.data.container=element;callback(element,cytoscape(json.data))})};\n",
       "    window.JUPVIZLibs[\"viz-tool-cytoscape\"] = 'loaded';\n",
       "}\n",
       "window.createVisualization(element,{\"data\" : {\"elements\" : [{\"data\" : {\"id\" : \"0\"},\"position\" : {\"x\" : 0,\"y\" : 0}},{\"data\" : {\"id\" : \"1\"},\"position\" : {\"x\" : 50,\"y\" : 0}},{\"data\" : {\"id\" : \"2\"},\"position\" : {\"x\" : 100,\"y\" : 0}},{\"data\" : {\"id\" : \"3\"},\"position\" : {\"x\" : 150,\"y\" : 0}},{\"data\" : {\"id\" : \"4\"},\"position\" : {\"x\" : 200,\"y\" : 0}},{\"data\" : {\"id\" : \"5\"},\"position\" : {\"x\" : 250,\"y\" : 0}},{\"data\" : {\"id\" : \"6\"},\"position\" : {\"x\" : 0,\"y\" : 50}},{\"data\" : {\"id\" : \"7\"},\"position\" : {\"x\" : 50,\"y\" : 50}},{\"data\" : {\"id\" : \"8\"},\"position\" : {\"x\" : 100,\"y\" : 50}},{\"data\" : {\"id\" : \"9\"},\"position\" : {\"x\" : 150,\"y\" : 50}},{\"data\" : {\"id\" : \"10\"},\"position\" : {\"x\" : 200,\"y\" : 50}},{\"data\" : {\"id\" : \"11\"},\"position\" : {\"x\" : 250,\"y\" : 50}},{\"data\" : {\"id\" : \"12\"},\"position\" : {\"x\" : 0,\"y\" : 100}},{\"data\" : {\"id\" : \"13\"},\"position\" : {\"x\" : 50,\"y\" : 100}},{\"data\" : {\"id\" : \"14\"},\"position\" : {\"x\" : 100,\"y\" : 100}},{\"data\" : {\"id\" : \"15\"},\"position\" : {\"x\" : 150,\"y\" : 100}},{\"data\" : {\"id\" : \"16\"},\"position\" : {\"x\" : 200,\"y\" : 100}},{\"data\" : {\"id\" : \"17\"},\"position\" : {\"x\" : 250,\"y\" : 100}},{\"data\" : {\"id\" : \"18\"},\"position\" : {\"x\" : 0,\"y\" : 150}},{\"data\" : {\"id\" : \"19\"},\"position\" : {\"x\" : 50,\"y\" : 150}},{\"data\" : {\"id\" : \"20\"},\"position\" : {\"x\" : 100,\"y\" : 150}},{\"data\" : {\"id\" : \"21\"},\"position\" : {\"x\" : 150,\"y\" : 150}},{\"data\" : {\"id\" : \"22\"},\"position\" : {\"x\" : 200,\"y\" : 150}},{\"data\" : {\"id\" : \"23\"},\"position\" : {\"x\" : 250,\"y\" : 150}},{\"data\" : {\"id\" : \"24\"},\"position\" : {\"x\" : 0,\"y\" : 200}},{\"data\" : {\"id\" : \"25\"},\"position\" : {\"x\" : 50,\"y\" : 200}},{\"data\" : {\"id\" : \"26\"},\"position\" : {\"x\" : 100,\"y\" : 200}},{\"data\" : {\"id\" : \"27\"},\"position\" : {\"x\" : 150,\"y\" : 200}},{\"data\" : {\"id\" : \"28\"},\"position\" : {\"x\" : 200,\"y\" : 200}},{\"data\" : {\"id\" : \"29\"},\"position\" : {\"x\" : 250,\"y\" : 200}},{\"data\" : {\"id\" : \"30\"},\"position\" : {\"x\" : 0,\"y\" : 250}},{\"data\" : {\"id\" : \"31\"},\"position\" : {\"x\" : 50,\"y\" : 250}},{\"data\" : {\"id\" : \"32\"},\"position\" : {\"x\" : 100,\"y\" : 250}},{\"data\" : {\"id\" : \"33\"},\"position\" : {\"x\" : 150,\"y\" : 250}},{\"data\" : {\"id\" : \"34\"},\"position\" : {\"x\" : 200,\"y\" : 250}},{\"data\" : {\"id\" : \"35\"},\"position\" : {\"x\" : 250,\"y\" : 250}},{\"data\" : {\"id\" : \"36\"},\"position\" : {\"x\" : 0,\"y\" : 300}},{\"data\" : {\"id\" : \"37\"},\"position\" : {\"x\" : 50,\"y\" : 300}},{\"data\" : {\"id\" : \"38\"},\"position\" : {\"x\" : 100,\"y\" : 300}},{\"data\" : {\"id\" : \"39\"},\"position\" : {\"x\" : 150,\"y\" : 300}},{\"data\" : {\"id\" : \"40\"},\"position\" : {\"x\" : 200,\"y\" : 300}},{\"data\" : {\"id\" : \"41\"},\"position\" : {\"x\" : 250,\"y\" : 300}},{\"data\" : {\"id\" : \"42\"},\"position\" : {\"x\" : 0,\"y\" : 350}},{\"data\" : {\"id\" : \"43\"},\"position\" : {\"x\" : 50,\"y\" : 350}}],\"layout\" : {\"name\" : \"preset\"},\"style\" : [{\"style\" : {\"content\" : \"data(id)\"},\"selector\" : \"node\"},{\"style\" : {\"backgroundColor\" : \"red\",\"shape\" : \"rectangle\"},\"selector\" : \"#1\"},{\"style\" : {\"backgroundColor\" : \"red\",\"shape\" : \"rectangle\"},\"selector\" : \"#2\"},{\"style\" : {\"backgroundColor\" : \"red\",\"shape\" : \"rectangle\"},\"selector\" : \"#3\"},{\"style\" : {\"backgroundColor\" : \"red\",\"shape\" : \"rectangle\"},\"selector\" : \"#4\"},{\"style\" : {\"backgroundColor\" : \"red\",\"shape\" : \"rectangle\"},\"selector\" : \"#5\"},{\"style\" : {\"backgroundColor\" : \"red\",\"shape\" : \"rectangle\"},\"selector\" : \"#7\"},{\"style\" : {\"backgroundColor\" : \"red\",\"shape\" : \"rectangle\"},\"selector\" : \"#8\"},{\"style\" : {\"backgroundColor\" : \"red\",\"shape\" : \"rectangle\"},\"selector\" : \"#10\"},{\"style\" : {\"backgroundColor\" : \"red\",\"shape\" : \"rectangle\"},\"selector\" : \"#11\"},{\"style\" : {\"backgroundColor\" : \"red\",\"shape\" : \"rectangle\"},\"selector\" : \"#13\"},{\"style\" : {\"backgroundColor\" : \"red\",\"shape\" : \"rectangle\"},\"selector\" : \"#14\"},{\"style\" : {\"backgroundColor\" : \"red\",\"shape\" : \"rectangle\"},\"selector\" : \"#16\"},{\"style\" : {\"backgroundColor\" : \"red\",\"shape\" : \"rectangle\"},\"selector\" : \"#17\"},{\"style\" : {\"backgroundColor\" : \"red\",\"shape\" : \"rectangle\"},\"selector\" : \"#19\"},{\"style\" : {\"backgroundColor\" : \"red\",\"shape\" : \"rectangle\"},\"selector\" : \"#22\"},{\"style\" : {\"backgroundColor\" : \"red\",\"shape\" : \"rectangle\"},\"selector\" : \"#23\"},{\"style\" : {\"backgroundColor\" : \"red\",\"shape\" : \"rectangle\"},\"selector\" : \"#25\"},{\"style\" : {\"backgroundColor\" : \"red\",\"shape\" : \"rectangle\"},\"selector\" : \"#28\"},{\"style\" : {\"backgroundColor\" : \"red\",\"shape\" : \"rectangle\"},\"selector\" : \"#31\"},{\"style\" : {\"backgroundColor\" : \"red\",\"shape\" : \"rectangle\"},\"selector\" : \"#34\"},{\"style\" : {\"backgroundColor\" : \"red\",\"shape\" : \"rectangle\"},\"selector\" : \"#37\"},{\"style\" : {\"backgroundColor\" : \"red\",\"shape\" : \"rectangle\"},\"selector\" : \"#43\"},{\"style\" : {\"backgroundColor\" : \"blue\",\"shape\" : \"rectangle\"},\"selector\" : \"#0\"},{\"style\" : {\"backgroundColor\" : \"blue\",\"shape\" : \"rectangle\"},\"selector\" : \"#6\"},{\"style\" : {\"backgroundColor\" : \"blue\",\"shape\" : \"rectangle\"},\"selector\" : \"#9\"},{\"style\" : {\"backgroundColor\" : \"blue\",\"shape\" : \"rectangle\"},\"selector\" : \"#12\"},{\"style\" : {\"backgroundColor\" : \"blue\",\"shape\" : \"rectangle\"},\"selector\" : \"#15\"},{\"style\" : {\"backgroundColor\" : \"blue\",\"shape\" : \"rectangle\"},\"selector\" : \"#18\"},{\"style\" : {\"backgroundColor\" : \"blue\",\"shape\" : \"rectangle\"},\"selector\" : \"#20\"},{\"style\" : {\"backgroundColor\" : \"blue\",\"shape\" : \"rectangle\"},\"selector\" : \"#21\"},{\"style\" : {\"backgroundColor\" : \"blue\",\"shape\" : \"rectangle\"},\"selector\" : \"#24\"},{\"style\" : {\"backgroundColor\" : \"blue\",\"shape\" : \"rectangle\"},\"selector\" : \"#26\"},{\"style\" : {\"backgroundColor\" : \"blue\",\"shape\" : \"rectangle\"},\"selector\" : \"#27\"},{\"style\" : {\"backgroundColor\" : \"blue\",\"shape\" : \"rectangle\"},\"selector\" : \"#29\"},{\"style\" : {\"backgroundColor\" : \"blue\",\"shape\" : \"rectangle\"},\"selector\" : \"#30\"},{\"style\" : {\"backgroundColor\" : \"blue\",\"shape\" : \"rectangle\"},\"selector\" : \"#32\"},{\"style\" : {\"backgroundColor\" : \"blue\",\"shape\" : \"rectangle\"},\"selector\" : \"#33\"},{\"style\" : {\"backgroundColor\" : \"blue\",\"shape\" : \"rectangle\"},\"selector\" : \"#35\"},{\"style\" : {\"backgroundColor\" : \"blue\",\"shape\" : \"rectangle\"},\"selector\" : \"#36\"},{\"style\" : {\"backgroundColor\" : \"blue\",\"shape\" : \"rectangle\"},\"selector\" : \"#38\"},{\"style\" : {\"backgroundColor\" : \"blue\",\"shape\" : \"rectangle\"},\"selector\" : \"#39\"},{\"style\" : {\"backgroundColor\" : \"blue\",\"shape\" : \"rectangle\"},\"selector\" : \"#40\"},{\"style\" : {\"backgroundColor\" : \"blue\",\"shape\" : \"rectangle\"},\"selector\" : \"#41\"},{\"style\" : {\"backgroundColor\" : \"blue\",\"shape\" : \"rectangle\"},\"selector\" : \"#42\"}]},\"height\" : 400,\"tool\" : \"cytoscape\"}\n",
       ",function(element,visualization){\n",
       "});\n",
       "} )( element.get( 0 ) )"
      ]
     },
     "execution_count": 82,
     "metadata": {
      "application/javascript": ""
     },
     "output_type": "execute_result"
    }
   ],
   "source": [
    "S:=NumericalSemigroup(6,9,20);;\n",
    "ns:=[];;\n",
    "\n",
    "for i in [0..43] do\n",
    "    Add(ns,rec( data := rec( id := String(i) ), position:=rec(x:=50*(i mod 6),y:=50*Int(i/6)) ));\n",
    "od;\n",
    "st:=[rec(selector := \"node\", style := rec( content := \"data(id)\" ))];;\n",
    "for i in Intersection(Gaps(S),[0..43]) do\n",
    "    Add(st, rec(selector := Concatenation(\"#\",String(i)), style := rec( backgroundColor := \"red\", shape:=\"rectangle\" ))); \n",
    "od;\n",
    "for i in Intersection(SmallElements(S),[0..43]) do\n",
    "    Add(st, rec(selector := Concatenation(\"#\",String(i)), style := rec( backgroundColor := \"blue\", shape:=\"rectangle\" ))); \n",
    "od;\n",
    "\n",
    "CreateVisualization( rec(\n",
    "    tool := \"cytoscape\",\n",
    "    height := 400,\n",
    "    data := rec(elements := ns,layout := rec( name := \"preset\" ),style := st)\n",
    "    ) \n",
    ");"
   ]
  },
  {
   "cell_type": "markdown",
   "metadata": {},
   "source": [
    "Observe that from this picture one easily guess the Apéry set of 6 in the numerical semigorup. \n",
    "\n",
    "The heights of the columns of the red \"columns\" is known as the Kunz coordinates of the semigroup, and it uniquely determines it. This allows, for a fixed element in the semigroup, to make a one to one correspondence between the numerical semigroups having this element and a set of integer cones in a polytope."
   ]
  },
  {
   "cell_type": "code",
   "execution_count": 83,
   "metadata": {},
   "outputs": [
    {
     "data": {
      "text/plain": [
       "[ 0, 49, 20, 9, 40, 29 ]"
      ]
     },
     "execution_count": 83,
     "metadata": {
      "text/plain": ""
     },
     "output_type": "execute_result"
    }
   ],
   "source": [
    "AperyList(S);"
   ]
  },
  {
   "cell_type": "code",
   "execution_count": 73,
   "metadata": {
    "scrolled": true
   },
   "outputs": [
    {
     "data": {
      "text/plain": [
       "[ 8, 3, 1, 6, 4 ]"
      ]
     },
     "execution_count": 73,
     "metadata": {
      "text/plain": ""
     },
     "output_type": "execute_result"
    }
   ],
   "source": [
    "KunzCoordinates(S);"
   ]
  },
  {
   "cell_type": "code",
   "execution_count": 74,
   "metadata": {
    "scrolled": true
   },
   "outputs": [
    {
     "data": {
      "text/plain": [
       "[ [ 1, 0, 0, 0, 0, -1 ], [ 0, 1, 0, 0, 0, -1 ], [ 0, 0, 1, 0, 0, -1 ], [ 0, 0, 0, 1, 0, -1 ], [ 0, 0, 0, 0, 1, -1 ], [ 2, -1, 0, 0, 0, 0 ], [ 1, 1, -1, 0, 0, 0 ], [ 1, 0, 1, -1, 0, 0 ], [ 1, 0, 0, 1, -1, 0 ], [ 0, 2, 0, -1, 0, 0 ], [ 0, 1, 1, 0, -1, 0 ], [ -1, 1, 0, 0, 1, 1 ], [ -1, 0, 1, 1, 0, 1 ], [ 0, -1, 1, 0, 1, 1 ], [ 0, -1, 0, 2, 0, 1 ], [ 0, 0, -1, 1, 1, 1 ], [ 0, 0, 0, -1, 2, 1 ] ]"
      ]
     },
     "execution_count": 74,
     "metadata": {
      "text/plain": ""
     },
     "output_type": "execute_result"
    }
   ],
   "source": [
    "KunzPolytope(6);"
   ]
  },
  {
   "cell_type": "markdown",
   "metadata": {},
   "source": [
    "Every element $[a_1,a_2,a_3,a_4,a_5,b]$ in this list corresponds to the inequality $a_1x_1+a_2x_2+a_3x_3+a_4x_4+a_5x_5+b\\ge 0$."
   ]
  },
  {
   "cell_type": "markdown",
   "metadata": {},
   "source": [
    "There is still another way to produce the above picture directly using html."
   ]
  },
  {
   "cell_type": "code",
   "execution_count": 84,
   "metadata": {},
   "outputs": [],
   "source": [
    "r:=\"\"\"\n",
    "<canvas id=\"canvas123\" width=\"150\" height=\"220\"></canvas>\n",
    "<script type=\"application/javascript\">\n",
    "var canvas = document.getElementById('canvas123');\n",
    "var context = canvas.getContext('2d');\n",
    "var x,y,i;\n",
    "var s = [ 0, 6, 9, 12, 15, 18, 20, 21, 24, 26, 27, 29, 30, 32, 33, 35, 36, 38, 39, 40, 41, 42, 44 ];\n",
    "var len = s.length;\n",
    "context.font = '16px courier';\n",
    "for (i=0; i < len;i++) {\n",
    "x= s[i] % 6; y = (s[i]-x)/6;\n",
    "context.fillStyle = '#9090ff';\n",
    "context.fillRect(x * 25, y * 25, 24, 24);\n",
    "context.fillStyle = 'white';\n",
    "context.fillText(s[i],x*25+12-context.measureText(s[i]).width/2,y*25+17);\n",
    "}\n",
    "var g = [ 1, 2, 3, 4, 5, 7, 8, 10, 11, 13, 14, 16, 17, 19, 22, 23, 25, 28, 31, 34, 37, 43 ];\n",
    "var len = g.length;\n",
    "context.font = '16px courier';\n",
    "for (i=0; i < len;i++) {\n",
    "x= g[i] % 6; y = (g[i]-x)/6;\n",
    "context.fillStyle = '#ff5050';\n",
    "context.fillRect(x * 25, y * 25, 24, 24);\n",
    "context.fillStyle = 'white';\n",
    "context.fillText(g[i],x*25+12-context.measureText(g[i]).width/2,y*25+17);\n",
    "}\n",
    "</script>\n",
    "\"\"\";;"
   ]
  },
  {
   "cell_type": "code",
   "execution_count": 85,
   "metadata": {},
   "outputs": [
    {
     "data": {
      "text/html": [
       "\n",
       "<canvas id=\"canvas123\" width=\"150\" height=\"220\"></canvas>\n",
       "<script type=\"application/javascript\">\n",
       "var canvas = document.getElementById('canvas123');\n",
       "var context = canvas.getContext('2d');\n",
       "var x,y,i;\n",
       "var s = [ 0, 6, 9, 12, 15, 18, 20, 21, 24, 26, 27, 29, 30, 32, 33, 35, 36, 38, 39, 40, 41, 42, 44 ];\n",
       "var len = s.length;\n",
       "context.font = '16px courier';\n",
       "for (i=0; i < len;i++) {\n",
       "x= s[i] % 6; y = (s[i]-x)/6;\n",
       "context.fillStyle = '#9090ff';\n",
       "context.fillRect(x * 25, y * 25, 24, 24);\n",
       "context.fillStyle = 'white';\n",
       "context.fillText(s[i],x*25+12-context.measureText(s[i]).width/2,y*25+17);\n",
       "}\n",
       "var g = [ 1, 2, 3, 4, 5, 7, 8, 10, 11, 13, 14, 16, 17, 19, 22, 23, 25, 28, 31, 34, 37, 43 ];\n",
       "var len = g.length;\n",
       "context.font = '16px courier';\n",
       "for (i=0; i < len;i++) {\n",
       "x= g[i] % 6; y = (g[i]-x)/6;\n",
       "context.fillStyle = '#ff5050';\n",
       "context.fillRect(x * 25, y * 25, 24, 24);\n",
       "context.fillStyle = 'white';\n",
       "context.fillText(g[i],x*25+12-context.measureText(g[i]).width/2,y*25+17);\n",
       "}\n",
       "</script>\n"
      ]
     },
     "execution_count": 85,
     "metadata": {},
     "output_type": "execute_result"
    }
   ],
   "source": [
    "Objectify( JupyterRenderableType, rec(  data := rec( (\"text/html\") := r ), metadata:=rec() ));"
   ]
  }
 ],
 "metadata": {
  "kernelspec": {
   "display_name": "GAP 4",
   "language": "gap",
   "name": "gap-4"
  },
  "language_info": {
   "codemirror_mode": "gap",
   "file_extension": ".g",
   "mimetype": "text/x-gap",
   "name": "GAP 4",
   "nbconvert_exporter": "",
   "pygments_lexer": "gap",
   "version": "4.10.0"
  }
 },
 "nbformat": 4,
 "nbformat_minor": 2
}
