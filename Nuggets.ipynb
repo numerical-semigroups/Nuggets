{
 "cells": [
  {
   "cell_type": "markdown",
   "metadata": {},
   "source": [
    "# Nuggets and `gap`\n",
    "\n",
    "## Pedro A. García Sánchez (Universidad de Granada)"
   ]
  },
  {
   "cell_type": "markdown",
   "metadata": {},
   "source": [
    "The problem is simple. You want to buy a certain amount of nuggets, and the store offers boxes of 6, 9 and 20 (as it was in MacDonnald's sometime in the last century; nowadays the boxes are not so generous). You actually want to have the exact amount of Nuggets you want to eat, no one above no one below. So for instance, you cannot buy four nuggets, not 10. But you have several ways to buy 18 nuggets: three boxes of six, or two boxes of nine.\n",
    "\n",
    "We want to visualize first in how many ways can we buy a certain amount of Nuggets. To this end we will use the [`gap`](https://www.gap-system.org) function `NrRestrictedPartitions` and the `gap` package [`jupyterviz`](https://nathancarter.github.io/jupyterviz/). We will also give some hints on how to use [`francy`](https://gap-packages.github.io/francy/). \n",
    "\n",
    "Notice that the amounts that we correspond with finite sums of integers in the set $\\{6,9,20\\}$, and thus we are talking about the semigroup $\\langle 6,9,20\\rangle$. We will use `numericalsgps` to work with numerical semigroups.\n",
    "\n",
    "If you want to know more about nuggets and numerical semigroups, please refer to this [book chapter](https://link.springer.com/chapter/10.1007/978-3-030-37853-0_6), this [paper](https://www.tandfonline.com/doi/abs/10.1080/0025570X.2018.1515559?journalCode=umma20) and this [manuscript](https://arxiv.org/abs/1912.04494)."
   ]
  },
  {
   "cell_type": "code",
   "execution_count": 2,
   "metadata": {},
   "outputs": [
    {
     "data": {
      "text/plain": [
       "true"
      ]
     },
     "execution_count": 2,
     "metadata": {
      "text/plain": ""
     },
     "output_type": "execute_result"
    }
   ],
   "source": [
    "LoadPackage(\"francy\");"
   ]
  },
  {
   "cell_type": "code",
   "execution_count": 3,
   "metadata": {},
   "outputs": [
    {
     "data": {
      "text/plain": [
       "true"
      ]
     },
     "execution_count": 3,
     "metadata": {
      "text/plain": ""
     },
     "output_type": "execute_result"
    }
   ],
   "source": [
    "LoadPackage(\"jupyterviz\");"
   ]
  },
  {
   "cell_type": "markdown",
   "metadata": {},
   "source": [
    "We want graphs and diagrams stored on the notebook."
   ]
  },
  {
   "cell_type": "code",
   "execution_count": 4,
   "metadata": {},
   "outputs": [
    {
     "data": {
      "text/plain": [
       "\"PlotDisplayMethod_JupyterSimple\""
      ]
     },
     "execution_count": 4,
     "metadata": {
      "text/plain": ""
     },
     "output_type": "execute_result"
    }
   ],
   "source": [
    "PlotDisplayMethod:=PlotDisplayMethod_JupyterSimple;"
   ]
  },
  {
   "cell_type": "code",
   "execution_count": 5,
   "metadata": {},
   "outputs": [
    {
     "data": {
      "text/plain": [
       "true"
      ]
     },
     "execution_count": 5,
     "metadata": {
      "text/plain": ""
     },
     "output_type": "execute_result"
    }
   ],
   "source": [
    "LoadPackage(\"numericalsgps\");"
   ]
  },
  {
   "cell_type": "markdown",
   "metadata": {},
   "source": [
    "Let us start by showing how many ways of buying Nuggets do we have in the range $\\{0,\\ldots,50\\}$."
   ]
  },
  {
   "cell_type": "code",
   "execution_count": 6,
   "metadata": {},
   "outputs": [
    {
     "data": {
      "application/javascript": [
       "( function ( element ) {\n",
       "if ( !window.JUPVIZLibs ) window.JUPVIZLibs = { };\n",
       "if ( !window.JUPVIZLibs[\"main\"] ) {\n",
       "window.createVisualization=function(element,data,callback){if(window.VisualizationTools[data.tool])window.VisualizationTools[data.tool](element,data,callback);else{window.VisualizationTools.html(element,{data:{html:'Error: No known visualization tool, \"'+data.tool+'.\"'}},callback)}};window.VisualizationTools={html:function(element,json,callback){var div=document.createElement(\"div\");element.appendChild(div);div.innerHTML=json.data.html;if(json.width)$(div).width(json.width);if(json.height)$(div).height(json.height);callback(element,div)}};window.resizeToShowContents=function(element){var maxima={right:0,bottom:0};$(element).find(\"*\").each(function(idx,elt){var $elt=$(elt);var right=$elt.position().left+$elt.outerWidth();var bottom=$elt.position().top+$elt.outerHeight();maxima={right:Math.max(right,maxima.right),bottom:Math.max(bottom,maxima.bottom)}});var $element=$(element);$element.width(maxima.right-$element.position().left);$element.height(maxima.bottom-$element.position().top)};\n",
       "    window.JUPVIZLibs[\"main\"] = 'loaded';\n",
       "}\n",
       "if ( !window.JUPVIZLibs[\"viz-tool-plotly\"] ) {\n",
       "window.requirejs.config({paths:{plotly:\"https://cdn.plot.ly/plotly-latest.min\"}});window.VisualizationTools.plotly=function(element,json,callback){require([\"plotly\"],function(plotly){plotly.newPlot(element,json.data);callback(element,element.childNodes[0])})};\n",
       "    window.JUPVIZLibs[\"viz-tool-plotly\"] = 'loaded';\n",
       "}\n",
       "window.createVisualization(element,{\"data\" : {\"data\" : [{\"x\" : [0,1,2,3,4,5,6,7,8,9,10,11,12,13,14,15,16,17,18,19,20,21,22,23,24,25,26,27,28,29,30,31,32,33,34,35,36,37,38,39,40,41,42,43,44,45,46,47,48,49,50],\"y\" : [1,0,0,0,0,0,1,0,0,1,0,0,1,0,0,1,0,0,2,0,1,1,0,0,2,0,1,2,0,1,2,0,1,2,0,1,3,0,2,2,1,1,3,0,2,3,1,2,3,1,2],\"type\" : \"bar\"}],\"layout\" : {\"height\" : 400,\"title\" : \"Different ways to buy this many Nuggets\",\"xaxis\" : {\"title\" : \"number of Nuggets, n\"},\"yaxis\" : {\"title\" : \"number of expressions of n in terms of the boxes\"}}},\"tool\" : \"plotly\"}\n",
       ",function(element,visualization){\n",
       "});\n",
       "} )( element.get( 0 ) )"
      ]
     },
     "execution_count": 6,
     "metadata": {
      "application/javascript": ""
     },
     "output_type": "execute_result"
    }
   ],
   "source": [
    "Plot([0..50], x->NrRestrictedPartitions(x,[6,9,20]), \n",
    " rec(\n",
    "title := \"Different ways to buy this many Nuggets\",\n",
    "          xaxis := \"n\",\n",
    "yaxis := \"number of expressions of n in terms of the boxes\", \n",
    "xaxis := \"number of Nuggets, n\",\n",
    "type:=\"bar\"\n",
    "      ));"
   ]
  },
  {
   "cell_type": "markdown",
   "metadata": {},
   "source": [
    "Clearly for elements outside $\\langle 6,9,20\\rangle$ there will be no possible choice of boxes to get that specific amount of nuggets."
   ]
  },
  {
   "cell_type": "code",
   "execution_count": 7,
   "metadata": {},
   "outputs": [
    {
     "data": {
      "text/plain": [
       "Numerical semigroup with 3 generators"
      ]
     },
     "execution_count": 7,
     "metadata": {
      "text/plain": ""
     },
     "output_type": "execute_result"
    }
   ],
   "source": [
    "S:=NumericalSemigroup(6,9,20);"
   ]
  },
  {
   "cell_type": "code",
   "execution_count": 8,
   "metadata": {},
   "outputs": [
    {
     "data": {
      "text/plain": [
       "[ 0, 6, 9, 12, 15, 18, 20, 21, 24, 26, 27, 29, 30, 32, 33, 35, 36, 38, 39, 40, 41, 42, 44, 45, 46, 47, 48, 49, 50 ]"
      ]
     },
     "execution_count": 8,
     "metadata": {
      "text/plain": ""
     },
     "output_type": "execute_result"
    }
   ],
   "source": [
    "realizable:=Intersection(S,[0..50]);"
   ]
  },
  {
   "cell_type": "markdown",
   "metadata": {},
   "source": [
    "The amounts of nuggets that we cannot buy with this box offer are precisely the gaps of $S$."
   ]
  },
  {
   "cell_type": "code",
   "execution_count": 9,
   "metadata": {
    "scrolled": true
   },
   "outputs": [
    {
     "data": {
      "text/plain": [
       "[ 1, 2, 3, 4, 5, 7, 8, 10, 11, 13, 14, 16, 17, 19, 22, 23, 25, 28, 31, 34, 37, 43 ]"
      ]
     },
     "execution_count": 9,
     "metadata": {
      "text/plain": ""
     },
     "output_type": "execute_result"
    }
   ],
   "source": [
    "Gaps(S);"
   ]
  },
  {
   "cell_type": "markdown",
   "metadata": {},
   "source": [
    "We will now overprint to the above bar diagram the minimum number of boxes required to obtain the dessired number of Nuggets. "
   ]
  },
  {
   "cell_type": "code",
   "execution_count": 12,
   "metadata": {},
   "outputs": [
    {
     "data": {
      "application/javascript": [
       "( function ( element ) {\n",
       "if ( !window.JUPVIZLibs ) window.JUPVIZLibs = { };\n",
       "if ( !window.JUPVIZLibs[\"main\"] ) {\n",
       "window.createVisualization=function(element,data,callback){if(window.VisualizationTools[data.tool])window.VisualizationTools[data.tool](element,data,callback);else{window.VisualizationTools.html(element,{data:{html:'Error: No known visualization tool, \"'+data.tool+'.\"'}},callback)}};window.VisualizationTools={html:function(element,json,callback){var div=document.createElement(\"div\");element.appendChild(div);div.innerHTML=json.data.html;if(json.width)$(div).width(json.width);if(json.height)$(div).height(json.height);callback(element,div)}};window.resizeToShowContents=function(element){var maxima={right:0,bottom:0};$(element).find(\"*\").each(function(idx,elt){var $elt=$(elt);var right=$elt.position().left+$elt.outerWidth();var bottom=$elt.position().top+$elt.outerHeight();maxima={right:Math.max(right,maxima.right),bottom:Math.max(bottom,maxima.bottom)}});var $element=$(element);$element.width(maxima.right-$element.position().left);$element.height(maxima.bottom-$element.position().top)};\n",
       "    window.JUPVIZLibs[\"main\"] = 'loaded';\n",
       "}\n",
       "if ( !window.JUPVIZLibs[\"viz-tool-plotly\"] ) {\n",
       "window.requirejs.config({paths:{plotly:\"https://cdn.plot.ly/plotly-latest.min\"}});window.VisualizationTools.plotly=function(element,json,callback){require([\"plotly\"],function(plotly){plotly.newPlot(element,json.data);callback(element,element.childNodes[0])})};\n",
       "    window.JUPVIZLibs[\"viz-tool-plotly\"] = 'loaded';\n",
       "}\n",
       "window.createVisualization(element,{\"data\" : {\"data\" : [{\"x\" : [0,6,9,12,15,18,20,21,24,26,27,29,30,32,33,35,36,38,39,40,41,42,44,45,46,47,48,49,50,51,52,53,54,55,56,57,58,59,60,61,62,63,64,65,66,67,68,69,70,71,72,73,74,75,76,77,78,79,80,81,82,83,84,85,86,87,88,89,90,91,92,93,94,95,96,97,98,99,100],\"y\" : [1,1,1,1,1,2,1,1,2,1,2,1,2,1,2,1,3,2,2,1,1,3,2,3,1,2,3,1,2,3,1,2,4,1,3,3,2,2,5,1,3,4,2,3,5,2,3,5,2,3,6,2,4,5,3,3,7,2,5,6,3,4,7,3,5,7,3,5,8,3,6,7,4,5,9,3,7,8,5],\"type\" : \"bar\"},{\"x\" : [0,6,9,12,15,18,20,21,24,26,27,29,30,32,33,35,36,38,39,40,41,42,44,45,46,47,48,49,50,51,52,53,54,55,56,57,58,59,60,61,62,63,64,65,66,67,68,69,70,71,72,73,74,75,76,77,78,79,80,81,82,83,84,85,86,87,88,89,90,91,92,93,94,95,96,97,98,99,100],\"y\" : [0,1,1,2,2,2,1,3,3,2,3,2,4,3,4,3,4,3,5,2,4,5,4,5,3,4,6,3,5,6,4,5,6,4,5,7,4,6,3,5,6,7,5,6,4,5,7,4,6,7,5,6,7,5,6,8,5,7,4,6,7,8,6,7,5,6,8,5,7,8,6,7,8,6,7,9,6,8,5],\"name\" : \"min # boxes\",\"type\" : \"line\"},{\"x\" : [0,6,9,12,15,18,20,21,24,26,27,29,30,32,33,35,36,38,39,40,41,42,44,45,46,47,48,49,50,51,52,53,54,55,56,57,58,59,60,61,62,63,64,65,66,67,68,69,70,71,72,73,74,75,76,77,78,79,80,81,82,83,84,85,86,87,88,89,90,91,92,93,94,95,96,97,98,99,100],\"y\" : [0,1,1,2,2,3,1,3,4,2,4,2,5,3,5,3,6,4,6,2,4,7,5,7,3,5,8,3,6,8,4,6,9,4,7,9,5,7,10,5,8,10,6,8,11,6,9,11,7,9,12,7,10,12,8,10,13,8,11,13,9,11,14,9,12,14,10,12,15,10,13,15,11,13,16,11,14,16,12],\"name\" : \"max # boxes\",\"type\" : \"line\"}],\"layout\" : {\"height\" : 400,\"title\" : \"Different ways to buy this many Nuggets\",\"xaxis\" : {\"title\" : \"number of Nuggets, n\"},\"yaxis\" : {\"title\" : \"number of expressions of n in terms of the boxes\"}}},\"tool\" : \"plotly\"}\n",
       ",function(element,visualization){\n",
       "});\n",
       "} )( element.get( 0 ) )"
      ]
     },
     "execution_count": 12,
     "metadata": {
      "application/javascript": ""
     },
     "output_type": "execute_result"
    }
   ],
   "source": [
    "sizes:=[6,9,20];;\n",
    "realizable:=Intersection(S,[0..100]);;\n",
    "Plot([realizable, x->NrRestrictedPartitions(x,sizes), \n",
    " rec(\n",
    "title := \"Different ways to buy this many Nuggets\",\n",
    "          xaxis := \"n\",\n",
    "yaxis := \"number of expressions of n in terms of the boxes\", \n",
    "xaxis := \"number of Nuggets, n\",\n",
    "type:=\"bar\"\n",
    ")], \n",
    "[realizable, x->Minimum(List(RestrictedPartitions(x,sizes),Length)), \n",
    " rec(\n",
    "type:=\"line\", name:=\"min # boxes\",\n",
    ")],\n",
    "[realizable, x->Maximum(List(RestrictedPartitions(x,sizes),Length)), \n",
    " rec(\n",
    "type:=\"line\", name:=\"max # boxes\",\n",
    ")]\n",
    ");"
   ]
  },
  {
   "cell_type": "markdown",
   "metadata": {},
   "source": [
    "Let us have a closer look at the number of ways one can buy 150 nuggets."
   ]
  },
  {
   "cell_type": "code",
   "execution_count": 15,
   "metadata": {},
   "outputs": [
    {
     "data": {
      "application/javascript": [
       "( function ( element ) {\n",
       "if ( !window.JUPVIZLibs ) window.JUPVIZLibs = { };\n",
       "if ( !window.JUPVIZLibs[\"main\"] ) {\n",
       "window.createVisualization=function(element,data,callback){if(window.VisualizationTools[data.tool])window.VisualizationTools[data.tool](element,data,callback);else{window.VisualizationTools.html(element,{data:{html:'Error: No known visualization tool, \"'+data.tool+'.\"'}},callback)}};window.VisualizationTools={html:function(element,json,callback){var div=document.createElement(\"div\");element.appendChild(div);div.innerHTML=json.data.html;if(json.width)$(div).width(json.width);if(json.height)$(div).height(json.height);callback(element,div)}};window.resizeToShowContents=function(element){var maxima={right:0,bottom:0};$(element).find(\"*\").each(function(idx,elt){var $elt=$(elt);var right=$elt.position().left+$elt.outerWidth();var bottom=$elt.position().top+$elt.outerHeight();maxima={right:Math.max(right,maxima.right),bottom:Math.max(bottom,maxima.bottom)}});var $element=$(element);$element.width(maxima.right-$element.position().left);$element.height(maxima.bottom-$element.position().top)};\n",
       "    window.JUPVIZLibs[\"main\"] = 'loaded';\n",
       "}\n",
       "if ( !window.JUPVIZLibs[\"viz-tool-plotly\"] ) {\n",
       "window.requirejs.config({paths:{plotly:\"https://cdn.plot.ly/plotly-latest.min\"}});window.VisualizationTools.plotly=function(element,json,callback){require([\"plotly\"],function(plotly){plotly.newPlot(element,json.data);callback(element,element.childNodes[0])})};\n",
       "    window.JUPVIZLibs[\"viz-tool-plotly\"] = 'loaded';\n",
       "}\n",
       "window.createVisualization(element,{\"data\" : {\"data\" : [{\"values\" : [1,1,1,1,1,1,2,2,1,1,1,1,1,1,1],\"type\" : \"pie\",\"labels\" : [10,11,13,14,15,16,17,18,19,20,21,22,23,24,25]}],\"layout\" : {\"height\" : 500,\"title\" : \"Classifying the number of different ways to buy 150 Nuggets, depending on the number of boxes needed\"}},\"tool\" : \"plotly\"}\n",
       ",function(element,visualization){\n",
       "});\n",
       "} )( element.get( 0 ) )"
      ]
     },
     "execution_count": 15,
     "metadata": {
      "application/javascript": ""
     },
     "output_type": "execute_result"
    }
   ],
   "source": [
    "p:=RestrictedPartitions(150,sizes);;\n",
    "ls:=List(p,Length);;\n",
    "Plot(Set(ls),x->Length(Filtered(ls,l->l=x)), rec(type:=\"pie\", height:=500, \n",
    "title:=\"Classifying the number of different ways to buy 150 Nuggets, depending on the number of boxes needed\"));"
   ]
  },
  {
   "cell_type": "code",
   "execution_count": 16,
   "metadata": {},
   "outputs": [
    {
     "data": {
      "application/javascript": [
       "( function ( element ) {\n",
       "if ( !window.JUPVIZLibs ) window.JUPVIZLibs = { };\n",
       "if ( !window.JUPVIZLibs[\"main\"] ) {\n",
       "window.createVisualization=function(element,data,callback){if(window.VisualizationTools[data.tool])window.VisualizationTools[data.tool](element,data,callback);else{window.VisualizationTools.html(element,{data:{html:'Error: No known visualization tool, \"'+data.tool+'.\"'}},callback)}};window.VisualizationTools={html:function(element,json,callback){var div=document.createElement(\"div\");element.appendChild(div);div.innerHTML=json.data.html;if(json.width)$(div).width(json.width);if(json.height)$(div).height(json.height);callback(element,div)}};window.resizeToShowContents=function(element){var maxima={right:0,bottom:0};$(element).find(\"*\").each(function(idx,elt){var $elt=$(elt);var right=$elt.position().left+$elt.outerWidth();var bottom=$elt.position().top+$elt.outerHeight();maxima={right:Math.max(right,maxima.right),bottom:Math.max(bottom,maxima.bottom)}});var $element=$(element);$element.width(maxima.right-$element.position().left);$element.height(maxima.bottom-$element.position().top)};\n",
       "    window.JUPVIZLibs[\"main\"] = 'loaded';\n",
       "}\n",
       "if ( !window.JUPVIZLibs[\"viz-tool-plotly\"] ) {\n",
       "window.requirejs.config({paths:{plotly:\"https://cdn.plot.ly/plotly-latest.min\"}});window.VisualizationTools.plotly=function(element,json,callback){require([\"plotly\"],function(plotly){plotly.newPlot(element,json.data);callback(element,element.childNodes[0])})};\n",
       "    window.JUPVIZLibs[\"viz-tool-plotly\"] = 'loaded';\n",
       "}\n",
       "window.createVisualization(element,{\"data\" : {\"data\" : [{\"x\" : [10,11,13,14,15,16,17,18,19,20,21,22,23,24,25],\"y\" : [1,1,1,1,1,1,2,2,1,1,1,1,1,1,1],\"type\" : \"line\"}],\"layout\" : {\"height\" : 400,\"xaxis\" : {\"title\" : \"Number of boxes needed for 150 nuggets\"},\"yaxis\" : {\"title\" : \"# possibilities\"}}},\"tool\" : \"plotly\"}\n",
       ",function(element,visualization){\n",
       "});\n",
       "} )( element.get( 0 ) )"
      ]
     },
     "execution_count": 16,
     "metadata": {
      "application/javascript": ""
     },
     "output_type": "execute_result"
    }
   ],
   "source": [
    "Plot(Set(ls),x->Length(Filtered(ls,l->l=x)), rec(xaxis:=\"Number of boxes needed for 150 nuggets\", \n",
    "yaxis:=\"# possibilities\"));"
   ]
  },
  {
   "cell_type": "code",
   "execution_count": 17,
   "metadata": {
    "scrolled": true
   },
   "outputs": [
    {
     "data": {
      "text/plain": [
       "[ [ 6, 6, 6, 6, 6, 6, 6, 6, 6, 6, 6, 6, 6, 6, 6, 6, 6, 6, 6, 6, 6, 6, 6, 6, 6 ], [ 9, 9, 6, 6, 6, 6, 6, 6, 6, 6, 6, 6, 6, 6, 6, 6, 6, 6, 6, 6, 6, 6, 6, 6 ], [ 9, 9, 9, 9, 6, 6, 6, 6, 6, 6, 6, 6, 6, 6, 6, 6, 6, 6, 6, 6, 6, 6, 6 ], [ 9, 9, 9, 9, 9, 9, 6, 6, 6, 6, 6, 6, 6, 6, 6, 6, 6, 6, 6, 6, 6, 6 ], [ 9, 9, 9, 9, 9, 9, 9, 9, 6, 6, 6, 6, 6, 6, 6, 6, 6, 6, 6, 6, 6 ], [ 9, 9, 9, 9, 9, 9, 9, 9, 9, 9, 6, 6, 6, 6, 6, 6, 6, 6, 6, 6 ], [ 9, 9, 9, 9, 9, 9, 9, 9, 9, 9, 9, 9, 6, 6, 6, 6, 6, 6, 6 ], [ 9, 9, 9, 9, 9, 9, 9, 9, 9, 9, 9, 9, 9, 9, 6, 6, 6, 6 ], [ 9, 9, 9, 9, 9, 9, 9, 9, 9, 9, 9, 9, 9, 9, 9, 9, 6 ], [ 20, 20, 20, 6, 6, 6, 6, 6, 6, 6, 6, 6, 6, 6, 6, 6, 6, 6 ], [ 20, 20, 20, 9, 9, 6, 6, 6, 6, 6, 6, 6, 6, 6, 6, 6, 6 ], [ 20, 20, 20, 9, 9, 9, 9, 6, 6, 6, 6, 6, 6, 6, 6, 6 ], [ 20, 20, 20, 9, 9, 9, 9, 9, 9, 6, 6, 6, 6, 6, 6 ], [ 20, 20, 20, 9, 9, 9, 9, 9, 9, 9, 9, 6, 6, 6 ], [ 20, 20, 20, 9, 9, 9, 9, 9, 9, 9, 9, 9, 9 ], [ 20, 20, 20, 20, 20, 20, 6, 6, 6, 6, 6 ], [ 20, 20, 20, 20, 20, 20, 9, 9, 6, 6 ] ]"
      ]
     },
     "execution_count": 17,
     "metadata": {
      "text/plain": ""
     },
     "output_type": "execute_result"
    }
   ],
   "source": [
    "p;"
   ]
  },
  {
   "cell_type": "markdown",
   "metadata": {},
   "source": [
    "We can, for every possible choice, plot the number of boxes needed for each \"realizable\" amount of nuggets"
   ]
  },
  {
   "cell_type": "code",
   "execution_count": 20,
   "metadata": {},
   "outputs": [
    {
     "data": {
      "application/javascript": [
       "( function ( element ) {\n",
       "if ( !window.JUPVIZLibs ) window.JUPVIZLibs = { };\n",
       "if ( !window.JUPVIZLibs[\"main\"] ) {\n",
       "window.createVisualization=function(element,data,callback){if(window.VisualizationTools[data.tool])window.VisualizationTools[data.tool](element,data,callback);else{window.VisualizationTools.html(element,{data:{html:'Error: No known visualization tool, \"'+data.tool+'.\"'}},callback)}};window.VisualizationTools={html:function(element,json,callback){var div=document.createElement(\"div\");element.appendChild(div);div.innerHTML=json.data.html;if(json.width)$(div).width(json.width);if(json.height)$(div).height(json.height);callback(element,div)}};window.resizeToShowContents=function(element){var maxima={right:0,bottom:0};$(element).find(\"*\").each(function(idx,elt){var $elt=$(elt);var right=$elt.position().left+$elt.outerWidth();var bottom=$elt.position().top+$elt.outerHeight();maxima={right:Math.max(right,maxima.right),bottom:Math.max(bottom,maxima.bottom)}});var $element=$(element);$element.width(maxima.right-$element.position().left);$element.height(maxima.bottom-$element.position().top)};\n",
       "    window.JUPVIZLibs[\"main\"] = 'loaded';\n",
       "}\n",
       "if ( !window.JUPVIZLibs[\"viz-tool-canvasjs\"] ) {\n",
       "window.requirejs.config({paths:{canvasjs:\"https://cdnjs.cloudflare.com/ajax/libs/canvasjs/1.7.0/canvasjs.min\"}});window.VisualizationTools.canvasjs=function(element,json,callback){require([\"canvasjs\"],function(canvasjs){new window.CanvasJS.Chart(element,json.data).render();window.resizeToShowContents(element);callback(element,element.childNodes[0])})};\n",
       "    window.JUPVIZLibs[\"viz-tool-canvasjs\"] = 'loaded';\n",
       "}\n",
       "window.createVisualization(element,{\"data\" : {\"data\" : [{\"type\" : \"scatter\",\"dataPoints\" : [{\"x\" : 0,\"y\" : 0},{\"x\" : 6,\"y\" : 1},{\"x\" : 9,\"y\" : 1},{\"x\" : 12,\"y\" : 2},{\"x\" : 15,\"y\" : 2},{\"x\" : 18,\"y\" : 2},{\"x\" : 18,\"y\" : 3},{\"x\" : 20,\"y\" : 1},{\"x\" : 21,\"y\" : 3},{\"x\" : 24,\"y\" : 3},{\"x\" : 24,\"y\" : 4},{\"x\" : 26,\"y\" : 2},{\"x\" : 27,\"y\" : 3},{\"x\" : 27,\"y\" : 4},{\"x\" : 29,\"y\" : 2},{\"x\" : 30,\"y\" : 4},{\"x\" : 30,\"y\" : 5},{\"x\" : 32,\"y\" : 3},{\"x\" : 33,\"y\" : 4},{\"x\" : 33,\"y\" : 5},{\"x\" : 35,\"y\" : 3},{\"x\" : 36,\"y\" : 4},{\"x\" : 36,\"y\" : 5},{\"x\" : 36,\"y\" : 6},{\"x\" : 38,\"y\" : 3},{\"x\" : 38,\"y\" : 4},{\"x\" : 39,\"y\" : 5},{\"x\" : 39,\"y\" : 6},{\"x\" : 40,\"y\" : 2},{\"x\" : 41,\"y\" : 4},{\"x\" : 42,\"y\" : 5},{\"x\" : 42,\"y\" : 6},{\"x\" : 42,\"y\" : 7},{\"x\" : 44,\"y\" : 4},{\"x\" : 44,\"y\" : 5},{\"x\" : 45,\"y\" : 5},{\"x\" : 45,\"y\" : 6},{\"x\" : 45,\"y\" : 7},{\"x\" : 46,\"y\" : 3},{\"x\" : 47,\"y\" : 4},{\"x\" : 47,\"y\" : 5},{\"x\" : 48,\"y\" : 6},{\"x\" : 48,\"y\" : 7},{\"x\" : 48,\"y\" : 8},{\"x\" : 49,\"y\" : 3},{\"x\" : 50,\"y\" : 5},{\"x\" : 50,\"y\" : 6}]}],\"height\" : 400,\"animationEnabled\" : true},\"tool\" : \"canvasjs\"}\n",
       ",function(element,visualization){\n",
       "});\n",
       "} )( element.get( 0 ) )"
      ]
     },
     "execution_count": 20,
     "metadata": {
      "application/javascript": ""
     },
     "output_type": "execute_result"
    }
   ],
   "source": [
    "l:=[];;\n",
    "for s in Intersection([0..50],S) do\n",
    "    Append(l,List(LengthsOfFactorizationsIntegerWRTList(s,sizes), l->[s,l]));;\n",
    "od;\n",
    "Plot(l,rec(type:=\"scatter\",tool:=\"canvasjs\"));"
   ]
  },
  {
   "cell_type": "markdown",
   "metadata": {},
   "source": [
    "Let us illustrate a naïve way to determine all possible ways to buy $n$ nuggets with boxes of sizes $\\{s_1,\\ldots,s_k\\}$. The idea is quite simple, and we can draw it in a tree. We discriminate the possible ways depending on which we use the box of size $s_1$ or not, that is, $n\\in\\langle s_1,\\ldots,s_k\\}$ if either $n-s_1\\in\\langle s_1,\\ldots,s_k\\rangle$ or $n\\in\\langle s_2,\\ldots, s_k\\rangle$ (and proceed recursively). \n",
    "\n",
    "If in this process we reach a negative integer, we stop, and if we arrive to zero, then we trace the boxes we have used. We will draw this leafs of the tree as a square, and when hovering with the mouse over them, we will show the boxes used to get $n$ nuggets."
   ]
  },
  {
   "cell_type": "code",
   "execution_count": 21,
   "metadata": {},
   "outputs": [
    {
     "data": {
      "text/plain": [
       "function( n, sizes ) ... end"
      ]
     },
     "execution_count": 21,
     "metadata": {
      "text/plain": ""
     },
     "output_type": "execute_result"
    }
   ],
   "source": [
    "treefrancy:=function(n,sizes)\n",
    "    local l, sons, t,  ps, canvas, graphTree,shpr;\n",
    "\n",
    "    sons:=function(m,lm,szs,shpm)\n",
    "        local ns,shp;\n",
    "        if m<0 then \n",
    "            return;\n",
    "        fi;\n",
    "        ns:=Length(szs);\n",
    "        if ns=0 then \n",
    "            return;\n",
    "        fi;\n",
    "        if m=szs[1] then \n",
    "            shp:=Shape(ShapeType!.SQUARE, String(0));\n",
    "            SetSize(shp,5);\n",
    "            Add(graphTree,shp);\n",
    "            SetParentShape(shp,shpm);\n",
    "            Add(shp,FrancyMessage(String(Concatenation(lm,[szs[1]]))));\n",
    "            Add(ps,Concatenation(lm,[szs[1]]));\n",
    "        fi;\n",
    "        if (m-szs[1]>0) then\n",
    "            shp:=Shape(ShapeType!.CIRCLE, String(m-szs[1]));\n",
    "            SetSize(shp,5);\n",
    "            Add(graphTree,shp);\n",
    "            SetParentShape(shp,shpm);\n",
    "            Add(ps,Concatenation(lm,[szs[1]]));\n",
    "            sons(m-szs[1],Concatenation(lm,[szs[1]]),szs,shp);\n",
    "        fi;\n",
    "        sons(m,lm,szs{[2..ns]},shpm);\n",
    "    end;\n",
    "\n",
    "    t:=[];\n",
    "    l:=[];\n",
    "    ps:=[];\n",
    "    graphTree := Graph(GraphType.TREE);\n",
    "    SetCollapsed(graphTree,false);\n",
    "    shpr:=Shape(ShapeType!.CIRCLE, String(n));\n",
    "    SetSize(shpr,5);\n",
    "    #Add(shpr,FrancyMessage(Concatenation(String(n),\" \",String(l))));\n",
    "    Add(graphTree,shpr);\n",
    "    canvas:=Canvas(\"Boxes\");\n",
    "    SetTexTypesetting(canvas, true);\n",
    "    Add(canvas,graphTree);\n",
    "    sons(n,l,sizes,shpr);\n",
    "    return Draw(canvas);\n",
    "end;\n"
   ]
  },
  {
   "cell_type": "code",
   "execution_count": 22,
   "metadata": {
    "scrolled": false
   },
   "outputs": [
    {
     "data": {
      "application/vnd.francy+json": "{\"version\" : \"1.0.4\",\"mime\" : \"application\\/vnd.francy+json\",\"canvas\" : {\"width\" : 800,\"id\" : \"F3\",\"height\" : 600,\"title\" : \"Boxes\",\"zoomToFit\" : true,\"texTypesetting\" : true,\"menus\" : {},\"graph\" : {\"type\" : \"tree\",\"id\" : \"F1\",\"simulation\" : true,\"collapsed\" : false,\"nodes\" : {\"F2\" : {\"x\" : 0,\"y\" : 0,\"type\" : \"circle\",\"id\" : \"F2\",\"size\" : 5,\"title\" : \"30\",\"color\" : \"\",\"layer\" : 0,\"parent\" : \"\",\"menus\" : {},\"messages\" : {},\"callbacks\" : {}},\"F4\" : {\"x\" : 0,\"y\" : 0,\"type\" : \"circle\",\"id\" : \"F4\",\"size\" : 5,\"title\" : \"24\",\"color\" : \"\",\"layer\" : 0,\"parent\" : \"F2\",\"menus\" : {},\"messages\" : {},\"callbacks\" : {}},\"F5\" : {\"x\" : 0,\"y\" : 0,\"type\" : \"circle\",\"id\" : \"F5\",\"size\" : 5,\"title\" : \"18\",\"color\" : \"\",\"layer\" : 0,\"parent\" : \"F4\",\"menus\" : {},\"messages\" : {},\"callbacks\" : {}},\"F6\" : {\"x\" : 0,\"y\" : 0,\"type\" : \"circle\",\"id\" : \"F6\",\"size\" : 5,\"title\" : \"12\",\"color\" : \"\",\"layer\" : 0,\"parent\" : \"F5\",\"menus\" : {},\"messages\" : {},\"callbacks\" : {}},\"F7\" : {\"x\" : 0,\"y\" : 0,\"type\" : \"circle\",\"id\" : \"F7\",\"size\" : 5,\"title\" : \"6\",\"color\" : \"\",\"layer\" : 0,\"parent\" : \"F6\",\"menus\" : {},\"messages\" : {},\"callbacks\" : {}},\"F8\" : {\"x\" : 0,\"y\" : 0,\"type\" : \"square\",\"id\" : \"F8\",\"size\" : 5,\"title\" : \"0\",\"color\" : \"\",\"layer\" : 0,\"parent\" : \"F7\",\"menus\" : {},\"messages\" : {\"F9\" : {\"type\" : \"default\",\"id\" : \"F9\",\"text\" : \"[ 6, 6, 6, 6, 6 ]\",\"title\" : \"\"}},\"callbacks\" : {}},\"F10\" : {\"x\" : 0,\"y\" : 0,\"type\" : \"circle\",\"id\" : \"F10\",\"size\" : 5,\"title\" : \"3\",\"color\" : \"\",\"layer\" : 0,\"parent\" : \"F6\",\"menus\" : {},\"messages\" : {},\"callbacks\" : {}},\"F11\" : {\"x\" : 0,\"y\" : 0,\"type\" : \"circle\",\"id\" : \"F11\",\"size\" : 5,\"title\" : \"9\",\"color\" : \"\",\"layer\" : 0,\"parent\" : \"F5\",\"menus\" : {},\"messages\" : {},\"callbacks\" : {}},\"F12\" : {\"x\" : 0,\"y\" : 0,\"type\" : \"square\",\"id\" : \"F12\",\"size\" : 5,\"title\" : \"0\",\"color\" : \"\",\"layer\" : 0,\"parent\" : \"F11\",\"menus\" : {},\"messages\" : {\"F13\" : {\"type\" : \"default\",\"id\" : \"F13\",\"text\" : \"[ 6, 6, 9, 9 ]\",\"title\" : \"\"}},\"callbacks\" : {}},\"F14\" : {\"x\" : 0,\"y\" : 0,\"type\" : \"circle\",\"id\" : \"F14\",\"size\" : 5,\"title\" : \"15\",\"color\" : \"\",\"layer\" : 0,\"parent\" : \"F4\",\"menus\" : {},\"messages\" : {},\"callbacks\" : {}},\"F15\" : {\"x\" : 0,\"y\" : 0,\"type\" : \"circle\",\"id\" : \"F15\",\"size\" : 5,\"title\" : \"6\",\"color\" : \"\",\"layer\" : 0,\"parent\" : \"F14\",\"menus\" : {},\"messages\" : {},\"callbacks\" : {}},\"F16\" : {\"x\" : 0,\"y\" : 0,\"type\" : \"circle\",\"id\" : \"F16\",\"size\" : 5,\"title\" : \"4\",\"color\" : \"\",\"layer\" : 0,\"parent\" : \"F4\",\"menus\" : {},\"messages\" : {},\"callbacks\" : {}},\"F17\" : {\"x\" : 0,\"y\" : 0,\"type\" : \"circle\",\"id\" : \"F17\",\"size\" : 5,\"title\" : \"21\",\"color\" : \"\",\"layer\" : 0,\"parent\" : \"F2\",\"menus\" : {},\"messages\" : {},\"callbacks\" : {}},\"F18\" : {\"x\" : 0,\"y\" : 0,\"type\" : \"circle\",\"id\" : \"F18\",\"size\" : 5,\"title\" : \"12\",\"color\" : \"\",\"layer\" : 0,\"parent\" : \"F17\",\"menus\" : {},\"messages\" : {},\"callbacks\" : {}},\"F19\" : {\"x\" : 0,\"y\" : 0,\"type\" : \"circle\",\"id\" : \"F19\",\"size\" : 5,\"title\" : \"3\",\"color\" : \"\",\"layer\" : 0,\"parent\" : \"F18\",\"menus\" : {},\"messages\" : {},\"callbacks\" : {}},\"F20\" : {\"x\" : 0,\"y\" : 0,\"type\" : \"circle\",\"id\" : \"F20\",\"size\" : 5,\"title\" : \"1\",\"color\" : \"\",\"layer\" : 0,\"parent\" : \"F17\",\"menus\" : {},\"messages\" : {},\"callbacks\" : {}},\"F21\" : {\"x\" : 0,\"y\" : 0,\"type\" : \"circle\",\"id\" : \"F21\",\"size\" : 5,\"title\" : \"10\",\"color\" : \"\",\"layer\" : 0,\"parent\" : \"F2\",\"menus\" : {},\"messages\" : {},\"callbacks\" : {}}},\"links\" : {}},\"messages\" : {}}}"
     },
     "execution_count": 22,
     "metadata": {
      "application/vnd.francy+json": {}
     },
     "output_type": "execute_result"
    }
   ],
   "source": [
    "treefrancy(30,sizes);"
   ]
  },
  {
   "cell_type": "code",
   "execution_count": 23,
   "metadata": {
    "scrolled": true
   },
   "outputs": [
    {
     "data": {
      "text/plain": [
       "Numerical semigroup with 3 generators"
      ]
     },
     "execution_count": 23,
     "metadata": {
      "text/plain": ""
     },
     "output_type": "execute_result"
    }
   ],
   "source": [
    "S:=NumericalSemigroup(sizes);"
   ]
  },
  {
   "cell_type": "markdown",
   "metadata": {},
   "source": [
    "There are other ways to construct all possible combinations of boxes to reach the desired amount of nuggets. We can think about $\\langle 6, 9 , 20\\rangle$ as an object generated by three elements together with some relations among these generators (relations). We can use `MinimalPresentation` to obtain these relations. "
   ]
  },
  {
   "cell_type": "code",
   "execution_count": 24,
   "metadata": {},
   "outputs": [
    {
     "data": {
      "text/plain": [
       "[ [ [ 1, 6, 0 ], [ 0, 0, 3 ] ], [ [ 3, 0, 0 ], [ 0, 2, 0 ] ] ]"
      ]
     },
     "execution_count": 24,
     "metadata": {
      "text/plain": ""
     },
     "output_type": "execute_result"
    }
   ],
   "source": [
    "mps:=MinimalPresentation(S);"
   ]
  },
  {
   "cell_type": "markdown",
   "metadata": {},
   "source": [
    "One may think about these relations as trades. So fors instance, one can change tree boxes of size six with two of size nine.\n",
    "\n",
    "Let us write a graph depicting all trades performed starting from a known possible choice of boxes."
   ]
  },
  {
   "cell_type": "code",
   "execution_count": 25,
   "metadata": {},
   "outputs": [
    {
     "data": {
      "text/plain": [
       "function( f, tds ) ... end"
      ]
     },
     "execution_count": 25,
     "metadata": {
      "text/plain": ""
     },
     "output_type": "execute_result"
    }
   ],
   "source": [
    "trades:=function(f,tds)\n",
    "    local nonneg, sons, edges, vertices;\n",
    "\n",
    "    nonneg:=function(l)\n",
    "        return ForAll(l, x-> x>=0);\n",
    "    end;\n",
    "\n",
    "    sons:= function(fc)\n",
    "        local ptds, t,fcs;\n",
    "        if not(nonneg(fc)) then\n",
    "            return;\n",
    "        fi;\n",
    "        ptds:=Filtered(tds, t->nonneg(fc-t[1]));\n",
    "        for t in ptds do\n",
    "            fcs:=fc-t[1]+t[2];\n",
    "            Add(vertices,fcs);\n",
    "            Add(edges,[fc,fcs]);\n",
    "            sons(fcs);\n",
    "        od;\n",
    "    end;\n",
    "    \n",
    "    vertices:=[f];\n",
    "    edges:=[];\n",
    "    sons(f);\n",
    "\n",
    "    return PlotGraph(vertices, edges, rec(directed:=true, layout:=\"cose\", arrowscale:=2));\n",
    "end;"
   ]
  },
  {
   "cell_type": "code",
   "execution_count": 26,
   "metadata": {
    "scrolled": false
   },
   "outputs": [
    {
     "data": {
      "application/javascript": [
       "( function ( element ) {\n",
       "if ( !window.JUPVIZLibs ) window.JUPVIZLibs = { };\n",
       "if ( !window.JUPVIZLibs[\"main\"] ) {\n",
       "window.createVisualization=function(element,data,callback){if(window.VisualizationTools[data.tool])window.VisualizationTools[data.tool](element,data,callback);else{window.VisualizationTools.html(element,{data:{html:'Error: No known visualization tool, \"'+data.tool+'.\"'}},callback)}};window.VisualizationTools={html:function(element,json,callback){var div=document.createElement(\"div\");element.appendChild(div);div.innerHTML=json.data.html;if(json.width)$(div).width(json.width);if(json.height)$(div).height(json.height);callback(element,div)}};window.resizeToShowContents=function(element){var maxima={right:0,bottom:0};$(element).find(\"*\").each(function(idx,elt){var $elt=$(elt);var right=$elt.position().left+$elt.outerWidth();var bottom=$elt.position().top+$elt.outerHeight();maxima={right:Math.max(right,maxima.right),bottom:Math.max(bottom,maxima.bottom)}});var $element=$(element);$element.width(maxima.right-$element.position().left);$element.height(maxima.bottom-$element.position().top)};\n",
       "    window.JUPVIZLibs[\"main\"] = 'loaded';\n",
       "}\n",
       "if ( !window.JUPVIZLibs[\"viz-tool-cytoscape\"] ) {\n",
       "window.requirejs.config({paths:{cytoscape:\"https://cdnjs.cloudflare.com/ajax/libs/cytoscape/3.2.16/cytoscape.min\"}});window.VisualizationTools.cytoscape=function(element,json,callback){require([\"cytoscape\"],function(cytoscape){if(json.width)$(element).width(json.width);if(json.height)$(element).height(json.height);json.data.container=element;callback(element,cytoscape(json.data))})};\n",
       "    window.JUPVIZLibs[\"viz-tool-cytoscape\"] = 'loaded';\n",
       "}\n",
       "window.createVisualization(element,{\"data\" : {\"elements\" : [{\"data\" : {\"id\" : \"[ 20, 0, 0 ]\"}},{\"data\" : {\"id\" : \"[ 17, 2, 0 ]\"}},{\"data\" : {\"id\" : \"[ 14, 4, 0 ]\"}},{\"data\" : {\"id\" : \"[ 11, 6, 0 ]\"}},{\"data\" : {\"id\" : \"[ 10, 0, 3 ]\"}},{\"data\" : {\"id\" : \"[ 7, 2, 3 ]\"}},{\"data\" : {\"id\" : \"[ 4, 4, 3 ]\"}},{\"data\" : {\"id\" : \"[ 1, 6, 3 ]\"}},{\"data\" : {\"id\" : \"[ 0, 0, 6 ]\"}},{\"data\" : {\"id\" : \"[ 8, 8, 0 ]\"}},{\"data\" : {\"id\" : \"[ 7, 2, 3 ]\"}},{\"data\" : {\"id\" : \"[ 4, 4, 3 ]\"}},{\"data\" : {\"id\" : \"[ 1, 6, 3 ]\"}},{\"data\" : {\"id\" : \"[ 0, 0, 6 ]\"}},{\"data\" : {\"id\" : \"[ 5, 10, 0 ]\"}},{\"data\" : {\"id\" : \"[ 4, 4, 3 ]\"}},{\"data\" : {\"id\" : \"[ 1, 6, 3 ]\"}},{\"data\" : {\"id\" : \"[ 0, 0, 6 ]\"}},{\"data\" : {\"id\" : \"[ 2, 12, 0 ]\"}},{\"data\" : {\"id\" : \"[ 1, 6, 3 ]\"}},{\"data\" : {\"id\" : \"[ 0, 0, 6 ]\"}},{\"data\" : {\"source\" : \"[ 20, 0, 0 ]\",\"target\" : \"[ 17, 2, 0 ]\"}},{\"data\" : {\"source\" : \"[ 17, 2, 0 ]\",\"target\" : \"[ 14, 4, 0 ]\"}},{\"data\" : {\"source\" : \"[ 14, 4, 0 ]\",\"target\" : \"[ 11, 6, 0 ]\"}},{\"data\" : {\"source\" : \"[ 11, 6, 0 ]\",\"target\" : \"[ 10, 0, 3 ]\"}},{\"data\" : {\"source\" : \"[ 10, 0, 3 ]\",\"target\" : \"[ 7, 2, 3 ]\"}},{\"data\" : {\"source\" : \"[ 7, 2, 3 ]\",\"target\" : \"[ 4, 4, 3 ]\"}},{\"data\" : {\"source\" : \"[ 4, 4, 3 ]\",\"target\" : \"[ 1, 6, 3 ]\"}},{\"data\" : {\"source\" : \"[ 1, 6, 3 ]\",\"target\" : \"[ 0, 0, 6 ]\"}},{\"data\" : {\"source\" : \"[ 11, 6, 0 ]\",\"target\" : \"[ 8, 8, 0 ]\"}},{\"data\" : {\"source\" : \"[ 8, 8, 0 ]\",\"target\" : \"[ 7, 2, 3 ]\"}},{\"data\" : {\"source\" : \"[ 7, 2, 3 ]\",\"target\" : \"[ 4, 4, 3 ]\"}},{\"data\" : {\"source\" : \"[ 4, 4, 3 ]\",\"target\" : \"[ 1, 6, 3 ]\"}},{\"data\" : {\"source\" : \"[ 1, 6, 3 ]\",\"target\" : \"[ 0, 0, 6 ]\"}},{\"data\" : {\"source\" : \"[ 8, 8, 0 ]\",\"target\" : \"[ 5, 10, 0 ]\"}},{\"data\" : {\"source\" : \"[ 5, 10, 0 ]\",\"target\" : \"[ 4, 4, 3 ]\"}},{\"data\" : {\"source\" : \"[ 4, 4, 3 ]\",\"target\" : \"[ 1, 6, 3 ]\"}},{\"data\" : {\"source\" : \"[ 1, 6, 3 ]\",\"target\" : \"[ 0, 0, 6 ]\"}},{\"data\" : {\"source\" : \"[ 5, 10, 0 ]\",\"target\" : \"[ 2, 12, 0 ]\"}},{\"data\" : {\"source\" : \"[ 2, 12, 0 ]\",\"target\" : \"[ 1, 6, 3 ]\"}},{\"data\" : {\"source\" : \"[ 1, 6, 3 ]\",\"target\" : \"[ 0, 0, 6 ]\"}}],\"layout\" : {\"name\" : \"cose\"},\"style\" : [{\"style\" : {\"content\" : \"data(id)\"},\"selector\" : \"node\"},{\"style\" : {\"mid-target-arrow-shape\" : \"vee\",\"arrow-scale\" : 2},\"selector\" : \"edge\"}]},\"height\" : 400,\"tool\" : \"cytoscape\"}\n",
       ",function(element,visualization){\n",
       "});\n",
       "} )( element.get( 0 ) )"
      ]
     },
     "execution_count": 26,
     "metadata": {
      "application/javascript": ""
     },
     "output_type": "execute_result"
    }
   ],
   "source": [
    "trades([20,0,0], mps);"
   ]
  },
  {
   "cell_type": "markdown",
   "metadata": {},
   "source": [
    "Since there are only two relations (trades), we can force a grid shape in the 'trading' graph. Vertices in `jupyterviz` graphs can store their position."
   ]
  },
  {
   "cell_type": "code",
   "execution_count": 28,
   "metadata": {},
   "outputs": [
    {
     "data": {
      "text/plain": [
       "function( f, tds ) ... end"
      ]
     },
     "execution_count": 28,
     "metadata": {
      "text/plain": ""
     },
     "output_type": "execute_result"
    }
   ],
   "source": [
    "step:=75;;\n",
    "tradespreset:=function(f,tds)\n",
    "    local nonneg, sons, edges, vertices;\n",
    "\n",
    "    nonneg:=function(l)\n",
    "        return ForAll(l, x-> x>=0);\n",
    "    end;\n",
    "\n",
    "    sons:= function(fc,vx,vy)\n",
    "        local t,fcs;\n",
    "        if not(nonneg(fc)) then\n",
    "            return;\n",
    "        fi;\n",
    "        if nonneg(fc-tds[1][1]) then\n",
    "            fcs:=fc-tds[1][1]+tds[1][2];\n",
    "            Add(vertices,rec(name:=String(fcs),x:=vx+step,y:=vy));\n",
    "            Add(edges,[fc,fcs]);\n",
    "            sons(fcs,vx+step,vy);\n",
    "        fi;\n",
    "        if nonneg(fc-tds[2][1]) then\n",
    "            fcs:=fc-tds[2][1]+tds[2][2];\n",
    "            Add(vertices,rec(name:=String(fcs),x:=vx,y:=vy+step));\n",
    "            Add(edges,[fc,fcs]);\n",
    "            sons(fcs,vx,vy+step);\n",
    "        fi;\n",
    "    end;\n",
    "    \n",
    "    vertices:=[rec(name:=String(f),x:=0,y:=0)];\n",
    "    edges:=[];\n",
    "    sons(f,0,0);\n",
    "\n",
    "    return PlotGraph(vertices, edges, rec(directed:=true, layout:=\"preset\", arrowscale:=2));\n",
    "end;"
   ]
  },
  {
   "cell_type": "code",
   "execution_count": 29,
   "metadata": {},
   "outputs": [
    {
     "data": {
      "application/javascript": [
       "( function ( element ) {\n",
       "if ( !window.JUPVIZLibs ) window.JUPVIZLibs = { };\n",
       "if ( !window.JUPVIZLibs[\"main\"] ) {\n",
       "window.createVisualization=function(element,data,callback){if(window.VisualizationTools[data.tool])window.VisualizationTools[data.tool](element,data,callback);else{window.VisualizationTools.html(element,{data:{html:'Error: No known visualization tool, \"'+data.tool+'.\"'}},callback)}};window.VisualizationTools={html:function(element,json,callback){var div=document.createElement(\"div\");element.appendChild(div);div.innerHTML=json.data.html;if(json.width)$(div).width(json.width);if(json.height)$(div).height(json.height);callback(element,div)}};window.resizeToShowContents=function(element){var maxima={right:0,bottom:0};$(element).find(\"*\").each(function(idx,elt){var $elt=$(elt);var right=$elt.position().left+$elt.outerWidth();var bottom=$elt.position().top+$elt.outerHeight();maxima={right:Math.max(right,maxima.right),bottom:Math.max(bottom,maxima.bottom)}});var $element=$(element);$element.width(maxima.right-$element.position().left);$element.height(maxima.bottom-$element.position().top)};\n",
       "    window.JUPVIZLibs[\"main\"] = 'loaded';\n",
       "}\n",
       "if ( !window.JUPVIZLibs[\"viz-tool-cytoscape\"] ) {\n",
       "window.requirejs.config({paths:{cytoscape:\"https://cdnjs.cloudflare.com/ajax/libs/cytoscape/3.2.16/cytoscape.min\"}});window.VisualizationTools.cytoscape=function(element,json,callback){require([\"cytoscape\"],function(cytoscape){if(json.width)$(element).width(json.width);if(json.height)$(element).height(json.height);json.data.container=element;callback(element,cytoscape(json.data))})};\n",
       "    window.JUPVIZLibs[\"viz-tool-cytoscape\"] = 'loaded';\n",
       "}\n",
       "window.createVisualization(element,{\"data\" : {\"elements\" : [{\"data\" : {\"id\" : \"[ 20, 0, 0 ]\"},\"position\" : {\"x\" : 0,\"y\" : 0}},{\"data\" : {\"id\" : \"[ 17, 2, 0 ]\"},\"position\" : {\"x\" : 0,\"y\" : 75}},{\"data\" : {\"id\" : \"[ 14, 4, 0 ]\"},\"position\" : {\"x\" : 0,\"y\" : 150}},{\"data\" : {\"id\" : \"[ 11, 6, 0 ]\"},\"position\" : {\"x\" : 0,\"y\" : 225}},{\"data\" : {\"id\" : \"[ 10, 0, 3 ]\"},\"position\" : {\"x\" : 75,\"y\" : 225}},{\"data\" : {\"id\" : \"[ 7, 2, 3 ]\"},\"position\" : {\"x\" : 75,\"y\" : 300}},{\"data\" : {\"id\" : \"[ 4, 4, 3 ]\"},\"position\" : {\"x\" : 75,\"y\" : 375}},{\"data\" : {\"id\" : \"[ 1, 6, 3 ]\"},\"position\" : {\"x\" : 75,\"y\" : 450}},{\"data\" : {\"id\" : \"[ 0, 0, 6 ]\"},\"position\" : {\"x\" : 150,\"y\" : 450}},{\"data\" : {\"id\" : \"[ 8, 8, 0 ]\"},\"position\" : {\"x\" : 0,\"y\" : 300}},{\"data\" : {\"id\" : \"[ 7, 2, 3 ]\"},\"position\" : {\"x\" : 75,\"y\" : 300}},{\"data\" : {\"id\" : \"[ 4, 4, 3 ]\"},\"position\" : {\"x\" : 75,\"y\" : 375}},{\"data\" : {\"id\" : \"[ 1, 6, 3 ]\"},\"position\" : {\"x\" : 75,\"y\" : 450}},{\"data\" : {\"id\" : \"[ 0, 0, 6 ]\"},\"position\" : {\"x\" : 150,\"y\" : 450}},{\"data\" : {\"id\" : \"[ 5, 10, 0 ]\"},\"position\" : {\"x\" : 0,\"y\" : 375}},{\"data\" : {\"id\" : \"[ 4, 4, 3 ]\"},\"position\" : {\"x\" : 75,\"y\" : 375}},{\"data\" : {\"id\" : \"[ 1, 6, 3 ]\"},\"position\" : {\"x\" : 75,\"y\" : 450}},{\"data\" : {\"id\" : \"[ 0, 0, 6 ]\"},\"position\" : {\"x\" : 150,\"y\" : 450}},{\"data\" : {\"id\" : \"[ 2, 12, 0 ]\"},\"position\" : {\"x\" : 0,\"y\" : 450}},{\"data\" : {\"id\" : \"[ 1, 6, 3 ]\"},\"position\" : {\"x\" : 75,\"y\" : 450}},{\"data\" : {\"id\" : \"[ 0, 0, 6 ]\"},\"position\" : {\"x\" : 150,\"y\" : 450}},{\"data\" : {\"source\" : \"[ 20, 0, 0 ]\",\"target\" : \"[ 17, 2, 0 ]\"}},{\"data\" : {\"source\" : \"[ 17, 2, 0 ]\",\"target\" : \"[ 14, 4, 0 ]\"}},{\"data\" : {\"source\" : \"[ 14, 4, 0 ]\",\"target\" : \"[ 11, 6, 0 ]\"}},{\"data\" : {\"source\" : \"[ 11, 6, 0 ]\",\"target\" : \"[ 10, 0, 3 ]\"}},{\"data\" : {\"source\" : \"[ 10, 0, 3 ]\",\"target\" : \"[ 7, 2, 3 ]\"}},{\"data\" : {\"source\" : \"[ 7, 2, 3 ]\",\"target\" : \"[ 4, 4, 3 ]\"}},{\"data\" : {\"source\" : \"[ 4, 4, 3 ]\",\"target\" : \"[ 1, 6, 3 ]\"}},{\"data\" : {\"source\" : \"[ 1, 6, 3 ]\",\"target\" : \"[ 0, 0, 6 ]\"}},{\"data\" : {\"source\" : \"[ 11, 6, 0 ]\",\"target\" : \"[ 8, 8, 0 ]\"}},{\"data\" : {\"source\" : \"[ 8, 8, 0 ]\",\"target\" : \"[ 7, 2, 3 ]\"}},{\"data\" : {\"source\" : \"[ 7, 2, 3 ]\",\"target\" : \"[ 4, 4, 3 ]\"}},{\"data\" : {\"source\" : \"[ 4, 4, 3 ]\",\"target\" : \"[ 1, 6, 3 ]\"}},{\"data\" : {\"source\" : \"[ 1, 6, 3 ]\",\"target\" : \"[ 0, 0, 6 ]\"}},{\"data\" : {\"source\" : \"[ 8, 8, 0 ]\",\"target\" : \"[ 5, 10, 0 ]\"}},{\"data\" : {\"source\" : \"[ 5, 10, 0 ]\",\"target\" : \"[ 4, 4, 3 ]\"}},{\"data\" : {\"source\" : \"[ 4, 4, 3 ]\",\"target\" : \"[ 1, 6, 3 ]\"}},{\"data\" : {\"source\" : \"[ 1, 6, 3 ]\",\"target\" : \"[ 0, 0, 6 ]\"}},{\"data\" : {\"source\" : \"[ 5, 10, 0 ]\",\"target\" : \"[ 2, 12, 0 ]\"}},{\"data\" : {\"source\" : \"[ 2, 12, 0 ]\",\"target\" : \"[ 1, 6, 3 ]\"}},{\"data\" : {\"source\" : \"[ 1, 6, 3 ]\",\"target\" : \"[ 0, 0, 6 ]\"}}],\"layout\" : {\"name\" : \"preset\"},\"style\" : [{\"style\" : {\"content\" : \"data(id)\"},\"selector\" : \"node\"},{\"style\" : {\"mid-target-arrow-shape\" : \"vee\",\"arrow-scale\" : 2},\"selector\" : \"edge\"}]},\"height\" : 400,\"tool\" : \"cytoscape\"}\n",
       ",function(element,visualization){\n",
       "});\n",
       "} )( element.get( 0 ) )"
      ]
     },
     "execution_count": 29,
     "metadata": {
      "application/javascript": ""
     },
     "output_type": "execute_result"
    }
   ],
   "source": [
    "tradespreset([20,0,0],mps);"
   ]
  },
  {
   "cell_type": "markdown",
   "metadata": {},
   "source": [
    "Minimal presentations (trade systems) might not be unique. For our sizes of boxes we have another choices, since in the first component of the first trade, we can apply the second to obtain a new trade [[4,4,0],[0,0,3]], and applying it once more, we obtain [[7,2,0],[0,0,3]]. "
   ]
  },
  {
   "cell_type": "code",
   "execution_count": 30,
   "metadata": {},
   "outputs": [
    {
     "data": {
      "text/plain": [
       "true"
      ]
     },
     "execution_count": 30,
     "metadata": {
      "text/plain": ""
     },
     "output_type": "execute_result"
    }
   ],
   "source": [
    "[4,4,0]*[6,9,20]=[7,2,0]*[6,9,20];"
   ]
  },
  {
   "cell_type": "markdown",
   "metadata": {},
   "source": [
    "These are indeed the factorizations of 60."
   ]
  },
  {
   "cell_type": "code",
   "execution_count": 31,
   "metadata": {},
   "outputs": [
    {
     "data": {
      "text/plain": [
       "[ [ 10, 0, 0 ], [ 7, 2, 0 ], [ 4, 4, 0 ], [ 1, 6, 0 ], [ 0, 0, 3 ] ]"
      ]
     },
     "execution_count": 31,
     "metadata": {
      "text/plain": ""
     },
     "output_type": "execute_result"
    }
   ],
   "source": [
    "FactorizationsIntegerWRTList(60,sizes);"
   ]
  },
  {
   "cell_type": "markdown",
   "metadata": {},
   "source": [
    "We can choose another trade system, and will obtain another 'trading' graph."
   ]
  },
  {
   "cell_type": "code",
   "execution_count": 32,
   "metadata": {},
   "outputs": [
    {
     "data": {
      "application/javascript": [
       "( function ( element ) {\n",
       "if ( !window.JUPVIZLibs ) window.JUPVIZLibs = { };\n",
       "if ( !window.JUPVIZLibs[\"main\"] ) {\n",
       "window.createVisualization=function(element,data,callback){if(window.VisualizationTools[data.tool])window.VisualizationTools[data.tool](element,data,callback);else{window.VisualizationTools.html(element,{data:{html:'Error: No known visualization tool, \"'+data.tool+'.\"'}},callback)}};window.VisualizationTools={html:function(element,json,callback){var div=document.createElement(\"div\");element.appendChild(div);div.innerHTML=json.data.html;if(json.width)$(div).width(json.width);if(json.height)$(div).height(json.height);callback(element,div)}};window.resizeToShowContents=function(element){var maxima={right:0,bottom:0};$(element).find(\"*\").each(function(idx,elt){var $elt=$(elt);var right=$elt.position().left+$elt.outerWidth();var bottom=$elt.position().top+$elt.outerHeight();maxima={right:Math.max(right,maxima.right),bottom:Math.max(bottom,maxima.bottom)}});var $element=$(element);$element.width(maxima.right-$element.position().left);$element.height(maxima.bottom-$element.position().top)};\n",
       "    window.JUPVIZLibs[\"main\"] = 'loaded';\n",
       "}\n",
       "if ( !window.JUPVIZLibs[\"viz-tool-cytoscape\"] ) {\n",
       "window.requirejs.config({paths:{cytoscape:\"https://cdnjs.cloudflare.com/ajax/libs/cytoscape/3.2.16/cytoscape.min\"}});window.VisualizationTools.cytoscape=function(element,json,callback){require([\"cytoscape\"],function(cytoscape){if(json.width)$(element).width(json.width);if(json.height)$(element).height(json.height);json.data.container=element;callback(element,cytoscape(json.data))})};\n",
       "    window.JUPVIZLibs[\"viz-tool-cytoscape\"] = 'loaded';\n",
       "}\n",
       "window.createVisualization(element,{\"data\" : {\"elements\" : [{\"data\" : {\"id\" : \"[ 20, 0, 0 ]\"},\"position\" : {\"x\" : 0,\"y\" : 0}},{\"data\" : {\"id\" : \"[ 10, 0, 3 ]\"},\"position\" : {\"x\" : 75,\"y\" : 0}},{\"data\" : {\"id\" : \"[ 0, 0, 6 ]\"},\"position\" : {\"x\" : 150,\"y\" : 0}},{\"data\" : {\"id\" : \"[ 7, 2, 3 ]\"},\"position\" : {\"x\" : 75,\"y\" : 75}},{\"data\" : {\"id\" : \"[ 4, 4, 3 ]\"},\"position\" : {\"x\" : 75,\"y\" : 150}},{\"data\" : {\"id\" : \"[ 1, 6, 3 ]\"},\"position\" : {\"x\" : 75,\"y\" : 225}},{\"data\" : {\"id\" : \"[ 17, 2, 0 ]\"},\"position\" : {\"x\" : 0,\"y\" : 75}},{\"data\" : {\"id\" : \"[ 7, 2, 3 ]\"},\"position\" : {\"x\" : 75,\"y\" : 75}},{\"data\" : {\"id\" : \"[ 4, 4, 3 ]\"},\"position\" : {\"x\" : 75,\"y\" : 150}},{\"data\" : {\"id\" : \"[ 1, 6, 3 ]\"},\"position\" : {\"x\" : 75,\"y\" : 225}},{\"data\" : {\"id\" : \"[ 14, 4, 0 ]\"},\"position\" : {\"x\" : 0,\"y\" : 150}},{\"data\" : {\"id\" : \"[ 4, 4, 3 ]\"},\"position\" : {\"x\" : 75,\"y\" : 150}},{\"data\" : {\"id\" : \"[ 1, 6, 3 ]\"},\"position\" : {\"x\" : 75,\"y\" : 225}},{\"data\" : {\"id\" : \"[ 11, 6, 0 ]\"},\"position\" : {\"x\" : 0,\"y\" : 225}},{\"data\" : {\"id\" : \"[ 1, 6, 3 ]\"},\"position\" : {\"x\" : 75,\"y\" : 225}},{\"data\" : {\"id\" : \"[ 8, 8, 0 ]\"},\"position\" : {\"x\" : 0,\"y\" : 300}},{\"data\" : {\"id\" : \"[ 5, 10, 0 ]\"},\"position\" : {\"x\" : 0,\"y\" : 375}},{\"data\" : {\"id\" : \"[ 2, 12, 0 ]\"},\"position\" : {\"x\" : 0,\"y\" : 450}},{\"data\" : {\"source\" : \"[ 20, 0, 0 ]\",\"target\" : \"[ 10, 0, 3 ]\"}},{\"data\" : {\"source\" : \"[ 10, 0, 3 ]\",\"target\" : \"[ 0, 0, 6 ]\"}},{\"data\" : {\"source\" : \"[ 10, 0, 3 ]\",\"target\" : \"[ 7, 2, 3 ]\"}},{\"data\" : {\"source\" : \"[ 7, 2, 3 ]\",\"target\" : \"[ 4, 4, 3 ]\"}},{\"data\" : {\"source\" : \"[ 4, 4, 3 ]\",\"target\" : \"[ 1, 6, 3 ]\"}},{\"data\" : {\"source\" : \"[ 20, 0, 0 ]\",\"target\" : \"[ 17, 2, 0 ]\"}},{\"data\" : {\"source\" : \"[ 17, 2, 0 ]\",\"target\" : \"[ 7, 2, 3 ]\"}},{\"data\" : {\"source\" : \"[ 7, 2, 3 ]\",\"target\" : \"[ 4, 4, 3 ]\"}},{\"data\" : {\"source\" : \"[ 4, 4, 3 ]\",\"target\" : \"[ 1, 6, 3 ]\"}},{\"data\" : {\"source\" : \"[ 17, 2, 0 ]\",\"target\" : \"[ 14, 4, 0 ]\"}},{\"data\" : {\"source\" : \"[ 14, 4, 0 ]\",\"target\" : \"[ 4, 4, 3 ]\"}},{\"data\" : {\"source\" : \"[ 4, 4, 3 ]\",\"target\" : \"[ 1, 6, 3 ]\"}},{\"data\" : {\"source\" : \"[ 14, 4, 0 ]\",\"target\" : \"[ 11, 6, 0 ]\"}},{\"data\" : {\"source\" : \"[ 11, 6, 0 ]\",\"target\" : \"[ 1, 6, 3 ]\"}},{\"data\" : {\"source\" : \"[ 11, 6, 0 ]\",\"target\" : \"[ 8, 8, 0 ]\"}},{\"data\" : {\"source\" : \"[ 8, 8, 0 ]\",\"target\" : \"[ 5, 10, 0 ]\"}},{\"data\" : {\"source\" : \"[ 5, 10, 0 ]\",\"target\" : \"[ 2, 12, 0 ]\"}}],\"layout\" : {\"name\" : \"preset\"},\"style\" : [{\"style\" : {\"content\" : \"data(id)\"},\"selector\" : \"node\"},{\"style\" : {\"mid-target-arrow-shape\" : \"vee\",\"arrow-scale\" : 2},\"selector\" : \"edge\"}]},\"height\" : 400,\"tool\" : \"cytoscape\"}\n",
       ",function(element,visualization){\n",
       "});\n",
       "} )( element.get( 0 ) )"
      ]
     },
     "execution_count": 32,
     "metadata": {
      "application/javascript": ""
     },
     "output_type": "execute_result"
    }
   ],
   "source": [
    "tradespreset([20,0,0],[[[10,0,0],[0,0,3]],[[3,0,0],[0,2,0]]]);"
   ]
  },
  {
   "cell_type": "markdown",
   "metadata": {},
   "source": [
    "Trades in a numerical semigroup (or relations) can be obtained from some specific elements in the semigroup. We have seen that one of our possible trades can be choosen from a pair of expressions of 60 as combinations of 6, 9, and 20. What makes 60 special is that there are some expressions of 60 in terms of 6, 9 and 20 where only 6 and 9 show up, and another were 20 is the only size of box used.\n",
    "\n",
    "We can draw a graph with vertices the set of possible combinations (expressions, factorizations) of $n$ in terms of $\\lbrace s_1,\\ldots, s_k\\rbrace$, and there is an edge between two combinations if in the expression there is a common box used.\n",
    "\n",
    "There are several `gap` packages that offer procedures that output graphs in `dot` language. In order to make these outputs visible in the notebook one can use `JupyterSplashDot`."
   ]
  },
  {
   "cell_type": "code",
   "execution_count": 33,
   "metadata": {},
   "outputs": [
    {
     "data": {
      "image/svg+xml": [
       "<?xml version=\"1.0\" encoding=\"UTF-8\" standalone=\"no\"?>\n",
       "<!DOCTYPE svg PUBLIC \"-//W3C//DTD SVG 1.1//EN\"\n",
       " \"http://www.w3.org/Graphics/SVG/1.1/DTD/svg11.dtd\">\n",
       "<!-- Generated by graphviz version 2.40.1 (20161225.0304)\n",
       " -->\n",
       "<!-- Title: NSGraph Pages: 1 -->\n",
       "<svg width=\"276pt\" height=\"305pt\"\n",
       " viewBox=\"0.00 0.00 276.49 305.00\" xmlns=\"http://www.w3.org/2000/svg\" xmlns:xlink=\"http://www.w3.org/1999/xlink\">\n",
       "<g id=\"graph0\" class=\"graph\" transform=\"scale(1 1) rotate(0) translate(4 301)\">\n",
       "<title>NSGraph</title>\n",
       "<polygon fill=\"#ffffff\" stroke=\"transparent\" points=\"-4,4 -4,-301 272.4925,-301 272.4925,4 -4,4\"/>\n",
       "<!-- 1 -->\n",
       "<g id=\"node1\" class=\"node\">\n",
       "<title>1</title>\n",
       "<ellipse fill=\"none\" stroke=\"#000000\" cx=\"120.2463\" cy=\"-279\" rx=\"46.2923\" ry=\"18\"/>\n",
       "<text text-anchor=\"middle\" x=\"120.2463\" y=\"-275.3\" font-family=\"Times,serif\" font-size=\"14.00\" fill=\"#000000\"> (10, 0, 0)</text>\n",
       "</g>\n",
       "<!-- 2 -->\n",
       "<g id=\"node2\" class=\"node\">\n",
       "<title>2</title>\n",
       "<ellipse fill=\"none\" stroke=\"#000000\" cx=\"42.2463\" cy=\"-192\" rx=\"42.4939\" ry=\"18\"/>\n",
       "<text text-anchor=\"middle\" x=\"42.2463\" y=\"-188.3\" font-family=\"Times,serif\" font-size=\"14.00\" fill=\"#000000\"> (7, 2, 0)</text>\n",
       "</g>\n",
       "<!-- 1&#45;&#45;2 -->\n",
       "<g id=\"edge1\" class=\"edge\">\n",
       "<title>1&#45;&#45;2</title>\n",
       "<path fill=\"none\" stroke=\"#000000\" d=\"M104.836,-261.8116C91.0727,-246.4603 71.031,-224.106 57.3591,-208.8567\"/>\n",
       "<text text-anchor=\"middle\" x=\"89.7463\" y=\"-231.8\" font-family=\"Times,serif\" font-size=\"14.00\" fill=\"#000000\">3</text>\n",
       "</g>\n",
       "<!-- 3 -->\n",
       "<g id=\"node3\" class=\"node\">\n",
       "<title>3</title>\n",
       "<ellipse fill=\"none\" stroke=\"#000000\" cx=\"97.2463\" cy=\"-105\" rx=\"42.4939\" ry=\"18\"/>\n",
       "<text text-anchor=\"middle\" x=\"97.2463\" y=\"-101.3\" font-family=\"Times,serif\" font-size=\"14.00\" fill=\"#000000\"> (4, 4, 0)</text>\n",
       "</g>\n",
       "<!-- 1&#45;&#45;3 -->\n",
       "<g id=\"edge4\" class=\"edge\">\n",
       "<title>1&#45;&#45;3</title>\n",
       "<path fill=\"none\" stroke=\"#000000\" d=\"M117.8283,-260.7078C113.3994,-227.2024 104.0365,-156.3695 99.6318,-123.0471\"/>\n",
       "<text text-anchor=\"middle\" x=\"113.7463\" y=\"-188.3\" font-family=\"Times,serif\" font-size=\"14.00\" fill=\"#000000\">6</text>\n",
       "</g>\n",
       "<!-- 4 -->\n",
       "<g id=\"node4\" class=\"node\">\n",
       "<title>4</title>\n",
       "<ellipse fill=\"none\" stroke=\"#000000\" cx=\"97.2463\" cy=\"-18\" rx=\"42.4939\" ry=\"18\"/>\n",
       "<text text-anchor=\"middle\" x=\"97.2463\" y=\"-14.3\" font-family=\"Times,serif\" font-size=\"14.00\" fill=\"#000000\"> (1, 6, 0)</text>\n",
       "</g>\n",
       "<!-- 1&#45;&#45;4 -->\n",
       "<g id=\"edge6\" class=\"edge\">\n",
       "<title>1&#45;&#45;4</title>\n",
       "<path fill=\"none\" stroke=\"#000000\" d=\"M128.195,-261.0583C142.3445,-226.52 168.5897,-148.749 148.2463,-87 141.5808,-66.7681 126.4485,-47.6092 114.3883,-34.6374\"/>\n",
       "<text text-anchor=\"middle\" x=\"158.7463\" y=\"-144.8\" font-family=\"Times,serif\" font-size=\"14.00\" fill=\"#000000\">9</text>\n",
       "</g>\n",
       "<!-- 2&#45;&#45;3 -->\n",
       "<g id=\"edge2\" class=\"edge\">\n",
       "<title>2&#45;&#45;3</title>\n",
       "<path fill=\"none\" stroke=\"#000000\" d=\"M53.3763,-174.3943C62.9186,-159.3001 76.5953,-137.6661 86.1327,-122.5796\"/>\n",
       "<text text-anchor=\"middle\" x=\"76.7463\" y=\"-144.8\" font-family=\"Times,serif\" font-size=\"14.00\" fill=\"#000000\">3</text>\n",
       "</g>\n",
       "<!-- 2&#45;&#45;4 -->\n",
       "<g id=\"edge5\" class=\"edge\">\n",
       "<title>2&#45;&#45;4</title>\n",
       "<path fill=\"none\" stroke=\"#000000\" d=\"M37.7857,-173.8949C33.3805,-152.4411 28.6927,-115.9566 39.2463,-87 46.9092,-65.9747 64.1087,-46.9087 77.7997,-34.1736\"/>\n",
       "<text text-anchor=\"middle\" x=\"42.7463\" y=\"-101.3\" font-family=\"Times,serif\" font-size=\"14.00\" fill=\"#000000\">6</text>\n",
       "</g>\n",
       "<!-- 3&#45;&#45;4 -->\n",
       "<g id=\"edge3\" class=\"edge\">\n",
       "<title>3&#45;&#45;4</title>\n",
       "<path fill=\"none\" stroke=\"#000000\" d=\"M97.2463,-86.9735C97.2463,-72.0422 97.2463,-50.9283 97.2463,-36.0034\"/>\n",
       "<text text-anchor=\"middle\" x=\"100.7463\" y=\"-57.8\" font-family=\"Times,serif\" font-size=\"14.00\" fill=\"#000000\">3</text>\n",
       "</g>\n",
       "<!-- 5 -->\n",
       "<g id=\"node5\" class=\"node\">\n",
       "<title>5</title>\n",
       "<ellipse fill=\"none\" stroke=\"#000000\" cx=\"226.2463\" cy=\"-279\" rx=\"42.4939\" ry=\"18\"/>\n",
       "<text text-anchor=\"middle\" x=\"226.2463\" y=\"-275.3\" font-family=\"Times,serif\" font-size=\"14.00\" fill=\"#000000\"> (0, 0, 3)</text>\n",
       "</g>\n",
       "</g>\n",
       "</svg>\n"
      ]
     },
     "execution_count": 33,
     "metadata": {
      "image/svg+xml": {
       "height": 500,
       "width": 500
      }
     },
     "output_type": "execute_result"
    }
   ],
   "source": [
    "JupyterSplashDot(DotEliahouGraph(FactorizationsIntegerWRTList(60,sizes)));"
   ]
  },
  {
   "cell_type": "markdown",
   "metadata": {},
   "source": [
    "There are exactly two elements with nonconnected associated graph in $S$. One is 60, the other already showed up: 18."
   ]
  },
  {
   "cell_type": "code",
   "execution_count": 34,
   "metadata": {},
   "outputs": [
    {
     "data": {
      "image/svg+xml": [
       "<?xml version=\"1.0\" encoding=\"UTF-8\" standalone=\"no\"?>\n",
       "<!DOCTYPE svg PUBLIC \"-//W3C//DTD SVG 1.1//EN\"\n",
       " \"http://www.w3.org/Graphics/SVG/1.1/DTD/svg11.dtd\">\n",
       "<!-- Generated by graphviz version 2.40.1 (20161225.0304)\n",
       " -->\n",
       "<!-- Title: NSGraph Pages: 1 -->\n",
       "<svg width=\"194pt\" height=\"44pt\"\n",
       " viewBox=\"0.00 0.00 194.49 44.00\" xmlns=\"http://www.w3.org/2000/svg\" xmlns:xlink=\"http://www.w3.org/1999/xlink\">\n",
       "<g id=\"graph0\" class=\"graph\" transform=\"scale(1 1) rotate(0) translate(4 40)\">\n",
       "<title>NSGraph</title>\n",
       "<polygon fill=\"#ffffff\" stroke=\"transparent\" points=\"-4,4 -4,-40 190.4925,-40 190.4925,4 -4,4\"/>\n",
       "<!-- 1 -->\n",
       "<g id=\"node1\" class=\"node\">\n",
       "<title>1</title>\n",
       "<ellipse fill=\"none\" stroke=\"#000000\" cx=\"42.2463\" cy=\"-18\" rx=\"42.4939\" ry=\"18\"/>\n",
       "<text text-anchor=\"middle\" x=\"42.2463\" y=\"-14.3\" font-family=\"Times,serif\" font-size=\"14.00\" fill=\"#000000\"> (3, 0, 0)</text>\n",
       "</g>\n",
       "<!-- 2 -->\n",
       "<g id=\"node2\" class=\"node\">\n",
       "<title>2</title>\n",
       "<ellipse fill=\"none\" stroke=\"#000000\" cx=\"144.2463\" cy=\"-18\" rx=\"42.4939\" ry=\"18\"/>\n",
       "<text text-anchor=\"middle\" x=\"144.2463\" y=\"-14.3\" font-family=\"Times,serif\" font-size=\"14.00\" fill=\"#000000\"> (0, 2, 0)</text>\n",
       "</g>\n",
       "</g>\n",
       "</svg>\n"
      ]
     },
     "execution_count": 34,
     "metadata": {
      "image/svg+xml": {
       "height": 500,
       "width": 500
      }
     },
     "output_type": "execute_result"
    }
   ],
   "source": [
    "JupyterSplashDot(DotEliahouGraph(FactorizationsIntegerWRTList(18,sizes)));"
   ]
  },
  {
   "cell_type": "markdown",
   "metadata": {},
   "source": [
    "In order to obtain a 'complete trade system' that allows us to go from any combination of boxes to any other choice, we only need to take expressions in different connected components of the above graphs, so that there is a trade connecting both connected components. "
   ]
  },
  {
   "cell_type": "code",
   "execution_count": 35,
   "metadata": {},
   "outputs": [
    {
     "data": {
      "text/plain": [
       "[ 18, 60 ]"
      ]
     },
     "execution_count": 35,
     "metadata": {
      "text/plain": ""
     },
     "output_type": "execute_result"
    }
   ],
   "source": [
    "BettiElements(S);"
   ]
  },
  {
   "cell_type": "markdown",
   "metadata": {},
   "source": [
    "Another way to visualize possible combinations is through `DotFactorizationGraph` that shows the set of expressions of a nonnegative integer in terms of a given set of nonnegative integers depicted in a graph: the vertices are labelled with the different combinations, and in the edges shows the \"distance\" between factorizations. In red a minimal spanning tree is highlighted. The largest distance in the minimal spanning tree is known as the catenary degree of the integer in the numerical semigroup."
   ]
  },
  {
   "cell_type": "code",
   "execution_count": 36,
   "metadata": {
    "scrolled": false
   },
   "outputs": [
    {
     "data": {
      "image/svg+xml": [
       "<?xml version=\"1.0\" encoding=\"UTF-8\" standalone=\"no\"?>\n",
       "<!DOCTYPE svg PUBLIC \"-//W3C//DTD SVG 1.1//EN\"\n",
       " \"http://www.w3.org/Graphics/SVG/1.1/DTD/svg11.dtd\">\n",
       "<!-- Generated by graphviz version 2.40.1 (20161225.0304)\n",
       " -->\n",
       "<!-- Title: NSGraph Pages: 1 -->\n",
       "<svg width=\"230pt\" height=\"392pt\"\n",
       " viewBox=\"0.00 0.00 230.25 392.00\" xmlns=\"http://www.w3.org/2000/svg\" xmlns:xlink=\"http://www.w3.org/1999/xlink\">\n",
       "<g id=\"graph0\" class=\"graph\" transform=\"scale(1 1) rotate(0) translate(4 388)\">\n",
       "<title>NSGraph</title>\n",
       "<polygon fill=\"#ffffff\" stroke=\"transparent\" points=\"-4,4 -4,-388 226.2463,-388 226.2463,4 -4,4\"/>\n",
       "<!-- 1 -->\n",
       "<g id=\"node1\" class=\"node\">\n",
       "<title>1</title>\n",
       "<ellipse fill=\"none\" stroke=\"#000000\" cx=\"79\" cy=\"-366\" rx=\"46.2923\" ry=\"18\"/>\n",
       "<text text-anchor=\"middle\" x=\"79\" y=\"-362.3\" font-family=\"Times,serif\" font-size=\"14.00\" fill=\"#000000\"> (10, 0, 2)</text>\n",
       "</g>\n",
       "<!-- 2 -->\n",
       "<g id=\"node2\" class=\"node\">\n",
       "<title>2</title>\n",
       "<ellipse fill=\"none\" stroke=\"#000000\" cx=\"113\" cy=\"-279\" rx=\"42.4939\" ry=\"18\"/>\n",
       "<text text-anchor=\"middle\" x=\"113\" y=\"-275.3\" font-family=\"Times,serif\" font-size=\"14.00\" fill=\"#000000\"> (7, 2, 2)</text>\n",
       "</g>\n",
       "<!-- 1&#45;&#45;2 -->\n",
       "<g id=\"edge1\" class=\"edge\">\n",
       "<title>1&#45;&#45;2</title>\n",
       "<path fill=\"none\" stroke=\"#ff0000\" d=\"M86.0448,-347.9735C91.8801,-333.0422 100.1315,-311.9283 105.9642,-297.0034\"/>\n",
       "<text text-anchor=\"middle\" x=\"101.5\" y=\"-318.8\" font-family=\"Times,serif\" font-size=\"14.00\" fill=\"#000000\">3</text>\n",
       "</g>\n",
       "<!-- 3 -->\n",
       "<g id=\"node3\" class=\"node\">\n",
       "<title>3</title>\n",
       "<ellipse fill=\"none\" stroke=\"#000000\" cx=\"113\" cy=\"-192\" rx=\"42.4939\" ry=\"18\"/>\n",
       "<text text-anchor=\"middle\" x=\"113\" y=\"-188.3\" font-family=\"Times,serif\" font-size=\"14.00\" fill=\"#000000\"> (4, 4, 2)</text>\n",
       "</g>\n",
       "<!-- 1&#45;&#45;3 -->\n",
       "<g id=\"edge4\" class=\"edge\">\n",
       "<title>1&#45;&#45;3</title>\n",
       "<path fill=\"none\" stroke=\"#000000\" d=\"M68.819,-348.1494C58.1042,-326.9405 44.1787,-290.6913 55,-261 62.6629,-239.9747 79.8625,-220.9087 93.5534,-208.1736\"/>\n",
       "<text text-anchor=\"middle\" x=\"58.5\" y=\"-275.3\" font-family=\"Times,serif\" font-size=\"14.00\" fill=\"#000000\">6</text>\n",
       "</g>\n",
       "<!-- 4 -->\n",
       "<g id=\"node4\" class=\"node\">\n",
       "<title>4</title>\n",
       "<ellipse fill=\"none\" stroke=\"#000000\" cx=\"180\" cy=\"-105\" rx=\"42.4939\" ry=\"18\"/>\n",
       "<text text-anchor=\"middle\" x=\"180\" y=\"-101.3\" font-family=\"Times,serif\" font-size=\"14.00\" fill=\"#000000\"> (1, 6, 2)</text>\n",
       "</g>\n",
       "<!-- 1&#45;&#45;4 -->\n",
       "<g id=\"edge8\" class=\"edge\">\n",
       "<title>1&#45;&#45;4</title>\n",
       "<path fill=\"none\" stroke=\"#000000\" d=\"M105.5856,-350.9728C124.6733,-338.8228 149.4959,-319.9867 164,-297 198.0937,-242.9667 187.8848,-219.7577 192,-156 192.4294,-149.3472 193.0679,-147.5806 192,-141 191.0291,-135.0172 189.2063,-128.6852 187.2692,-123.0275\"/>\n",
       "<text text-anchor=\"middle\" x=\"192.5\" y=\"-231.8\" font-family=\"Times,serif\" font-size=\"14.00\" fill=\"#000000\">9</text>\n",
       "</g>\n",
       "<!-- 5 -->\n",
       "<g id=\"node5\" class=\"node\">\n",
       "<title>5</title>\n",
       "<ellipse fill=\"none\" stroke=\"#000000\" cx=\"66\" cy=\"-18\" rx=\"42.4939\" ry=\"18\"/>\n",
       "<text text-anchor=\"middle\" x=\"66\" y=\"-14.3\" font-family=\"Times,serif\" font-size=\"14.00\" fill=\"#000000\"> (0, 0, 5)</text>\n",
       "</g>\n",
       "<!-- 1&#45;&#45;5 -->\n",
       "<g id=\"edge10\" class=\"edge\">\n",
       "<title>1&#45;&#45;5</title>\n",
       "<path fill=\"none\" stroke=\"#000000\" d=\"M52.2542,-351.1151C29.3357,-336.1714 0,-310.8272 0,-279 0,-279 0,-279 0,-105 0,-75.235 24.8235,-49.2567 44.023,-33.6155\"/>\n",
       "<text text-anchor=\"middle\" x=\"7\" y=\"-188.3\" font-family=\"Times,serif\" font-size=\"14.00\" fill=\"#000000\">10</text>\n",
       "</g>\n",
       "<!-- 2&#45;&#45;3 -->\n",
       "<g id=\"edge2\" class=\"edge\">\n",
       "<title>2&#45;&#45;3</title>\n",
       "<path fill=\"none\" stroke=\"#ff0000\" d=\"M113,-260.9735C113,-246.0422 113,-224.9283 113,-210.0034\"/>\n",
       "<text text-anchor=\"middle\" x=\"116.5\" y=\"-231.8\" font-family=\"Times,serif\" font-size=\"14.00\" fill=\"#000000\">3</text>\n",
       "</g>\n",
       "<!-- 2&#45;&#45;4 -->\n",
       "<g id=\"edge5\" class=\"edge\">\n",
       "<title>2&#45;&#45;4</title>\n",
       "<path fill=\"none\" stroke=\"#000000\" d=\"M129.0168,-262.3093C140.6604,-249.1641 155.7682,-229.8081 164,-210 175.959,-181.2231 179.1013,-144.6811 179.8559,-123.1674\"/>\n",
       "<text text-anchor=\"middle\" x=\"177.5\" y=\"-188.3\" font-family=\"Times,serif\" font-size=\"14.00\" fill=\"#000000\">6</text>\n",
       "</g>\n",
       "<!-- 2&#45;&#45;5 -->\n",
       "<g id=\"edge9\" class=\"edge\">\n",
       "<title>2&#45;&#45;5</title>\n",
       "<path fill=\"none\" stroke=\"#000000\" d=\"M95.858,-262.3626C83.7977,-249.3908 68.6654,-230.2319 62,-210 41.8652,-148.884 54.3634,-70.7916 61.7343,-36.0567\"/>\n",
       "<text text-anchor=\"middle\" x=\"54.5\" y=\"-144.8\" font-family=\"Times,serif\" font-size=\"14.00\" fill=\"#000000\">9</text>\n",
       "</g>\n",
       "<!-- 3&#45;&#45;4 -->\n",
       "<g id=\"edge3\" class=\"edge\">\n",
       "<title>3&#45;&#45;4</title>\n",
       "<path fill=\"none\" stroke=\"#ff0000\" d=\"M126.237,-174.8116C137.9831,-159.5593 155.0528,-137.3942 166.7905,-122.1527\"/>\n",
       "<text text-anchor=\"middle\" x=\"153.5\" y=\"-144.8\" font-family=\"Times,serif\" font-size=\"14.00\" fill=\"#000000\">3</text>\n",
       "</g>\n",
       "<!-- 3&#45;&#45;5 -->\n",
       "<g id=\"edge7\" class=\"edge\">\n",
       "<title>3&#45;&#45;5</title>\n",
       "<path fill=\"none\" stroke=\"#000000\" d=\"M108.1472,-174.0343C99.1409,-140.6918 79.9362,-69.5937 70.8968,-36.1286\"/>\n",
       "<text text-anchor=\"middle\" x=\"97.5\" y=\"-101.3\" font-family=\"Times,serif\" font-size=\"14.00\" fill=\"#000000\">8</text>\n",
       "</g>\n",
       "<!-- 4&#45;&#45;5 -->\n",
       "<g id=\"edge6\" class=\"edge\">\n",
       "<title>4&#45;&#45;5</title>\n",
       "<path fill=\"none\" stroke=\"#ff0000\" d=\"M159.9254,-88.9833C147.144,-78.8519 130.1932,-65.537 115,-54 106.0886,-47.2331 96.156,-39.8979 87.5758,-33.6252\"/>\n",
       "<text text-anchor=\"middle\" x=\"135.5\" y=\"-57.8\" font-family=\"Times,serif\" font-size=\"14.00\" fill=\"#000000\">7</text>\n",
       "</g>\n",
       "</g>\n",
       "</svg>\n"
      ]
     },
     "execution_count": 36,
     "metadata": {
      "image/svg+xml": {
       "height": 500,
       "width": 500
      }
     },
     "output_type": "execute_result"
    }
   ],
   "source": [
    "JupyterSplashDot(DotFactorizationGraph(FactorizationsIntegerWRTList(100,sizes)));"
   ]
  },
  {
   "cell_type": "code",
   "execution_count": 37,
   "metadata": {},
   "outputs": [
    {
     "data": {
      "text/plain": [
       "7"
      ]
     },
     "execution_count": 37,
     "metadata": {
      "text/plain": ""
     },
     "output_type": "execute_result"
    }
   ],
   "source": [
    "CatenaryDegree(100,S);"
   ]
  },
  {
   "cell_type": "markdown",
   "metadata": {},
   "source": [
    "It has been shown that the catenary degree strongly depends on the trades, and that it becomes eventually periodic."
   ]
  },
  {
   "cell_type": "code",
   "execution_count": 38,
   "metadata": {
    "scrolled": true
   },
   "outputs": [
    {
     "data": {
      "application/javascript": [
       "( function ( element ) {\n",
       "if ( !window.JUPVIZLibs ) window.JUPVIZLibs = { };\n",
       "if ( !window.JUPVIZLibs[\"main\"] ) {\n",
       "window.createVisualization=function(element,data,callback){if(window.VisualizationTools[data.tool])window.VisualizationTools[data.tool](element,data,callback);else{window.VisualizationTools.html(element,{data:{html:'Error: No known visualization tool, \"'+data.tool+'.\"'}},callback)}};window.VisualizationTools={html:function(element,json,callback){var div=document.createElement(\"div\");element.appendChild(div);div.innerHTML=json.data.html;if(json.width)$(div).width(json.width);if(json.height)$(div).height(json.height);callback(element,div)}};window.resizeToShowContents=function(element){var maxima={right:0,bottom:0};$(element).find(\"*\").each(function(idx,elt){var $elt=$(elt);var right=$elt.position().left+$elt.outerWidth();var bottom=$elt.position().top+$elt.outerHeight();maxima={right:Math.max(right,maxima.right),bottom:Math.max(bottom,maxima.bottom)}});var $element=$(element);$element.width(maxima.right-$element.position().left);$element.height(maxima.bottom-$element.position().top)};\n",
       "    window.JUPVIZLibs[\"main\"] = 'loaded';\n",
       "}\n",
       "if ( !window.JUPVIZLibs[\"viz-tool-plotly\"] ) {\n",
       "window.requirejs.config({paths:{plotly:\"https://cdn.plot.ly/plotly-latest.min\"}});window.VisualizationTools.plotly=function(element,json,callback){require([\"plotly\"],function(plotly){plotly.newPlot(element,json.data);callback(element,element.childNodes[0])})};\n",
       "    window.JUPVIZLibs[\"viz-tool-plotly\"] = 'loaded';\n",
       "}\n",
       "window.createVisualization(element,{\"data\" : {\"data\" : [{\"x\" : [0,6,9,12,15,18,20,21,24,26,27,29,30,32,33,35,36,38,39,40,41,42,44,45,46,47,48,49,50,51,52,53,54,55,56,57,58,59,60,61,62,63,64,65,66,67,68,69,70,71,72,73,74,75,76,77,78,79,80,81,82,83,84,85,86,87,88,89,90,91,92,93,94,95,96,97,98,99,100,101,102,103,104,105,106,107,108,109,110,111,112,113,114,115,116,117,118,119,120,121,122,123,124,125,126,127,128,129,130,131,132,133,134,135,136,137,138,139,140,141,142,143,144,145,146,147,148,149,150],\"y\" : [0,0,0,0,0,3,0,0,3,0,3,0,3,0,3,0,3,3,3,0,0,3,3,3,0,3,3,0,3,3,0,3,3,0,3,3,3,3,7,0,3,3,3,3,7,3,3,7,3,3,7,3,3,7,3,3,7,3,7,7,3,3,7,3,7,7,3,7,7,3,7,7,3,7,7,3,7,7,7,7,7,3,7,7,7,7,7,7,7,7,7,7,7,7,7,7,7,7,7,7,7,7,7,7,7,7,7,7,7,7,7,7,7,7,7,7,7,7,7,7,7,7,7,7,7,7,7,7,7],\"type\" : \"bar\"}],\"layout\" : {\"height\" : 400,\"title\" : \"catenary degree of elements in the semigroup\",\"xaxis\" : {\"title\" : \"n\"},\"yaxis\" : {\"title\" : \"catenary degree\"}}},\"tool\" : \"plotly\"}\n",
       ",function(element,visualization){\n",
       "});\n",
       "} )( element.get( 0 ) )"
      ]
     },
     "execution_count": 38,
     "metadata": {
      "application/javascript": ""
     },
     "output_type": "execute_result"
    }
   ],
   "source": [
    "Plot(Intersection(S,[0..150]), x->CatenaryDegree(x,S), \n",
    " rec(\n",
    "title := \"catenary degree of elements in the semigroup\",\n",
    "          xaxis := \"n\",\n",
    "yaxis := \"catenary degree\", type:=\"bar\" ));"
   ]
  },
  {
   "cell_type": "markdown",
   "metadata": {},
   "source": [
    "The maximum can be computed with the trades."
   ]
  },
  {
   "cell_type": "code",
   "execution_count": 39,
   "metadata": {},
   "outputs": [
    {
     "data": {
      "text/plain": [
       "7"
      ]
     },
     "execution_count": 39,
     "metadata": {
      "text/plain": ""
     },
     "output_type": "execute_result"
    }
   ],
   "source": [
    "CatenaryDegree(S);"
   ]
  },
  {
   "cell_type": "markdown",
   "metadata": {},
   "source": [
    "We saw above a plot with the possible number of boxes required for each amount of nuggets, and as expected the number of boxes will increase as the amount of nuggets increases. There is a measure to detect how spread are this boxes (notice that the catenary degree already measures somehow this based on distances): we can compute the difference of two consecutive possible number of boxes of a fixed amount of nuggets. This invariant is known as the Delta set, and it is upper bounded from by the Delta set of the elements appearing in a minimal presentation of the semigroup."
   ]
  },
  {
   "cell_type": "code",
   "execution_count": 42,
   "metadata": {},
   "outputs": [
    {
     "data": {
      "application/javascript": [
       "( function ( element ) {\n",
       "if ( !window.JUPVIZLibs ) window.JUPVIZLibs = { };\n",
       "if ( !window.JUPVIZLibs[\"main\"] ) {\n",
       "window.createVisualization=function(element,data,callback){if(window.VisualizationTools[data.tool])window.VisualizationTools[data.tool](element,data,callback);else{window.VisualizationTools.html(element,{data:{html:'Error: No known visualization tool, \"'+data.tool+'.\"'}},callback)}};window.VisualizationTools={html:function(element,json,callback){var div=document.createElement(\"div\");element.appendChild(div);div.innerHTML=json.data.html;if(json.width)$(div).width(json.width);if(json.height)$(div).height(json.height);callback(element,div)}};window.resizeToShowContents=function(element){var maxima={right:0,bottom:0};$(element).find(\"*\").each(function(idx,elt){var $elt=$(elt);var right=$elt.position().left+$elt.outerWidth();var bottom=$elt.position().top+$elt.outerHeight();maxima={right:Math.max(right,maxima.right),bottom:Math.max(bottom,maxima.bottom)}});var $element=$(element);$element.width(maxima.right-$element.position().left);$element.height(maxima.bottom-$element.position().top)};\n",
       "    window.JUPVIZLibs[\"main\"] = 'loaded';\n",
       "}\n",
       "if ( !window.JUPVIZLibs[\"viz-tool-canvasjs\"] ) {\n",
       "window.requirejs.config({paths:{canvasjs:\"https://cdnjs.cloudflare.com/ajax/libs/canvasjs/1.7.0/canvasjs.min\"}});window.VisualizationTools.canvasjs=function(element,json,callback){require([\"canvasjs\"],function(canvasjs){new window.CanvasJS.Chart(element,json.data).render();window.resizeToShowContents(element);callback(element,element.childNodes[0])})};\n",
       "    window.JUPVIZLibs[\"viz-tool-canvasjs\"] = 'loaded';\n",
       "}\n",
       "window.createVisualization(element,{\"data\" : {\"data\" : [{\"type\" : \"scatter\",\"dataPoints\" : [{\"x\" : 18,\"y\" : 1},{\"x\" : 24,\"y\" : 1},{\"x\" : 27,\"y\" : 1},{\"x\" : 30,\"y\" : 1},{\"x\" : 33,\"y\" : 1},{\"x\" : 36,\"y\" : 1},{\"x\" : 38,\"y\" : 1},{\"x\" : 39,\"y\" : 1},{\"x\" : 42,\"y\" : 1},{\"x\" : 44,\"y\" : 1},{\"x\" : 45,\"y\" : 1},{\"x\" : 47,\"y\" : 1},{\"x\" : 48,\"y\" : 1},{\"x\" : 50,\"y\" : 1}]}],\"height\" : 400,\"animationEnabled\" : true},\"tool\" : \"canvasjs\"}\n",
       ",function(element,visualization){\n",
       "});\n",
       "} )( element.get( 0 ) )"
      ]
     },
     "execution_count": 42,
     "metadata": {
      "application/javascript": ""
     },
     "output_type": "execute_result"
    }
   ],
   "source": [
    "l:=[];;\n",
    "for s in Intersection([0..50],S) do\n",
    "    Append(l,List(DeltaSet(LengthsOfFactorizationsIntegerWRTList(s,sizes)), d->[s,d]));;\n",
    "od;\n",
    "Plot(l,rec(type:=\"scatter\",tool:=\"canvasjs\"));"
   ]
  },
  {
   "cell_type": "markdown",
   "metadata": {},
   "source": [
    "The union of all Delta sets can be computed explicitly (though in general requires some complex computations)."
   ]
  },
  {
   "cell_type": "code",
   "execution_count": 43,
   "metadata": {
    "scrolled": true
   },
   "outputs": [
    {
     "data": {
      "text/plain": [
       "[ 1, 2, 3, 4 ]"
      ]
     },
     "execution_count": 43,
     "metadata": {
      "text/plain": ""
     },
     "output_type": "execute_result"
    }
   ],
   "source": [
    "DeltaSet(S);"
   ]
  },
  {
   "cell_type": "markdown",
   "metadata": {},
   "source": [
    "Observe that in the above plot, we have not catched all possibilities. We will extend the range, until we get all possible \"deltas\"."
   ]
  },
  {
   "cell_type": "code",
   "execution_count": 46,
   "metadata": {},
   "outputs": [
    {
     "data": {
      "application/javascript": [
       "( function ( element ) {\n",
       "if ( !window.JUPVIZLibs ) window.JUPVIZLibs = { };\n",
       "if ( !window.JUPVIZLibs[\"main\"] ) {\n",
       "window.createVisualization=function(element,data,callback){if(window.VisualizationTools[data.tool])window.VisualizationTools[data.tool](element,data,callback);else{window.VisualizationTools.html(element,{data:{html:'Error: No known visualization tool, \"'+data.tool+'.\"'}},callback)}};window.VisualizationTools={html:function(element,json,callback){var div=document.createElement(\"div\");element.appendChild(div);div.innerHTML=json.data.html;if(json.width)$(div).width(json.width);if(json.height)$(div).height(json.height);callback(element,div)}};window.resizeToShowContents=function(element){var maxima={right:0,bottom:0};$(element).find(\"*\").each(function(idx,elt){var $elt=$(elt);var right=$elt.position().left+$elt.outerWidth();var bottom=$elt.position().top+$elt.outerHeight();maxima={right:Math.max(right,maxima.right),bottom:Math.max(bottom,maxima.bottom)}});var $element=$(element);$element.width(maxima.right-$element.position().left);$element.height(maxima.bottom-$element.position().top)};\n",
       "    window.JUPVIZLibs[\"main\"] = 'loaded';\n",
       "}\n",
       "if ( !window.JUPVIZLibs[\"viz-tool-canvasjs\"] ) {\n",
       "window.requirejs.config({paths:{canvasjs:\"https://cdnjs.cloudflare.com/ajax/libs/canvasjs/1.7.0/canvasjs.min\"}});window.VisualizationTools.canvasjs=function(element,json,callback){require([\"canvasjs\"],function(canvasjs){new window.CanvasJS.Chart(element,json.data).render();window.resizeToShowContents(element);callback(element,element.childNodes[0])})};\n",
       "    window.JUPVIZLibs[\"viz-tool-canvasjs\"] = 'loaded';\n",
       "}\n",
       "window.createVisualization(element,{\"data\" : {\"data\" : [{\"type\" : \"scatter\",\"dataPoints\" : [{\"x\" : 18,\"y\" : 1},{\"x\" : 24,\"y\" : 1},{\"x\" : 27,\"y\" : 1},{\"x\" : 30,\"y\" : 1},{\"x\" : 33,\"y\" : 1},{\"x\" : 36,\"y\" : 1},{\"x\" : 38,\"y\" : 1},{\"x\" : 39,\"y\" : 1},{\"x\" : 42,\"y\" : 1},{\"x\" : 44,\"y\" : 1},{\"x\" : 45,\"y\" : 1},{\"x\" : 47,\"y\" : 1},{\"x\" : 48,\"y\" : 1},{\"x\" : 50,\"y\" : 1},{\"x\" : 51,\"y\" : 1},{\"x\" : 53,\"y\" : 1},{\"x\" : 54,\"y\" : 1},{\"x\" : 56,\"y\" : 1},{\"x\" : 57,\"y\" : 1},{\"x\" : 58,\"y\" : 1},{\"x\" : 59,\"y\" : 1},{\"x\" : 60,\"y\" : 1},{\"x\" : 60,\"y\" : 4},{\"x\" : 62,\"y\" : 1},{\"x\" : 63,\"y\" : 1},{\"x\" : 64,\"y\" : 1},{\"x\" : 65,\"y\" : 1},{\"x\" : 66,\"y\" : 1},{\"x\" : 66,\"y\" : 4},{\"x\" : 67,\"y\" : 1},{\"x\" : 68,\"y\" : 1},{\"x\" : 69,\"y\" : 1},{\"x\" : 69,\"y\" : 4},{\"x\" : 70,\"y\" : 1},{\"x\" : 71,\"y\" : 1},{\"x\" : 72,\"y\" : 1},{\"x\" : 72,\"y\" : 3},{\"x\" : 73,\"y\" : 1},{\"x\" : 74,\"y\" : 1},{\"x\" : 75,\"y\" : 1},{\"x\" : 75,\"y\" : 4},{\"x\" : 76,\"y\" : 1},{\"x\" : 77,\"y\" : 1},{\"x\" : 78,\"y\" : 1},{\"x\" : 78,\"y\" : 3},{\"x\" : 79,\"y\" : 1},{\"x\" : 80,\"y\" : 1},{\"x\" : 80,\"y\" : 4},{\"x\" : 81,\"y\" : 1},{\"x\" : 81,\"y\" : 3},{\"x\" : 82,\"y\" : 1},{\"x\" : 83,\"y\" : 1},{\"x\" : 84,\"y\" : 1},{\"x\" : 84,\"y\" : 3},{\"x\" : 85,\"y\" : 1},{\"x\" : 86,\"y\" : 1},{\"x\" : 86,\"y\" : 4},{\"x\" : 87,\"y\" : 1},{\"x\" : 87,\"y\" : 3},{\"x\" : 88,\"y\" : 1},{\"x\" : 89,\"y\" : 1},{\"x\" : 89,\"y\" : 4},{\"x\" : 90,\"y\" : 1},{\"x\" : 90,\"y\" : 2},{\"x\" : 91,\"y\" : 1},{\"x\" : 92,\"y\" : 1},{\"x\" : 92,\"y\" : 3},{\"x\" : 93,\"y\" : 1},{\"x\" : 93,\"y\" : 3},{\"x\" : 94,\"y\" : 1},{\"x\" : 95,\"y\" : 1},{\"x\" : 95,\"y\" : 4},{\"x\" : 96,\"y\" : 1},{\"x\" : 96,\"y\" : 2},{\"x\" : 97,\"y\" : 1},{\"x\" : 98,\"y\" : 1},{\"x\" : 98,\"y\" : 3},{\"x\" : 99,\"y\" : 1},{\"x\" : 99,\"y\" : 2},{\"x\" : 100,\"y\" : 1},{\"x\" : 100,\"y\" : 4}]}],\"height\" : 400,\"animationEnabled\" : true},\"tool\" : \"canvasjs\"}\n",
       ",function(element,visualization){\n",
       "});\n",
       "} )( element.get( 0 ) )"
      ]
     },
     "execution_count": 46,
     "metadata": {
      "application/javascript": ""
     },
     "output_type": "execute_result"
    }
   ],
   "source": [
    "l:=[];;\n",
    "for s in Intersection([0..100],S) do\n",
    "    Append(l,List(DeltaSet(LengthsOfFactorizationsIntegerWRTList(s,sizes)), d->[s,d]));;\n",
    "od;\n",
    "Plot(l,rec(type:=\"scatter\",tool:=\"canvasjs\"));"
   ]
  },
  {
   "cell_type": "markdown",
   "metadata": {},
   "source": [
    "Let us see what are the \"deltas\" involved in our trading system."
   ]
  },
  {
   "cell_type": "code",
   "execution_count": 143,
   "metadata": {
    "scrolled": true
   },
   "outputs": [
    {
     "data": {
      "text/plain": [
       "[ 18, 60 ]"
      ]
     },
     "execution_count": 143,
     "metadata": {
      "text/plain": ""
     },
     "output_type": "execute_result"
    }
   ],
   "source": [
    "BettiElements(S);"
   ]
  },
  {
   "cell_type": "code",
   "execution_count": 144,
   "metadata": {
    "scrolled": true
   },
   "outputs": [
    {
     "data": {
      "text/plain": [
       "[ 1 ]"
      ]
     },
     "execution_count": 144,
     "metadata": {
      "text/plain": ""
     },
     "output_type": "execute_result"
    }
   ],
   "source": [
    "DeltaSet(LengthsOfFactorizationsIntegerWRTList(18,sizes));"
   ]
  },
  {
   "cell_type": "code",
   "execution_count": 145,
   "metadata": {},
   "outputs": [
    {
     "data": {
      "text/plain": [
       "[ 1, 4 ]"
      ]
     },
     "execution_count": 145,
     "metadata": {
      "text/plain": ""
     },
     "output_type": "execute_result"
    }
   ],
   "source": [
    "DeltaSet(LengthsOfFactorizationsIntegerWRTList(60,sizes));"
   ]
  }
 ],
 "metadata": {
  "kernelspec": {
   "display_name": "GAP 4",
   "language": "gap",
   "name": "gap-4"
  },
  "language_info": {
   "codemirror_mode": "gap",
   "file_extension": ".g",
   "mimetype": "text/x-gap",
   "name": "GAP 4",
   "nbconvert_exporter": "",
   "pygments_lexer": "gap",
   "version": "4.10.0"
  }
 },
 "nbformat": 4,
 "nbformat_minor": 2
}
