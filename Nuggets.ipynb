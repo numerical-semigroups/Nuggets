{
 "cells": [
  {
   "cell_type": "markdown",
   "metadata": {},
   "source": [
    "# Nuggets and `gap`"
   ]
  },
  {
   "cell_type": "markdown",
   "metadata": {},
   "source": [
    "The problem is simple. You want to buy a certain amount of nuggets, and the store offers boxes of 6, 9 and 20 (as it was in MacDonnald's sometime in the last century; nowadays the boxes are not so generous). You actually want to have the exact amount of Nuggets you want to eat, no one above no one below. So for instance, you cannot buy four nuggets, not 10. But you have several ways to buy 18 nuggets: three boxes of six, or two boxes of nine.\n",
    "\n",
    "We want to visualize first in how many ways can we buy a certain amount of Nuggets. To this end we will use the `gap` function `NrRestrictedPartitions` and the `gap` package `jupyterviz`."
   ]
  },
  {
   "cell_type": "code",
   "execution_count": 2,
   "metadata": {},
   "outputs": [
    {
     "data": {
      "text/plain": [
       "true"
      ]
     },
     "execution_count": 2,
     "metadata": {
      "text/plain": ""
     },
     "output_type": "execute_result"
    }
   ],
   "source": [
    "LoadPackage(\"francy\");"
   ]
  },
  {
   "cell_type": "code",
   "execution_count": 3,
   "metadata": {},
   "outputs": [
    {
     "data": {
      "text/plain": [
       "true"
      ]
     },
     "execution_count": 3,
     "metadata": {
      "text/plain": ""
     },
     "output_type": "execute_result"
    }
   ],
   "source": [
    "LoadPackage(\"jupyterviz\");"
   ]
  },
  {
   "cell_type": "markdown",
   "metadata": {},
   "source": [
    "Let us start by showing how many ways of buying Nuggets do we have in the range $\\{0,\\ldots,50\\}$."
   ]
  },
  {
   "cell_type": "code",
   "execution_count": 4,
   "metadata": {},
   "outputs": [
    {
     "data": {
      "application/javascript": [
       "( function ( element ) {\n",
       "if(!window.hasOwnProperty(\"runGAP\")){window.runGAP=function(code,callback){if(!Jupyter||!Jupyter.notebook||!Jupyter.notebook.kernel)return callback(null,\"JavaScript-based output must be re-evaluated when the notebook\"+\" is reloaded.  (Re-run the cell to clear this problem.)\");var errorMessages=[];var timeout=null;Jupyter.notebook.kernel.execute(code,{iopub:{output:function(message){if(\"data\"in message.content)return callback(message.content.data,null);if(!(\"text\"in message.content))return callback(null,message.content);errorMessages.push(message.content.text);if(timeout!==null)clearTimeout(timeout);timeout=setTimeout(function(){callback(null,errorMessages.join(\"\\n\"))},200)},clear_output:function(message){}},shell:{reply:function(message){}},input:function(message){}},{})}}if(!window.hasOwnProperty(\"librariesLoadedFromGAP\")){window.librariesLoadedFromGAP={}}function myCallback(){if(!window.hasOwnProperty(\"librariesLoadedFromGAP\")){window.librariesLoadedFromGAP={}}function myCallback(){window.createVisualization(element,{\"data\" : {\"data\" : [{\"x\" : [0,1,2,3,4,5,6,7,8,9,10,11,12,13,14,15,16,17,18,19,20,21,22,23,24,25,26,27,28,29,30,31,32,33,34,35,36,37,38,39,40,41,42,43,44,45,46,47,48,49,50],\"y\" : [1,0,0,0,0,0,1,0,0,1,0,0,1,0,0,1,0,0,2,0,1,1,0,0,2,0,1,2,0,1,2,0,1,2,0,1,3,0,2,2,1,1,3,0,2,3,1,2,3,1,2],\"type\" : \"bar\"}],\"layout\" : {\"height\" : 400,\"title\" : \"Different ways to buy this many Nuggets\",\"xaxis\" : {\"title\" : \"number of Nuggets, n\"},\"yaxis\" : {\"title\" : \"number of expressions of n in terms of the boxes\"}}},\"tool\" : \"plotly\"}\n",
       ",function(element,visualization){\n",
       "});\n",
       "}if(window.librariesLoadedFromGAP.hasOwnProperty(\"viz-tool-plotly\"\n",
       ")){myCallback()}else{var filenameString=JSON.stringify(\"viz-tool-plotly\"\n",
       ");var GAPcode=\"JUPVIZFileContents( LoadJavaScriptFile( \"+filenameString+\" ) );\";window.runGAP(GAPcode,function(result,error){if(error)throw Error(\"When loading library \"+filenameString+\": \"+error);result=result[\"text/plain\"];window.librariesLoadedFromGAP[\"viz-tool-plotly\"\n",
       "]=result;try{var whatItEvaluatesTo=eval(result)}catch(e){throw Error(\"Error evaluating code for library \"+filenameString+\": \"+e)}return myCallback()})}\n",
       "}if(window.librariesLoadedFromGAP.hasOwnProperty(\"main\"\n",
       ")){myCallback()}else{var filenameString=JSON.stringify(\"main\"\n",
       ");var GAPcode=\"JUPVIZFileContents( LoadJavaScriptFile( \"+filenameString+\" ) );\";window.runGAP(GAPcode,function(result,error){if(error)throw Error(\"When loading library \"+filenameString+\": \"+error);result=result[\"text/plain\"];window.librariesLoadedFromGAP[\"main\"\n",
       "]=result;try{var whatItEvaluatesTo=eval(result)}catch(e){throw Error(\"Error evaluating code for library \"+filenameString+\": \"+e)}return myCallback()})}\n",
       ";\n",
       "} )( element.get( 0 ) )"
      ]
     },
     "execution_count": 4,
     "metadata": {
      "application/javascript": ""
     },
     "output_type": "execute_result"
    }
   ],
   "source": [
    "Plot([0..50], x->NrRestrictedPartitions(x,[6,9,20]), \n",
    " rec(\n",
    "title := \"Different ways to buy this many Nuggets\",\n",
    "          xaxis := \"n\",\n",
    "yaxis := \"number of expressions of n in terms of the boxes\", \n",
    "xaxis := \"number of Nuggets, n\",\n",
    "type:=\"bar\"\n",
    "      ));"
   ]
  },
  {
   "cell_type": "markdown",
   "metadata": {},
   "source": [
    "We will now overprint to the above bar diagram the minimum number of boxes required to obtain the dessired number of Nuggets. "
   ]
  },
  {
   "cell_type": "code",
   "execution_count": 8,
   "metadata": {},
   "outputs": [
    {
     "data": {
      "application/javascript": [
       "( function ( element ) {\n",
       "if(!window.hasOwnProperty(\"runGAP\")){window.runGAP=function(code,callback){if(!Jupyter||!Jupyter.notebook||!Jupyter.notebook.kernel)return callback(null,\"JavaScript-based output must be re-evaluated when the notebook\"+\" is reloaded.  (Re-run the cell to clear this problem.)\");var errorMessages=[];var timeout=null;Jupyter.notebook.kernel.execute(code,{iopub:{output:function(message){if(\"data\"in message.content)return callback(message.content.data,null);if(!(\"text\"in message.content))return callback(null,message.content);errorMessages.push(message.content.text);if(timeout!==null)clearTimeout(timeout);timeout=setTimeout(function(){callback(null,errorMessages.join(\"\\n\"))},200)},clear_output:function(message){}},shell:{reply:function(message){}},input:function(message){}},{})}}if(!window.hasOwnProperty(\"librariesLoadedFromGAP\")){window.librariesLoadedFromGAP={}}function myCallback(){if(!window.hasOwnProperty(\"librariesLoadedFromGAP\")){window.librariesLoadedFromGAP={}}function myCallback(){window.createVisualization(element,{\"data\" : {\"data\" : [{\"x\" : [0,1,2,3,4,5,6,7,8,9,10,11,12,13,14,15,16,17,18,19,20,21,22,23,24,25,26,27,28,29,30,31,32,33,34,35,36,37,38,39,40,41,42,43,44,45,46,47,48,49,50,51,52,53,54,55,56,57,58,59,60,61,62,63,64,65,66,67,68,69,70,71,72,73,74,75,76,77,78,79,80,81,82,83,84,85,86,87,88,89,90,91,92,93,94,95,96,97,98,99,100],\"y\" : [1,0,0,0,0,0,1,0,0,1,0,0,1,0,0,1,0,0,2,0,1,1,0,0,2,0,1,2,0,1,2,0,1,2,0,1,3,0,2,2,1,1,3,0,2,3,1,2,3,1,2,3,1,2,4,1,3,3,2,2,5,1,3,4,2,3,5,2,3,5,2,3,6,2,4,5,3,3,7,2,5,6,3,4,7,3,5,7,3,5,8,3,6,7,4,5,9,3,7,8,5],\"type\" : \"bar\"},{\"x\" : [0,1,2,3,4,5,6,7,8,9,10,11,12,13,14,15,16,17,18,19,20,21,22,23,24,25,26,27,28,29,30,31,32,33,34,35,36,37,38,39,40,41,42,43,44,45,46,47,48,49,50,51,52,53,54,55,56,57,58,59,60,61,62,63,64,65,66,67,68,69,70,71,72,73,74,75,76,77,78,79,80,81,82,83,84,85,86,87,88,89,90,91,92,93,94,95,96,97,98,99,100],\"y\" : [0,0,0,0,0,0,1,0,0,1,0,0,2,0,0,2,0,0,2,0,1,3,0,0,3,0,2,3,0,2,4,0,3,4,0,3,4,0,3,5,2,4,5,0,4,5,3,4,6,3,5,6,4,5,6,4,5,7,4,6,3,5,6,7,5,6,4,5,7,4,6,7,5,6,7,5,6,8,5,7,4,6,7,8,6,7,5,6,8,5,7,8,6,7,8,6,7,9,6,8,5],\"name\" : \"min # boxes\",\"type\" : \"line\"},{\"x\" : [0,1,2,3,4,5,6,7,8,9,10,11,12,13,14,15,16,17,18,19,20,21,22,23,24,25,26,27,28,29,30,31,32,33,34,35,36,37,38,39,40,41,42,43,44,45,46,47,48,49,50,51,52,53,54,55,56,57,58,59,60,61,62,63,64,65,66,67,68,69,70,71,72,73,74,75,76,77,78,79,80,81,82,83,84,85,86,87,88,89,90,91,92,93,94,95,96,97,98,99,100],\"y\" : [0,0,0,0,0,0,1,0,0,1,0,0,2,0,0,2,0,0,3,0,1,3,0,0,4,0,2,4,0,2,5,0,3,5,0,3,6,0,4,6,2,4,7,0,5,7,3,5,8,3,6,8,4,6,9,4,7,9,5,7,10,5,8,10,6,8,11,6,9,11,7,9,12,7,10,12,8,10,13,8,11,13,9,11,14,9,12,14,10,12,15,10,13,15,11,13,16,11,14,16,12],\"name\" : \"max # boxes\",\"type\" : \"line\"}],\"layout\" : {\"height\" : 400,\"title\" : \"Different ways to buy this many Nuggets\",\"xaxis\" : {\"title\" : \"number of Nuggets, n\"},\"yaxis\" : {\"title\" : \"number of expressions of n in terms of the boxes\"}}},\"tool\" : \"plotly\"}\n",
       ",function(element,visualization){\n",
       "});\n",
       "}if(window.librariesLoadedFromGAP.hasOwnProperty(\"viz-tool-plotly\"\n",
       ")){myCallback()}else{var filenameString=JSON.stringify(\"viz-tool-plotly\"\n",
       ");var GAPcode=\"JUPVIZFileContents( LoadJavaScriptFile( \"+filenameString+\" ) );\";window.runGAP(GAPcode,function(result,error){if(error)throw Error(\"When loading library \"+filenameString+\": \"+error);result=result[\"text/plain\"];window.librariesLoadedFromGAP[\"viz-tool-plotly\"\n",
       "]=result;try{var whatItEvaluatesTo=eval(result)}catch(e){throw Error(\"Error evaluating code for library \"+filenameString+\": \"+e)}return myCallback()})}\n",
       "}if(window.librariesLoadedFromGAP.hasOwnProperty(\"main\"\n",
       ")){myCallback()}else{var filenameString=JSON.stringify(\"main\"\n",
       ");var GAPcode=\"JUPVIZFileContents( LoadJavaScriptFile( \"+filenameString+\" ) );\";window.runGAP(GAPcode,function(result,error){if(error)throw Error(\"When loading library \"+filenameString+\": \"+error);result=result[\"text/plain\"];window.librariesLoadedFromGAP[\"main\"\n",
       "]=result;try{var whatItEvaluatesTo=eval(result)}catch(e){throw Error(\"Error evaluating code for library \"+filenameString+\": \"+e)}return myCallback()})}\n",
       ";\n",
       "} )( element.get( 0 ) )"
      ]
     },
     "execution_count": 8,
     "metadata": {
      "application/javascript": ""
     },
     "output_type": "execute_result"
    }
   ],
   "source": [
    "sizes:=[6,9,20];;\n",
    "min:=function(l)\n",
    "    if l=[] then return 0; else return(Minimum(l)); fi;\n",
    "end;;\n",
    "max:=function(l)\n",
    "    if l=[] then return 0; else return(Maximum(l)); fi;\n",
    "end;;\n",
    "Plot([[0..100], x->NrRestrictedPartitions(x,sizes), \n",
    " rec(\n",
    "title := \"Different ways to buy this many Nuggets\",\n",
    "          xaxis := \"n\",\n",
    "yaxis := \"number of expressions of n in terms of the boxes\", \n",
    "xaxis := \"number of Nuggets, n\",\n",
    "type:=\"bar\"\n",
    ")], \n",
    "[[0..100], x->min(List(RestrictedPartitions(x,sizes),Length)), \n",
    " rec(\n",
    "type:=\"line\", name:=\"min # boxes\",\n",
    ")],\n",
    "[[0..100], x->max(List(RestrictedPartitions(x,sizes),Length)), \n",
    " rec(\n",
    "type:=\"line\", name:=\"max # boxes\",\n",
    ")]\n",
    ");"
   ]
  },
  {
   "cell_type": "markdown",
   "metadata": {},
   "source": [
    "Let us have a closer look at the number of ways one can buy 150 nuggets."
   ]
  },
  {
   "cell_type": "code",
   "execution_count": 11,
   "metadata": {},
   "outputs": [
    {
     "data": {
      "application/javascript": [
       "( function ( element ) {\n",
       "if(!window.hasOwnProperty(\"runGAP\")){window.runGAP=function(code,callback){if(!Jupyter||!Jupyter.notebook||!Jupyter.notebook.kernel)return callback(null,\"JavaScript-based output must be re-evaluated when the notebook\"+\" is reloaded.  (Re-run the cell to clear this problem.)\");var errorMessages=[];var timeout=null;Jupyter.notebook.kernel.execute(code,{iopub:{output:function(message){if(\"data\"in message.content)return callback(message.content.data,null);if(!(\"text\"in message.content))return callback(null,message.content);errorMessages.push(message.content.text);if(timeout!==null)clearTimeout(timeout);timeout=setTimeout(function(){callback(null,errorMessages.join(\"\\n\"))},200)},clear_output:function(message){}},shell:{reply:function(message){}},input:function(message){}},{})}}if(!window.hasOwnProperty(\"librariesLoadedFromGAP\")){window.librariesLoadedFromGAP={}}function myCallback(){if(!window.hasOwnProperty(\"librariesLoadedFromGAP\")){window.librariesLoadedFromGAP={}}function myCallback(){window.createVisualization(element,{\"data\" : {\"data\" : [{\"values\" : [1,1,1,1,1,1,2,2,1,1,1,1,1,1,1],\"type\" : \"pie\",\"labels\" : [10,11,13,14,15,16,17,18,19,20,21,22,23,24,25]}],\"layout\" : {\"height\" : 500,\"title\" : \"Classifying the number of differnt ways to buy 150 Nuggets, depending on the number of boxes needed\"}},\"tool\" : \"plotly\"}\n",
       ",function(element,visualization){\n",
       "});\n",
       "}if(window.librariesLoadedFromGAP.hasOwnProperty(\"viz-tool-plotly\"\n",
       ")){myCallback()}else{var filenameString=JSON.stringify(\"viz-tool-plotly\"\n",
       ");var GAPcode=\"JUPVIZFileContents( LoadJavaScriptFile( \"+filenameString+\" ) );\";window.runGAP(GAPcode,function(result,error){if(error)throw Error(\"When loading library \"+filenameString+\": \"+error);result=result[\"text/plain\"];window.librariesLoadedFromGAP[\"viz-tool-plotly\"\n",
       "]=result;try{var whatItEvaluatesTo=eval(result)}catch(e){throw Error(\"Error evaluating code for library \"+filenameString+\": \"+e)}return myCallback()})}\n",
       "}if(window.librariesLoadedFromGAP.hasOwnProperty(\"main\"\n",
       ")){myCallback()}else{var filenameString=JSON.stringify(\"main\"\n",
       ");var GAPcode=\"JUPVIZFileContents( LoadJavaScriptFile( \"+filenameString+\" ) );\";window.runGAP(GAPcode,function(result,error){if(error)throw Error(\"When loading library \"+filenameString+\": \"+error);result=result[\"text/plain\"];window.librariesLoadedFromGAP[\"main\"\n",
       "]=result;try{var whatItEvaluatesTo=eval(result)}catch(e){throw Error(\"Error evaluating code for library \"+filenameString+\": \"+e)}return myCallback()})}\n",
       ";\n",
       "} )( element.get( 0 ) )"
      ]
     },
     "execution_count": 11,
     "metadata": {
      "application/javascript": ""
     },
     "output_type": "execute_result"
    }
   ],
   "source": [
    "p:=RestrictedPartitions(150,sizes);;\n",
    "ls:=List(p,Length);;\n",
    "Plot(Set(ls),x->Length(Filtered(ls,l->l=x)), rec(type:=\"pie\", height:=500, \n",
    "title:=\"Classifying the number of differnt ways to buy 150 Nuggets, depending on the number of boxes needed\"));"
   ]
  },
  {
   "cell_type": "code",
   "execution_count": 12,
   "metadata": {},
   "outputs": [
    {
     "data": {
      "application/javascript": [
       "( function ( element ) {\n",
       "if(!window.hasOwnProperty(\"runGAP\")){window.runGAP=function(code,callback){if(!Jupyter||!Jupyter.notebook||!Jupyter.notebook.kernel)return callback(null,\"JavaScript-based output must be re-evaluated when the notebook\"+\" is reloaded.  (Re-run the cell to clear this problem.)\");var errorMessages=[];var timeout=null;Jupyter.notebook.kernel.execute(code,{iopub:{output:function(message){if(\"data\"in message.content)return callback(message.content.data,null);if(!(\"text\"in message.content))return callback(null,message.content);errorMessages.push(message.content.text);if(timeout!==null)clearTimeout(timeout);timeout=setTimeout(function(){callback(null,errorMessages.join(\"\\n\"))},200)},clear_output:function(message){}},shell:{reply:function(message){}},input:function(message){}},{})}}if(!window.hasOwnProperty(\"librariesLoadedFromGAP\")){window.librariesLoadedFromGAP={}}function myCallback(){if(!window.hasOwnProperty(\"librariesLoadedFromGAP\")){window.librariesLoadedFromGAP={}}function myCallback(){window.createVisualization(element,{\"data\" : {\"data\" : [{\"x\" : [10,11,13,14,15,16,17,18,19,20,21,22,23,24,25],\"y\" : [1,1,1,1,1,1,2,2,1,1,1,1,1,1,1],\"type\" : \"line\"}],\"layout\" : {\"height\" : 400,\"xaxis\" : {\"title\" : \"Número de cajas necesarias para 150 nuggets\"},\"yaxis\" : {\"title\" : \"Número de posibilidades\"}}},\"tool\" : \"plotly\"}\n",
       ",function(element,visualization){\n",
       "});\n",
       "}if(window.librariesLoadedFromGAP.hasOwnProperty(\"viz-tool-plotly\"\n",
       ")){myCallback()}else{var filenameString=JSON.stringify(\"viz-tool-plotly\"\n",
       ");var GAPcode=\"JUPVIZFileContents( LoadJavaScriptFile( \"+filenameString+\" ) );\";window.runGAP(GAPcode,function(result,error){if(error)throw Error(\"When loading library \"+filenameString+\": \"+error);result=result[\"text/plain\"];window.librariesLoadedFromGAP[\"viz-tool-plotly\"\n",
       "]=result;try{var whatItEvaluatesTo=eval(result)}catch(e){throw Error(\"Error evaluating code for library \"+filenameString+\": \"+e)}return myCallback()})}\n",
       "}if(window.librariesLoadedFromGAP.hasOwnProperty(\"main\"\n",
       ")){myCallback()}else{var filenameString=JSON.stringify(\"main\"\n",
       ");var GAPcode=\"JUPVIZFileContents( LoadJavaScriptFile( \"+filenameString+\" ) );\";window.runGAP(GAPcode,function(result,error){if(error)throw Error(\"When loading library \"+filenameString+\": \"+error);result=result[\"text/plain\"];window.librariesLoadedFromGAP[\"main\"\n",
       "]=result;try{var whatItEvaluatesTo=eval(result)}catch(e){throw Error(\"Error evaluating code for library \"+filenameString+\": \"+e)}return myCallback()})}\n",
       ";\n",
       "} )( element.get( 0 ) )"
      ]
     },
     "execution_count": 12,
     "metadata": {
      "application/javascript": ""
     },
     "output_type": "execute_result"
    }
   ],
   "source": [
    "Plot(Set(ls),x->Length(Filtered(ls,l->l=x)), rec(xaxis:=\"Número de cajas necesarias para 150 nuggets\", \n",
    "yaxis:=\"Número de posibilidades\"));"
   ]
  },
  {
   "cell_type": "code",
   "execution_count": 13,
   "metadata": {},
   "outputs": [
    {
     "data": {
      "text/plain": [
       "[ [ 6, 6, 6, 6, 6, 6, 6, 6, 6, 6, 6, 6, 6, 6, 6, 6, 6, 6, 6, 6, 6, 6, 6, 6, 6 ], [ 9, 9, 6, 6, 6, 6, 6, 6, 6, 6, 6, 6, 6, 6, 6, 6, 6, 6, 6, 6, 6, 6, 6, 6 ], [ 9, 9, 9, 9, 6, 6, 6, 6, 6, 6, 6, 6, 6, 6, 6, 6, 6, 6, 6, 6, 6, 6, 6 ], [ 9, 9, 9, 9, 9, 9, 6, 6, 6, 6, 6, 6, 6, 6, 6, 6, 6, 6, 6, 6, 6, 6 ], [ 9, 9, 9, 9, 9, 9, 9, 9, 6, 6, 6, 6, 6, 6, 6, 6, 6, 6, 6, 6, 6 ], [ 9, 9, 9, 9, 9, 9, 9, 9, 9, 9, 6, 6, 6, 6, 6, 6, 6, 6, 6, 6 ], [ 9, 9, 9, 9, 9, 9, 9, 9, 9, 9, 9, 9, 6, 6, 6, 6, 6, 6, 6 ], [ 9, 9, 9, 9, 9, 9, 9, 9, 9, 9, 9, 9, 9, 9, 6, 6, 6, 6 ], [ 9, 9, 9, 9, 9, 9, 9, 9, 9, 9, 9, 9, 9, 9, 9, 9, 6 ], [ 20, 20, 20, 6, 6, 6, 6, 6, 6, 6, 6, 6, 6, 6, 6, 6, 6, 6 ], [ 20, 20, 20, 9, 9, 6, 6, 6, 6, 6, 6, 6, 6, 6, 6, 6, 6 ], [ 20, 20, 20, 9, 9, 9, 9, 6, 6, 6, 6, 6, 6, 6, 6, 6 ], [ 20, 20, 20, 9, 9, 9, 9, 9, 9, 6, 6, 6, 6, 6, 6 ], [ 20, 20, 20, 9, 9, 9, 9, 9, 9, 9, 9, 6, 6, 6 ], [ 20, 20, 20, 9, 9, 9, 9, 9, 9, 9, 9, 9, 9 ], [ 20, 20, 20, 20, 20, 20, 6, 6, 6, 6, 6 ], [ 20, 20, 20, 20, 20, 20, 9, 9, 6, 6 ] ]"
      ]
     },
     "execution_count": 13,
     "metadata": {
      "text/plain": ""
     },
     "output_type": "execute_result"
    }
   ],
   "source": [
    "p;"
   ]
  },
  {
   "cell_type": "code",
   "execution_count": 14,
   "metadata": {},
   "outputs": [
    {
     "data": {
      "text/plain": [
       "true"
      ]
     },
     "execution_count": 14,
     "metadata": {
      "text/plain": ""
     },
     "output_type": "execute_result"
    }
   ],
   "source": [
    "LoadPackage(\"numericalsgps\");"
   ]
  },
  {
   "cell_type": "code",
   "execution_count": 29,
   "metadata": {},
   "outputs": [
    {
     "data": {
      "image/svg+xml": [
       "<?xml version=\"1.0\" encoding=\"UTF-8\" standalone=\"no\"?>\n",
       "<!DOCTYPE svg PUBLIC \"-//W3C//DTD SVG 1.1//EN\"\n",
       " \"http://www.w3.org/Graphics/SVG/1.1/DTD/svg11.dtd\">\n",
       "<!-- Generated by graphviz version 2.40.1 (20161225.0304)\n",
       " -->\n",
       "<!-- Title: NSGraph Pages: 1 -->\n",
       "<svg width=\"230pt\" height=\"392pt\"\n",
       " viewBox=\"0.00 0.00 230.25 392.00\" xmlns=\"http://www.w3.org/2000/svg\" xmlns:xlink=\"http://www.w3.org/1999/xlink\">\n",
       "<g id=\"graph0\" class=\"graph\" transform=\"scale(1 1) rotate(0) translate(4 388)\">\n",
       "<title>NSGraph</title>\n",
       "<polygon fill=\"#ffffff\" stroke=\"transparent\" points=\"-4,4 -4,-388 226.2463,-388 226.2463,4 -4,4\"/>\n",
       "<!-- 1 -->\n",
       "<g id=\"node1\" class=\"node\">\n",
       "<title>1</title>\n",
       "<ellipse fill=\"none\" stroke=\"#000000\" cx=\"79\" cy=\"-366\" rx=\"46.2923\" ry=\"18\"/>\n",
       "<text text-anchor=\"middle\" x=\"79\" y=\"-362.3\" font-family=\"Times,serif\" font-size=\"14.00\" fill=\"#000000\"> (10, 0, 2)</text>\n",
       "</g>\n",
       "<!-- 2 -->\n",
       "<g id=\"node2\" class=\"node\">\n",
       "<title>2</title>\n",
       "<ellipse fill=\"none\" stroke=\"#000000\" cx=\"113\" cy=\"-279\" rx=\"42.4939\" ry=\"18\"/>\n",
       "<text text-anchor=\"middle\" x=\"113\" y=\"-275.3\" font-family=\"Times,serif\" font-size=\"14.00\" fill=\"#000000\"> (7, 2, 2)</text>\n",
       "</g>\n",
       "<!-- 1&#45;&#45;2 -->\n",
       "<g id=\"edge1\" class=\"edge\">\n",
       "<title>1&#45;&#45;2</title>\n",
       "<path fill=\"none\" stroke=\"#ff0000\" d=\"M86.0448,-347.9735C91.8801,-333.0422 100.1315,-311.9283 105.9642,-297.0034\"/>\n",
       "<text text-anchor=\"middle\" x=\"101.5\" y=\"-318.8\" font-family=\"Times,serif\" font-size=\"14.00\" fill=\"#000000\">3</text>\n",
       "</g>\n",
       "<!-- 3 -->\n",
       "<g id=\"node3\" class=\"node\">\n",
       "<title>3</title>\n",
       "<ellipse fill=\"none\" stroke=\"#000000\" cx=\"113\" cy=\"-192\" rx=\"42.4939\" ry=\"18\"/>\n",
       "<text text-anchor=\"middle\" x=\"113\" y=\"-188.3\" font-family=\"Times,serif\" font-size=\"14.00\" fill=\"#000000\"> (4, 4, 2)</text>\n",
       "</g>\n",
       "<!-- 1&#45;&#45;3 -->\n",
       "<g id=\"edge4\" class=\"edge\">\n",
       "<title>1&#45;&#45;3</title>\n",
       "<path fill=\"none\" stroke=\"#000000\" d=\"M68.819,-348.1494C58.1042,-326.9405 44.1787,-290.6913 55,-261 62.6629,-239.9747 79.8625,-220.9087 93.5534,-208.1736\"/>\n",
       "<text text-anchor=\"middle\" x=\"58.5\" y=\"-275.3\" font-family=\"Times,serif\" font-size=\"14.00\" fill=\"#000000\">6</text>\n",
       "</g>\n",
       "<!-- 4 -->\n",
       "<g id=\"node4\" class=\"node\">\n",
       "<title>4</title>\n",
       "<ellipse fill=\"none\" stroke=\"#000000\" cx=\"180\" cy=\"-105\" rx=\"42.4939\" ry=\"18\"/>\n",
       "<text text-anchor=\"middle\" x=\"180\" y=\"-101.3\" font-family=\"Times,serif\" font-size=\"14.00\" fill=\"#000000\"> (1, 6, 2)</text>\n",
       "</g>\n",
       "<!-- 1&#45;&#45;4 -->\n",
       "<g id=\"edge8\" class=\"edge\">\n",
       "<title>1&#45;&#45;4</title>\n",
       "<path fill=\"none\" stroke=\"#000000\" d=\"M105.5856,-350.9728C124.6733,-338.8228 149.4959,-319.9867 164,-297 198.0937,-242.9667 187.8848,-219.7577 192,-156 192.4294,-149.3472 193.0679,-147.5806 192,-141 191.0291,-135.0172 189.2063,-128.6852 187.2692,-123.0275\"/>\n",
       "<text text-anchor=\"middle\" x=\"192.5\" y=\"-231.8\" font-family=\"Times,serif\" font-size=\"14.00\" fill=\"#000000\">9</text>\n",
       "</g>\n",
       "<!-- 5 -->\n",
       "<g id=\"node5\" class=\"node\">\n",
       "<title>5</title>\n",
       "<ellipse fill=\"none\" stroke=\"#000000\" cx=\"66\" cy=\"-18\" rx=\"42.4939\" ry=\"18\"/>\n",
       "<text text-anchor=\"middle\" x=\"66\" y=\"-14.3\" font-family=\"Times,serif\" font-size=\"14.00\" fill=\"#000000\"> (0, 0, 5)</text>\n",
       "</g>\n",
       "<!-- 1&#45;&#45;5 -->\n",
       "<g id=\"edge10\" class=\"edge\">\n",
       "<title>1&#45;&#45;5</title>\n",
       "<path fill=\"none\" stroke=\"#000000\" d=\"M52.2542,-351.1151C29.3357,-336.1714 0,-310.8272 0,-279 0,-279 0,-279 0,-105 0,-75.235 24.8235,-49.2567 44.023,-33.6155\"/>\n",
       "<text text-anchor=\"middle\" x=\"7\" y=\"-188.3\" font-family=\"Times,serif\" font-size=\"14.00\" fill=\"#000000\">10</text>\n",
       "</g>\n",
       "<!-- 2&#45;&#45;3 -->\n",
       "<g id=\"edge2\" class=\"edge\">\n",
       "<title>2&#45;&#45;3</title>\n",
       "<path fill=\"none\" stroke=\"#ff0000\" d=\"M113,-260.9735C113,-246.0422 113,-224.9283 113,-210.0034\"/>\n",
       "<text text-anchor=\"middle\" x=\"116.5\" y=\"-231.8\" font-family=\"Times,serif\" font-size=\"14.00\" fill=\"#000000\">3</text>\n",
       "</g>\n",
       "<!-- 2&#45;&#45;4 -->\n",
       "<g id=\"edge5\" class=\"edge\">\n",
       "<title>2&#45;&#45;4</title>\n",
       "<path fill=\"none\" stroke=\"#000000\" d=\"M129.0168,-262.3093C140.6604,-249.1641 155.7682,-229.8081 164,-210 175.959,-181.2231 179.1013,-144.6811 179.8559,-123.1674\"/>\n",
       "<text text-anchor=\"middle\" x=\"177.5\" y=\"-188.3\" font-family=\"Times,serif\" font-size=\"14.00\" fill=\"#000000\">6</text>\n",
       "</g>\n",
       "<!-- 2&#45;&#45;5 -->\n",
       "<g id=\"edge9\" class=\"edge\">\n",
       "<title>2&#45;&#45;5</title>\n",
       "<path fill=\"none\" stroke=\"#000000\" d=\"M95.858,-262.3626C83.7977,-249.3908 68.6654,-230.2319 62,-210 41.8652,-148.884 54.3634,-70.7916 61.7343,-36.0567\"/>\n",
       "<text text-anchor=\"middle\" x=\"54.5\" y=\"-144.8\" font-family=\"Times,serif\" font-size=\"14.00\" fill=\"#000000\">9</text>\n",
       "</g>\n",
       "<!-- 3&#45;&#45;4 -->\n",
       "<g id=\"edge3\" class=\"edge\">\n",
       "<title>3&#45;&#45;4</title>\n",
       "<path fill=\"none\" stroke=\"#ff0000\" d=\"M126.237,-174.8116C137.9831,-159.5593 155.0528,-137.3942 166.7905,-122.1527\"/>\n",
       "<text text-anchor=\"middle\" x=\"153.5\" y=\"-144.8\" font-family=\"Times,serif\" font-size=\"14.00\" fill=\"#000000\">3</text>\n",
       "</g>\n",
       "<!-- 3&#45;&#45;5 -->\n",
       "<g id=\"edge7\" class=\"edge\">\n",
       "<title>3&#45;&#45;5</title>\n",
       "<path fill=\"none\" stroke=\"#000000\" d=\"M108.1472,-174.0343C99.1409,-140.6918 79.9362,-69.5937 70.8968,-36.1286\"/>\n",
       "<text text-anchor=\"middle\" x=\"97.5\" y=\"-101.3\" font-family=\"Times,serif\" font-size=\"14.00\" fill=\"#000000\">8</text>\n",
       "</g>\n",
       "<!-- 4&#45;&#45;5 -->\n",
       "<g id=\"edge6\" class=\"edge\">\n",
       "<title>4&#45;&#45;5</title>\n",
       "<path fill=\"none\" stroke=\"#ff0000\" d=\"M159.9254,-88.9833C147.144,-78.8519 130.1932,-65.537 115,-54 106.0886,-47.2331 96.156,-39.8979 87.5758,-33.6252\"/>\n",
       "<text text-anchor=\"middle\" x=\"135.5\" y=\"-57.8\" font-family=\"Times,serif\" font-size=\"14.00\" fill=\"#000000\">7</text>\n",
       "</g>\n",
       "</g>\n",
       "</svg>\n"
      ]
     },
     "execution_count": 29,
     "metadata": {
      "image/svg+xml": {
       "height": 500,
       "width": 500
      }
     },
     "output_type": "execute_result"
    }
   ],
   "source": [
    "JupyterSplashDot(DotFactorizationGraph(FactorizationsIntegerWRTList(100,sizes)));"
   ]
  },
  {
   "cell_type": "code",
   "execution_count": 30,
   "metadata": {},
   "outputs": [
    {
     "data": {
      "text/plain": [
       "function( f, tds ) ... end"
      ]
     },
     "execution_count": 30,
     "metadata": {
      "text/plain": ""
     },
     "output_type": "execute_result"
    }
   ],
   "source": [
    "trades:=function(f,tds)\n",
    "    local nonneg, sons, edges, vertices;\n",
    "\n",
    "    nonneg:=function(l)\n",
    "        return ForAll(l, x-> x>=0);\n",
    "    end;\n",
    "\n",
    "    sons:= function(fc)\n",
    "        local ptds, t,fcs;\n",
    "        if not(nonneg(fc)) then\n",
    "            return;\n",
    "        fi;\n",
    "        ptds:=Filtered(tds, t->nonneg(fc-t[1]));\n",
    "        for t in ptds do\n",
    "            fcs:=fc-t[1]+t[2];\n",
    "            Add(vertices,fcs);\n",
    "            Add(edges,[fc,fcs]);\n",
    "            sons(fcs);\n",
    "        od;\n",
    "    end;\n",
    "    \n",
    "    vertices:=[f];\n",
    "    edges:=[];\n",
    "    sons(f);\n",
    "    PlotGraph(vertices, edges, \n",
    "        rec(directed:=true, layout:=\"circle\", arrowscale:=2)\n",
    "    );\n",
    "    return [vertices,edges];\n",
    "end;"
   ]
  },
  {
   "cell_type": "code",
   "execution_count": 43,
   "metadata": {},
   "outputs": [
    {
     "data": {
      "text/plain": [
       "[ [ [ 20, 0, 0 ], [ 17, 2, 0 ], [ 14, 4, 0 ], [ 11, 6, 0 ], [ 8, 8, 0 ], [ 5, 10, 0 ], [ 2, 12, 0 ], [ 1, 6, 3 ], [ 4, 4, 3 ], [ 1, 6, 3 ], [ 7, 2, 3 ], [ 4, 4, 3 ], [ 1, 6, 3 ], [ 10, 0, 3 ], [ 7, 2, 3 ], [ 4, 4, 3 ], [ 1, 6, 3 ], [ 0, 0, 6 ] ], [ [ [ 20, 0, 0 ], [ 17, 2, 0 ] ], [ [ 17, 2, 0 ], [ 14, 4, 0 ] ], [ [ 14, 4, 0 ], [ 11, 6, 0 ] ], [ [ 11, 6, 0 ], [ 8, 8, 0 ] ], [ [ 8, 8, 0 ], [ 5, 10, 0 ] ], [ [ 5, 10, 0 ], [ 2, 12, 0 ] ], [ [ 11, 6, 0 ], [ 1, 6, 3 ] ], [ [ 14, 4, 0 ], [ 4, 4, 3 ] ], [ [ 4, 4, 3 ], [ 1, 6, 3 ] ], [ [ 17, 2, 0 ], [ 7, 2, 3 ] ], [ [ 7, 2, 3 ], [ 4, 4, 3 ] ], [ [ 4, 4, 3 ], [ 1, 6, 3 ] ], [ [ 20, 0, 0 ], [ 10, 0, 3 ] ], [ [ 10, 0, 3 ], [ 7, 2, 3 ] ], [ [ 7, 2, 3 ], [ 4, 4, 3 ] ], [ [ 4, 4, 3 ], [ 1, 6, 3 ] ], [ [ 10, 0, 3 ], [ 0, 0, 6 ] ] ] ]"
      ]
     },
     "execution_count": 43,
     "metadata": {
      "text/plain": ""
     },
     "output_type": "execute_result"
    }
   ],
   "source": [
    "ve:=trades([20,0,0], [[[3,0,0],[0,2,0]],[[10,0,0],[0,0,3]]]);"
   ]
  },
  {
   "cell_type": "code",
   "execution_count": 44,
   "metadata": {},
   "outputs": [
    {
     "data": {
      "application/javascript": [
       "( function ( element ) {\n",
       "if(!window.hasOwnProperty(\"runGAP\")){window.runGAP=function(code,callback){if(!Jupyter||!Jupyter.notebook||!Jupyter.notebook.kernel)return callback(null,\"JavaScript-based output must be re-evaluated when the notebook\"+\" is reloaded.  (Re-run the cell to clear this problem.)\");var errorMessages=[];var timeout=null;Jupyter.notebook.kernel.execute(code,{iopub:{output:function(message){if(\"data\"in message.content)return callback(message.content.data,null);if(!(\"text\"in message.content))return callback(null,message.content);errorMessages.push(message.content.text);if(timeout!==null)clearTimeout(timeout);timeout=setTimeout(function(){callback(null,errorMessages.join(\"\\n\"))},200)},clear_output:function(message){}},shell:{reply:function(message){}},input:function(message){}},{})}}if(!window.hasOwnProperty(\"librariesLoadedFromGAP\")){window.librariesLoadedFromGAP={}}function myCallback(){if(!window.hasOwnProperty(\"librariesLoadedFromGAP\")){window.librariesLoadedFromGAP={}}function myCallback(){window.createVisualization(element,{\"data\" : {\"elements\" : [{\"data\" : {\"id\" : \"[ 20, 0, 0 ]\"}},{\"data\" : {\"id\" : \"[ 17, 2, 0 ]\"}},{\"data\" : {\"id\" : \"[ 14, 4, 0 ]\"}},{\"data\" : {\"id\" : \"[ 11, 6, 0 ]\"}},{\"data\" : {\"id\" : \"[ 8, 8, 0 ]\"}},{\"data\" : {\"id\" : \"[ 5, 10, 0 ]\"}},{\"data\" : {\"id\" : \"[ 2, 12, 0 ]\"}},{\"data\" : {\"id\" : \"[ 1, 6, 3 ]\"}},{\"data\" : {\"id\" : \"[ 4, 4, 3 ]\"}},{\"data\" : {\"id\" : \"[ 1, 6, 3 ]\"}},{\"data\" : {\"id\" : \"[ 7, 2, 3 ]\"}},{\"data\" : {\"id\" : \"[ 4, 4, 3 ]\"}},{\"data\" : {\"id\" : \"[ 1, 6, 3 ]\"}},{\"data\" : {\"id\" : \"[ 10, 0, 3 ]\"}},{\"data\" : {\"id\" : \"[ 7, 2, 3 ]\"}},{\"data\" : {\"id\" : \"[ 4, 4, 3 ]\"}},{\"data\" : {\"id\" : \"[ 1, 6, 3 ]\"}},{\"data\" : {\"id\" : \"[ 0, 0, 6 ]\"}},{\"data\" : {\"source\" : \"[ 20, 0, 0 ]\",\"target\" : \"[ 17, 2, 0 ]\"}},{\"data\" : {\"source\" : \"[ 17, 2, 0 ]\",\"target\" : \"[ 14, 4, 0 ]\"}},{\"data\" : {\"source\" : \"[ 14, 4, 0 ]\",\"target\" : \"[ 11, 6, 0 ]\"}},{\"data\" : {\"source\" : \"[ 11, 6, 0 ]\",\"target\" : \"[ 8, 8, 0 ]\"}},{\"data\" : {\"source\" : \"[ 8, 8, 0 ]\",\"target\" : \"[ 5, 10, 0 ]\"}},{\"data\" : {\"source\" : \"[ 5, 10, 0 ]\",\"target\" : \"[ 2, 12, 0 ]\"}},{\"data\" : {\"source\" : \"[ 11, 6, 0 ]\",\"target\" : \"[ 1, 6, 3 ]\"}},{\"data\" : {\"source\" : \"[ 14, 4, 0 ]\",\"target\" : \"[ 4, 4, 3 ]\"}},{\"data\" : {\"source\" : \"[ 4, 4, 3 ]\",\"target\" : \"[ 1, 6, 3 ]\"}},{\"data\" : {\"source\" : \"[ 17, 2, 0 ]\",\"target\" : \"[ 7, 2, 3 ]\"}},{\"data\" : {\"source\" : \"[ 7, 2, 3 ]\",\"target\" : \"[ 4, 4, 3 ]\"}},{\"data\" : {\"source\" : \"[ 4, 4, 3 ]\",\"target\" : \"[ 1, 6, 3 ]\"}},{\"data\" : {\"source\" : \"[ 20, 0, 0 ]\",\"target\" : \"[ 10, 0, 3 ]\"}},{\"data\" : {\"source\" : \"[ 10, 0, 3 ]\",\"target\" : \"[ 7, 2, 3 ]\"}},{\"data\" : {\"source\" : \"[ 7, 2, 3 ]\",\"target\" : \"[ 4, 4, 3 ]\"}},{\"data\" : {\"source\" : \"[ 4, 4, 3 ]\",\"target\" : \"[ 1, 6, 3 ]\"}},{\"data\" : {\"source\" : \"[ 10, 0, 3 ]\",\"target\" : \"[ 0, 0, 6 ]\"}}],\"layout\" : {\"name\" : \"cose\"},\"style\" : [{\"style\" : {\"content\" : \"data(id)\"},\"selector\" : \"node\"},{\"style\" : {\"mid-target-arrow-shape\" : \"vee\",\"arrow-scale\" : 2},\"selector\" : \"edge\"}]},\"height\" : 400,\"tool\" : \"cytoscape\"}\n",
       ",function(element,visualization){\n",
       "});\n",
       "}if(window.librariesLoadedFromGAP.hasOwnProperty(\"viz-tool-cytoscape\"\n",
       ")){myCallback()}else{var filenameString=JSON.stringify(\"viz-tool-cytoscape\"\n",
       ");var GAPcode=\"JUPVIZFileContents( LoadJavaScriptFile( \"+filenameString+\" ) );\";window.runGAP(GAPcode,function(result,error){if(error)throw Error(\"When loading library \"+filenameString+\": \"+error);result=result[\"text/plain\"];window.librariesLoadedFromGAP[\"viz-tool-cytoscape\"\n",
       "]=result;try{var whatItEvaluatesTo=eval(result)}catch(e){throw Error(\"Error evaluating code for library \"+filenameString+\": \"+e)}return myCallback()})}\n",
       "}if(window.librariesLoadedFromGAP.hasOwnProperty(\"main\"\n",
       ")){myCallback()}else{var filenameString=JSON.stringify(\"main\"\n",
       ");var GAPcode=\"JUPVIZFileContents( LoadJavaScriptFile( \"+filenameString+\" ) );\";window.runGAP(GAPcode,function(result,error){if(error)throw Error(\"When loading library \"+filenameString+\": \"+error);result=result[\"text/plain\"];window.librariesLoadedFromGAP[\"main\"\n",
       "]=result;try{var whatItEvaluatesTo=eval(result)}catch(e){throw Error(\"Error evaluating code for library \"+filenameString+\": \"+e)}return myCallback()})}\n",
       ";\n",
       "} )( element.get( 0 ) )"
      ]
     },
     "execution_count": 44,
     "metadata": {
      "application/javascript": ""
     },
     "output_type": "execute_result"
    }
   ],
   "source": [
    "PlotGraph(ve[1], ve[2], rec(directed:=true, layout:=\"cose\", arrowscale:=2));"
   ]
  },
  {
   "cell_type": "code",
   "execution_count": 26,
   "metadata": {},
   "outputs": [
    {
     "data": {
      "text/plain": [
       "function( n, sizes ) ... end"
      ]
     },
     "execution_count": 26,
     "metadata": {
      "text/plain": ""
     },
     "output_type": "execute_result"
    }
   ],
   "source": [
    "tree:=function(n,sizes)\n",
    "    #local l, desc, graphTreee, d, shpr, shp, canvas, sonsf, lbl, s;\n",
    "    local l,s, sons, t, ns, canvas, graphTree,shpr;\n",
    "\n",
    "\n",
    "    sons:=function(m,shpm,lm)\n",
    "        local i,li,mi,shp,lbl;\n",
    "        if m<0 then \n",
    "            return;\n",
    "        fi;\n",
    "        for i in [1..ns] do\n",
    "            li:=ShallowCopy(lm);\n",
    "            mi:=m-sizes[i];\n",
    "            if (mi in s) then\n",
    "                li[i]:=li[i]+1;\n",
    "                lbl:=Concatenation(String(mi),\" [\",JoinStringsWithSeparator(li),\" ]\");\n",
    "                shp:=Shape(ShapeType!.CIRCLE, lbl);\n",
    "                SetSize(shp,15);\n",
    "                Add(graphTree,shp);\n",
    "                SetParentShape(shp,shpm);\n",
    "                #Add(t,[[m,lm],[mi,li]]);\n",
    "                sons(mi,shp,li);\n",
    "            fi;\n",
    "        od;\n",
    "    end;\n",
    "\n",
    "    s:=NumericalSemigroup(sizes);\n",
    "    l:=List(sizes,_->0);\n",
    "    ns:=Length(sizes);\n",
    "    graphTree := Graph(GraphType.TREE);\n",
    "    SetCollapsed(graphTree,true);\n",
    "    shpr:=Shape(ShapeType!.CIRCLE, String(n));\n",
    "    SetSize(shpr,15);\n",
    "    Add(shpr,FrancyMessage(Concatenation(String(n),\" \",String(l))));\n",
    "    Add(graphTree,shpr);\n",
    "    canvas:=Canvas(\"Boxes\");\n",
    "    SetTexTypesetting(canvas, true);\n",
    "    Add(canvas,graphTree);\n",
    "    sons(n,shpr,l);\n",
    "    return Draw(canvas);\n",
    "end;"
   ]
  },
  {
   "cell_type": "code",
   "execution_count": 27,
   "metadata": {},
   "outputs": [
    {
     "data": {
      "application/vnd.francy+json": "{\"version\" : \"1.0.4\",\"mime\" : \"application\\/vnd.francy+json\",\"canvas\" : {\"width\" : 800,\"id\" : \"F129\",\"height\" : 600,\"title\" : \"Boxes\",\"zoomToFit\" : true,\"texTypesetting\" : true,\"menus\" : {},\"graph\" : {\"type\" : \"tree\",\"id\" : \"F126\",\"simulation\" : true,\"collapsed\" : true,\"nodes\" : {\"F127\" : {\"x\" : 0,\"y\" : 0,\"type\" : \"circle\",\"id\" : \"F127\",\"size\" : 15,\"title\" : \"30\",\"color\" : \"\",\"layer\" : 0,\"parent\" : \"\",\"menus\" : {},\"messages\" : {\"F128\" : {\"type\" : \"default\",\"id\" : \"F128\",\"text\" : \"30 [ 0, 0, 0 ]\",\"title\" : \"\"}},\"callbacks\" : {}},\"F130\" : {\"x\" : 0,\"y\" : 0,\"type\" : \"circle\",\"id\" : \"F130\",\"size\" : 15,\"title\" : \"24 [1,0,0 ]\",\"color\" : \"\",\"layer\" : 0,\"parent\" : \"F127\",\"menus\" : {},\"messages\" : {},\"callbacks\" : {}},\"F131\" : {\"x\" : 0,\"y\" : 0,\"type\" : \"circle\",\"id\" : \"F131\",\"size\" : 15,\"title\" : \"18 [2,0,0 ]\",\"color\" : \"\",\"layer\" : 0,\"parent\" : \"F130\",\"menus\" : {},\"messages\" : {},\"callbacks\" : {}},\"F132\" : {\"x\" : 0,\"y\" : 0,\"type\" : \"circle\",\"id\" : \"F132\",\"size\" : 15,\"title\" : \"12 [3,0,0 ]\",\"color\" : \"\",\"layer\" : 0,\"parent\" : \"F131\",\"menus\" : {},\"messages\" : {},\"callbacks\" : {}},\"F133\" : {\"x\" : 0,\"y\" : 0,\"type\" : \"circle\",\"id\" : \"F133\",\"size\" : 15,\"title\" : \"6 [4,0,0 ]\",\"color\" : \"\",\"layer\" : 0,\"parent\" : \"F132\",\"menus\" : {},\"messages\" : {},\"callbacks\" : {}},\"F134\" : {\"x\" : 0,\"y\" : 0,\"type\" : \"circle\",\"id\" : \"F134\",\"size\" : 15,\"title\" : \"0 [5,0,0 ]\",\"color\" : \"\",\"layer\" : 0,\"parent\" : \"F133\",\"menus\" : {},\"messages\" : {},\"callbacks\" : {}},\"F135\" : {\"x\" : 0,\"y\" : 0,\"type\" : \"circle\",\"id\" : \"F135\",\"size\" : 15,\"title\" : \"9 [2,1,0 ]\",\"color\" : \"\",\"layer\" : 0,\"parent\" : \"F131\",\"menus\" : {},\"messages\" : {},\"callbacks\" : {}},\"F136\" : {\"x\" : 0,\"y\" : 0,\"type\" : \"circle\",\"id\" : \"F136\",\"size\" : 15,\"title\" : \"0 [2,2,0 ]\",\"color\" : \"\",\"layer\" : 0,\"parent\" : \"F135\",\"menus\" : {},\"messages\" : {},\"callbacks\" : {}},\"F137\" : {\"x\" : 0,\"y\" : 0,\"type\" : \"circle\",\"id\" : \"F137\",\"size\" : 15,\"title\" : \"15 [1,1,0 ]\",\"color\" : \"\",\"layer\" : 0,\"parent\" : \"F130\",\"menus\" : {},\"messages\" : {},\"callbacks\" : {}},\"F138\" : {\"x\" : 0,\"y\" : 0,\"type\" : \"circle\",\"id\" : \"F138\",\"size\" : 15,\"title\" : \"9 [2,1,0 ]\",\"color\" : \"\",\"layer\" : 0,\"parent\" : \"F137\",\"menus\" : {},\"messages\" : {},\"callbacks\" : {}},\"F139\" : {\"x\" : 0,\"y\" : 0,\"type\" : \"circle\",\"id\" : \"F139\",\"size\" : 15,\"title\" : \"0 [2,2,0 ]\",\"color\" : \"\",\"layer\" : 0,\"parent\" : \"F138\",\"menus\" : {},\"messages\" : {},\"callbacks\" : {}},\"F140\" : {\"x\" : 0,\"y\" : 0,\"type\" : \"circle\",\"id\" : \"F140\",\"size\" : 15,\"title\" : \"6 [1,2,0 ]\",\"color\" : \"\",\"layer\" : 0,\"parent\" : \"F137\",\"menus\" : {},\"messages\" : {},\"callbacks\" : {}},\"F141\" : {\"x\" : 0,\"y\" : 0,\"type\" : \"circle\",\"id\" : \"F141\",\"size\" : 15,\"title\" : \"0 [2,2,0 ]\",\"color\" : \"\",\"layer\" : 0,\"parent\" : \"F140\",\"menus\" : {},\"messages\" : {},\"callbacks\" : {}},\"F142\" : {\"x\" : 0,\"y\" : 0,\"type\" : \"circle\",\"id\" : \"F142\",\"size\" : 15,\"title\" : \"21 [0,1,0 ]\",\"color\" : \"\",\"layer\" : 0,\"parent\" : \"F127\",\"menus\" : {},\"messages\" : {},\"callbacks\" : {}},\"F143\" : {\"x\" : 0,\"y\" : 0,\"type\" : \"circle\",\"id\" : \"F143\",\"size\" : 15,\"title\" : \"15 [1,1,0 ]\",\"color\" : \"\",\"layer\" : 0,\"parent\" : \"F142\",\"menus\" : {},\"messages\" : {},\"callbacks\" : {}},\"F144\" : {\"x\" : 0,\"y\" : 0,\"type\" : \"circle\",\"id\" : \"F144\",\"size\" : 15,\"title\" : \"9 [2,1,0 ]\",\"color\" : \"\",\"layer\" : 0,\"parent\" : \"F143\",\"menus\" : {},\"messages\" : {},\"callbacks\" : {}},\"F145\" : {\"x\" : 0,\"y\" : 0,\"type\" : \"circle\",\"id\" : \"F145\",\"size\" : 15,\"title\" : \"0 [2,2,0 ]\",\"color\" : \"\",\"layer\" : 0,\"parent\" : \"F144\",\"menus\" : {},\"messages\" : {},\"callbacks\" : {}},\"F146\" : {\"x\" : 0,\"y\" : 0,\"type\" : \"circle\",\"id\" : \"F146\",\"size\" : 15,\"title\" : \"6 [1,2,0 ]\",\"color\" : \"\",\"layer\" : 0,\"parent\" : \"F143\",\"menus\" : {},\"messages\" : {},\"callbacks\" : {}},\"F147\" : {\"x\" : 0,\"y\" : 0,\"type\" : \"circle\",\"id\" : \"F147\",\"size\" : 15,\"title\" : \"0 [2,2,0 ]\",\"color\" : \"\",\"layer\" : 0,\"parent\" : \"F146\",\"menus\" : {},\"messages\" : {},\"callbacks\" : {}},\"F148\" : {\"x\" : 0,\"y\" : 0,\"type\" : \"circle\",\"id\" : \"F148\",\"size\" : 15,\"title\" : \"12 [0,2,0 ]\",\"color\" : \"\",\"layer\" : 0,\"parent\" : \"F142\",\"menus\" : {},\"messages\" : {},\"callbacks\" : {}},\"F149\" : {\"x\" : 0,\"y\" : 0,\"type\" : \"circle\",\"id\" : \"F149\",\"size\" : 15,\"title\" : \"6 [1,2,0 ]\",\"color\" : \"\",\"layer\" : 0,\"parent\" : \"F148\",\"menus\" : {},\"messages\" : {},\"callbacks\" : {}},\"F150\" : {\"x\" : 0,\"y\" : 0,\"type\" : \"circle\",\"id\" : \"F150\",\"size\" : 15,\"title\" : \"0 [2,2,0 ]\",\"color\" : \"\",\"layer\" : 0,\"parent\" : \"F149\",\"menus\" : {},\"messages\" : {},\"callbacks\" : {}}},\"links\" : {}},\"messages\" : {}}}"
     },
     "execution_count": 27,
     "metadata": {
      "application/vnd.francy+json": {}
     },
     "output_type": "execute_result"
    }
   ],
   "source": [
    "tree(30,sizes);"
   ]
  },
  {
   "cell_type": "code",
   "execution_count": 28,
   "metadata": {},
   "outputs": [
    {
     "data": {
      "text/plain": [
       "[ [ 5, 0, 0 ], [ 2, 2, 0 ] ]"
      ]
     },
     "execution_count": 28,
     "metadata": {
      "text/plain": ""
     },
     "output_type": "execute_result"
    }
   ],
   "source": [
    "FactorizationsIntegerWRTList(30,sizes);"
   ]
  },
  {
   "cell_type": "code",
   "execution_count": null,
   "metadata": {},
   "outputs": [],
   "source": []
  }
 ],
 "metadata": {
  "kernelspec": {
   "display_name": "GAP 4",
   "language": "gap",
   "name": "gap-4"
  },
  "language_info": {
   "codemirror_mode": "gap",
   "file_extension": ".g",
   "mimetype": "text/x-gap",
   "name": "GAP 4",
   "nbconvert_exporter": "",
   "pygments_lexer": "gap",
   "version": "4.10.0"
  }
 },
 "nbformat": 4,
 "nbformat_minor": 2
}
